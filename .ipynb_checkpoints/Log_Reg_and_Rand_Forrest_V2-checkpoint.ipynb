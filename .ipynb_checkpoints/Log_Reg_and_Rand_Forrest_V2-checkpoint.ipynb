{
 "cells": [
  {
   "cell_type": "code",
   "execution_count": 1,
   "metadata": {
    "ExecuteTime": {
     "end_time": "2022-04-28T20:17:56.122554Z",
     "start_time": "2022-04-28T20:17:54.430708Z"
    }
   },
   "outputs": [],
   "source": [
    "import pandas as pd\n",
    "import numpy as np\n",
    "import random\n",
    "import copy\n",
    "import math\n",
    "from sklearn.linear_model import LinearRegression\n",
    "from sklearn.linear_model import LogisticRegression\n",
    "from sklearn.tree import DecisionTreeClassifier \n",
    "from sklearn.ensemble import RandomForestClassifier\n",
    "\n",
    "\n",
    "from sklearn import tree\n",
    "from sklearn import svm\n",
    "\n",
    "from sklearn import metrics\n",
    "from itertools import combinations"
   ]
  },
  {
   "cell_type": "markdown",
   "metadata": {},
   "source": [
    "# Read in Data"
   ]
  },
  {
   "cell_type": "code",
   "execution_count": 2,
   "metadata": {
    "ExecuteTime": {
     "end_time": "2022-04-28T20:17:56.615132Z",
     "start_time": "2022-04-28T20:17:56.125553Z"
    }
   },
   "outputs": [],
   "source": [
    "import pandas as pd\n",
    "data = pd.ExcelFile(\"OppScrData.xlsx\")"
   ]
  },
  {
   "cell_type": "code",
   "execution_count": 3,
   "metadata": {
    "ExecuteTime": {
     "end_time": "2022-04-28T20:18:04.688444Z",
     "start_time": "2022-04-28T20:17:56.616119Z"
    }
   },
   "outputs": [],
   "source": [
    "data1 = data.parse(0)"
   ]
  },
  {
   "cell_type": "code",
   "execution_count": 4,
   "metadata": {
    "ExecuteTime": {
     "end_time": "2022-04-28T20:18:04.981830Z",
     "start_time": "2022-04-28T20:18:04.689416Z"
    }
   },
   "outputs": [],
   "source": [
    "# remove unnamed column\n",
    "for i in data1:\n",
    "    if i.startswith('Unnamed') or i.startswith('CLINICAL OUTCOMES') or i.startswith('AUTO-CT'):\n",
    "        data1.pop(i)\n",
    "    \n",
    "data1 = data1.dropna(axis = 0,how='all') # Remove Rows with All NAS"
   ]
  },
  {
   "cell_type": "markdown",
   "metadata": {
    "ExecuteTime": {
     "end_time": "2022-04-08T15:05:33.661579Z",
     "start_time": "2022-04-08T15:05:33.636688Z"
    }
   },
   "source": [
    "# Create Binary Indicators"
   ]
  },
  {
   "cell_type": "code",
   "execution_count": 5,
   "metadata": {
    "ExecuteTime": {
     "end_time": "2022-04-28T20:18:04.986831Z",
     "start_time": "2022-04-28T20:18:04.982830Z"
    }
   },
   "outputs": [],
   "source": [
    "def replace_binary_indicator(df,c1,c2,t):\n",
    "    if c2 != \"\":\n",
    "        df.loc[df.loc[:,c1:c2].any(axis=1),t] = 1 \n",
    "        df.loc[~df.loc[:,c1:c2].any(axis=1),t] = 0\n",
    "        df = df.drop(df.loc[:,c1:c2],axis=1)\n",
    "    else:\n",
    "        df.loc[~df.loc[:,c1].isnull(),t] = 1 \n",
    "        df.loc[df.loc[:,c1].isnull(),t] = 0\n",
    "        df = df.drop(c1,axis=1)\n",
    "    df[t] = df[t].astype(np.uint8)\n",
    "\n",
    "    return df"
   ]
  },
  {
   "cell_type": "code",
   "execution_count": 6,
   "metadata": {
    "ExecuteTime": {
     "end_time": "2022-04-28T20:18:05.155580Z",
     "start_time": "2022-04-28T20:18:04.988829Z"
    }
   },
   "outputs": [],
   "source": [
    "data2 = data1.copy()\n",
    "data2 = replace_binary_indicator(data2,\"Alcohol abuse\",\"\",\"AA_FLAG\")\n",
    "\n",
    "data2 = replace_binary_indicator(data2,\"CVD DX\",\"MI DX Date [d from CT]\",\"CARD_FLAG\")\n",
    "data2 = replace_binary_indicator(data2,\"Type 2 Diabetes DX\",\"Type 2 Diabetes DX Date [d from CT]\",\"DIA_FLAG\")\n",
    "data2 = replace_binary_indicator(data2,\"Femoral neck fracture DX\",\"Pathologic fracture DX Date [d from CT]\",\"FEM_FLAG\")\n",
    "data2 = replace_binary_indicator(data2,\"Alzheimers DX\",\"Alzheimers DX Date [d from CT]\",\"ALZ_FLAG\")\n",
    "data2 = replace_binary_indicator(data2,\"Primary Cancer Site\",\"Primary Cancer Site 2 Dx [d from CT]\",\"CANCER_FLAG\")\n",
    "\n",
    "data2[\"OUTCOME_FLAGS\"] = data2.loc[:,\"CARD_FLAG\":\"CANCER_FLAG\"].sum(axis = 1)\n",
    "data2[\"OUTCOME_FLAGS\"] = pd.Categorical(data2[\"OUTCOME_FLAGS\"])\n",
    "\n",
    "data2 = replace_binary_indicator(data2,\"DEATH [d from CT]\",\"\",\"DEATH_FLAG\")\n",
    "data2\n",
    "\n",
    "# We do a reshuffle to \"AA_Flag\" is next to the other clinical data\n",
    "data2 = pd.concat([data2.loc[:,\"Record ID\":\"Met Sx\"],data2.loc[:,\"AA_FLAG\"],data2.loc[:,\"L1_HU_BMD\":\"Liver HU    (Median)\"],data2.loc[:,\"CARD_FLAG\":\"DEATH_FLAG\"]], axis = 1)"
   ]
  },
  {
   "cell_type": "markdown",
   "metadata": {},
   "source": [
    "# Create Column Index"
   ]
  },
  {
   "cell_type": "code",
   "execution_count": 7,
   "metadata": {
    "ExecuteTime": {
     "end_time": "2022-04-28T20:18:05.172485Z",
     "start_time": "2022-04-28T20:18:05.159514Z"
    }
   },
   "outputs": [
    {
     "name": "stdout",
     "output_type": "stream",
     "text": [
      "0:\"Record ID\",\n",
      "1:\"Visit ID\",\n",
      "2:\"PT ID\",\n",
      "3:\"Clinical F/U interval  [d from CT]\",\n",
      "4:\"BMI\",\n",
      "5:\"BMI >30\",\n",
      "6:\"Sex\",\n",
      "7:\"Age at CT\",\n",
      "8:\"Tobacco\",\n",
      "9:\"FRS 10-year risk (%)\",\n",
      "10:\"FRAX 10y Fx Prob (Orange-w/ DXA)\",\n",
      "11:\"FRAX 10y Hip Fx Prob (Orange-w/ DXA)\",\n",
      "12:\"Met Sx\",\n",
      "13:\"AA_FLAG\",\n",
      "14:\"L1_HU_BMD\",\n",
      "15:\"TAT Area (cm2)\",\n",
      "16:\"Total Body                Area EA (cm2)\",\n",
      "17:\"VAT Area (cm2)\",\n",
      "18:\"SAT Area (cm2)\",\n",
      "19:\"VAT/SAT     Ratio\",\n",
      "20:\"Muscle HU\",\n",
      "21:\" Muscle Area (cm2)\",\n",
      "22:\"L3 SMI (cm2/m2)\",\n",
      "23:\"AoCa        Agatston\",\n",
      "24:\"Liver HU    (Median)\",\n",
      "25:\"CARD_FLAG\",\n",
      "26:\"DIA_FLAG\",\n",
      "27:\"FEM_FLAG\",\n",
      "28:\"ALZ_FLAG\",\n",
      "29:\"CANCER_FLAG\",\n",
      "30:\"OUTCOME_FLAGS\",\n",
      "31:\"DEATH_FLAG\",\n"
     ]
    }
   ],
   "source": [
    "# print column name with corresponding number\n",
    "for count, name in enumerate(data2):\n",
    "    print(f'{count}:\"{name}\",')"
   ]
  },
  {
   "cell_type": "code",
   "execution_count": 8,
   "metadata": {
    "ExecuteTime": {
     "end_time": "2022-04-28T20:18:05.180486Z",
     "start_time": "2022-04-28T20:18:05.174487Z"
    }
   },
   "outputs": [],
   "source": [
    "# define a lookup table for the column\n",
    "columns = {0:\"Record ID\",\n",
    "1:\"Visit ID\",\n",
    "2:\"PT ID\",\n",
    "3:\"Clinical F/U interval  [d from CT]\",\n",
    "4:\"BMI\",\n",
    "5:\"BMI >30\",\n",
    "6:\"Sex\",\n",
    "7:\"Age at CT\",\n",
    "8:\"Tobacco\",\n",
    "9:\"FRS 10-year risk (%)\",\n",
    "10:\"FRAX 10y Fx Prob (Orange-w/ DXA)\",\n",
    "11:\"FRAX 10y Hip Fx Prob (Orange-w/ DXA)\",\n",
    "12:\"Met Sx\",\n",
    "13:\"AA_FLAG\",\n",
    "14:\"L1_HU_BMD\",\n",
    "15:\"TAT Area (cm2)\",\n",
    "16:\"Total Body                Area EA (cm2)\",\n",
    "17:\"VAT Area (cm2)\",\n",
    "18:\"SAT Area (cm2)\",\n",
    "19:\"VAT/SAT     Ratio\",\n",
    "20:\"Muscle HU\",\n",
    "21:\" Muscle Area (cm2)\",\n",
    "22:\"L3 SMI (cm2/m2)\",\n",
    "23:\"AoCa        Agatston\",\n",
    "24:\"Liver HU    (Median)\",\n",
    "25:\"CARD_FLAG\",\n",
    "26:\"DIA_FLAG\",\n",
    "27:\"FEM_FLAG\",\n",
    "28:\"ALZ_FLAG\",\n",
    "29:\"CANCER_FLAG\",\n",
    "30:\"OUTCOME_FLAGS\",\n",
    "31:\"DEATH_FLAG\",\n",
    "}\n",
    "\n",
    "# define different groups of column\n",
    "clinical_data_columns = {i:columns[i] for i in range(14)}\n",
    "CT_data = {i:columns[i] for i in range(14,25)}\n",
    "clinical_outcome_columns = {i:columns[i] for i in range(25,32)}"
   ]
  },
  {
   "cell_type": "markdown",
   "metadata": {},
   "source": [
    "# Visualize Data"
   ]
  },
  {
   "cell_type": "code",
   "execution_count": 9,
   "metadata": {
    "ExecuteTime": {
     "end_time": "2022-04-28T20:18:05.487501Z",
     "start_time": "2022-04-28T20:18:05.183488Z"
    }
   },
   "outputs": [],
   "source": [
    "import matplotlib.pyplot as plt\n",
    "\n",
    "def removenan(a, sorting=True, specialStr=None):\n",
    "    result = []\n",
    "    missing = []\n",
    "    special = []\n",
    "    for count, value in enumerate(a):\n",
    "        if special != None and value == specialStr:\n",
    "            special.append(count)\n",
    "            continue\n",
    "        \n",
    "        if not pd.isna(value):\n",
    "            result.append(value) \n",
    "        else:\n",
    "            missing.append(count)\n",
    "    if sorting:\n",
    "        result.sort()\n",
    "    return result, missing, special\n"
   ]
  },
  {
   "cell_type": "code",
   "execution_count": 10,
   "metadata": {
    "ExecuteTime": {
     "end_time": "2022-04-28T20:18:05.495485Z",
     "start_time": "2022-04-28T20:18:05.488486Z"
    },
    "scrolled": true
   },
   "outputs": [
    {
     "name": "stdout",
     "output_type": "stream",
     "text": [
      "Record ID has 0 repeated ID\n",
      "Visit ID has 0 repeated ID\n",
      "PT ID has 0 repeated ID\n"
     ]
    }
   ],
   "source": [
    "# check if there is repeat ID\n",
    "for i in range(3):\n",
    "    column_name = columns[i]\n",
    "    unique_id = data2[column_name].unique()\n",
    "    print(f'{column_name} has {len(data1[column_name])-len(unique_id)} repeated ID')"
   ]
  },
  {
   "cell_type": "code",
   "execution_count": 11,
   "metadata": {
    "ExecuteTime": {
     "end_time": "2022-04-28T20:18:05.744709Z",
     "start_time": "2022-04-28T20:18:05.499490Z"
    }
   },
   "outputs": [
    {
     "name": "stdout",
     "output_type": "stream",
     "text": [
      "Clinical F/U interval  [d from CT] has 0 missing entries\n"
     ]
    },
    {
     "data": {
      "image/png": "[encoded data removed]",
      "text/plain": [
       "<Figure size 432x288 with 1 Axes>"
      ]
     },
     "metadata": {
      "needs_background": "light"
     },
     "output_type": "display_data"
    }
   ],
   "source": [
    "column_name = columns[3]\n",
    "result, missing, special = removenan(data2[column_name])\n",
    "print(f'{column_name} has {len(missing)} missing entries')\n",
    "plt.hist(result)\n",
    "plt.show()"
   ]
  },
  {
   "cell_type": "code",
   "execution_count": 12,
   "metadata": {
    "ExecuteTime": {
     "end_time": "2022-04-28T20:18:06.034326Z",
     "start_time": "2022-04-28T20:18:05.745684Z"
    }
   },
   "outputs": [
    {
     "name": "stdout",
     "output_type": "stream",
     "text": [
      "BMI has 123 missing entries\n"
     ]
    },
    {
     "data": {
      "image/png": "[encoded data removed]",
      "text/plain": [
       "<Figure size 432x288 with 1 Axes>"
      ]
     },
     "metadata": {
      "needs_background": "light"
     },
     "output_type": "display_data"
    }
   ],
   "source": [
    "column_name = columns[4]\n",
    "result, missing, special = removenan(data2[column_name])\n",
    "print(f'{column_name} has {len(missing)} missing entries')\n",
    "plt.hist(result)\n",
    "plt.show()\n",
    "#print(result)"
   ]
  },
  {
   "cell_type": "code",
   "execution_count": 13,
   "metadata": {
    "ExecuteTime": {
     "end_time": "2022-04-28T20:18:06.193387Z",
     "start_time": "2022-04-28T20:18:06.036328Z"
    }
   },
   "outputs": [
    {
     "name": "stdout",
     "output_type": "stream",
     "text": [
      "BMI >30 has 123 missing entries\n"
     ]
    },
    {
     "data": {
      "image/png": "[encoded data removed]",
      "text/plain": [
       "<Figure size 432x288 with 1 Axes>"
      ]
     },
     "metadata": {
      "needs_background": "light"
     },
     "output_type": "display_data"
    }
   ],
   "source": [
    "column_name = columns[5]\n",
    "result, missing, special = removenan(data2[column_name])\n",
    "print(f'{column_name} has {len(missing)} missing entries')\n",
    "plt.hist(result)\n",
    "plt.show()"
   ]
  },
  {
   "cell_type": "code",
   "execution_count": 14,
   "metadata": {
    "ExecuteTime": {
     "end_time": "2022-04-28T20:18:06.383982Z",
     "start_time": "2022-04-28T20:18:06.194359Z"
    }
   },
   "outputs": [
    {
     "name": "stdout",
     "output_type": "stream",
     "text": [
      "Sex has 0 missing entries\n"
     ]
    },
    {
     "data": {
      "image/png": "[encoded data removed]",
      "text/plain": [
       "<Figure size 432x288 with 1 Axes>"
      ]
     },
     "metadata": {
      "needs_background": "light"
     },
     "output_type": "display_data"
    }
   ],
   "source": [
    "column_name = columns[6]\n",
    "result, missing, special = removenan(data2[column_name])\n",
    "print(f'{column_name} has {len(missing)} missing entries')\n",
    "plt.hist(result)\n",
    "plt.show()"
   ]
  },
  {
   "cell_type": "code",
   "execution_count": 15,
   "metadata": {
    "ExecuteTime": {
     "end_time": "2022-04-28T20:18:06.609942Z",
     "start_time": "2022-04-28T20:18:06.389000Z"
    }
   },
   "outputs": [
    {
     "name": "stdout",
     "output_type": "stream",
     "text": [
      "Age at CT has 0 missing entries\n"
     ]
    },
    {
     "data": {
      "image/png": "[encoded data removed]",
      "text/plain": [
       "<Figure size 432x288 with 1 Axes>"
      ]
     },
     "metadata": {
      "needs_background": "light"
     },
     "output_type": "display_data"
    }
   ],
   "source": [
    "column_name = columns[7]\n",
    "result, missing, special = removenan(data2[column_name])\n",
    "print(f'{column_name} has {len(missing)} missing entries')\n",
    "plt.hist(result)\n",
    "plt.show()\n",
    "#print(result)"
   ]
  },
  {
   "cell_type": "code",
   "execution_count": 16,
   "metadata": {
    "ExecuteTime": {
     "end_time": "2022-04-28T20:18:06.760926Z",
     "start_time": "2022-04-28T20:18:06.610958Z"
    }
   },
   "outputs": [
    {
     "name": "stdout",
     "output_type": "stream",
     "text": [
      "Tobacco has 608 missing entries\n"
     ]
    },
    {
     "data": {
      "image/png": "[encoded data removed]",
      "text/plain": [
       "<Figure size 432x288 with 1 Axes>"
      ]
     },
     "metadata": {
      "needs_background": "light"
     },
     "output_type": "display_data"
    },
    {
     "name": "stdout",
     "output_type": "stream",
     "text": [
      "{'No', 'Yes'}\n"
     ]
    }
   ],
   "source": [
    "column_name = columns[8]\n",
    "result, missing, special = removenan(data2[column_name])\n",
    "print(f'{column_name} has {len(missing)} missing entries')\n",
    "plt.hist(result)\n",
    "plt.show()\n",
    "print(set(result))"
   ]
  },
  {
   "cell_type": "code",
   "execution_count": 17,
   "metadata": {
    "ExecuteTime": {
     "end_time": "2022-04-28T20:18:06.978050Z",
     "start_time": "2022-04-28T20:18:06.762928Z"
    }
   },
   "outputs": [
    {
     "name": "stdout",
     "output_type": "stream",
     "text": [
      "FRS 10-year risk (%) has 0 missing entries\n",
      "FRS 10-year risk (%) has 608 special entries\n"
     ]
    },
    {
     "data": {
      "image/png": "[encoded data removed]",
      "text/plain": [
       "<Figure size 432x288 with 1 Axes>"
      ]
     },
     "metadata": {
      "needs_background": "light"
     },
     "output_type": "display_data"
    }
   ],
   "source": [
    "column_name = columns[9]\n",
    "result, missing, special = removenan(data2[column_name], sorting=False, specialStr='X')\n",
    "print(f'{column_name} has {len(missing)} missing entries')\n",
    "print(f'{column_name} has {len(special)} special entries')\n",
    "\n",
    "# replace '<1%' with 0.5%, and '>30%' with 35%\n",
    "for i in range(len(result)):\n",
    "    if result[i]=='<1%':\n",
    "        result[i] = 0.005\n",
    "    elif result[i]=='>30%':\n",
    "        result[i] = 0.35\n",
    "result.sort()        \n",
    "\n",
    "plt.hist(result)\n",
    "plt.show()\n",
    "#print(result)"
   ]
  },
  {
   "cell_type": "code",
   "execution_count": 18,
   "metadata": {
    "ExecuteTime": {
     "end_time": "2022-04-28T20:18:07.186079Z",
     "start_time": "2022-04-28T20:18:06.979022Z"
    }
   },
   "outputs": [
    {
     "name": "stdout",
     "output_type": "stream",
     "text": [
      "FRAX 10y Fx Prob (Orange-w/ DXA) has 0 missing entries\n",
      "FRAX 10y Fx Prob (Orange-w/ DXA) has 123 special entries\n"
     ]
    },
    {
     "data": {
      "image/png": "[encoded data removed]",
      "text/plain": [
       "<Figure size 432x288 with 1 Axes>"
      ]
     },
     "metadata": {
      "needs_background": "light"
     },
     "output_type": "display_data"
    }
   ],
   "source": [
    "column_name = columns[10]\n",
    "result, missing, special = removenan(data2[column_name], sorting=True, specialStr='_')\n",
    "print(f'{column_name} has {len(missing)} missing entries')\n",
    "print(f'{column_name} has {len(special)} special entries')\n",
    "plt.hist(result)\n",
    "plt.show()\n",
    "#print(result)"
   ]
  },
  {
   "cell_type": "code",
   "execution_count": 19,
   "metadata": {
    "ExecuteTime": {
     "end_time": "2022-04-28T20:18:07.371151Z",
     "start_time": "2022-04-28T20:18:07.187053Z"
    }
   },
   "outputs": [
    {
     "name": "stdout",
     "output_type": "stream",
     "text": [
      "FRAX 10y Hip Fx Prob (Orange-w/ DXA) has 0 missing entries\n",
      "FRAX 10y Hip Fx Prob (Orange-w/ DXA) has 123 special entries\n"
     ]
    },
    {
     "data": {
      "image/png": "[encoded data removed]",
      "text/plain": [
       "<Figure size 432x288 with 1 Axes>"
      ]
     },
     "metadata": {
      "needs_background": "light"
     },
     "output_type": "display_data"
    }
   ],
   "source": [
    "column_name = columns[11]\n",
    "result, missing, special = removenan(data2[column_name], sorting=True, specialStr='_')\n",
    "print(f'{column_name} has {len(missing)} missing entries')\n",
    "print(f'{column_name} has {len(special)} special entries')\n",
    "plt.hist(result)\n",
    "plt.show()\n",
    "#print(result)"
   ]
  },
  {
   "cell_type": "code",
   "execution_count": 20,
   "metadata": {
    "ExecuteTime": {
     "end_time": "2022-04-28T20:18:07.543372Z",
     "start_time": "2022-04-28T20:18:07.373109Z"
    }
   },
   "outputs": [
    {
     "name": "stdout",
     "output_type": "stream",
     "text": [
      "Met Sx has 1438 missing entries\n"
     ]
    },
    {
     "data": {
      "image/png": "[encoded data removed]",
      "text/plain": [
       "<Figure size 432x288 with 1 Axes>"
      ]
     },
     "metadata": {
      "needs_background": "light"
     },
     "output_type": "display_data"
    },
    {
     "name": "stdout",
     "output_type": "stream",
     "text": [
      "{'Y', 'N'}\n"
     ]
    }
   ],
   "source": [
    "column_name = columns[12]\n",
    "result, missing, special = removenan(data2[column_name], sorting=True)\n",
    "print(f'{column_name} has {len(missing)} missing entries')\n",
    "plt.hist(result)\n",
    "plt.show()\n",
    "print(set(result))"
   ]
  },
  {
   "cell_type": "code",
   "execution_count": 21,
   "metadata": {
    "ExecuteTime": {
     "end_time": "2022-04-28T20:18:07.788982Z",
     "start_time": "2022-04-28T20:18:07.544338Z"
    }
   },
   "outputs": [
    {
     "name": "stdout",
     "output_type": "stream",
     "text": [
      "AA_FLAG has 0 missing entries\n"
     ]
    },
    {
     "data": {
      "image/png": "[encoded data removed]",
      "text/plain": [
       "<Figure size 432x288 with 1 Axes>"
      ]
     },
     "metadata": {
      "needs_background": "light"
     },
     "output_type": "display_data"
    },
    {
     "name": "stdout",
     "output_type": "stream",
     "text": [
      "{0, 1}\n"
     ]
    }
   ],
   "source": [
    "column_name = columns[13]\n",
    "result, missing, special = removenan(data2[column_name], sorting=True)\n",
    "print(f'{column_name} has {len(missing)} missing entries')\n",
    "plt.hist(result)\n",
    "plt.show()\n",
    "print(set(result))"
   ]
  },
  {
   "cell_type": "markdown",
   "metadata": {
    "ExecuteTime": {
     "end_time": "2022-04-08T15:20:11.486224Z",
     "start_time": "2022-04-08T15:20:11.460688Z"
    }
   },
   "source": [
    "# Data Cleaning"
   ]
  },
  {
   "cell_type": "code",
   "execution_count": 22,
   "metadata": {
    "ExecuteTime": {
     "end_time": "2022-04-28T20:18:07.917497Z",
     "start_time": "2022-04-28T20:18:07.790501Z"
    }
   },
   "outputs": [
    {
     "name": "stdout",
     "output_type": "stream",
     "text": [
      "752 Removed (8.15% of data)\n"
     ]
    }
   ],
   "source": [
    "data3 = data2.copy()\n",
    "\n",
    "# BMI - Remove Outliers (Less than 10 and those with Missing values)\n",
    "data3 = data3[ (data3[\"BMI\"] > 10)]\n",
    "\n",
    "# BMI > 30 - Check to make sure this is all the missing values in the \"BMI > 30\" column (it is)\n",
    "#print(len(data3[ (data3[\"BMI >30\"].isna())])) # We rmoved all NAs from this group\n",
    "\n",
    "# Tobacco - Create new category for the NAs\n",
    "data3[\"Tobacco\"] = data3[\"Tobacco\"].replace(np.nan, \"Not Recorded\", regex=True) # Replace Blanks with NAs\n",
    "\n",
    "# Met Sx - Create new category for the NAs\n",
    "data3[\"Met Sx\"] = data3[\"Met Sx\"].replace(np.nan, \"Not Recorded\", regex=True) # Replace Blanks with NAs\n",
    "\n",
    "# Remove Rows wth Special Characters\n",
    "data3 = data3[ (data3[\"FRS 10-year risk (%)\"] !=  \"X\")]\n",
    "data3 = data3[ (data3[\"FRAX 10y Fx Prob (Orange-w/ DXA)\"] !=  \"_\")]\n",
    "data3 = data3[ (data3[\"FRAX 10y Hip Fx Prob (Orange-w/ DXA)\"] !=  \"_\")]\n",
    "\n",
    "# Turn these into numeric\n",
    "data3.loc[(data3[\"FRS 10-year risk (%)\"] == \"<1%\"),\"FRS 10-year risk (%)\"] = .005\n",
    "data3.loc[(data3[\"FRS 10-year risk (%)\"] == \">30%\"),\"FRS 10-year risk (%)\"] = .35\n",
    "\n",
    "# Remove ID columns becuase no value added\n",
    "data3 = data3.drop([\"Record ID\",\"Visit ID\" , \"PT ID\"],axis = 1)\n",
    "\n",
    "# Convert remaining blanks to NA\n",
    "data3  = data3.replace(\"\", np.nan, regex=True) # Replace Blanks with NAs\n",
    "data3  = data3.replace(\" \", np.nan, regex=True) # Replace Blanks with NAs\n",
    "\n",
    "# turn binary str result to 0 and 1\n",
    "data3.loc[(data3[\"BMI >30\"]=='N'),\"BMI >30\"] = 0\n",
    "data3.loc[(data3[\"BMI >30\"]=='Y'),\"BMI >30\"] = 1\n",
    "data3.loc[(data3[\"Sex\"]=='Female'),\"Sex\"] = 0\n",
    "data3.loc[(data3[\"Sex\"]=='Male'),\"Sex\"] = 1\n",
    "data3.loc[(data3[\"Tobacco\"]=='No'),\"Tobacco\"] = 0\n",
    "data3.loc[(data3[\"Tobacco\"]=='Yes'),\"Tobacco\"] = 1\n",
    "data3.loc[(data3[\"Met Sx\"]=='N'),\"Met Sx\"] = 0\n",
    "data3.loc[(data3[\"Met Sx\"]=='Y'),\"Met Sx\"] = 1\n",
    "\n",
    "\n",
    "rmv = len(data2) - len(data3)\n",
    "print(str(rmv) + \" Removed (\" + str(round(rmv*100/len(data2),2)) + \"% of data)\")"
   ]
  },
  {
   "cell_type": "code",
   "execution_count": 23,
   "metadata": {
    "ExecuteTime": {
     "end_time": "2022-04-28T20:18:07.923501Z",
     "start_time": "2022-04-28T20:18:07.919497Z"
    }
   },
   "outputs": [],
   "source": [
    "bone_measures = [\"L1_HU_BMD\"]\n",
    "\n",
    "fat_measures = [\"TAT Area (cm2)\",\"Total Body                Area EA (cm2)\", \"VAT Area (cm2)\", \"SAT Area (cm2)\", \"VAT/SAT     Ratio\" ]\n",
    "\n",
    "muscle_measures = [\"Muscle HU\", \" Muscle Area (cm2)\", \"L3 SMI (cm2/m2)\"]\n",
    "\n",
    "aortic_measures = [\"AoCa        Agatston\"]\n",
    "\n",
    "liver_measures = [\"Liver HU    (Median)\"]\n",
    "\n",
    "measures = [bone_measures,fat_measures,muscle_measures,aortic_measures,liver_measures]\n",
    "measures_all = bone_measures + fat_measures + muscle_measures + aortic_measures + liver_measures\n",
    "\n",
    "\n",
    "clinical_measures = [\"Clinical F/U interval  [d from CT]\", \"BMI\", \"BMI >30\", \"Sex\", \"Age at CT\", \"Tobacco\", \"FRS 10-year risk (%)\", \"FRAX 10y Fx Prob (Orange-w/ DXA)\", \"FRAX 10y Hip Fx Prob (Orange-w/ DXA)\", \"Met Sx\", \"AA_FLAG\",]\n",
    "\n",
    "measures1 = [bone_measures,fat_measures,muscle_measures,aortic_measures,liver_measures,clinical_measures]\n",
    "ct_clinical_measure = measures_all + clinical_measures"
   ]
  },
  {
   "cell_type": "code",
   "execution_count": 24,
   "metadata": {
    "ExecuteTime": {
     "end_time": "2022-04-28T20:18:08.065498Z",
     "start_time": "2022-04-28T20:18:07.926498Z"
    }
   },
   "outputs": [
    {
     "name": "stdout",
     "output_type": "stream",
     "text": [
      "2174 Remove (23.57% of data)\n"
     ]
    },
    {
     "data": {
      "text/html": [
       "<div>\n",
       "<style scoped>\n",
       "    .dataframe tbody tr th:only-of-type {\n",
       "        vertical-align: middle;\n",
       "    }\n",
       "\n",
       "    .dataframe tbody tr th {\n",
       "        vertical-align: top;\n",
       "    }\n",
       "\n",
       "    .dataframe thead th {\n",
       "        text-align: right;\n",
       "    }\n",
       "</style>\n",
       "<table border=\"1\" class=\"dataframe\">\n",
       "  <thead>\n",
       "    <tr style=\"text-align: right;\">\n",
       "      <th></th>\n",
       "      <th>index</th>\n",
       "      <th>Clinical F/U interval  [d from CT]</th>\n",
       "      <th>BMI</th>\n",
       "      <th>BMI &gt;30</th>\n",
       "      <th>Sex</th>\n",
       "      <th>Age at CT</th>\n",
       "      <th>Tobacco</th>\n",
       "      <th>FRS 10-year risk (%)</th>\n",
       "      <th>FRAX 10y Fx Prob (Orange-w/ DXA)</th>\n",
       "      <th>FRAX 10y Hip Fx Prob (Orange-w/ DXA)</th>\n",
       "      <th>...</th>\n",
       "      <th>AoCa        Agatston</th>\n",
       "      <th>Liver HU    (Median)</th>\n",
       "      <th>CARD_FLAG</th>\n",
       "      <th>DIA_FLAG</th>\n",
       "      <th>FEM_FLAG</th>\n",
       "      <th>ALZ_FLAG</th>\n",
       "      <th>CANCER_FLAG</th>\n",
       "      <th>OUTCOME_FLAGS</th>\n",
       "      <th>DEATH_FLAG</th>\n",
       "      <th>Fold</th>\n",
       "    </tr>\n",
       "  </thead>\n",
       "  <tbody>\n",
       "    <tr>\n",
       "      <th>0</th>\n",
       "      <td>2262</td>\n",
       "      <td>983.0</td>\n",
       "      <td>27.0</td>\n",
       "      <td>0</td>\n",
       "      <td>1</td>\n",
       "      <td>66.0</td>\n",
       "      <td>1</td>\n",
       "      <td>0.10</td>\n",
       "      <td>5.60</td>\n",
       "      <td>1.09</td>\n",
       "      <td>...</td>\n",
       "      <td>464.911</td>\n",
       "      <td>54.0</td>\n",
       "      <td>0</td>\n",
       "      <td>0</td>\n",
       "      <td>0</td>\n",
       "      <td>0</td>\n",
       "      <td>0</td>\n",
       "      <td>0</td>\n",
       "      <td>0</td>\n",
       "      <td>0</td>\n",
       "    </tr>\n",
       "    <tr>\n",
       "      <th>1</th>\n",
       "      <td>4621</td>\n",
       "      <td>576.0</td>\n",
       "      <td>27.3</td>\n",
       "      <td>0</td>\n",
       "      <td>0</td>\n",
       "      <td>61.0</td>\n",
       "      <td>1</td>\n",
       "      <td>0.01</td>\n",
       "      <td>10.76</td>\n",
       "      <td>1.74</td>\n",
       "      <td>...</td>\n",
       "      <td>5007.162</td>\n",
       "      <td>46.0</td>\n",
       "      <td>0</td>\n",
       "      <td>1</td>\n",
       "      <td>0</td>\n",
       "      <td>0</td>\n",
       "      <td>0</td>\n",
       "      <td>1</td>\n",
       "      <td>0</td>\n",
       "      <td>1</td>\n",
       "    </tr>\n",
       "    <tr>\n",
       "      <th>2</th>\n",
       "      <td>7730</td>\n",
       "      <td>2409.0</td>\n",
       "      <td>30.2</td>\n",
       "      <td>1</td>\n",
       "      <td>0</td>\n",
       "      <td>60.0</td>\n",
       "      <td>1</td>\n",
       "      <td>0.02</td>\n",
       "      <td>7.76</td>\n",
       "      <td>1.03</td>\n",
       "      <td>...</td>\n",
       "      <td>434.619</td>\n",
       "      <td>54.0</td>\n",
       "      <td>0</td>\n",
       "      <td>1</td>\n",
       "      <td>0</td>\n",
       "      <td>0</td>\n",
       "      <td>0</td>\n",
       "      <td>1</td>\n",
       "      <td>0</td>\n",
       "      <td>2</td>\n",
       "    </tr>\n",
       "    <tr>\n",
       "      <th>3</th>\n",
       "      <td>5661</td>\n",
       "      <td>4077.0</td>\n",
       "      <td>27.2</td>\n",
       "      <td>0</td>\n",
       "      <td>1</td>\n",
       "      <td>53.0</td>\n",
       "      <td>0</td>\n",
       "      <td>0.03</td>\n",
       "      <td>3.47</td>\n",
       "      <td>0.16</td>\n",
       "      <td>...</td>\n",
       "      <td>133.321</td>\n",
       "      <td>63.0</td>\n",
       "      <td>0</td>\n",
       "      <td>1</td>\n",
       "      <td>0</td>\n",
       "      <td>0</td>\n",
       "      <td>0</td>\n",
       "      <td>1</td>\n",
       "      <td>0</td>\n",
       "      <td>3</td>\n",
       "    </tr>\n",
       "    <tr>\n",
       "      <th>4</th>\n",
       "      <td>7968</td>\n",
       "      <td>2075.0</td>\n",
       "      <td>24.8</td>\n",
       "      <td>0</td>\n",
       "      <td>0</td>\n",
       "      <td>50.0</td>\n",
       "      <td>0</td>\n",
       "      <td>0.01</td>\n",
       "      <td>5.98</td>\n",
       "      <td>0.42</td>\n",
       "      <td>...</td>\n",
       "      <td>204.181</td>\n",
       "      <td>46.0</td>\n",
       "      <td>0</td>\n",
       "      <td>1</td>\n",
       "      <td>0</td>\n",
       "      <td>0</td>\n",
       "      <td>0</td>\n",
       "      <td>1</td>\n",
       "      <td>0</td>\n",
       "      <td>4</td>\n",
       "    </tr>\n",
       "    <tr>\n",
       "      <th>...</th>\n",
       "      <td>...</td>\n",
       "      <td>...</td>\n",
       "      <td>...</td>\n",
       "      <td>...</td>\n",
       "      <td>...</td>\n",
       "      <td>...</td>\n",
       "      <td>...</td>\n",
       "      <td>...</td>\n",
       "      <td>...</td>\n",
       "      <td>...</td>\n",
       "      <td>...</td>\n",
       "      <td>...</td>\n",
       "      <td>...</td>\n",
       "      <td>...</td>\n",
       "      <td>...</td>\n",
       "      <td>...</td>\n",
       "      <td>...</td>\n",
       "      <td>...</td>\n",
       "      <td>...</td>\n",
       "      <td>...</td>\n",
       "      <td>...</td>\n",
       "    </tr>\n",
       "    <tr>\n",
       "      <th>7044</th>\n",
       "      <td>5863</td>\n",
       "      <td>1814.0</td>\n",
       "      <td>24.4</td>\n",
       "      <td>0</td>\n",
       "      <td>1</td>\n",
       "      <td>81.0</td>\n",
       "      <td>1</td>\n",
       "      <td>0.20</td>\n",
       "      <td>9.43</td>\n",
       "      <td>4.74</td>\n",
       "      <td>...</td>\n",
       "      <td>1576.428</td>\n",
       "      <td>56.0</td>\n",
       "      <td>1</td>\n",
       "      <td>0</td>\n",
       "      <td>1</td>\n",
       "      <td>0</td>\n",
       "      <td>0</td>\n",
       "      <td>2</td>\n",
       "      <td>1</td>\n",
       "      <td>4</td>\n",
       "    </tr>\n",
       "    <tr>\n",
       "      <th>7045</th>\n",
       "      <td>595</td>\n",
       "      <td>3097.0</td>\n",
       "      <td>22.9</td>\n",
       "      <td>0</td>\n",
       "      <td>0</td>\n",
       "      <td>65.0</td>\n",
       "      <td>1</td>\n",
       "      <td>0.02</td>\n",
       "      <td>14.37</td>\n",
       "      <td>4.07</td>\n",
       "      <td>...</td>\n",
       "      <td>185.229</td>\n",
       "      <td>54.0</td>\n",
       "      <td>1</td>\n",
       "      <td>0</td>\n",
       "      <td>1</td>\n",
       "      <td>0</td>\n",
       "      <td>0</td>\n",
       "      <td>2</td>\n",
       "      <td>1</td>\n",
       "      <td>0</td>\n",
       "    </tr>\n",
       "    <tr>\n",
       "      <th>7046</th>\n",
       "      <td>5753</td>\n",
       "      <td>3726.0</td>\n",
       "      <td>27.7</td>\n",
       "      <td>0</td>\n",
       "      <td>0</td>\n",
       "      <td>68.0</td>\n",
       "      <td>1</td>\n",
       "      <td>0.02</td>\n",
       "      <td>14.85</td>\n",
       "      <td>4.11</td>\n",
       "      <td>...</td>\n",
       "      <td>1920.190</td>\n",
       "      <td>44.0</td>\n",
       "      <td>1</td>\n",
       "      <td>0</td>\n",
       "      <td>1</td>\n",
       "      <td>0</td>\n",
       "      <td>0</td>\n",
       "      <td>2</td>\n",
       "      <td>1</td>\n",
       "      <td>1</td>\n",
       "    </tr>\n",
       "    <tr>\n",
       "      <th>7047</th>\n",
       "      <td>4659</td>\n",
       "      <td>395.0</td>\n",
       "      <td>21.5</td>\n",
       "      <td>0</td>\n",
       "      <td>0</td>\n",
       "      <td>56.0</td>\n",
       "      <td>1</td>\n",
       "      <td>0.02</td>\n",
       "      <td>6.63</td>\n",
       "      <td>0.91</td>\n",
       "      <td>...</td>\n",
       "      <td>95.833</td>\n",
       "      <td>45.0</td>\n",
       "      <td>0</td>\n",
       "      <td>0</td>\n",
       "      <td>0</td>\n",
       "      <td>0</td>\n",
       "      <td>1</td>\n",
       "      <td>1</td>\n",
       "      <td>1</td>\n",
       "      <td>2</td>\n",
       "    </tr>\n",
       "    <tr>\n",
       "      <th>7048</th>\n",
       "      <td>6245</td>\n",
       "      <td>2841.0</td>\n",
       "      <td>32.7</td>\n",
       "      <td>1</td>\n",
       "      <td>0</td>\n",
       "      <td>73.0</td>\n",
       "      <td>1</td>\n",
       "      <td>0.06</td>\n",
       "      <td>6.55</td>\n",
       "      <td>0.30</td>\n",
       "      <td>...</td>\n",
       "      <td>2416.718</td>\n",
       "      <td>57.0</td>\n",
       "      <td>1</td>\n",
       "      <td>1</td>\n",
       "      <td>1</td>\n",
       "      <td>1</td>\n",
       "      <td>0</td>\n",
       "      <td>4</td>\n",
       "      <td>1</td>\n",
       "      <td>3</td>\n",
       "    </tr>\n",
       "  </tbody>\n",
       "</table>\n",
       "<p>7049 rows × 31 columns</p>\n",
       "</div>"
      ],
      "text/plain": [
       "      index  Clinical F/U interval  [d from CT]   BMI BMI >30 Sex  Age at CT  \\\n",
       "0      2262                               983.0  27.0       0   1       66.0   \n",
       "1      4621                               576.0  27.3       0   0       61.0   \n",
       "2      7730                              2409.0  30.2       1   0       60.0   \n",
       "3      5661                              4077.0  27.2       0   1       53.0   \n",
       "4      7968                              2075.0  24.8       0   0       50.0   \n",
       "...     ...                                 ...   ...     ...  ..        ...   \n",
       "7044   5863                              1814.0  24.4       0   1       81.0   \n",
       "7045    595                              3097.0  22.9       0   0       65.0   \n",
       "7046   5753                              3726.0  27.7       0   0       68.0   \n",
       "7047   4659                               395.0  21.5       0   0       56.0   \n",
       "7048   6245                              2841.0  32.7       1   0       73.0   \n",
       "\n",
       "     Tobacco  FRS 10-year risk (%)  FRAX 10y Fx Prob (Orange-w/ DXA)  \\\n",
       "0          1                  0.10                              5.60   \n",
       "1          1                  0.01                             10.76   \n",
       "2          1                  0.02                              7.76   \n",
       "3          0                  0.03                              3.47   \n",
       "4          0                  0.01                              5.98   \n",
       "...      ...                   ...                               ...   \n",
       "7044       1                  0.20                              9.43   \n",
       "7045       1                  0.02                             14.37   \n",
       "7046       1                  0.02                             14.85   \n",
       "7047       1                  0.02                              6.63   \n",
       "7048       1                  0.06                              6.55   \n",
       "\n",
       "      FRAX 10y Hip Fx Prob (Orange-w/ DXA)  ... AoCa        Agatston  \\\n",
       "0                                     1.09  ...              464.911   \n",
       "1                                     1.74  ...             5007.162   \n",
       "2                                     1.03  ...              434.619   \n",
       "3                                     0.16  ...              133.321   \n",
       "4                                     0.42  ...              204.181   \n",
       "...                                    ...  ...                  ...   \n",
       "7044                                  4.74  ...             1576.428   \n",
       "7045                                  4.07  ...              185.229   \n",
       "7046                                  4.11  ...             1920.190   \n",
       "7047                                  0.91  ...               95.833   \n",
       "7048                                  0.30  ...             2416.718   \n",
       "\n",
       "      Liver HU    (Median)  CARD_FLAG  DIA_FLAG  FEM_FLAG  ALZ_FLAG  \\\n",
       "0                     54.0          0         0         0         0   \n",
       "1                     46.0          0         1         0         0   \n",
       "2                     54.0          0         1         0         0   \n",
       "3                     63.0          0         1         0         0   \n",
       "4                     46.0          0         1         0         0   \n",
       "...                    ...        ...       ...       ...       ...   \n",
       "7044                  56.0          1         0         1         0   \n",
       "7045                  54.0          1         0         1         0   \n",
       "7046                  44.0          1         0         1         0   \n",
       "7047                  45.0          0         0         0         0   \n",
       "7048                  57.0          1         1         1         1   \n",
       "\n",
       "      CANCER_FLAG  OUTCOME_FLAGS  DEATH_FLAG  Fold  \n",
       "0               0              0           0     0  \n",
       "1               0              1           0     1  \n",
       "2               0              1           0     2  \n",
       "3               0              1           0     3  \n",
       "4               0              1           0     4  \n",
       "...           ...            ...         ...   ...  \n",
       "7044            0              2           1     4  \n",
       "7045            0              2           1     0  \n",
       "7046            0              2           1     1  \n",
       "7047            1              1           1     2  \n",
       "7048            0              4           1     3  \n",
       "\n",
       "[7049 rows x 31 columns]"
      ]
     },
     "execution_count": 24,
     "metadata": {},
     "output_type": "execute_result"
    }
   ],
   "source": [
    "data_cleaned = data3.copy()\n",
    "for mea in measures1:\n",
    "    for m in mea:\n",
    "        data_cleaned = data_cleaned[(data_cleaned[m] != \"\") & (data_cleaned[m].isnull() == False)]\n",
    "\n",
    "rmv = len(data2)-len(data_cleaned)\n",
    "print(rmv, \"Remove (\" + str(round(rmv*100/len(data2),2)) + \"% of data)\")\n",
    "\n",
    "\n",
    "\n",
    "# Aproxx Equal Outcomes in Each Fold\n",
    "Folds = 5\n",
    "random.seed(1)\n",
    "data_cleaned = data_cleaned.sample(frac=1)\n",
    "data_cleaned = data_cleaned.sort_values([\"CARD_FLAG\",\"DIA_FLAG\",\"FEM_FLAG\",\"ALZ_FLAG\",\"CANCER_FLAG\",\"DEATH_FLAG\"]) \n",
    "data_cleaned = data_cleaned.sort_values(\"DEATH_FLAG\")\n",
    "data_cleaned = data_cleaned.reset_index() \n",
    "data_cleaned[\"Fold\"] = data_cleaned.index % Folds\n",
    "data_cleaned\n"
   ]
  },
  {
   "cell_type": "markdown",
   "metadata": {},
   "source": [
    "## CT Prediction"
   ]
  },
  {
   "cell_type": "code",
   "execution_count": 25,
   "metadata": {
    "ExecuteTime": {
     "end_time": "2022-04-28T20:18:08.090503Z",
     "start_time": "2022-04-28T20:18:08.074522Z"
    }
   },
   "outputs": [],
   "source": [
    "def LR(train,test,useClinical=False):\n",
    "\n",
    "    X_col = measures_all\n",
    "    if useClinical:\n",
    "        X_col = ct_clinical_measure\n",
    "\n",
    "    ct_train_x = train.loc[:,X_col]\n",
    "    ct_train_y = train.loc[:,\"DEATH_FLAG\"]\n",
    "    ct_test_x = test.loc[:,X_col]\n",
    "    ct_test_y = test.loc[:,\"DEATH_FLAG\"]\n",
    "\n",
    "    clf_ct_LR = LogisticRegression(random_state=0, solver='liblinear').fit(ct_train_x, ct_train_y)\n",
    "    pred_y = clf_ct_LR.predict_proba(ct_test_x)\n",
    "    prob_y_LR = [i[1] for i in pred_y]\n",
    "    \n",
    "    return prob_y_LR,ct_test_y"
   ]
  },
  {
   "cell_type": "code",
   "execution_count": 26,
   "metadata": {
    "ExecuteTime": {
     "end_time": "2022-04-28T20:18:08.340499Z",
     "start_time": "2022-04-28T20:18:08.095516Z"
    }
   },
   "outputs": [],
   "source": [
    "AUCs_LR = []\n",
    "FPR_LR = []\n",
    "TPR_LR = []\n",
    "TH_LR = []\n",
    "\n",
    "for f in range(Folds):\n",
    "    prob_y,true_y = LR(data_cleaned.loc[(data_cleaned[\"Fold\"] != f),],\n",
    "                                data_cleaned.loc[(data_cleaned[\"Fold\"] == f),])\n",
    "     \n",
    "    fpr, tpr, thresholds = metrics.roc_curve(true_y,prob_y)\n",
    "    auc = metrics.roc_auc_score(true_y,prob_y)\n",
    "    AUCs_LR.append(auc) \n",
    "    FPR_LR.append(fpr) \n",
    "    TPR_LR.append(tpr) \n",
    "    TH_LR.append(thresholds) \n",
    "    "
   ]
  },
  {
   "cell_type": "code",
   "execution_count": 27,
   "metadata": {
    "ExecuteTime": {
     "end_time": "2022-04-28T20:18:08.348504Z",
     "start_time": "2022-04-28T20:18:08.343496Z"
    }
   },
   "outputs": [],
   "source": [
    "def RF2(train,test,d,useClinical=False):\n",
    "\n",
    "    X_col = measures_all\n",
    "    if useClinical:\n",
    "        X_col = ct_clinical_measure\n",
    "    \n",
    "    ct_train_x = train.loc[:,X_col]\n",
    "    ct_train_y = train.loc[:,\"DEATH_FLAG\"]\n",
    "    ct_test_x = test.loc[:,X_col]\n",
    "    ct_test_y = test.loc[:,\"DEATH_FLAG\"]\n",
    "    \n",
    "    clf_ct = RandomForestClassifier(max_depth = d, n_estimators = 50,random_state=17).fit(ct_train_x, ct_train_y)\n",
    "    pred_y = clf_ct.predict_proba(ct_test_x)\n",
    "    prob_y_RF = [i[1] for i in pred_y]\n",
    "            \n",
    "    return list(prob_y_RF),list(ct_test_y)\n",
    "    "
   ]
  },
  {
   "cell_type": "code",
   "execution_count": 28,
   "metadata": {
    "ExecuteTime": {
     "end_time": "2022-04-28T20:18:08.364495Z",
     "start_time": "2022-04-28T20:18:08.350497Z"
    }
   },
   "outputs": [],
   "source": [
    "def LR_RF2(tr1,tr2,test,d,useClinical=False):\n",
    "\n",
    "    X_col = measures_all\n",
    "    if useClinical:\n",
    "        X_col = ct_clinical_measure\n",
    "        \n",
    "    ct_train2_x = tr2.loc[:,X_col]\n",
    "    ct_train2_x_temp = tr2.loc[:,X_col]\n",
    "    ct_train2_y = tr2.loc[:,\"DEATH_FLAG\"]\n",
    "\n",
    "    ct_test_x = test.loc[:,X_col]\n",
    "    ct_test_x_temp = test.loc[:,X_col]\n",
    "    ct_test_y = test.loc[:,\"DEATH_FLAG\"]\n",
    "        \n",
    "    Flags = [\"CARD_FLAG\",\"DIA_FLAG\",\"FEM_FLAG\",\"ALZ_FLAG\",\"CANCER_FLAG\",\"DEATH_FLAG\"] \n",
    "    \n",
    "    \n",
    "    \n",
    "    for f in Flags:\n",
    "        ct_train1_x = tr1.loc[:,X_col]\n",
    "        ct_train1_y = tr1.loc[:,f]\n",
    "        clf_ct_LR = LogisticRegression(random_state=0, solver='liblinear').fit(ct_train1_x, ct_train1_y)\n",
    "        #clf_ct_LR =  RandomForestClassifier(max_depth = d, n_estimators = 50,random_state=17).fit(ct_train2_x, ct_train2_y)\n",
    "        \n",
    "        pred_y = clf_ct_LR.predict_proba(ct_train2_x_temp)\n",
    "        prob_y_LR = [i[1]for i in pred_y]\n",
    "        ct_train2_x[f+\"_PRED\"] = prob_y_LR.copy()\n",
    "\n",
    "        pred_y = clf_ct_LR.predict_proba(ct_test_x_temp)\n",
    "        prob_y_LR = [i[1] for i in pred_y]\n",
    "        ct_test_x[f+\"_PRED\"] = prob_y_LR.copy()\n",
    "        \n",
    "\n",
    "    clf_ct = RandomForestClassifier(max_depth = d, n_estimators = 50,random_state=17).fit(ct_train2_x, ct_train2_y)\n",
    "    #clf_ct = LogisticRegression(random_state=0, solver='liblinear').fit(ct_train2_x, ct_train2_y)\n",
    "    \n",
    "    pred_y = clf_ct.predict_proba(ct_test_x)\n",
    "    prob_y_LR_RF = [i[1] for i in pred_y]\n",
    "\n",
    "    return list(prob_y_LR_RF),list(ct_test_y)"
   ]
  },
  {
   "cell_type": "code",
   "execution_count": 29,
   "metadata": {
    "ExecuteTime": {
     "end_time": "2022-04-28T20:18:08.374526Z",
     "start_time": "2022-04-28T20:18:08.367498Z"
    }
   },
   "outputs": [],
   "source": [
    "def LR_RF3(tr1,tr2,test,d,useClinical=False):\n",
    "\n",
    "    X_col = measures_all\n",
    "    if useClinical:\n",
    "        X_col = ct_clinical_measure\n",
    "        \n",
    "    ct_train2_x = tr2.loc[:,X_col]\n",
    "    ct_train2_x_temp = tr2.loc[:,X_col]\n",
    "    ct_train2_y = tr2.loc[:,\"DEATH_FLAG\"]\n",
    "\n",
    "    ct_test_x = test.loc[:,X_col]\n",
    "    ct_test_x_temp = test.loc[:,X_col]\n",
    "    ct_test_y = test.loc[:,\"DEATH_FLAG\"]\n",
    "        \n",
    "    Flags = [\"CARD_FLAG\",\"DIA_FLAG\",\"FEM_FLAG\",\"ALZ_FLAG\",\"CANCER_FLAG\",\"DEATH_FLAG\"] \n",
    "    \n",
    "    \n",
    "    \n",
    "    for f in Flags:\n",
    "        ct_train1_x = tr1.loc[:,X_col]\n",
    "        ct_train1_y = tr1.loc[:,f]\n",
    "        #clf_ct_LR = LogisticRegression(random_state=0, solver='liblinear').fit(ct_train1_x, ct_train1_y)\n",
    "        clf_ct_LR =  RandomForestClassifier(max_depth = d, n_estimators = 50,random_state=17).fit(ct_train1_x, ct_train1_y)\n",
    "        \n",
    "        pred_y = clf_ct_LR.predict_proba(ct_train2_x_temp)\n",
    "        prob_y_LR = [i[1]for i in pred_y]\n",
    "        ct_train2_x[f+\"_PRED\"] = prob_y_LR.copy()\n",
    "\n",
    "        pred_y = clf_ct_LR.predict_proba(ct_test_x_temp)\n",
    "        prob_y_LR = [i[1] for i in pred_y]\n",
    "        ct_test_x[f+\"_PRED\"] = prob_y_LR.copy()\n",
    "        \n",
    "\n",
    "    #clf_ct = RandomForestClassifier(max_depth = d, n_estimators = 50,random_state=17).fit(ct_train2_x, ct_train2_y)\n",
    "    clf_ct = LogisticRegression(random_state=0, solver='liblinear').fit(ct_train2_x, ct_train2_y)\n",
    "    \n",
    "    pred_y = clf_ct.predict_proba(ct_test_x)\n",
    "    prob_y_LR_RF = [i[1] for i in pred_y]\n",
    "\n",
    "    return list(prob_y_LR_RF),list(ct_test_y)"
   ]
  },
  {
   "cell_type": "code",
   "execution_count": 30,
   "metadata": {
    "ExecuteTime": {
     "end_time": "2022-04-28T20:18:11.261201Z",
     "start_time": "2022-04-28T20:18:08.375495Z"
    }
   },
   "outputs": [
    {
     "name": "stdout",
     "output_type": "stream",
     "text": [
      "0\n",
      "1\n",
      "2\n",
      "3\n",
      "4\n",
      "0\n",
      "1\n",
      "2\n",
      "3\n",
      "4\n"
     ]
    }
   ],
   "source": [
    "D = [3,5]\n",
    "\n",
    "AUCs_RF_All = []\n",
    "FPR_RF_All =[]\n",
    "TPR_RF_All =[]\n",
    "TH_RF_All = []\n",
    "\n",
    "for d in D:\n",
    "    AUCs_RF = []\n",
    "    FPR_RF =[]\n",
    "    TPR_RF =[]\n",
    "    TH_RF = []\n",
    "    for f in range(Folds):\n",
    "        print(f)\n",
    "        prob_y,true_y = RF2(data_cleaned.loc[(data_cleaned[\"Fold\"] != f),],\n",
    "                                 data_cleaned.loc[(data_cleaned[\"Fold\"] == f),],\n",
    "                                 d)\n",
    "     \n",
    "        fpr, tpr, thresholds = metrics.roc_curve(true_y,prob_y)\n",
    "        auc = metrics.roc_auc_score(true_y,prob_y)\n",
    "        AUCs_RF.append(auc) \n",
    "        FPR_RF.append(fpr) \n",
    "        TPR_RF.append(tpr) \n",
    "        TH_RF.append(thresholds) \n",
    "    \n",
    "    AUCs_RF_All.append(AUCs_RF)\n",
    "    FPR_RF_All.append(FPR_RF)\n",
    "    TPR_RF_All.append(TPR_RF)\n",
    "    TH_RF_All.append(TH_RF)\n",
    "\n"
   ]
  },
  {
   "cell_type": "code",
   "execution_count": 31,
   "metadata": {
    "ExecuteTime": {
     "end_time": "2022-04-28T20:18:32.256626Z",
     "start_time": "2022-04-28T20:18:11.264189Z"
    }
   },
   "outputs": [
    {
     "name": "stdout",
     "output_type": "stream",
     "text": [
      "0\n",
      "1\n",
      "2\n",
      "3\n",
      "4\n",
      "0\n",
      "1\n",
      "2\n",
      "3\n",
      "4\n"
     ]
    }
   ],
   "source": [
    "AUCs_LR_RF_All = []\n",
    "FPR_LR_RF_All =[]\n",
    "TPR_LR_RF_All =[]\n",
    "TH_LR_RF_All = []\n",
    "\n",
    "for d in D:\n",
    "    AUCs_LR_RF = []\n",
    "    FPR_LR_RF =[]\n",
    "    TPR_LR_RF =[]\n",
    "    TH_LR_RF = []\n",
    "    for f in range(Folds):\n",
    "        print(f)\n",
    "        Train_Folds = [ff for ff in range(Folds) if ff != f]\n",
    "        combs = combinations(Train_Folds, math.ceil((Folds-1)*.5))\n",
    "        \n",
    "        for c in combs:\n",
    "            c= list(c)\n",
    "            prob_y,true_y = LR_RF2(data_cleaned.loc[(data_cleaned[\"Fold\"] != f) & (data_cleaned[\"Fold\"].isin(c)),],\n",
    "                                  data_cleaned.loc[(data_cleaned[\"Fold\"] != f) & (~data_cleaned[\"Fold\"].isin(c)),],\n",
    "                                  data_cleaned.loc[(data_cleaned[\"Fold\"] == f)],\n",
    "                                  d)\n",
    "\n",
    "            fpr, tpr, thresholds = metrics.roc_curve(true_y,prob_y)\n",
    "            auc = metrics.roc_auc_score(true_y,prob_y)\n",
    "            AUCs_LR_RF.append(auc) \n",
    "            FPR_LR_RF.append(fpr) \n",
    "            TPR_LR_RF.append(tpr) \n",
    "            TH_LR_RF.append(thresholds) \n",
    "    \n",
    "    AUCs_LR_RF_All.append(AUCs_LR_RF)\n",
    "    FPR_LR_RF_All.append(FPR_LR_RF)\n",
    "    TPR_LR_RF_All.append(TPR_LR_RF)\n",
    "    TH_LR_RF_All.append(TH_LR_RF)\n"
   ]
  },
  {
   "cell_type": "raw",
   "metadata": {
    "ExecuteTime": {
     "end_time": "2022-04-28T20:03:58.866219Z",
     "start_time": "2022-04-28T20:01:33.382018Z"
    }
   },
   "source": [
    "AUCs_RF_LR_All = []\n",
    "FPR_RF_LR_All =[]\n",
    "TPR_RF_LR_All =[]\n",
    "TH_RF_LR_All = []\n",
    "\n",
    "for d in D:\n",
    "    AUCs_RF_LR = []\n",
    "    FPR_RF_LR =[]\n",
    "    TPR_RF_LR =[]\n",
    "    TH_RF_LR = []\n",
    "    for f in range(Folds):\n",
    "        print(f)\n",
    "        Train_Folds = [ff for ff in range(Folds) if ff != f]\n",
    "        combs = combinations(Train_Folds, math.ceil((Folds-1)*.5))\n",
    "        \n",
    "        for c in combs:\n",
    "            c= list(c)\n",
    "            prob_y,true_y = LR_RF3(data_cleaned.loc[(data_cleaned[\"Fold\"] != f) & (data_cleaned[\"Fold\"].isin(c)),],\n",
    "                                  data_cleaned.loc[(data_cleaned[\"Fold\"] != f) & (~data_cleaned[\"Fold\"].isin(c)),],\n",
    "                                  data_cleaned.loc[(data_cleaned[\"Fold\"] == f)],\n",
    "                                  d)\n",
    "\n",
    "            fpr, tpr, thresholds = metrics.roc_curve(true_y,prob_y)\n",
    "            auc = metrics.roc_auc_score(true_y,prob_y)\n",
    "            AUCs_RF_LR.append(auc) \n",
    "            FPR_RF_LR.append(fpr) \n",
    "            TPR_RF_LR.append(tpr) \n",
    "            TH_RF_LR.append(thresholds) \n",
    "    \n",
    "    AUCs_RF_LR_All.append(AUCs_RF_LR)\n",
    "    FPR_RF_LR_All.append(FPR_RF_LR)\n",
    "    TPR_RF_LR_All.append(TPR_RF_LR)\n",
    "    TH_RF_LR_All.append(TH_RF_LR)"
   ]
  },
  {
   "cell_type": "code",
   "execution_count": 32,
   "metadata": {
    "ExecuteTime": {
     "end_time": "2022-04-28T20:18:32.748699Z",
     "start_time": "2022-04-28T20:18:32.258621Z"
    }
   },
   "outputs": [
    {
     "data": {
      "image/png": "[encoded data removed]",
      "text/plain": [
       "<Figure size 432x288 with 1 Axes>"
      ]
     },
     "metadata": {
      "needs_background": "light"
     },
     "output_type": "display_data"
    }
   ],
   "source": [
    "plt.plot(FPR_LR[0], FPR_LR[0], label='Log Regression, (AUC: ' + str(round(sum(AUCs_LR)/len(AUCs_LR),2))+')')\n",
    "plt.plot([0,1],[0,1])\n",
    "\n",
    "for d in range(len(D)):\n",
    "    plt.plot(FPR_RF_All[d][0], TPR_RF_All[d][0], label='Rand Forest, Mx_Dpth = '+str(D[d])+' (AUC: ' + str(round(sum(AUCs_RF_All[d])/len(AUCs_RF_All[d]),2))+')')\n",
    "\n",
    "for d in range(len(D)):\n",
    "    plt.plot(FPR_LR_RF_All[d][0], TPR_LR_RF_All[d][0], label='LR + RF, Mx_Dpth = '+str(D[d])+' (AUC: ' + str(round(sum(AUCs_LR_RF_All[d])/len(AUCs_LR_RF_All[d]),2))+')')\n",
    "\n",
    "#for d in range(len(D)):\n",
    "#    plt.plot(FPR_RF_LR_All[d][0], TPR_RF_LR_All[d][0], label='RF + LR, Mx_Dpth = '+str(D[d])+' (AUC: ' + str(round(sum(AUCs_RF_LR_All[d])/len(AUCs_RF_LR_All[d]),2))+')')\n",
    "\n",
    "\n",
    "plt.xlabel(\"False Positive Rate\")\n",
    "plt.ylabel(\"True Positive Rate\")\n",
    "plt.legend()\n",
    "plt.show()"
   ]
  },
  {
   "cell_type": "code",
   "execution_count": 33,
   "metadata": {
    "ExecuteTime": {
     "end_time": "2022-04-28T20:18:33.033495Z",
     "start_time": "2022-04-28T20:18:32.749718Z"
    }
   },
   "outputs": [
    {
     "data": {
      "image/png": "[encoded data removed]",
      "text/plain": [
       "<Figure size 432x288 with 1 Axes>"
      ]
     },
     "metadata": {
      "needs_background": "light"
     },
     "output_type": "display_data"
    }
   ],
   "source": [
    "\n",
    "data = [AUCs_LR] +  [ AUCs_RF_All[d] for d in range(len(D))] + [ AUCs_LR_RF_All[d] for d in range(len(D))] \n",
    "Labs = [\"Lin Reg\"] + [ \"RF, MX_Dpth = \" + str(D[d]) for d in range(len(D))] + [ \"LR + RF, MX_Dpth = \" + str(D[d]) for d in range(len(D))] \n",
    " \n",
    "fig = plt.figure()\n",
    " \n",
    "# Creating axes instance\n",
    "ax = fig.add_axes([0, 0, 1, 1])\n",
    " \n",
    "# Creating plot\n",
    "bp = ax.boxplot(data,showmeans=True)\n",
    "\n",
    "ax.set_title('AUC Values from Cross-Validation')\n",
    "ax.set_xlabel('Method')\n",
    "ax.set_ylabel('AUC Value')\n",
    "\n",
    "plt.xticks(list(range(1,1+len(data))), Labs)\n",
    "ax.set_xticklabels(Labs, rotation = 90)\n",
    " \n",
    "# show plot\n",
    "plt.show()"
   ]
  },
  {
   "cell_type": "code",
   "execution_count": 34,
   "metadata": {
    "ExecuteTime": {
     "end_time": "2022-04-28T20:18:33.770674Z",
     "start_time": "2022-04-28T20:18:33.036449Z"
    }
   },
   "outputs": [
    {
     "ename": "NameError",
     "evalue": "name 'daskh' is not defined",
     "output_type": "error",
     "traceback": [
      "\u001b[1;31m---------------------------------------------------------------------------\u001b[0m",
      "\u001b[1;31mNameError\u001b[0m                                 Traceback (most recent call last)",
      "\u001b[1;32m<ipython-input-34-ea5ae054b2b0>\u001b[0m in \u001b[0;36m<module>\u001b[1;34m\u001b[0m\n\u001b[1;32m----> 1\u001b[1;33m \u001b[0mdaskh\u001b[0m\u001b[1;33m\u001b[0m\u001b[1;33m\u001b[0m\u001b[0m\n\u001b[0m",
      "\u001b[1;31mNameError\u001b[0m: name 'daskh' is not defined"
     ]
    }
   ],
   "source": [
    "daskh"
   ]
  },
  {
   "cell_type": "markdown",
   "metadata": {},
   "source": [
    "## CT + CLINICAL PREDICTION"
   ]
  },
  {
   "cell_type": "code",
   "execution_count": null,
   "metadata": {
    "ExecuteTime": {
     "end_time": "2022-04-28T20:18:33.782663Z",
     "start_time": "2022-04-28T20:17:54.573Z"
    }
   },
   "outputs": [],
   "source": [
    "AUCs_LR = []\n",
    "FPR_LR = []\n",
    "TPR_LR = []\n",
    "TH_LR = []\n",
    "\n",
    "for f in range(Folds):\n",
    "    prob_y,true_y = LR(data_cleaned.loc[(data_cleaned[\"Fold\"] != f),],\n",
    "                                data_cleaned.loc[(data_cleaned[\"Fold\"] == f),],useClinical=True)\n",
    "     \n",
    "    fpr, tpr, thresholds = metrics.roc_curve(true_y,prob_y)\n",
    "    auc = metrics.roc_auc_score(true_y,prob_y)\n",
    "    AUCs_LR.append(auc) \n",
    "    FPR_LR.append(fpr) \n",
    "    TPR_LR.append(tpr) \n",
    "    TH_LR.append(thresholds) "
   ]
  },
  {
   "cell_type": "code",
   "execution_count": null,
   "metadata": {
    "ExecuteTime": {
     "end_time": "2022-04-28T20:18:33.783664Z",
     "start_time": "2022-04-28T20:17:54.575Z"
    }
   },
   "outputs": [],
   "source": [
    "D = [3,5]\n",
    "\n",
    "AUCs_RF_All = []\n",
    "FPR_RF_All =[]\n",
    "TPR_RF_All =[]\n",
    "TH_RF_All = []\n",
    "\n",
    "for d in D:\n",
    "    AUCs_RF = []\n",
    "    FPR_RF =[]\n",
    "    TPR_RF =[]\n",
    "    TH_RF = []\n",
    "    for f in range(Folds):\n",
    "        print(f)\n",
    "        prob_y,true_y = RF2(data_cleaned.loc[(data_cleaned[\"Fold\"] != f),],\n",
    "                                 data_cleaned.loc[(data_cleaned[\"Fold\"] == f),],\n",
    "                                 d,useClinical=True)\n",
    "     \n",
    "        fpr, tpr, thresholds = metrics.roc_curve(true_y,prob_y)\n",
    "        auc = metrics.roc_auc_score(true_y,prob_y)\n",
    "        AUCs_RF.append(auc) \n",
    "        FPR_RF.append(fpr) \n",
    "        TPR_RF.append(tpr) \n",
    "        TH_RF.append(thresholds) \n",
    "    \n",
    "    AUCs_RF_All.append(AUCs_RF)\n",
    "    FPR_RF_All.append(FPR_RF)\n",
    "    TPR_RF_All.append(TPR_RF)\n",
    "    TH_RF_All.append(TH_RF)\n"
   ]
  },
  {
   "cell_type": "code",
   "execution_count": null,
   "metadata": {
    "ExecuteTime": {
     "end_time": "2022-04-28T20:18:33.783664Z",
     "start_time": "2022-04-28T20:17:54.577Z"
    }
   },
   "outputs": [],
   "source": [
    "AUCs_LR_RF_All = []\n",
    "FPR_LR_RF_All =[]\n",
    "TPR_LR_RF_All =[]\n",
    "TH_LR_RF_All = []\n",
    "\n",
    "for d in D:\n",
    "    AUCs_LR_RF = []\n",
    "    FPR_LR_RF =[]\n",
    "    TPR_LR_RF =[]\n",
    "    TH_LR_RF = []\n",
    "    for f in range(Folds):\n",
    "        print(f)\n",
    "        Train_Folds = [ff for ff in range(Folds) if ff != f]\n",
    "        combs = combinations(Train_Folds, math.ceil((Folds-1)*.5))\n",
    "        \n",
    "        for c in combs:\n",
    "            c= list(c)\n",
    "            prob_y,true_y = LR_RF2(data_cleaned.loc[(data_cleaned[\"Fold\"] != f) & (data_cleaned[\"Fold\"].isin(c)),],\n",
    "                                  data_cleaned.loc[(data_cleaned[\"Fold\"] != f) & (~data_cleaned[\"Fold\"].isin(c)),],\n",
    "                                  data_cleaned.loc[(data_cleaned[\"Fold\"] == f)],\n",
    "                                  d,useClinical=True)\n",
    "\n",
    "            fpr, tpr, thresholds = metrics.roc_curve(true_y,prob_y)\n",
    "            auc = metrics.roc_auc_score(true_y,prob_y)\n",
    "            AUCs_LR_RF.append(auc) \n",
    "            FPR_LR_RF.append(fpr) \n",
    "            TPR_LR_RF.append(tpr) \n",
    "            TH_LR_RF.append(thresholds) \n",
    "    \n",
    "    AUCs_LR_RF_All.append(AUCs_LR_RF)\n",
    "    FPR_LR_RF_All.append(FPR_LR_RF)\n",
    "    TPR_LR_RF_All.append(TPR_LR_RF)\n",
    "    TH_LR_RF_All.append(TH_LR_RF)"
   ]
  },
  {
   "cell_type": "code",
   "execution_count": null,
   "metadata": {
    "ExecuteTime": {
     "end_time": "2022-04-28T20:18:33.784663Z",
     "start_time": "2022-04-28T20:17:54.579Z"
    }
   },
   "outputs": [],
   "source": [
    "plt.plot(FPR_LR[0], FPR_LR[0], label='Log Regression, (AUC: ' + str(round(sum(AUCs_LR)/len(AUCs_LR),2))+')')\n",
    "plt.plot([0,1],[0,1])\n",
    "\n",
    "for d in range(len(D)):\n",
    "    plt.plot(FPR_RF_All[d][0], TPR_RF_All[d][0], label='Rand Forest, Mx_Dpth = '+str(D[d])+' (AUC: ' + str(round(sum(AUCs_RF_All[d])/len(AUCs_RF_All[d]),2))+')')\n",
    "\n",
    "for d in range(len(D)):\n",
    "    plt.plot(FPR_LR_RF_All[d][0], TPR_LR_RF_All[d][0], label='LR + RF, Mx_Dpth = '+str(D[d])+' (AUC: ' + str(round(sum(AUCs_LR_RF_All[d])/len(AUCs_LR_RF_All[d]),2))+')')\n",
    "\n",
    "\n",
    "plt.xlabel(\"False Positive Rate\")\n",
    "plt.ylabel(\"True Positive Rate\")\n",
    "plt.title(\"CT + CLINICAL\")\n",
    "plt.legend()\n",
    "plt.show()"
   ]
  },
  {
   "cell_type": "code",
   "execution_count": null,
   "metadata": {
    "ExecuteTime": {
     "end_time": "2022-04-28T20:18:33.785636Z",
     "start_time": "2022-04-28T20:17:54.581Z"
    }
   },
   "outputs": [],
   "source": [
    "data = [AUCs_LR] +  [ AUCs_RF_All[d] for d in range(len(D))] + [ AUCs_LR_RF_All[d] for d in range(len(D))]\n",
    "Labs = [\"Lin Reg\"] + [ \"RF, MX_Dpth = \" + str(D[d]) for d in range(len(D))] + [ \"LR + RF, MX_Dpth = \" + str(D[d]) for d in range(len(D))]\n",
    " \n",
    "fig = plt.figure()\n",
    " \n",
    "# Creating axes instance\n",
    "ax = fig.add_axes([0, 0, 1, 1])\n",
    " \n",
    "# Creating plot\n",
    "bp = ax.boxplot(data,showmeans=True)\n",
    "\n",
    "ax.set_title('AUC Values from Cross-Validation')\n",
    "ax.set_xlabel('Method')\n",
    "ax.set_ylabel('AUC Value')\n",
    "\n",
    "plt.xticks(list(range(1,1+len(data))), Labs)\n",
    "ax.set_xticklabels(Labs, rotation = 90)\n",
    " \n",
    "# show plot\n",
    "plt.show()"
   ]
  },
  {
   "cell_type": "markdown",
   "metadata": {},
   "source": [
    "## BIO AGE CALCS"
   ]
  },
  {
   "cell_type": "code",
   "execution_count": null,
   "metadata": {
    "ExecuteTime": {
     "end_time": "2022-04-28T20:18:33.786635Z",
     "start_time": "2022-04-28T20:17:54.584Z"
    }
   },
   "outputs": [],
   "source": [
    "def NN_Age(df,cols,k):\n",
    "    df = data_cleaned2 \n",
    "    k = 10\n",
    "    \n",
    "    cols2 = cols + [\"Age at CT\",\"Sex\"]\n",
    "    df2 = df.loc[:,cols2]\n",
    "\n",
    "\n",
    "    for r in df2.index:\n",
    "        df2[\"dist\"] = 0\n",
    "        \n",
    "        s = df2.loc[r,\"Sex\"]\n",
    "        df3 = df2.loc[(df2.loc[:,\"Sex\"] == s),:].copy()\n",
    "        \n",
    "        for c in cols:\n",
    "            df3[c] = df3[c]/df3[c].std()\n",
    "        a = df3.loc[r,cols]\n",
    "        for c in cols:\n",
    "            df3.loc[:,\"dist\"] += (df3.loc[:,c] - float(df2.loc[r,c]))**2\n",
    "\n",
    "        df3.loc[r,\"dist\"] = 10000000000000 \n",
    "        \n",
    "        df3 = df3.sort_values(\"dist\")\n",
    "        df2.loc[r,\"pred_age\"] = (df3[\"Age at CT\"].iloc[0:k]).mean()\n",
    "        \n",
    "    print(\"done\")\n",
    "    return df2[\"pred_age\"] \n"
   ]
  },
  {
   "cell_type": "markdown",
   "metadata": {},
   "source": [
    "### Use NN to get age of various health systems"
   ]
  },
  {
   "cell_type": "code",
   "execution_count": null,
   "metadata": {
    "ExecuteTime": {
     "end_time": "2022-04-28T20:18:33.786635Z",
     "start_time": "2022-04-28T20:17:54.585Z"
    }
   },
   "outputs": [],
   "source": [
    "data_cleaned3 = data_cleaned2.copy()\n",
    "data_cleaned3[\"Bone_Bio_Age\"] = NN_Age(data_cleaned3,bone_measures,10)\n",
    "data_cleaned3[\"Fat_Bio_Age\"] = NN_Age(data_cleaned3,fat_measures,10)\n",
    "data_cleaned3[\"Muscle_Bio_Age\"] = NN_Age(data_cleaned3,muscle_measures,10)\n",
    "data_cleaned3[\"Aortic_Bio_Age\"] = NN_Age(data_cleaned3,aortic_measures,10)\n",
    "data_cleaned3[\"Liver_Bio_Age\"] = NN_Age(data_cleaned3,liver_measures,10)\n",
    "\n",
    "data_cleaned3"
   ]
  },
  {
   "cell_type": "markdown",
   "metadata": {
    "ExecuteTime": {
     "end_time": "2022-04-15T16:31:21.129354Z",
     "start_time": "2022-04-15T16:31:21.119560Z"
    }
   },
   "source": [
    "### Use results of NN to Predict Age Using Lin Regression. We use Lin Regression so Weight Can be varied. Note Gender Split"
   ]
  },
  {
   "cell_type": "code",
   "execution_count": null,
   "metadata": {
    "ExecuteTime": {
     "end_time": "2022-04-28T20:18:33.788645Z",
     "start_time": "2022-04-28T20:17:54.588Z"
    }
   },
   "outputs": [],
   "source": [
    "age_measures = [\"Bone_Bio_Age\",\"Fat_Bio_Age\",\"Muscle_Bio_Age\",\"Aortic_Bio_Age\",\"Liver_Bio_Age\"]\n",
    "\n",
    "Females_Data = data_cleaned3.loc[(data_cleaned3[\"Sex\"] == \"Female\"),:]\n",
    "Males_Data = data_cleaned3.loc[(data_cleaned3[\"Sex\"] != \"Female\"),:]\n",
    "\n",
    "reg_Female = LinearRegression().fit(Females_Data[age_measures],Females_Data[\"Age at CT\"])\n",
    "reg_Male = LinearRegression().fit(Males_Data [age_measures],Males_Data [\"Age at CT\"])\n",
    "\n",
    "\n",
    "print(\"Female Model\")\n",
    "print(\"Score:\",reg_Female.score(Females_Data[age_measures],Females_Data[\"Age at CT\"]))\n",
    "print(\"Int:\",reg_Female.intercept_)\n",
    "print(\"Coef:\",reg_Female.coef_)\n",
    "print(\"\")\n",
    "print(\"Male Model\")\n",
    "print(\"Score:\",reg_Male.score(Males_Data[age_measures],Males_Data[\"Age at CT\"]))\n",
    "print(\"Int:\",reg_Male.intercept_)\n",
    "print(\"Coef:\",reg_Male.coef_)\n",
    "\n",
    "data_cleaned3.loc[:,\"Bio_Age\"] = 0\n",
    "data_cleaned3.loc[(data_cleaned3[\"Sex\"] != \"Female\"),\"Bio_Age\"] = reg_Male.predict(np.array(Males_Data[age_measures]))\n",
    "data_cleaned3.loc[(data_cleaned3[\"Sex\"] == \"Female\"),\"Bio_Age\"] = reg_Female.predict(np.array(Females_Data[age_measures]))\n",
    "\n",
    "data_cleaned3[\"Age_Adjustment_Days\"] = 0\n",
    "data_cleaned3[\"Age_Adjustment_Days\"] = (data_cleaned3[\"Bio_Age\"] - data_cleaned3[\"Age at CT\"])*365\n",
    "\n",
    "data_cleaned3"
   ]
  }
 ],
 "metadata": {
  "kernelspec": {
   "display_name": "Python 3",
   "language": "python",
   "name": "python3"
  },
  "language_info": {
   "codemirror_mode": {
    "name": "ipython",
    "version": 3
   },
   "file_extension": ".py",
   "mimetype": "text/x-python",
   "name": "python",
   "nbconvert_exporter": "python",
   "pygments_lexer": "ipython3",
   "version": "3.8.7"
  },
  "toc": {
   "base_numbering": 1,
   "nav_menu": {},
   "number_sections": true,
   "sideBar": true,
   "skip_h1_title": false,
   "title_cell": "Table of Contents",
   "title_sidebar": "Contents",
   "toc_cell": false,
   "toc_position": {},
   "toc_section_display": true,
   "toc_window_display": false
  },
  "varInspector": {
   "cols": {
    "lenName": 16,
    "lenType": 16,
    "lenVar": 40
   },
   "kernels_config": {
    "python": {
     "delete_cmd_postfix": "",
     "delete_cmd_prefix": "del ",
     "library": "var_list.py",
     "varRefreshCmd": "print(var_dic_list())"
    },
    "r": {
     "delete_cmd_postfix": ") ",
     "delete_cmd_prefix": "rm(",
     "library": "var_list.r",
     "varRefreshCmd": "cat(var_dic_list()) "
    }
   },
   "types_to_exclude": [
    "module",
    "function",
    "builtin_function_or_method",
    "instance",
    "_Feature"
   ],
   "window_display": false
  }
 },
 "nbformat": 4,
 "nbformat_minor": 2
}
