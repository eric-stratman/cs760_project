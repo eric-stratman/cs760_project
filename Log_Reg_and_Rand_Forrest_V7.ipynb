{
 "cells": [
  {
   "cell_type": "code",
   "execution_count": 1,
   "metadata": {
    "ExecuteTime": {
     "end_time": "2022-05-11T12:38:39.859349Z",
     "start_time": "2022-05-11T12:38:38.531545Z"
    }
   },
   "outputs": [],
   "source": [
    "import pandas as pd\n",
    "import numpy as np\n",
    "import random\n",
    "import copy\n",
    "import math\n",
    "from sklearn.linear_model import LinearRegression\n",
    "from sklearn.linear_model import LogisticRegression\n",
    "from sklearn.tree import DecisionTreeClassifier\n",
    "from sklearn.ensemble import RandomForestClassifier\n",
    "\n",
    "from sklearn import tree\n",
    "from sklearn import svm\n",
    "\n",
    "from sklearn import metrics\n",
    "from itertools import combinations\n",
    "\n",
    "import matplotlib.pyplot as plt\n",
    "\n",
    "plt.rcParams[\"figure.figsize\"] = (6,4)"
   ]
  },
  {
   "cell_type": "markdown",
   "metadata": {},
   "source": [
    "# Read in Data"
   ]
  },
  {
   "cell_type": "code",
   "execution_count": 2,
   "metadata": {
    "ExecuteTime": {
     "end_time": "2022-05-11T12:38:40.142894Z",
     "start_time": "2022-05-11T12:38:39.859349Z"
    }
   },
   "outputs": [],
   "source": [
    "import pandas as pd\n",
    "data = pd.ExcelFile(\"OppScrData.xlsx\")"
   ]
  },
  {
   "cell_type": "code",
   "execution_count": 3,
   "metadata": {
    "ExecuteTime": {
     "end_time": "2022-05-11T12:38:45.773754Z",
     "start_time": "2022-05-11T12:38:40.142894Z"
    }
   },
   "outputs": [],
   "source": [
    "data1 = data.parse(0)"
   ]
  },
  {
   "cell_type": "code",
   "execution_count": 4,
   "metadata": {
    "ExecuteTime": {
     "end_time": "2022-05-11T12:38:45.912844Z",
     "start_time": "2022-05-11T12:38:45.773754Z"
    }
   },
   "outputs": [],
   "source": [
    "# remove unnamed column\n",
    "for i in data1:\n",
    "    if i.startswith('Unnamed') or i.startswith('CLINICAL OUTCOMES') or i.startswith('AUTO-CT'):\n",
    "        data1.pop(i)\n",
    "    \n",
    "data1 = data1.dropna(axis = 0,how='all') # Remove Rows with All NAS"
   ]
  },
  {
   "cell_type": "markdown",
   "metadata": {
    "ExecuteTime": {
     "end_time": "2022-04-08T15:05:33.661579Z",
     "start_time": "2022-04-08T15:05:33.636688Z"
    }
   },
   "source": [
    "# Create Binary Indicators"
   ]
  },
  {
   "cell_type": "code",
   "execution_count": 5,
   "metadata": {
    "ExecuteTime": {
     "end_time": "2022-05-11T12:38:45.920745Z",
     "start_time": "2022-05-11T12:38:45.912844Z"
    }
   },
   "outputs": [],
   "source": [
    "def replace_binary_indicator(df, c1, c2, t):\n",
    "    if c2 != \"\":\n",
    "        df.loc[df.loc[:, c1:c2].any(axis=1), t] = 1\n",
    "        df.loc[~df.loc[:, c1:c2].any(axis=1), t] = 0\n",
    "        df = df.drop(df.loc[:, c1:c2], axis=1)\n",
    "    else:\n",
    "        df.loc[~df.loc[:, c1].isnull(), t] = 1\n",
    "        df.loc[df.loc[:, c1].isnull(), t] = 0\n",
    "        df = df.drop(c1, axis=1)\n",
    "    df[t] = df[t].astype(np.uint8)\n",
    "\n",
    "    return df"
   ]
  },
  {
   "cell_type": "code",
   "execution_count": 6,
   "metadata": {
    "ExecuteTime": {
     "end_time": "2022-05-11T12:38:46.016860Z",
     "start_time": "2022-05-11T12:38:45.920745Z"
    }
   },
   "outputs": [],
   "source": [
    "data2 = data1.copy()\n",
    "data2 = replace_binary_indicator(data2,\"Alcohol abuse\",\"\",\"AA_FLAG\")\n",
    "\n",
    "data2 = replace_binary_indicator(data2,\"CVD DX\",\"MI DX Date [d from CT]\",\"CARD_FLAG\")\n",
    "data2 = replace_binary_indicator(data2,\"Type 2 Diabetes DX\",\"Type 2 Diabetes DX Date [d from CT]\",\"DIA_FLAG\")\n",
    "data2 = replace_binary_indicator(data2,\"Femoral neck fracture DX\",\"Pathologic fracture DX Date [d from CT]\",\"FEM_FLAG\")\n",
    "data2 = replace_binary_indicator(data2,\"Alzheimers DX\",\"Alzheimers DX Date [d from CT]\",\"ALZ_FLAG\")\n",
    "data2 = replace_binary_indicator(data2,\"Primary Cancer Site\",\"Primary Cancer Site 2 Dx [d from CT]\",\"CANCER_FLAG\")\n",
    "\n",
    "data2[\"OUTCOME_FLAGS\"] = data2.loc[:,\"CARD_FLAG\":\"CANCER_FLAG\"].sum(axis = 1)\n",
    "data2[\"OUTCOME_FLAGS\"] = pd.Categorical(data2[\"OUTCOME_FLAGS\"])\n",
    "\n",
    "data2 = replace_binary_indicator(data2,\"DEATH [d from CT]\",\"\",\"DEATH_FLAG\")\n",
    "data2\n",
    "\n",
    "# We do a reshuffle to \"AA_Flag\" is next to the other clinical data\n",
    "data2 = pd.concat([data2.loc[:,\"Record ID\":\"Met Sx\"],data2.loc[:,\"AA_FLAG\"],data2.loc[:,\"L1_HU_BMD\":\"Liver HU    (Median)\"],data2.loc[:,\"CARD_FLAG\":\"DEATH_FLAG\"]], axis = 1)"
   ]
  },
  {
   "cell_type": "markdown",
   "metadata": {},
   "source": [
    "# Create Column Index"
   ]
  },
  {
   "cell_type": "code",
   "execution_count": 7,
   "metadata": {
    "ExecuteTime": {
     "end_time": "2022-05-11T12:38:46.024723Z",
     "start_time": "2022-05-11T12:38:46.016860Z"
    }
   },
   "outputs": [],
   "source": [
    "# define a lookup table for the column\n",
    "columns = {\n",
    "    0: \"Record ID\",\n",
    "    1: \"Visit ID\",\n",
    "    2: \"PT ID\",\n",
    "    3: \"Clinical F/U interval  [d from CT]\",\n",
    "    4: \"BMI\",\n",
    "    5: \"BMI >30\",\n",
    "    6: \"Sex\",\n",
    "    7: \"Age at CT\",\n",
    "    8: \"Tobacco\",\n",
    "    9: \"FRS 10-year risk (%)\",\n",
    "    10: \"FRAX 10y Fx Prob (Orange-w/ DXA)\",\n",
    "    11: \"FRAX 10y Hip Fx Prob (Orange-w/ DXA)\",\n",
    "    12: \"Met Sx\",\n",
    "    13: \"AA_FLAG\",\n",
    "    14: \"L1_HU_BMD\",\n",
    "    15: \"TAT Area (cm2)\",\n",
    "    16: \"Total Body                Area EA (cm2)\",\n",
    "    17: \"VAT Area (cm2)\",\n",
    "    18: \"SAT Area (cm2)\",\n",
    "    19: \"VAT/SAT     Ratio\",\n",
    "    20: \"Muscle HU\",\n",
    "    21: \" Muscle Area (cm2)\",\n",
    "    22: \"L3 SMI (cm2/m2)\",\n",
    "    23: \"AoCa        Agatston\",\n",
    "    24: \"Liver HU    (Median)\",\n",
    "    25: \"CARD_FLAG\",\n",
    "    26: \"DIA_FLAG\",\n",
    "    27: \"FEM_FLAG\",\n",
    "    28: \"ALZ_FLAG\",\n",
    "    29: \"CANCER_FLAG\",\n",
    "    30: \"OUTCOME_FLAGS\",\n",
    "    31: \"DEATH_FLAG\",\n",
    "}\n",
    "\n",
    "# define different groups of column\n",
    "clinical_data_columns = {i: columns[i] for i in range(14)}\n",
    "CT_data = {i: columns[i] for i in range(14, 25)}\n",
    "clinical_outcome_columns = {i: columns[i] for i in range(25, 32)}"
   ]
  },
  {
   "cell_type": "code",
   "execution_count": 8,
   "metadata": {
    "ExecuteTime": {
     "end_time": "2022-05-11T12:38:46.040723Z",
     "start_time": "2022-05-11T12:38:46.024723Z"
    }
   },
   "outputs": [
    {
     "name": "stdout",
     "output_type": "stream",
     "text": [
      "Record ID has 0 repeated ID\n",
      "Visit ID has 0 repeated ID\n",
      "PT ID has 0 repeated ID\n"
     ]
    }
   ],
   "source": [
    "# check if there is repeat ID\n",
    "for i in range(3):\n",
    "    column_name = columns[i]\n",
    "    unique_id = data2[column_name].unique()\n",
    "    print(\n",
    "        f'{column_name} has {len(data1[column_name])-len(unique_id)} repeated ID'\n",
    "    )"
   ]
  },
  {
   "cell_type": "markdown",
   "metadata": {},
   "source": [
    "# Visualize Data CT Data"
   ]
  },
  {
   "cell_type": "code",
   "execution_count": 9,
   "metadata": {
    "ExecuteTime": {
     "end_time": "2022-05-11T12:38:46.048721Z",
     "start_time": "2022-05-11T12:38:46.040723Z"
    }
   },
   "outputs": [],
   "source": [
    "\n",
    "\n",
    "\n",
    "def removenan(a, sorting=True):\n",
    "    nums = []\n",
    "    strs = []\n",
    "    for aa in list(a):\n",
    "        if not pd.isna(aa):\n",
    "            if type(aa) == str:\n",
    "                strs.append(aa)\n",
    "            else:\n",
    "                nums.append(aa)\n",
    "    type_string = False\n",
    "    if len(nums) < len(strs):\n",
    "        type_string = True\n",
    "\n",
    "    result = []\n",
    "    missing = []\n",
    "    special = []\n",
    "\n",
    "    for value in list(a):\n",
    "        if not pd.isna(value):\n",
    "            if (type(value) != str) and type_string == True:\n",
    "                special.append(value)\n",
    "            elif (type(value) == str) and type_string != True:\n",
    "                special.append(value)\n",
    "            else:\n",
    "                result.append(value)\n",
    "        else:\n",
    "            missing.append(value)\n",
    "    if sorting:\n",
    "        result.sort()\n",
    "    return result, missing, special"
   ]
  },
  {
   "cell_type": "markdown",
   "metadata": {
    "ExecuteTime": {
     "end_time": "2022-05-10T20:10:20.123560Z",
     "start_time": "2022-05-10T20:10:20.107893Z"
    }
   },
   "source": [
    "## Visualize CT Data"
   ]
  },
  {
   "cell_type": "code",
   "execution_count": 10,
   "metadata": {
    "ExecuteTime": {
     "end_time": "2022-05-11T12:38:47.546686Z",
     "start_time": "2022-05-11T12:38:46.048721Z"
    }
   },
   "outputs": [
    {
     "name": "stdout",
     "output_type": "stream",
     "text": [
      "L1_HU_BMD has 47 missing entries\n",
      "L1_HU_BMD has 0 special entries set()\n"
     ]
    },
    {
     "data": {
      "image/png": "[encoded data removed]",
      "text/plain": [
       "<Figure size 432x288 with 1 Axes>"
      ]
     },
     "metadata": {
      "needs_background": "light"
     },
     "output_type": "display_data"
    },
    {
     "name": "stdout",
     "output_type": "stream",
     "text": [
      "TAT Area (cm2) has 132 missing entries\n",
      "TAT Area (cm2) has 0 special entries set()\n"
     ]
    },
    {
     "data": {
      "image/png": "[encoded data removed]",
      "text/plain": [
       "<Figure size 432x288 with 1 Axes>"
      ]
     },
     "metadata": {
      "needs_background": "light"
     },
     "output_type": "display_data"
    },
    {
     "name": "stdout",
     "output_type": "stream",
     "text": [
      "Total Body                Area EA (cm2) has 132 missing entries\n",
      "Total Body                Area EA (cm2) has 0 special entries set()\n"
     ]
    },
    {
     "data": {
      "image/png": "[encoded data removed]",
      "text/plain": [
       "<Figure size 432x288 with 1 Axes>"
      ]
     },
     "metadata": {
      "needs_background": "light"
     },
     "output_type": "display_data"
    },
    {
     "name": "stdout",
     "output_type": "stream",
     "text": [
      "VAT Area (cm2) has 132 missing entries\n",
      "VAT Area (cm2) has 0 special entries set()\n"
     ]
    },
    {
     "data": {
      "image/png": "[encoded data removed]",
      "text/plain": [
       "<Figure size 432x288 with 1 Axes>"
      ]
     },
     "metadata": {
      "needs_background": "light"
     },
     "output_type": "display_data"
    },
    {
     "name": "stdout",
     "output_type": "stream",
     "text": [
      "SAT Area (cm2) has 132 missing entries\n",
      "SAT Area (cm2) has 0 special entries set()\n"
     ]
    },
    {
     "data": {
      "image/png": "[encoded data removed]",
      "text/plain": [
       "<Figure size 432x288 with 1 Axes>"
      ]
     },
     "metadata": {
      "needs_background": "light"
     },
     "output_type": "display_data"
    },
    {
     "name": "stdout",
     "output_type": "stream",
     "text": [
      "VAT/SAT     Ratio has 133 missing entries\n",
      "VAT/SAT     Ratio has 0 special entries set()\n"
     ]
    },
    {
     "data": {
      "image/png": "[encoded data removed]",
      "text/plain": [
       "<Figure size 432x288 with 1 Axes>"
      ]
     },
     "metadata": {
      "needs_background": "light"
     },
     "output_type": "display_data"
    },
    {
     "name": "stdout",
     "output_type": "stream",
     "text": [
      "Muscle HU has 28 missing entries\n",
      "Muscle HU has 0 special entries set()\n"
     ]
    },
    {
     "data": {
      "image/png": "[encoded data removed]",
      "text/plain": [
       "<Figure size 432x288 with 1 Axes>"
      ]
     },
     "metadata": {
      "needs_background": "light"
     },
     "output_type": "display_data"
    },
    {
     "name": "stdout",
     "output_type": "stream",
     "text": [
      " Muscle Area (cm2) has 28 missing entries\n",
      " Muscle Area (cm2) has 0 special entries set()\n"
     ]
    },
    {
     "data": {
      "image/png": "[encoded data removed]",
      "text/plain": [
       "<Figure size 432x288 with 1 Axes>"
      ]
     },
     "metadata": {
      "needs_background": "light"
     },
     "output_type": "display_data"
    },
    {
     "name": "stdout",
     "output_type": "stream",
     "text": [
      "L3 SMI (cm2/m2) has 152 missing entries\n",
      "L3 SMI (cm2/m2) has 0 special entries set()\n"
     ]
    },
    {
     "data": {
      "image/png": "[encoded data removed]",
      "text/plain": [
       "<Figure size 432x288 with 1 Axes>"
      ]
     },
     "metadata": {
      "needs_background": "light"
     },
     "output_type": "display_data"
    },
    {
     "name": "stdout",
     "output_type": "stream",
     "text": [
      "AoCa        Agatston has 1 missing entries\n",
      "AoCa        Agatston has 0 special entries set()\n"
     ]
    },
    {
     "data": {
      "image/png": "[encoded data removed]",
      "text/plain": [
       "<Figure size 432x288 with 1 Axes>"
      ]
     },
     "metadata": {
      "needs_background": "light"
     },
     "output_type": "display_data"
    },
    {
     "name": "stdout",
     "output_type": "stream",
     "text": [
      "Liver HU    (Median) has 47 missing entries\n",
      "Liver HU    (Median) has 27 special entries {' '}\n"
     ]
    },
    {
     "data": {
      "image/png": "[encoded data removed]",
      "text/plain": [
       "<Figure size 432x288 with 1 Axes>"
      ]
     },
     "metadata": {
      "needs_background": "light"
     },
     "output_type": "display_data"
    }
   ],
   "source": [
    "for i in range(14, 25):\n",
    "    column_name = columns[i]\n",
    "    result, missing, special = removenan(data2[column_name])\n",
    "    print(f'{column_name} has {len(missing)} missing entries')\n",
    "    print(f'{column_name} has {len(special)} special entries', set(special))\n",
    "    plt.hist(result)\n",
    "    plt.show()"
   ]
  },
  {
   "cell_type": "markdown",
   "metadata": {
    "ExecuteTime": {
     "end_time": "2022-05-10T19:30:49.776723Z",
     "start_time": "2022-05-10T19:30:49.755987Z"
    }
   },
   "source": [
    "## Visualize Clinical"
   ]
  },
  {
   "cell_type": "code",
   "execution_count": 11,
   "metadata": {
    "ExecuteTime": {
     "end_time": "2022-05-11T12:38:48.908074Z",
     "start_time": "2022-05-11T12:38:47.546686Z"
    }
   },
   "outputs": [
    {
     "name": "stdout",
     "output_type": "stream",
     "text": [
      "Clinical F/U interval  [d from CT] has 0 missing entries\n",
      "Clinical F/U interval  [d from CT] has 0 special entries set()\n"
     ]
    },
    {
     "data": {
      "image/png": "[encoded data removed]",
      "text/plain": [
       "<Figure size 432x288 with 1 Axes>"
      ]
     },
     "metadata": {
      "needs_background": "light"
     },
     "output_type": "display_data"
    },
    {
     "name": "stdout",
     "output_type": "stream",
     "text": [
      "BMI has 123 missing entries\n",
      "BMI has 0 special entries set()\n"
     ]
    },
    {
     "data": {
      "image/png": "[encoded data removed]",
      "text/plain": [
       "<Figure size 432x288 with 1 Axes>"
      ]
     },
     "metadata": {
      "needs_background": "light"
     },
     "output_type": "display_data"
    },
    {
     "name": "stdout",
     "output_type": "stream",
     "text": [
      "BMI >30 has 123 missing entries\n",
      "BMI >30 has 0 special entries set()\n"
     ]
    },
    {
     "data": {
      "image/png": "[encoded data removed]",
      "text/plain": [
       "<Figure size 432x288 with 1 Axes>"
      ]
     },
     "metadata": {
      "needs_background": "light"
     },
     "output_type": "display_data"
    },
    {
     "name": "stdout",
     "output_type": "stream",
     "text": [
      "Sex has 0 missing entries\n",
      "Sex has 0 special entries set()\n"
     ]
    },
    {
     "data": {
      "image/png": "[encoded data removed]",
      "text/plain": [
       "<Figure size 432x288 with 1 Axes>"
      ]
     },
     "metadata": {
      "needs_background": "light"
     },
     "output_type": "display_data"
    },
    {
     "name": "stdout",
     "output_type": "stream",
     "text": [
      "Age at CT has 0 missing entries\n",
      "Age at CT has 0 special entries set()\n"
     ]
    },
    {
     "data": {
      "image/png": "[encoded data removed]",
      "text/plain": [
       "<Figure size 432x288 with 1 Axes>"
      ]
     },
     "metadata": {
      "needs_background": "light"
     },
     "output_type": "display_data"
    },
    {
     "name": "stdout",
     "output_type": "stream",
     "text": [
      "Tobacco has 608 missing entries\n",
      "Tobacco has 0 special entries set()\n"
     ]
    },
    {
     "data": {
      "image/png": "[encoded data removed]",
      "text/plain": [
       "<Figure size 432x288 with 1 Axes>"
      ]
     },
     "metadata": {
      "needs_background": "light"
     },
     "output_type": "display_data"
    },
    {
     "name": "stdout",
     "output_type": "stream",
     "text": [
      "FRS 10-year risk (%) has 0 missing entries\n",
      "FRS 10-year risk (%) has 2516 special entries {'X', '<1%', '>30%'}\n"
     ]
    },
    {
     "data": {
      "image/png": "[encoded data removed]",
      "text/plain": [
       "<Figure size 432x288 with 1 Axes>"
      ]
     },
     "metadata": {
      "needs_background": "light"
     },
     "output_type": "display_data"
    },
    {
     "name": "stdout",
     "output_type": "stream",
     "text": [
      "FRAX 10y Fx Prob (Orange-w/ DXA) has 0 missing entries\n",
      "FRAX 10y Fx Prob (Orange-w/ DXA) has 123 special entries {'_'}\n"
     ]
    },
    {
     "data": {
      "image/png": "[encoded data removed]",
      "text/plain": [
       "<Figure size 432x288 with 1 Axes>"
      ]
     },
     "metadata": {
      "needs_background": "light"
     },
     "output_type": "display_data"
    },
    {
     "name": "stdout",
     "output_type": "stream",
     "text": [
      "FRAX 10y Hip Fx Prob (Orange-w/ DXA) has 0 missing entries\n",
      "FRAX 10y Hip Fx Prob (Orange-w/ DXA) has 123 special entries {'_'}\n"
     ]
    },
    {
     "data": {
      "image/png": "[encoded data removed]",
      "text/plain": [
       "<Figure size 432x288 with 1 Axes>"
      ]
     },
     "metadata": {
      "needs_background": "light"
     },
     "output_type": "display_data"
    },
    {
     "name": "stdout",
     "output_type": "stream",
     "text": [
      "Met Sx has 1438 missing entries\n",
      "Met Sx has 0 special entries set()\n"
     ]
    },
    {
     "data": {
      "image/png": "[encoded data removed]",
      "text/plain": [
       "<Figure size 432x288 with 1 Axes>"
      ]
     },
     "metadata": {
      "needs_background": "light"
     },
     "output_type": "display_data"
    },
    {
     "name": "stdout",
     "output_type": "stream",
     "text": [
      "AA_FLAG has 0 missing entries\n",
      "AA_FLAG has 0 special entries set()\n"
     ]
    },
    {
     "data": {
      "image/png": "[encoded data removed]",
      "text/plain": [
       "<Figure size 432x288 with 1 Axes>"
      ]
     },
     "metadata": {
      "needs_background": "light"
     },
     "output_type": "display_data"
    }
   ],
   "source": [
    "for i in range(3, 14):\n",
    "    column_name = columns[i]\n",
    "    result, missing, special = removenan(data2[column_name])\n",
    "    print(f'{column_name} has {len(missing)} missing entries')\n",
    "    print(f'{column_name} has {len(special)} special entries', set(special))\n",
    "    plt.hist(result)\n",
    "    plt.show()"
   ]
  },
  {
   "cell_type": "markdown",
   "metadata": {},
   "source": [
    "## Visualize Outcomes"
   ]
  },
  {
   "cell_type": "code",
   "execution_count": 12,
   "metadata": {
    "ExecuteTime": {
     "end_time": "2022-05-11T12:38:49.803168Z",
     "start_time": "2022-05-11T12:38:48.908074Z"
    }
   },
   "outputs": [
    {
     "name": "stdout",
     "output_type": "stream",
     "text": [
      "CARD_FLAG has 0 missing entries\n",
      "CARD_FLAG has 0 special entries set()\n"
     ]
    },
    {
     "data": {
      "image/png": "[encoded data removed]",
      "text/plain": [
       "<Figure size 432x288 with 1 Axes>"
      ]
     },
     "metadata": {
      "needs_background": "light"
     },
     "output_type": "display_data"
    },
    {
     "name": "stdout",
     "output_type": "stream",
     "text": [
      "DIA_FLAG has 0 missing entries\n",
      "DIA_FLAG has 0 special entries set()\n"
     ]
    },
    {
     "data": {
      "image/png": "[encoded data removed]",
      "text/plain": [
       "<Figure size 432x288 with 1 Axes>"
      ]
     },
     "metadata": {
      "needs_background": "light"
     },
     "output_type": "display_data"
    },
    {
     "name": "stdout",
     "output_type": "stream",
     "text": [
      "FEM_FLAG has 0 missing entries\n",
      "FEM_FLAG has 0 special entries set()\n"
     ]
    },
    {
     "data": {
      "image/png": "[encoded data removed]",
      "text/plain": [
       "<Figure size 432x288 with 1 Axes>"
      ]
     },
     "metadata": {
      "needs_background": "light"
     },
     "output_type": "display_data"
    },
    {
     "name": "stdout",
     "output_type": "stream",
     "text": [
      "ALZ_FLAG has 0 missing entries\n",
      "ALZ_FLAG has 0 special entries set()\n"
     ]
    },
    {
     "data": {
      "image/png": "[encoded data removed]",
      "text/plain": [
       "<Figure size 432x288 with 1 Axes>"
      ]
     },
     "metadata": {
      "needs_background": "light"
     },
     "output_type": "display_data"
    },
    {
     "name": "stdout",
     "output_type": "stream",
     "text": [
      "CANCER_FLAG has 0 missing entries\n",
      "CANCER_FLAG has 0 special entries set()\n"
     ]
    },
    {
     "data": {
      "image/png": "[encoded data removed]",
      "text/plain": [
       "<Figure size 432x288 with 1 Axes>"
      ]
     },
     "metadata": {
      "needs_background": "light"
     },
     "output_type": "display_data"
    },
    {
     "name": "stdout",
     "output_type": "stream",
     "text": [
      "OUTCOME_FLAGS has 0 missing entries\n",
      "OUTCOME_FLAGS has 0 special entries set()\n"
     ]
    },
    {
     "data": {
      "image/png": "[encoded data removed]",
      "text/plain": [
       "<Figure size 432x288 with 1 Axes>"
      ]
     },
     "metadata": {
      "needs_background": "light"
     },
     "output_type": "display_data"
    },
    {
     "name": "stdout",
     "output_type": "stream",
     "text": [
      "DEATH_FLAG has 0 missing entries\n",
      "DEATH_FLAG has 0 special entries set()\n"
     ]
    },
    {
     "data": {
      "image/png": "[encoded data removed]",
      "text/plain": [
       "<Figure size 432x288 with 1 Axes>"
      ]
     },
     "metadata": {
      "needs_background": "light"
     },
     "output_type": "display_data"
    }
   ],
   "source": [
    "for i in range(25, 32):\n",
    "    column_name = columns[i]\n",
    "    result, missing, special = removenan(data2[column_name])\n",
    "    print(f'{column_name} has {len(missing)} missing entries')\n",
    "    print(f'{column_name} has {len(special)} special entries', set(special))\n",
    "    plt.hist(result)\n",
    "    plt.show()"
   ]
  },
  {
   "cell_type": "markdown",
   "metadata": {},
   "source": [
    "# Data Cleaning"
   ]
  },
  {
   "cell_type": "markdown",
   "metadata": {},
   "source": [
    "## Assign Fold"
   ]
  },
  {
   "cell_type": "code",
   "execution_count": 13,
   "metadata": {
    "ExecuteTime": {
     "end_time": "2022-05-11T12:38:49.851198Z",
     "start_time": "2022-05-11T12:38:49.803168Z"
    }
   },
   "outputs": [
    {
     "data": {
      "text/html": [
       "<div>\n",
       "<style scoped>\n",
       "    .dataframe tbody tr th:only-of-type {\n",
       "        vertical-align: middle;\n",
       "    }\n",
       "\n",
       "    .dataframe tbody tr th {\n",
       "        vertical-align: top;\n",
       "    }\n",
       "\n",
       "    .dataframe thead th {\n",
       "        text-align: right;\n",
       "    }\n",
       "</style>\n",
       "<table border=\"1\" class=\"dataframe\">\n",
       "  <thead>\n",
       "    <tr style=\"text-align: right;\">\n",
       "      <th></th>\n",
       "      <th>index</th>\n",
       "      <th>Record ID</th>\n",
       "      <th>Visit ID</th>\n",
       "      <th>PT ID</th>\n",
       "      <th>Clinical F/U interval  [d from CT]</th>\n",
       "      <th>BMI</th>\n",
       "      <th>BMI &gt;30</th>\n",
       "      <th>Sex</th>\n",
       "      <th>Age at CT</th>\n",
       "      <th>Tobacco</th>\n",
       "      <th>...</th>\n",
       "      <th>AoCa        Agatston</th>\n",
       "      <th>Liver HU    (Median)</th>\n",
       "      <th>CARD_FLAG</th>\n",
       "      <th>DIA_FLAG</th>\n",
       "      <th>FEM_FLAG</th>\n",
       "      <th>ALZ_FLAG</th>\n",
       "      <th>CANCER_FLAG</th>\n",
       "      <th>OUTCOME_FLAGS</th>\n",
       "      <th>DEATH_FLAG</th>\n",
       "      <th>Fold</th>\n",
       "    </tr>\n",
       "  </thead>\n",
       "  <tbody>\n",
       "    <tr>\n",
       "      <th>0</th>\n",
       "      <td>4989</td>\n",
       "      <td>5541.0</td>\n",
       "      <td>1545.0</td>\n",
       "      <td>5017.0</td>\n",
       "      <td>4920.0</td>\n",
       "      <td>24.6</td>\n",
       "      <td>N</td>\n",
       "      <td>Female</td>\n",
       "      <td>54.0</td>\n",
       "      <td>No</td>\n",
       "      <td>...</td>\n",
       "      <td>22.135</td>\n",
       "      <td>59</td>\n",
       "      <td>0</td>\n",
       "      <td>0</td>\n",
       "      <td>0</td>\n",
       "      <td>0</td>\n",
       "      <td>0</td>\n",
       "      <td>0</td>\n",
       "      <td>0</td>\n",
       "      <td>0</td>\n",
       "    </tr>\n",
       "    <tr>\n",
       "      <th>1</th>\n",
       "      <td>5056</td>\n",
       "      <td>265.0</td>\n",
       "      <td>1775.0</td>\n",
       "      <td>1695.0</td>\n",
       "      <td>4769.0</td>\n",
       "      <td>49.6</td>\n",
       "      <td>Y</td>\n",
       "      <td>Female</td>\n",
       "      <td>44.0</td>\n",
       "      <td>Yes</td>\n",
       "      <td>...</td>\n",
       "      <td>0.000</td>\n",
       "      <td>50</td>\n",
       "      <td>0</td>\n",
       "      <td>1</td>\n",
       "      <td>0</td>\n",
       "      <td>0</td>\n",
       "      <td>0</td>\n",
       "      <td>1</td>\n",
       "      <td>0</td>\n",
       "      <td>1</td>\n",
       "    </tr>\n",
       "    <tr>\n",
       "      <th>2</th>\n",
       "      <td>1185</td>\n",
       "      <td>5523.0</td>\n",
       "      <td>1619.0</td>\n",
       "      <td>5005.0</td>\n",
       "      <td>4997.0</td>\n",
       "      <td>29.0</td>\n",
       "      <td>N</td>\n",
       "      <td>Female</td>\n",
       "      <td>60.0</td>\n",
       "      <td>Yes</td>\n",
       "      <td>...</td>\n",
       "      <td>4104.547</td>\n",
       "      <td>56</td>\n",
       "      <td>0</td>\n",
       "      <td>1</td>\n",
       "      <td>0</td>\n",
       "      <td>0</td>\n",
       "      <td>0</td>\n",
       "      <td>1</td>\n",
       "      <td>0</td>\n",
       "      <td>2</td>\n",
       "    </tr>\n",
       "    <tr>\n",
       "      <th>3</th>\n",
       "      <td>1038</td>\n",
       "      <td>9061.0</td>\n",
       "      <td>1408.0</td>\n",
       "      <td>402.0</td>\n",
       "      <td>5033.0</td>\n",
       "      <td>30.9</td>\n",
       "      <td>Y</td>\n",
       "      <td>Male</td>\n",
       "      <td>49.0</td>\n",
       "      <td>No</td>\n",
       "      <td>...</td>\n",
       "      <td>10.547</td>\n",
       "      <td>62</td>\n",
       "      <td>0</td>\n",
       "      <td>1</td>\n",
       "      <td>0</td>\n",
       "      <td>0</td>\n",
       "      <td>0</td>\n",
       "      <td>1</td>\n",
       "      <td>0</td>\n",
       "      <td>3</td>\n",
       "    </tr>\n",
       "    <tr>\n",
       "      <th>4</th>\n",
       "      <td>2248</td>\n",
       "      <td>2154.0</td>\n",
       "      <td>3116.0</td>\n",
       "      <td>2860.0</td>\n",
       "      <td>4146.0</td>\n",
       "      <td>36.1</td>\n",
       "      <td>Y</td>\n",
       "      <td>Male</td>\n",
       "      <td>50.0</td>\n",
       "      <td>Yes</td>\n",
       "      <td>...</td>\n",
       "      <td>1489.296</td>\n",
       "      <td>62</td>\n",
       "      <td>0</td>\n",
       "      <td>1</td>\n",
       "      <td>0</td>\n",
       "      <td>0</td>\n",
       "      <td>0</td>\n",
       "      <td>1</td>\n",
       "      <td>0</td>\n",
       "      <td>4</td>\n",
       "    </tr>\n",
       "    <tr>\n",
       "      <th>...</th>\n",
       "      <td>...</td>\n",
       "      <td>...</td>\n",
       "      <td>...</td>\n",
       "      <td>...</td>\n",
       "      <td>...</td>\n",
       "      <td>...</td>\n",
       "      <td>...</td>\n",
       "      <td>...</td>\n",
       "      <td>...</td>\n",
       "      <td>...</td>\n",
       "      <td>...</td>\n",
       "      <td>...</td>\n",
       "      <td>...</td>\n",
       "      <td>...</td>\n",
       "      <td>...</td>\n",
       "      <td>...</td>\n",
       "      <td>...</td>\n",
       "      <td>...</td>\n",
       "      <td>...</td>\n",
       "      <td>...</td>\n",
       "      <td>...</td>\n",
       "    </tr>\n",
       "    <tr>\n",
       "      <th>9218</th>\n",
       "      <td>3562</td>\n",
       "      <td>2834.0</td>\n",
       "      <td>5064.0</td>\n",
       "      <td>3301.0</td>\n",
       "      <td>2401.0</td>\n",
       "      <td>26.6</td>\n",
       "      <td>N</td>\n",
       "      <td>Female</td>\n",
       "      <td>88.0</td>\n",
       "      <td>No</td>\n",
       "      <td>...</td>\n",
       "      <td>3470.794</td>\n",
       "      <td>56</td>\n",
       "      <td>1</td>\n",
       "      <td>0</td>\n",
       "      <td>0</td>\n",
       "      <td>0</td>\n",
       "      <td>0</td>\n",
       "      <td>1</td>\n",
       "      <td>1</td>\n",
       "      <td>3</td>\n",
       "    </tr>\n",
       "    <tr>\n",
       "      <th>9219</th>\n",
       "      <td>5586</td>\n",
       "      <td>4828.0</td>\n",
       "      <td>3972.0</td>\n",
       "      <td>4537.0</td>\n",
       "      <td>1122.0</td>\n",
       "      <td>30.0</td>\n",
       "      <td>Y</td>\n",
       "      <td>Female</td>\n",
       "      <td>62.0</td>\n",
       "      <td>Yes</td>\n",
       "      <td>...</td>\n",
       "      <td>11247.418</td>\n",
       "      <td>65</td>\n",
       "      <td>1</td>\n",
       "      <td>0</td>\n",
       "      <td>0</td>\n",
       "      <td>0</td>\n",
       "      <td>0</td>\n",
       "      <td>1</td>\n",
       "      <td>1</td>\n",
       "      <td>4</td>\n",
       "    </tr>\n",
       "    <tr>\n",
       "      <th>9220</th>\n",
       "      <td>241</td>\n",
       "      <td>1936.0</td>\n",
       "      <td>492.0</td>\n",
       "      <td>2718.0</td>\n",
       "      <td>584.0</td>\n",
       "      <td>23.3</td>\n",
       "      <td>N</td>\n",
       "      <td>Male</td>\n",
       "      <td>83.0</td>\n",
       "      <td>NaN</td>\n",
       "      <td>...</td>\n",
       "      <td>3856.201</td>\n",
       "      <td>48</td>\n",
       "      <td>1</td>\n",
       "      <td>0</td>\n",
       "      <td>0</td>\n",
       "      <td>0</td>\n",
       "      <td>0</td>\n",
       "      <td>1</td>\n",
       "      <td>1</td>\n",
       "      <td>0</td>\n",
       "    </tr>\n",
       "    <tr>\n",
       "      <th>9221</th>\n",
       "      <td>612</td>\n",
       "      <td>683.0</td>\n",
       "      <td>382.0</td>\n",
       "      <td>1949.0</td>\n",
       "      <td>3937.0</td>\n",
       "      <td>28.4</td>\n",
       "      <td>N</td>\n",
       "      <td>Male</td>\n",
       "      <td>64.0</td>\n",
       "      <td>No</td>\n",
       "      <td>...</td>\n",
       "      <td>0.000</td>\n",
       "      <td>56</td>\n",
       "      <td>1</td>\n",
       "      <td>0</td>\n",
       "      <td>0</td>\n",
       "      <td>0</td>\n",
       "      <td>0</td>\n",
       "      <td>1</td>\n",
       "      <td>1</td>\n",
       "      <td>1</td>\n",
       "    </tr>\n",
       "    <tr>\n",
       "      <th>9222</th>\n",
       "      <td>5879</td>\n",
       "      <td>7058.0</td>\n",
       "      <td>5156.0</td>\n",
       "      <td>6098.0</td>\n",
       "      <td>3530.0</td>\n",
       "      <td>26.6</td>\n",
       "      <td>N</td>\n",
       "      <td>Male</td>\n",
       "      <td>51.0</td>\n",
       "      <td>Yes</td>\n",
       "      <td>...</td>\n",
       "      <td>2637.708</td>\n",
       "      <td>59</td>\n",
       "      <td>0</td>\n",
       "      <td>0</td>\n",
       "      <td>0</td>\n",
       "      <td>0</td>\n",
       "      <td>0</td>\n",
       "      <td>0</td>\n",
       "      <td>1</td>\n",
       "      <td>2</td>\n",
       "    </tr>\n",
       "  </tbody>\n",
       "</table>\n",
       "<p>9223 rows × 34 columns</p>\n",
       "</div>"
      ],
      "text/plain": [
       "      index  Record ID  Visit ID   PT ID  Clinical F/U interval  [d from CT]  \\\n",
       "0      4989     5541.0    1545.0  5017.0                              4920.0   \n",
       "1      5056      265.0    1775.0  1695.0                              4769.0   \n",
       "2      1185     5523.0    1619.0  5005.0                              4997.0   \n",
       "3      1038     9061.0    1408.0   402.0                              5033.0   \n",
       "4      2248     2154.0    3116.0  2860.0                              4146.0   \n",
       "...     ...        ...       ...     ...                                 ...   \n",
       "9218   3562     2834.0    5064.0  3301.0                              2401.0   \n",
       "9219   5586     4828.0    3972.0  4537.0                              1122.0   \n",
       "9220    241     1936.0     492.0  2718.0                               584.0   \n",
       "9221    612      683.0     382.0  1949.0                              3937.0   \n",
       "9222   5879     7058.0    5156.0  6098.0                              3530.0   \n",
       "\n",
       "       BMI BMI >30     Sex  Age at CT Tobacco  ... AoCa        Agatston  \\\n",
       "0     24.6       N  Female       54.0      No  ...               22.135   \n",
       "1     49.6       Y  Female       44.0     Yes  ...                0.000   \n",
       "2     29.0       N  Female       60.0     Yes  ...             4104.547   \n",
       "3     30.9       Y    Male       49.0      No  ...               10.547   \n",
       "4     36.1       Y    Male       50.0     Yes  ...             1489.296   \n",
       "...    ...     ...     ...        ...     ...  ...                  ...   \n",
       "9218  26.6       N  Female       88.0      No  ...             3470.794   \n",
       "9219  30.0       Y  Female       62.0     Yes  ...            11247.418   \n",
       "9220  23.3       N    Male       83.0     NaN  ...             3856.201   \n",
       "9221  28.4       N    Male       64.0      No  ...                0.000   \n",
       "9222  26.6       N    Male       51.0     Yes  ...             2637.708   \n",
       "\n",
       "     Liver HU    (Median) CARD_FLAG DIA_FLAG  FEM_FLAG  ALZ_FLAG  CANCER_FLAG  \\\n",
       "0                      59         0        0         0         0            0   \n",
       "1                      50         0        1         0         0            0   \n",
       "2                      56         0        1         0         0            0   \n",
       "3                      62         0        1         0         0            0   \n",
       "4                      62         0        1         0         0            0   \n",
       "...                   ...       ...      ...       ...       ...          ...   \n",
       "9218                   56         1        0         0         0            0   \n",
       "9219                   65         1        0         0         0            0   \n",
       "9220                   48         1        0         0         0            0   \n",
       "9221                   56         1        0         0         0            0   \n",
       "9222                   59         0        0         0         0            0   \n",
       "\n",
       "      OUTCOME_FLAGS  DEATH_FLAG  Fold  \n",
       "0                 0           0     0  \n",
       "1                 1           0     1  \n",
       "2                 1           0     2  \n",
       "3                 1           0     3  \n",
       "4                 1           0     4  \n",
       "...             ...         ...   ...  \n",
       "9218              1           1     3  \n",
       "9219              1           1     4  \n",
       "9220              1           1     0  \n",
       "9221              1           1     1  \n",
       "9222              0           1     2  \n",
       "\n",
       "[9223 rows x 34 columns]"
      ]
     },
     "execution_count": 13,
     "metadata": {},
     "output_type": "execute_result"
    }
   ],
   "source": [
    "# Aproxx Equal Outcomes in Each Fold\n",
    "Folds = 5\n",
    "random.seed(1)\n",
    "data2 = data2.sample(frac=1)\n",
    "data2 = data2.sort_values([\"CARD_FLAG\",\"DIA_FLAG\",\"FEM_FLAG\",\"ALZ_FLAG\",\"CANCER_FLAG\",\"DEATH_FLAG\"]) \n",
    "data2 = data2.sort_values(\"DEATH_FLAG\")\n",
    "data2 = data2.reset_index() \n",
    "data2[\"Fold\"] =  data2.index % Folds\n",
    "data2"
   ]
  },
  {
   "cell_type": "markdown",
   "metadata": {
    "ExecuteTime": {
     "end_time": "2022-05-10T20:15:59.869469Z",
     "start_time": "2022-05-10T20:15:59.842241Z"
    }
   },
   "source": [
    "## CT Cleaning"
   ]
  },
  {
   "cell_type": "code",
   "execution_count": 14,
   "metadata": {
    "ExecuteTime": {
     "end_time": "2022-05-11T12:38:49.859168Z",
     "start_time": "2022-05-11T12:38:49.851198Z"
    }
   },
   "outputs": [],
   "source": [
    "bone_measures = [\"L1_HU_BMD\"]\n",
    "\n",
    "fat_measures = [\"TAT Area (cm2)\",\"Total Body                Area EA (cm2)\", \"VAT Area (cm2)\", \"SAT Area (cm2)\", \"VAT/SAT     Ratio\" ]\n",
    "\n",
    "muscle_measures = [\"Muscle HU\", \" Muscle Area (cm2)\", \"L3 SMI (cm2/m2)\"]\n",
    "\n",
    "aortic_measures = [\"AoCa        Agatston\"]\n",
    "\n",
    "liver_measures = [\"Liver HU    (Median)\"]\n",
    "\n",
    "measures = [bone_measures,fat_measures,muscle_measures,aortic_measures,liver_measures]\n",
    "measures_all = bone_measures + fat_measures + muscle_measures + aortic_measures + liver_measures\n",
    "\n",
    "\n",
    "clinical_measures = [\"Clinical F/U interval  [d from CT]\", \"BMI\", \"BMI >30\", \"Sex\", \"Age at CT\", \"Tobacco\", \"FRS 10-year risk (%)\", \"FRAX 10y Fx Prob (Orange-w/ DXA)\", \"FRAX 10y Hip Fx Prob (Orange-w/ DXA)\", \"Met Sx\", \"AA_FLAG\",]\n",
    "clinical_measures_1 = [\"BMI\", \"BMI >30\", \"Sex\", \"Age at CT\"]\n",
    "clinical_measures_2 = [\"Clinical F/U interval  [d from CT]\",\"Tobacco\", \"FRS 10-year risk (%)\", \"FRAX 10y Fx Prob (Orange-w/ DXA)\", \"FRAX 10y Hip Fx Prob (Orange-w/ DXA)\", \"Met Sx\", \"AA_FLAG\"]\n",
    "measures1 = [bone_measures,fat_measures,muscle_measures,aortic_measures,liver_measures,clinical_measures]\n",
    "ct_clinical_measure = measures_all + clinical_measures\n",
    "ct_clinical_measure_1 = measures_all + clinical_measures_1\n",
    "ct_clinical_measure_2 = measures_all + clinical_measures_2"
   ]
  },
  {
   "cell_type": "code",
   "execution_count": 15,
   "metadata": {
    "ExecuteTime": {
     "end_time": "2022-05-11T12:38:49.967009Z",
     "start_time": "2022-05-11T12:38:49.859168Z"
    }
   },
   "outputs": [
    {
     "name": "stdout",
     "output_type": "stream",
     "text": [
      "2138 Remove (23.18% of data)\n"
     ]
    }
   ],
   "source": [
    "# Convert blanks to NA\n",
    "data2  = data2.replace(\"\", np.nan, regex=True) # Replace Blanks with NAs\n",
    "data2  = data2.replace(\" \", np.nan, regex=True) # Replace Blanks with NAs\n",
    "\n",
    "data_cleaned = data2.copy()\n",
    "for mea in measures1:\n",
    "    for m in mea:\n",
    "        data_cleaned = data_cleaned[(data_cleaned[m] != \"\") & (data_cleaned[m].isnull() == False)]\n",
    "\n",
    "rmv = len(data2)-len(data_cleaned)\n",
    "print(rmv, \"Remove (\" + str(round(rmv*100/len(data2),2)) + \"% of data)\")\n"
   ]
  },
  {
   "cell_type": "markdown",
   "metadata": {},
   "source": [
    "## Clinical Cleaning"
   ]
  },
  {
   "cell_type": "code",
   "execution_count": 16,
   "metadata": {
    "ExecuteTime": {
     "end_time": "2022-05-11T12:38:50.031008Z",
     "start_time": "2022-05-11T12:38:49.967009Z"
    }
   },
   "outputs": [
    {
     "name": "stdout",
     "output_type": "stream",
     "text": [
      "36 Removed (0.39% of data)\n"
     ]
    }
   ],
   "source": [
    "data3 = data_cleaned.copy()\n",
    "\n",
    "# BMI - Remove Outliers (Less than 10 and those with Missing values)\n",
    "data3 = data3[ (data3[\"BMI\"] > 10)]\n",
    "\n",
    "# Tobacco - Create new category for the NAs\n",
    "data3[\"Tobacco\"] = data3[\"Tobacco\"].replace(np.nan, \"Not Recorded\", regex=True) # Replace Blanks with NAs\n",
    "\n",
    "# Met Sx - Create new category for the NAs\n",
    "data3[\"Met Sx\"] = data3[\"Met Sx\"].replace(np.nan, \"Not Recorded\", regex=True) # Replace Blanks with NAs\n",
    "\n",
    "# Remove Rows wth Special Characters\n",
    "data3 = data3[ (data3[\"FRS 10-year risk (%)\"] !=  \"X\")]\n",
    "data3 = data3[ (data3[\"FRAX 10y Fx Prob (Orange-w/ DXA)\"] !=  \"_\")]\n",
    "data3 = data3[ (data3[\"FRAX 10y Hip Fx Prob (Orange-w/ DXA)\"] !=  \"_\")]\n",
    "\n",
    "# Turn these into numeric\n",
    "data3.loc[(data3[\"FRS 10-year risk (%)\"] == \"<1%\"),\"FRS 10-year risk (%)\"] = .005\n",
    "data3.loc[(data3[\"FRS 10-year risk (%)\"] == \">30%\"),\"FRS 10-year risk (%)\"] = .35\n",
    "\n",
    "# Remove ID columns becuase no value added\n",
    "data3 = data3.drop([\"Record ID\",\"Visit ID\" , \"PT ID\"],axis = 1)\n",
    "\n",
    "# Convert remaining blanks to NA\n",
    "data3  = data3.replace(\"\", np.nan, regex=True) # Replace Blanks with NAs\n",
    "data3  = data3.replace(\" \", np.nan, regex=True) # Replace Blanks with NAs\n",
    "\n",
    "# turn binary str result to 0 and 1\n",
    "data3.loc[(data3[\"BMI >30\"]=='N'),\"BMI >30\"] = 0\n",
    "data3.loc[(data3[\"BMI >30\"]=='Y'),\"BMI >30\"] = 1\n",
    "data3.loc[(data3[\"Sex\"]=='Female'),\"Sex\"] = 0\n",
    "data3.loc[(data3[\"Sex\"]=='Male'),\"Sex\"] = 1\n",
    "data3.loc[(data3[\"Tobacco\"]=='No'),\"Tobacco\"] = 0\n",
    "data3.loc[(data3[\"Tobacco\"]=='Yes'),\"Tobacco\"] = 1\n",
    "data3.loc[(data3[\"Met Sx\"]=='N'),\"Met Sx\"] = 0\n",
    "data3.loc[(data3[\"Met Sx\"]=='Y'),\"Met Sx\"] = 1\n",
    "\n",
    "\n",
    "rmv = len(data_cleaned) - len(data3)\n",
    "print(str(rmv) + \" Removed (\" + str(round(rmv*100/len(data2),2)) + \"% of data)\")\n",
    "\n",
    "data_cleaned = data3.copy()"
   ]
  },
  {
   "cell_type": "code",
   "execution_count": 17,
   "metadata": {
    "ExecuteTime": {
     "end_time": "2022-05-11T12:38:50.062976Z",
     "start_time": "2022-05-11T12:38:50.031008Z"
    }
   },
   "outputs": [
    {
     "data": {
      "text/html": [
       "<div>\n",
       "<style scoped>\n",
       "    .dataframe tbody tr th:only-of-type {\n",
       "        vertical-align: middle;\n",
       "    }\n",
       "\n",
       "    .dataframe tbody tr th {\n",
       "        vertical-align: top;\n",
       "    }\n",
       "\n",
       "    .dataframe thead th {\n",
       "        text-align: right;\n",
       "    }\n",
       "</style>\n",
       "<table border=\"1\" class=\"dataframe\">\n",
       "  <thead>\n",
       "    <tr style=\"text-align: right;\">\n",
       "      <th></th>\n",
       "      <th>index</th>\n",
       "      <th>Clinical F/U interval  [d from CT]</th>\n",
       "      <th>BMI</th>\n",
       "      <th>BMI &gt;30</th>\n",
       "      <th>Sex</th>\n",
       "      <th>Age at CT</th>\n",
       "      <th>Tobacco</th>\n",
       "      <th>FRS 10-year risk (%)</th>\n",
       "      <th>FRAX 10y Fx Prob (Orange-w/ DXA)</th>\n",
       "      <th>FRAX 10y Hip Fx Prob (Orange-w/ DXA)</th>\n",
       "      <th>...</th>\n",
       "      <th>AoCa        Agatston</th>\n",
       "      <th>Liver HU    (Median)</th>\n",
       "      <th>CARD_FLAG</th>\n",
       "      <th>DIA_FLAG</th>\n",
       "      <th>FEM_FLAG</th>\n",
       "      <th>ALZ_FLAG</th>\n",
       "      <th>CANCER_FLAG</th>\n",
       "      <th>OUTCOME_FLAGS</th>\n",
       "      <th>DEATH_FLAG</th>\n",
       "      <th>Fold</th>\n",
       "    </tr>\n",
       "  </thead>\n",
       "  <tbody>\n",
       "    <tr>\n",
       "      <th>0</th>\n",
       "      <td>4989</td>\n",
       "      <td>4920.0</td>\n",
       "      <td>24.6</td>\n",
       "      <td>0</td>\n",
       "      <td>0</td>\n",
       "      <td>54.0</td>\n",
       "      <td>0</td>\n",
       "      <td>0.005</td>\n",
       "      <td>7.24</td>\n",
       "      <td>0.60</td>\n",
       "      <td>...</td>\n",
       "      <td>22.135</td>\n",
       "      <td>59.0</td>\n",
       "      <td>0</td>\n",
       "      <td>0</td>\n",
       "      <td>0</td>\n",
       "      <td>0</td>\n",
       "      <td>0</td>\n",
       "      <td>0</td>\n",
       "      <td>0</td>\n",
       "      <td>0</td>\n",
       "    </tr>\n",
       "    <tr>\n",
       "      <th>1</th>\n",
       "      <td>5056</td>\n",
       "      <td>4769.0</td>\n",
       "      <td>49.6</td>\n",
       "      <td>1</td>\n",
       "      <td>0</td>\n",
       "      <td>44.0</td>\n",
       "      <td>1</td>\n",
       "      <td>0.005</td>\n",
       "      <td>1.19</td>\n",
       "      <td>0.04</td>\n",
       "      <td>...</td>\n",
       "      <td>0.000</td>\n",
       "      <td>50.0</td>\n",
       "      <td>0</td>\n",
       "      <td>1</td>\n",
       "      <td>0</td>\n",
       "      <td>0</td>\n",
       "      <td>0</td>\n",
       "      <td>1</td>\n",
       "      <td>0</td>\n",
       "      <td>1</td>\n",
       "    </tr>\n",
       "    <tr>\n",
       "      <th>3</th>\n",
       "      <td>1038</td>\n",
       "      <td>5033.0</td>\n",
       "      <td>30.9</td>\n",
       "      <td>1</td>\n",
       "      <td>1</td>\n",
       "      <td>49.0</td>\n",
       "      <td>0</td>\n",
       "      <td>0.010</td>\n",
       "      <td>2.37</td>\n",
       "      <td>0.08</td>\n",
       "      <td>...</td>\n",
       "      <td>10.547</td>\n",
       "      <td>62.0</td>\n",
       "      <td>0</td>\n",
       "      <td>1</td>\n",
       "      <td>0</td>\n",
       "      <td>0</td>\n",
       "      <td>0</td>\n",
       "      <td>1</td>\n",
       "      <td>0</td>\n",
       "      <td>3</td>\n",
       "    </tr>\n",
       "    <tr>\n",
       "      <th>4</th>\n",
       "      <td>2248</td>\n",
       "      <td>4146.0</td>\n",
       "      <td>36.1</td>\n",
       "      <td>1</td>\n",
       "      <td>1</td>\n",
       "      <td>50.0</td>\n",
       "      <td>1</td>\n",
       "      <td>0.060</td>\n",
       "      <td>2.24</td>\n",
       "      <td>0.10</td>\n",
       "      <td>...</td>\n",
       "      <td>1489.296</td>\n",
       "      <td>62.0</td>\n",
       "      <td>0</td>\n",
       "      <td>1</td>\n",
       "      <td>0</td>\n",
       "      <td>0</td>\n",
       "      <td>0</td>\n",
       "      <td>1</td>\n",
       "      <td>0</td>\n",
       "      <td>4</td>\n",
       "    </tr>\n",
       "    <tr>\n",
       "      <th>5</th>\n",
       "      <td>7031</td>\n",
       "      <td>2119.0</td>\n",
       "      <td>39.5</td>\n",
       "      <td>1</td>\n",
       "      <td>0</td>\n",
       "      <td>73.0</td>\n",
       "      <td>1</td>\n",
       "      <td>0.050</td>\n",
       "      <td>9.41</td>\n",
       "      <td>2.43</td>\n",
       "      <td>...</td>\n",
       "      <td>2924.856</td>\n",
       "      <td>42.0</td>\n",
       "      <td>0</td>\n",
       "      <td>1</td>\n",
       "      <td>0</td>\n",
       "      <td>0</td>\n",
       "      <td>0</td>\n",
       "      <td>1</td>\n",
       "      <td>0</td>\n",
       "      <td>0</td>\n",
       "    </tr>\n",
       "    <tr>\n",
       "      <th>...</th>\n",
       "      <td>...</td>\n",
       "      <td>...</td>\n",
       "      <td>...</td>\n",
       "      <td>...</td>\n",
       "      <td>...</td>\n",
       "      <td>...</td>\n",
       "      <td>...</td>\n",
       "      <td>...</td>\n",
       "      <td>...</td>\n",
       "      <td>...</td>\n",
       "      <td>...</td>\n",
       "      <td>...</td>\n",
       "      <td>...</td>\n",
       "      <td>...</td>\n",
       "      <td>...</td>\n",
       "      <td>...</td>\n",
       "      <td>...</td>\n",
       "      <td>...</td>\n",
       "      <td>...</td>\n",
       "      <td>...</td>\n",
       "      <td>...</td>\n",
       "    </tr>\n",
       "    <tr>\n",
       "      <th>9215</th>\n",
       "      <td>24</td>\n",
       "      <td>1063.0</td>\n",
       "      <td>25.7</td>\n",
       "      <td>0</td>\n",
       "      <td>1</td>\n",
       "      <td>88.0</td>\n",
       "      <td>1</td>\n",
       "      <td>0.160</td>\n",
       "      <td>16.25</td>\n",
       "      <td>11.64</td>\n",
       "      <td>...</td>\n",
       "      <td>5078.038</td>\n",
       "      <td>52.0</td>\n",
       "      <td>1</td>\n",
       "      <td>0</td>\n",
       "      <td>0</td>\n",
       "      <td>0</td>\n",
       "      <td>0</td>\n",
       "      <td>1</td>\n",
       "      <td>1</td>\n",
       "      <td>0</td>\n",
       "    </tr>\n",
       "    <tr>\n",
       "      <th>9216</th>\n",
       "      <td>3967</td>\n",
       "      <td>854.0</td>\n",
       "      <td>19.8</td>\n",
       "      <td>0</td>\n",
       "      <td>0</td>\n",
       "      <td>66.0</td>\n",
       "      <td>1</td>\n",
       "      <td>0.020</td>\n",
       "      <td>14.79</td>\n",
       "      <td>5.69</td>\n",
       "      <td>...</td>\n",
       "      <td>21.354</td>\n",
       "      <td>44.0</td>\n",
       "      <td>1</td>\n",
       "      <td>0</td>\n",
       "      <td>0</td>\n",
       "      <td>0</td>\n",
       "      <td>0</td>\n",
       "      <td>1</td>\n",
       "      <td>1</td>\n",
       "      <td>1</td>\n",
       "    </tr>\n",
       "    <tr>\n",
       "      <th>9218</th>\n",
       "      <td>3562</td>\n",
       "      <td>2401.0</td>\n",
       "      <td>26.6</td>\n",
       "      <td>0</td>\n",
       "      <td>0</td>\n",
       "      <td>88.0</td>\n",
       "      <td>0</td>\n",
       "      <td>0.050</td>\n",
       "      <td>27.79</td>\n",
       "      <td>14.42</td>\n",
       "      <td>...</td>\n",
       "      <td>3470.794</td>\n",
       "      <td>56.0</td>\n",
       "      <td>1</td>\n",
       "      <td>0</td>\n",
       "      <td>0</td>\n",
       "      <td>0</td>\n",
       "      <td>0</td>\n",
       "      <td>1</td>\n",
       "      <td>1</td>\n",
       "      <td>3</td>\n",
       "    </tr>\n",
       "    <tr>\n",
       "      <th>9221</th>\n",
       "      <td>612</td>\n",
       "      <td>3937.0</td>\n",
       "      <td>28.4</td>\n",
       "      <td>0</td>\n",
       "      <td>1</td>\n",
       "      <td>64.0</td>\n",
       "      <td>0</td>\n",
       "      <td>0.060</td>\n",
       "      <td>4.96</td>\n",
       "      <td>0.55</td>\n",
       "      <td>...</td>\n",
       "      <td>0.000</td>\n",
       "      <td>56.0</td>\n",
       "      <td>1</td>\n",
       "      <td>0</td>\n",
       "      <td>0</td>\n",
       "      <td>0</td>\n",
       "      <td>0</td>\n",
       "      <td>1</td>\n",
       "      <td>1</td>\n",
       "      <td>1</td>\n",
       "    </tr>\n",
       "    <tr>\n",
       "      <th>9222</th>\n",
       "      <td>5879</td>\n",
       "      <td>3530.0</td>\n",
       "      <td>26.6</td>\n",
       "      <td>0</td>\n",
       "      <td>1</td>\n",
       "      <td>51.0</td>\n",
       "      <td>1</td>\n",
       "      <td>0.060</td>\n",
       "      <td>3.15</td>\n",
       "      <td>0.19</td>\n",
       "      <td>...</td>\n",
       "      <td>2637.708</td>\n",
       "      <td>59.0</td>\n",
       "      <td>0</td>\n",
       "      <td>0</td>\n",
       "      <td>0</td>\n",
       "      <td>0</td>\n",
       "      <td>0</td>\n",
       "      <td>0</td>\n",
       "      <td>1</td>\n",
       "      <td>2</td>\n",
       "    </tr>\n",
       "  </tbody>\n",
       "</table>\n",
       "<p>7049 rows × 31 columns</p>\n",
       "</div>"
      ],
      "text/plain": [
       "      index  Clinical F/U interval  [d from CT]   BMI BMI >30 Sex  Age at CT  \\\n",
       "0      4989                              4920.0  24.6       0   0       54.0   \n",
       "1      5056                              4769.0  49.6       1   0       44.0   \n",
       "3      1038                              5033.0  30.9       1   1       49.0   \n",
       "4      2248                              4146.0  36.1       1   1       50.0   \n",
       "5      7031                              2119.0  39.5       1   0       73.0   \n",
       "...     ...                                 ...   ...     ...  ..        ...   \n",
       "9215     24                              1063.0  25.7       0   1       88.0   \n",
       "9216   3967                               854.0  19.8       0   0       66.0   \n",
       "9218   3562                              2401.0  26.6       0   0       88.0   \n",
       "9221    612                              3937.0  28.4       0   1       64.0   \n",
       "9222   5879                              3530.0  26.6       0   1       51.0   \n",
       "\n",
       "     Tobacco  FRS 10-year risk (%)  FRAX 10y Fx Prob (Orange-w/ DXA)  \\\n",
       "0          0                 0.005                              7.24   \n",
       "1          1                 0.005                              1.19   \n",
       "3          0                 0.010                              2.37   \n",
       "4          1                 0.060                              2.24   \n",
       "5          1                 0.050                              9.41   \n",
       "...      ...                   ...                               ...   \n",
       "9215       1                 0.160                             16.25   \n",
       "9216       1                 0.020                             14.79   \n",
       "9218       0                 0.050                             27.79   \n",
       "9221       0                 0.060                              4.96   \n",
       "9222       1                 0.060                              3.15   \n",
       "\n",
       "      FRAX 10y Hip Fx Prob (Orange-w/ DXA)  ... AoCa        Agatston  \\\n",
       "0                                     0.60  ...               22.135   \n",
       "1                                     0.04  ...                0.000   \n",
       "3                                     0.08  ...               10.547   \n",
       "4                                     0.10  ...             1489.296   \n",
       "5                                     2.43  ...             2924.856   \n",
       "...                                    ...  ...                  ...   \n",
       "9215                                 11.64  ...             5078.038   \n",
       "9216                                  5.69  ...               21.354   \n",
       "9218                                 14.42  ...             3470.794   \n",
       "9221                                  0.55  ...                0.000   \n",
       "9222                                  0.19  ...             2637.708   \n",
       "\n",
       "      Liver HU    (Median)  CARD_FLAG  DIA_FLAG  FEM_FLAG  ALZ_FLAG  \\\n",
       "0                     59.0          0         0         0         0   \n",
       "1                     50.0          0         1         0         0   \n",
       "3                     62.0          0         1         0         0   \n",
       "4                     62.0          0         1         0         0   \n",
       "5                     42.0          0         1         0         0   \n",
       "...                    ...        ...       ...       ...       ...   \n",
       "9215                  52.0          1         0         0         0   \n",
       "9216                  44.0          1         0         0         0   \n",
       "9218                  56.0          1         0         0         0   \n",
       "9221                  56.0          1         0         0         0   \n",
       "9222                  59.0          0         0         0         0   \n",
       "\n",
       "      CANCER_FLAG  OUTCOME_FLAGS  DEATH_FLAG  Fold  \n",
       "0               0              0           0     0  \n",
       "1               0              1           0     1  \n",
       "3               0              1           0     3  \n",
       "4               0              1           0     4  \n",
       "5               0              1           0     0  \n",
       "...           ...            ...         ...   ...  \n",
       "9215            0              1           1     0  \n",
       "9216            0              1           1     1  \n",
       "9218            0              1           1     3  \n",
       "9221            0              1           1     1  \n",
       "9222            0              0           1     2  \n",
       "\n",
       "[7049 rows x 31 columns]"
      ]
     },
     "execution_count": 17,
     "metadata": {},
     "output_type": "execute_result"
    }
   ],
   "source": [
    "data_cleaned "
   ]
  },
  {
   "cell_type": "markdown",
   "metadata": {},
   "source": [
    "## CT Prediction"
   ]
  },
  {
   "cell_type": "code",
   "execution_count": 18,
   "metadata": {
    "ExecuteTime": {
     "end_time": "2022-05-11T12:38:50.070981Z",
     "start_time": "2022-05-11T12:38:50.062976Z"
    }
   },
   "outputs": [],
   "source": [
    "def LR(train,test,X_col=measures_all):\n",
    "    ct_train_x = train.loc[:,X_col]\n",
    "    ct_train_y = train.loc[:,\"DEATH_FLAG\"]\n",
    "    ct_test_x = test.loc[:,X_col]\n",
    "    ct_test_y = test.loc[:,\"DEATH_FLAG\"]\n",
    "\n",
    "    clf_ct_LR = LogisticRegression(random_state=0, solver='liblinear').fit(ct_train_x, ct_train_y)\n",
    "    pred_y = clf_ct_LR.predict_proba(ct_test_x)\n",
    "    prob_y_LR = [i[1] for i in pred_y]\n",
    "    \n",
    "    return prob_y_LR,ct_test_y"
   ]
  },
  {
   "cell_type": "code",
   "execution_count": 19,
   "metadata": {
    "ExecuteTime": {
     "end_time": "2022-05-11T12:38:50.078978Z",
     "start_time": "2022-05-11T12:38:50.070981Z"
    }
   },
   "outputs": [],
   "source": [
    "def RF2(train,test,d,X_col=measures_all):\n",
    "    \n",
    "    ct_train_x = train.loc[:,X_col]\n",
    "    ct_train_y = train.loc[:,\"DEATH_FLAG\"]\n",
    "    ct_test_x = test.loc[:,X_col]\n",
    "    ct_test_y = test.loc[:,\"DEATH_FLAG\"]\n",
    "    \n",
    "    clf_ct = RandomForestClassifier(max_depth = d,max_samples = .5, n_estimators = 100,random_state=17).fit(ct_train_x, ct_train_y)\n",
    "    pred_y = clf_ct.predict_proba(ct_test_x)\n",
    "    prob_y_RF = [i[1] for i in pred_y]\n",
    "            \n",
    "    return list(prob_y_RF),list(ct_test_y)\n",
    "    "
   ]
  },
  {
   "cell_type": "code",
   "execution_count": 20,
   "metadata": {
    "ExecuteTime": {
     "end_time": "2022-05-11T12:38:50.087010Z",
     "start_time": "2022-05-11T12:38:50.078978Z"
    }
   },
   "outputs": [],
   "source": [
    "def LR_RF2(tr1,tr2,test,d,X_col=measures_all):\n",
    "\n",
    "    ct_train2_x = tr2.loc[:,X_col]\n",
    "    ct_train2_x_temp = tr2.loc[:,X_col]\n",
    "    ct_train2_y = tr2.loc[:,\"DEATH_FLAG\"]\n",
    "\n",
    "    ct_test_x = test.loc[:,X_col]\n",
    "    ct_test_x_temp = test.loc[:,X_col]\n",
    "    ct_test_y = test.loc[:,\"DEATH_FLAG\"]\n",
    "        \n",
    "    Flags = [\"CARD_FLAG\",\"DIA_FLAG\",\"FEM_FLAG\",\"ALZ_FLAG\",\"CANCER_FLAG\",\"DEATH_FLAG\"] \n",
    "    \n",
    "    \n",
    "    \n",
    "    for f in Flags:\n",
    "        ct_train1_x = tr1.loc[:,X_col]\n",
    "        ct_train1_y = tr1.loc[:,f]\n",
    "        clf_ct_LR = LogisticRegression(random_state=0, solver='liblinear').fit(ct_train1_x, ct_train1_y)\n",
    "        #clf_ct_LR =  RandomForestClassifier(max_depth = d, n_estimators = 50,random_state=17).fit(ct_train2_x, ct_train2_y)\n",
    "        \n",
    "        pred_y = clf_ct_LR.predict_proba(ct_train2_x_temp)\n",
    "        prob_y_LR = [i[1]for i in pred_y]\n",
    "        ct_train2_x[f+\"_PRED\"] = prob_y_LR.copy()\n",
    "\n",
    "        pred_y = clf_ct_LR.predict_proba(ct_test_x_temp)\n",
    "        prob_y_LR = [i[1] for i in pred_y]\n",
    "        ct_test_x[f+\"_PRED\"] = prob_y_LR.copy()\n",
    "        \n",
    "\n",
    "    clf_ct = RandomForestClassifier(max_depth = d,max_samples = .5, n_estimators = 100,random_state=17).fit(ct_train2_x, ct_train2_y)\n",
    "    #lf_ct = LogisticRegression(random_state=0, solver='liblinear').fit(ct_train2_x, ct_train2_y)\n",
    "    \n",
    "    pred_y = clf_ct.predict_proba(ct_test_x)\n",
    "    prob_y_LR_RF = [i[1] for i in pred_y]\n",
    "\n",
    "    return list(prob_y_LR_RF),list(ct_test_y)"
   ]
  },
  {
   "cell_type": "code",
   "execution_count": 21,
   "metadata": {
    "ExecuteTime": {
     "end_time": "2022-05-11T12:38:50.247004Z",
     "start_time": "2022-05-11T12:38:50.087010Z"
    }
   },
   "outputs": [],
   "source": [
    "AUCs_LR = []\n",
    "FPR_LR = []\n",
    "TPR_LR = []\n",
    "TH_LR = []\n",
    "\n",
    "for f in range(Folds):\n",
    "    prob_y, true_y = LR(data_cleaned.loc[(data_cleaned[\"Fold\"] != f), ],\n",
    "                        data_cleaned.loc[(data_cleaned[\"Fold\"] == f), ])\n",
    "\n",
    "    fpr, tpr, thresholds = metrics.roc_curve(true_y, prob_y)\n",
    "    auc = metrics.roc_auc_score(true_y, prob_y)\n",
    "    AUCs_LR.append(auc)\n",
    "    FPR_LR.append(fpr)\n",
    "    TPR_LR.append(tpr)\n",
    "    TH_LR.append(thresholds)"
   ]
  },
  {
   "cell_type": "code",
   "execution_count": 22,
   "metadata": {
    "ExecuteTime": {
     "end_time": "2022-05-11T12:38:55.557192Z",
     "start_time": "2022-05-11T12:38:50.247004Z"
    }
   },
   "outputs": [
    {
     "name": "stdout",
     "output_type": "stream",
     "text": [
      "0\n",
      "1\n",
      "2\n",
      "3\n",
      "4\n",
      "0\n",
      "1\n",
      "2\n",
      "3\n",
      "4\n",
      "0\n",
      "1\n",
      "2\n",
      "3\n",
      "4\n"
     ]
    }
   ],
   "source": [
    "D = [3, 5, 10]\n",
    "\n",
    "AUCs_RF_All = []\n",
    "FPR_RF_All = []\n",
    "TPR_RF_All = []\n",
    "TH_RF_All = []\n",
    "\n",
    "for d in D:\n",
    "    AUCs_RF = []\n",
    "    FPR_RF = []\n",
    "    TPR_RF = []\n",
    "    TH_RF = []\n",
    "    for f in range(Folds):\n",
    "        print(f)\n",
    "        prob_y, true_y = RF2(data_cleaned.loc[(data_cleaned[\"Fold\"] != f), ],\n",
    "                             data_cleaned.loc[(data_cleaned[\"Fold\"] == f), ],\n",
    "                             d)\n",
    "\n",
    "        fpr, tpr, thresholds = metrics.roc_curve(true_y, prob_y)\n",
    "        auc = metrics.roc_auc_score(true_y, prob_y)\n",
    "        AUCs_RF.append(auc)\n",
    "        FPR_RF.append(fpr)\n",
    "        TPR_RF.append(tpr)\n",
    "        TH_RF.append(thresholds)\n",
    "\n",
    "    AUCs_RF_All.append(AUCs_RF)\n",
    "    FPR_RF_All.append(FPR_RF)\n",
    "    TPR_RF_All.append(TPR_RF)\n",
    "    TH_RF_All.append(TH_RF)"
   ]
  },
  {
   "cell_type": "code",
   "execution_count": 23,
   "metadata": {
    "ExecuteTime": {
     "end_time": "2022-05-11T12:39:29.505733Z",
     "start_time": "2022-05-11T12:38:55.562468Z"
    }
   },
   "outputs": [
    {
     "name": "stdout",
     "output_type": "stream",
     "text": [
      "0\n",
      "1\n",
      "2\n",
      "3\n",
      "4\n",
      "0\n",
      "1\n",
      "2\n",
      "3\n",
      "4\n",
      "0\n",
      "1\n",
      "2\n",
      "3\n",
      "4\n"
     ]
    }
   ],
   "source": [
    "AUCs_LR_RF_All = []\n",
    "FPR_LR_RF_All = []\n",
    "TPR_LR_RF_All = []\n",
    "TH_LR_RF_All = []\n",
    "\n",
    "for d in D:\n",
    "    AUCs_LR_RF = []\n",
    "    FPR_LR_RF = []\n",
    "    TPR_LR_RF = []\n",
    "    TH_LR_RF = []\n",
    "    for f in range(Folds):\n",
    "        print(f)\n",
    "        Train_Folds = [ff for ff in range(Folds) if ff != f]\n",
    "        combs = combinations(Train_Folds, math.ceil((Folds - 1) * .5))\n",
    "\n",
    "        for c in combs:\n",
    "            c = list(c)\n",
    "            prob_y, true_y = LR_RF2(\n",
    "                data_cleaned.loc[(data_cleaned[\"Fold\"] != f) &\n",
    "                                 (data_cleaned[\"Fold\"].isin(c)), ],\n",
    "                data_cleaned.loc[(data_cleaned[\"Fold\"] != f) &\n",
    "                                 (~data_cleaned[\"Fold\"].isin(c)), ],\n",
    "                data_cleaned.loc[(data_cleaned[\"Fold\"] == f)], d)\n",
    "\n",
    "            fpr, tpr, thresholds = metrics.roc_curve(true_y, prob_y)\n",
    "            auc = metrics.roc_auc_score(true_y, prob_y)\n",
    "            AUCs_LR_RF.append(auc)\n",
    "            FPR_LR_RF.append(fpr)\n",
    "            TPR_LR_RF.append(tpr)\n",
    "            TH_LR_RF.append(thresholds)\n",
    "\n",
    "    AUCs_LR_RF_All.append(AUCs_LR_RF)\n",
    "    FPR_LR_RF_All.append(FPR_LR_RF)\n",
    "    TPR_LR_RF_All.append(TPR_LR_RF)\n",
    "    TH_LR_RF_All.append(TH_LR_RF)"
   ]
  },
  {
   "cell_type": "code",
   "execution_count": 24,
   "metadata": {
    "ExecuteTime": {
     "end_time": "2022-05-11T12:39:29.954777Z",
     "start_time": "2022-05-11T12:39:29.505733Z"
    }
   },
   "outputs": [
    {
     "data": {
      "image/png": "[encoded data removed]",
      "text/plain": [
       "<Figure size 432x288 with 1 Axes>"
      ]
     },
     "metadata": {
      "needs_background": "light"
     },
     "output_type": "display_data"
    }
   ],
   "source": [
    "plt.plot(FPR_LR[0], FPR_LR[0], label='Log Reg, (Avg AUC: ' + str(round(sum(AUCs_LR)/len(AUCs_LR),2))+')')\n",
    "plt.plot([0,1],[0,1])\n",
    "\n",
    "for d in range(len(D)):\n",
    "    plt.plot(FPR_RF_All[d][0], TPR_RF_All[d][0], label='RF, Mx_Dpth = '+str(D[d])+' (Avg AUC: ' + str(round(sum(AUCs_RF_All[d])/len(AUCs_RF_All[d]),2))+')')\n",
    "\n",
    "for d in range(len(D)):\n",
    "    plt.plot(FPR_LR_RF_All[d][0], TPR_LR_RF_All[d][0], label='LR + RF, Mx_Dpth = '+str(D[d])+' (Avg AUC: ' + str(round(sum(AUCs_LR_RF_All[d])/len(AUCs_LR_RF_All[d]),2))+')')\n",
    "\n",
    "#for d in range(len(D)):\n",
    "#    plt.plot(FPR_RF_LR_All[d][0], TPR_RF_LR_All[d][0], label='RF + LR, Mx_Dpth = '+str(D[d])+' (AUC: ' + str(round(sum(AUCs_RF_LR_All[d])/len(AUCs_RF_LR_All[d]),2))+')')\n",
    "\n",
    "\n",
    "plt.xlabel(\"False Positive Rate\")\n",
    "plt.ylabel(\"True Positive Rate\")\n",
    "plt.legend()\n",
    "plt.title(\"CT Data Only\")\n",
    "\n",
    "plt.savefig('CT_ROC.pdf',bbox_inches='tight')\n",
    "plt.show()"
   ]
  },
  {
   "cell_type": "code",
   "execution_count": 25,
   "metadata": {
    "ExecuteTime": {
     "end_time": "2022-05-11T12:39:30.307497Z",
     "start_time": "2022-05-11T12:39:29.954777Z"
    }
   },
   "outputs": [
    {
     "data": {
      "image/png": "[encoded data removed]",
      "text/plain": [
       "<Figure size 432x288 with 1 Axes>"
      ]
     },
     "metadata": {
      "needs_background": "light"
     },
     "output_type": "display_data"
    }
   ],
   "source": [
    "\n",
    "data = [AUCs_LR] +  [ AUCs_RF_All[d] for d in range(len(D))] + [ AUCs_LR_RF_All[d] for d in range(len(D))] \n",
    "Labs = [\"Lin Reg\"] + [ \"RF\\nMX_Dpth: \" + str(D[d]) for d in range(len(D))] + [ \"LR + RF\\nMX_Dpth: \" + str(D[d]) for d in range(len(D))]\n",
    " \n",
    "fig = plt.figure()\n",
    " \n",
    "# Creating axes instance\n",
    "ax = fig.add_axes([0, 0, 1, 1])\n",
    " \n",
    "# Creating plot\n",
    "bp = ax.boxplot(data,showmeans=True)\n",
    "\n",
    "ax.set_title('AUC Values from Cross-Validation')\n",
    "ax.set_xlabel('Method')\n",
    "ax.set_ylabel('AUC Value')\n",
    "\n",
    "plt.xticks(list(range(1,1+len(data))), Labs)\n",
    "ax.set_xticklabels(Labs, rotation = 90)\n",
    "\n",
    "plt.savefig('CT_BX.pdf',bbox_inches='tight')\n",
    "plt.show()"
   ]
  },
  {
   "cell_type": "markdown",
   "metadata": {},
   "source": [
    "## CT + CLINICAL PREDICTION"
   ]
  },
  {
   "cell_type": "markdown",
   "metadata": {},
   "source": [
    "### CT + Simple Demographics (Sex,Age,BMI)"
   ]
  },
  {
   "cell_type": "code",
   "execution_count": 49,
   "metadata": {
    "ExecuteTime": {
     "end_time": "2022-05-11T13:02:07.949855Z",
     "start_time": "2022-05-11T13:02:07.934321Z"
    }
   },
   "outputs": [
    {
     "data": {
      "text/plain": [
       "['L1_HU_BMD',\n",
       " 'TAT Area (cm2)',\n",
       " 'Total Body                Area EA (cm2)',\n",
       " 'VAT Area (cm2)',\n",
       " 'SAT Area (cm2)',\n",
       " 'VAT/SAT     Ratio',\n",
       " 'Muscle HU',\n",
       " ' Muscle Area (cm2)',\n",
       " 'L3 SMI (cm2/m2)',\n",
       " 'AoCa        Agatston',\n",
       " 'Liver HU    (Median)',\n",
       " 'BMI',\n",
       " 'BMI >30',\n",
       " 'Sex',\n",
       " 'Age at CT']"
      ]
     },
     "execution_count": 49,
     "metadata": {},
     "output_type": "execute_result"
    }
   ],
   "source": [
    "ct_clinical_measure_1"
   ]
  },
  {
   "cell_type": "code",
   "execution_count": 50,
   "metadata": {
    "ExecuteTime": {
     "end_time": "2022-05-11T13:02:09.008576Z",
     "start_time": "2022-05-11T13:02:08.599687Z"
    }
   },
   "outputs": [],
   "source": [
    "AUCs_LR = []\n",
    "FPR_LR = []\n",
    "TPR_LR = []\n",
    "TH_LR = []\n",
    "\n",
    "for f in range(Folds):\n",
    "    prob_y,true_y = LR(data_cleaned.loc[(data_cleaned[\"Fold\"] != f),],\n",
    "                                data_cleaned.loc[(data_cleaned[\"Fold\"] == f),],X_col=ct_clinical_measure_1)\n",
    "     \n",
    "    fpr, tpr, thresholds = metrics.roc_curve(true_y,prob_y)\n",
    "    auc = metrics.roc_auc_score(true_y,prob_y)\n",
    "    AUCs_LR.append(auc) \n",
    "    FPR_LR.append(fpr) \n",
    "    TPR_LR.append(tpr) \n",
    "    TH_LR.append(thresholds) "
   ]
  },
  {
   "cell_type": "code",
   "execution_count": 51,
   "metadata": {
    "ExecuteTime": {
     "end_time": "2022-05-11T13:02:14.817669Z",
     "start_time": "2022-05-11T13:02:09.952662Z"
    }
   },
   "outputs": [
    {
     "name": "stdout",
     "output_type": "stream",
     "text": [
      "0\n",
      "1\n",
      "2\n",
      "3\n",
      "4\n",
      "0\n",
      "1\n",
      "2\n",
      "3\n",
      "4\n",
      "0\n",
      "1\n",
      "2\n",
      "3\n",
      "4\n"
     ]
    }
   ],
   "source": [
    "D = [3,5,10]\n",
    "\n",
    "AUCs_RF_All = []\n",
    "FPR_RF_All =[]\n",
    "TPR_RF_All =[]\n",
    "TH_RF_All = []\n",
    "\n",
    "for d in D:\n",
    "    AUCs_RF = []\n",
    "    FPR_RF =[]\n",
    "    TPR_RF =[]\n",
    "    TH_RF = []\n",
    "    for f in range(Folds):\n",
    "        print(f)\n",
    "        prob_y,true_y = RF2(data_cleaned.loc[(data_cleaned[\"Fold\"] != f),],\n",
    "                                 data_cleaned.loc[(data_cleaned[\"Fold\"] == f),],\n",
    "                                 d,X_col=ct_clinical_measure_1)\n",
    "     \n",
    "        fpr, tpr, thresholds = metrics.roc_curve(true_y,prob_y)\n",
    "        auc = metrics.roc_auc_score(true_y,prob_y)\n",
    "        AUCs_RF.append(auc) \n",
    "        FPR_RF.append(fpr) \n",
    "        TPR_RF.append(tpr) \n",
    "        TH_RF.append(thresholds) \n",
    "    \n",
    "    AUCs_RF_All.append(AUCs_RF)\n",
    "    FPR_RF_All.append(FPR_RF)\n",
    "    TPR_RF_All.append(TPR_RF)\n",
    "    TH_RF_All.append(TH_RF)\n"
   ]
  },
  {
   "cell_type": "code",
   "execution_count": 52,
   "metadata": {
    "ExecuteTime": {
     "end_time": "2022-05-11T13:03:01.350880Z",
     "start_time": "2022-05-11T13:02:17.122824Z"
    }
   },
   "outputs": [
    {
     "name": "stdout",
     "output_type": "stream",
     "text": [
      "0\n",
      "1\n",
      "2\n",
      "3\n",
      "4\n",
      "0\n",
      "1\n",
      "2\n",
      "3\n",
      "4\n",
      "0\n",
      "1\n",
      "2\n",
      "3\n",
      "4\n"
     ]
    }
   ],
   "source": [
    "AUCs_LR_RF_All = []\n",
    "FPR_LR_RF_All =[]\n",
    "TPR_LR_RF_All =[]\n",
    "TH_LR_RF_All = []\n",
    "\n",
    "for d in D:\n",
    "    AUCs_LR_RF = []\n",
    "    FPR_LR_RF =[]\n",
    "    TPR_LR_RF =[]\n",
    "    TH_LR_RF = []\n",
    "    for f in range(Folds):\n",
    "        print(f)\n",
    "        Train_Folds = [ff for ff in range(Folds) if ff != f]\n",
    "        combs = combinations(Train_Folds, math.ceil((Folds-1)*.5))\n",
    "        \n",
    "        for c in combs:\n",
    "            c= list(c)\n",
    "            prob_y,true_y = LR_RF2(data_cleaned.loc[(data_cleaned[\"Fold\"] != f) & (data_cleaned[\"Fold\"].isin(c)),],\n",
    "                                  data_cleaned.loc[(data_cleaned[\"Fold\"] != f) & (~data_cleaned[\"Fold\"].isin(c)),],\n",
    "                                  data_cleaned.loc[(data_cleaned[\"Fold\"] == f)],\n",
    "                                  d,X_col=ct_clinical_measure_1)\n",
    "\n",
    "            fpr, tpr, thresholds = metrics.roc_curve(true_y,prob_y)\n",
    "            auc = metrics.roc_auc_score(true_y,prob_y)\n",
    "            AUCs_LR_RF.append(auc) \n",
    "            FPR_LR_RF.append(fpr) \n",
    "            TPR_LR_RF.append(tpr) \n",
    "            TH_LR_RF.append(thresholds) \n",
    "    \n",
    "    AUCs_LR_RF_All.append(AUCs_LR_RF)\n",
    "    FPR_LR_RF_All.append(FPR_LR_RF)\n",
    "    TPR_LR_RF_All.append(TPR_LR_RF)\n",
    "    TH_LR_RF_All.append(TH_LR_RF)"
   ]
  },
  {
   "cell_type": "code",
   "execution_count": 53,
   "metadata": {
    "ExecuteTime": {
     "end_time": "2022-05-11T13:03:05.145900Z",
     "start_time": "2022-05-11T13:03:04.699936Z"
    }
   },
   "outputs": [
    {
     "data": {
      "image/png": "[encoded data removed]",
      "text/plain": [
       "<Figure size 432x288 with 1 Axes>"
      ]
     },
     "metadata": {
      "needs_background": "light"
     },
     "output_type": "display_data"
    }
   ],
   "source": [
    "plt.plot(FPR_LR[0], FPR_LR[0], label='Log Reg, (Avg AUC: ' + str(round(sum(AUCs_LR)/len(AUCs_LR),2))+')')\n",
    "plt.plot([0,1],[0,1])\n",
    "\n",
    "for d in range(len(D)):\n",
    "    plt.plot(FPR_RF_All[d][0], TPR_RF_All[d][0], label='RF, Mx_Dpth = '+str(D[d])+' (Avg AUC: ' + str(round(sum(AUCs_RF_All[d])/len(AUCs_RF_All[d]),2))+')')\n",
    "\n",
    "for d in range(len(D)):\n",
    "    plt.plot(FPR_LR_RF_All[d][0], TPR_LR_RF_All[d][0], label='LR + RF, Mx_Dpth = '+str(D[d])+' (Avg AUC: ' + str(round(sum(AUCs_LR_RF_All[d])/len(AUCs_LR_RF_All[d]),2))+')')\n",
    "\n",
    "#for d in range(len(D)):\n",
    "#    plt.plot(FPR_RF_LR_All[d][0], TPR_RF_LR_All[d][0], label='RF + LR, Mx_Dpth = '+str(D[d])+' (AUC: ' + str(round(sum(AUCs_RF_LR_All[d])/len(AUCs_RF_LR_All[d]),2))+')')\n",
    "\n",
    "\n",
    "plt.xlabel(\"False Positive Rate\")\n",
    "plt.ylabel(\"True Positive Rate\")\n",
    "plt.title(\"CT + CLINICAL Demographics\")\n",
    "plt.legend()\n",
    "\n",
    "plt.savefig('CT_Dem_ROC.pdf',bbox_inches='tight')\n",
    "plt.show()\n"
   ]
  },
  {
   "cell_type": "code",
   "execution_count": 54,
   "metadata": {
    "ExecuteTime": {
     "end_time": "2022-05-11T13:03:11.749618Z",
     "start_time": "2022-05-11T13:03:11.442396Z"
    }
   },
   "outputs": [
    {
     "data": {
      "image/png": "[encoded data removed]",
      "text/plain": [
       "<Figure size 432x288 with 1 Axes>"
      ]
     },
     "metadata": {
      "needs_background": "light"
     },
     "output_type": "display_data"
    }
   ],
   "source": [
    "data = [AUCs_LR] +  [ AUCs_RF_All[d] for d in range(len(D))] + [ AUCs_LR_RF_All[d] for d in range(len(D))]\n",
    "Labs = [\"Lin Reg\"] + [ \"RF\\nMX_Dpth: \" + str(D[d]) for d in range(len(D))] + [ \"LR + RF\\nMX_Dpth: \" + str(D[d]) for d in range(len(D))]\n",
    "  \n",
    "fig = plt.figure()\n",
    " \n",
    "# Creating axes instance\n",
    "ax = fig.add_axes([0, 0, 1, 1])\n",
    " \n",
    "# Creating plot\n",
    "bp = ax.boxplot(data,showmeans=True)\n",
    "\n",
    "ax.set_title('AUC Values from Cross-Validation')\n",
    "ax.set_xlabel('Method')\n",
    "ax.set_ylabel('AUC Value')\n",
    "\n",
    "plt.xticks(list(range(1,1+len(data))), Labs)\n",
    "ax.set_xticklabels(Labs, rotation = 90)\n",
    "\n",
    "plt.savefig('CT_Dem_BW.pdf',bbox_inches='tight')\n",
    "plt.show()"
   ]
  },
  {
   "cell_type": "markdown",
   "metadata": {},
   "source": [
    "### All CT + Clincal Data"
   ]
  },
  {
   "cell_type": "code",
   "execution_count": 55,
   "metadata": {
    "ExecuteTime": {
     "end_time": "2022-05-11T13:03:15.499270Z",
     "start_time": "2022-05-11T13:03:15.490926Z"
    },
    "scrolled": true
   },
   "outputs": [
    {
     "data": {
      "text/plain": [
       "['L1_HU_BMD',\n",
       " 'TAT Area (cm2)',\n",
       " 'Total Body                Area EA (cm2)',\n",
       " 'VAT Area (cm2)',\n",
       " 'SAT Area (cm2)',\n",
       " 'VAT/SAT     Ratio',\n",
       " 'Muscle HU',\n",
       " ' Muscle Area (cm2)',\n",
       " 'L3 SMI (cm2/m2)',\n",
       " 'AoCa        Agatston',\n",
       " 'Liver HU    (Median)',\n",
       " 'Clinical F/U interval  [d from CT]',\n",
       " 'BMI',\n",
       " 'BMI >30',\n",
       " 'Sex',\n",
       " 'Age at CT',\n",
       " 'Tobacco',\n",
       " 'FRS 10-year risk (%)',\n",
       " 'FRAX 10y Fx Prob (Orange-w/ DXA)',\n",
       " 'FRAX 10y Hip Fx Prob (Orange-w/ DXA)',\n",
       " 'Met Sx',\n",
       " 'AA_FLAG']"
      ]
     },
     "execution_count": 55,
     "metadata": {},
     "output_type": "execute_result"
    }
   ],
   "source": [
    "ct_clinical_measure"
   ]
  },
  {
   "cell_type": "code",
   "execution_count": 56,
   "metadata": {
    "ExecuteTime": {
     "end_time": "2022-05-11T13:03:16.938764Z",
     "start_time": "2022-05-11T13:03:16.404175Z"
    }
   },
   "outputs": [],
   "source": [
    "AUCs_LR = []\n",
    "FPR_LR = []\n",
    "TPR_LR = []\n",
    "TH_LR = []\n",
    "\n",
    "for f in range(Folds):\n",
    "    prob_y,true_y = LR(data_cleaned.loc[(data_cleaned[\"Fold\"] != f),],\n",
    "                                data_cleaned.loc[(data_cleaned[\"Fold\"] == f),],X_col=ct_clinical_measure)\n",
    "     \n",
    "    fpr, tpr, thresholds = metrics.roc_curve(true_y,prob_y)\n",
    "    auc = metrics.roc_auc_score(true_y,prob_y)\n",
    "    AUCs_LR.append(auc) \n",
    "    FPR_LR.append(fpr) \n",
    "    TPR_LR.append(tpr) \n",
    "    TH_LR.append(thresholds)"
   ]
  },
  {
   "cell_type": "code",
   "execution_count": 57,
   "metadata": {
    "ExecuteTime": {
     "end_time": "2022-05-11T13:03:25.863118Z",
     "start_time": "2022-05-11T13:03:20.652618Z"
    }
   },
   "outputs": [
    {
     "name": "stdout",
     "output_type": "stream",
     "text": [
      "0\n",
      "1\n",
      "2\n",
      "3\n",
      "4\n",
      "0\n",
      "1\n",
      "2\n",
      "3\n",
      "4\n",
      "0\n",
      "1\n",
      "2\n",
      "3\n",
      "4\n"
     ]
    }
   ],
   "source": [
    "D = [3, 5, 10]\n",
    "\n",
    "AUCs_RF_All = []\n",
    "FPR_RF_All = []\n",
    "TPR_RF_All = []\n",
    "TH_RF_All = []\n",
    "\n",
    "for d in D:\n",
    "    AUCs_RF = []\n",
    "    FPR_RF = []\n",
    "    TPR_RF = []\n",
    "    TH_RF = []\n",
    "    for f in range(Folds):\n",
    "        print(f)\n",
    "        prob_y, true_y = RF2(data_cleaned.loc[(data_cleaned[\"Fold\"] != f), ],\n",
    "                             data_cleaned.loc[(data_cleaned[\"Fold\"] == f), ],\n",
    "                             d,\n",
    "                             X_col=ct_clinical_measure)\n",
    "\n",
    "        fpr, tpr, thresholds = metrics.roc_curve(true_y, prob_y)\n",
    "        auc = metrics.roc_auc_score(true_y, prob_y)\n",
    "        AUCs_RF.append(auc)\n",
    "        FPR_RF.append(fpr)\n",
    "        TPR_RF.append(tpr)\n",
    "        TH_RF.append(thresholds)\n",
    "\n",
    "    AUCs_RF_All.append(AUCs_RF)\n",
    "    FPR_RF_All.append(FPR_RF)\n",
    "    TPR_RF_All.append(TPR_RF)\n",
    "    TH_RF_All.append(TH_RF)"
   ]
  },
  {
   "cell_type": "code",
   "execution_count": 58,
   "metadata": {
    "ExecuteTime": {
     "end_time": "2022-05-11T13:04:20.625538Z",
     "start_time": "2022-05-11T13:03:28.031784Z"
    }
   },
   "outputs": [
    {
     "name": "stdout",
     "output_type": "stream",
     "text": [
      "0\n",
      "1\n",
      "2\n",
      "3\n",
      "4\n",
      "0\n",
      "1\n",
      "2\n",
      "3\n",
      "4\n",
      "0\n",
      "1\n",
      "2\n",
      "3\n",
      "4\n"
     ]
    }
   ],
   "source": [
    "AUCs_LR_RF_All = []\n",
    "FPR_LR_RF_All = []\n",
    "TPR_LR_RF_All = []\n",
    "TH_LR_RF_All = []\n",
    "\n",
    "for d in D:\n",
    "    AUCs_LR_RF = []\n",
    "    FPR_LR_RF = []\n",
    "    TPR_LR_RF = []\n",
    "    TH_LR_RF = []\n",
    "    for f in range(Folds):\n",
    "        print(f)\n",
    "        Train_Folds = [ff for ff in range(Folds) if ff != f]\n",
    "        combs = combinations(Train_Folds, math.ceil((Folds - 1) * .5))\n",
    "\n",
    "        for c in combs:\n",
    "            c = list(c)\n",
    "            prob_y, true_y = LR_RF2(\n",
    "                data_cleaned.loc[(data_cleaned[\"Fold\"] != f) &\n",
    "                                 (data_cleaned[\"Fold\"].isin(c)), ],\n",
    "                data_cleaned.loc[(data_cleaned[\"Fold\"] != f) &\n",
    "                                 (~data_cleaned[\"Fold\"].isin(c)), ],\n",
    "                data_cleaned.loc[(data_cleaned[\"Fold\"] == f)],\n",
    "                d,\n",
    "                X_col=ct_clinical_measure)\n",
    "\n",
    "            fpr, tpr, thresholds = metrics.roc_curve(true_y, prob_y)\n",
    "            auc = metrics.roc_auc_score(true_y, prob_y)\n",
    "            AUCs_LR_RF.append(auc)\n",
    "            FPR_LR_RF.append(fpr)\n",
    "            TPR_LR_RF.append(tpr)\n",
    "            TH_LR_RF.append(thresholds)\n",
    "\n",
    "    AUCs_LR_RF_All.append(AUCs_LR_RF)\n",
    "    FPR_LR_RF_All.append(FPR_LR_RF)\n",
    "    TPR_LR_RF_All.append(TPR_LR_RF)\n",
    "    TH_LR_RF_All.append(TH_LR_RF)"
   ]
  },
  {
   "cell_type": "code",
   "execution_count": 59,
   "metadata": {
    "ExecuteTime": {
     "end_time": "2022-05-11T13:04:39.566209Z",
     "start_time": "2022-05-11T13:04:39.116995Z"
    }
   },
   "outputs": [
    {
     "data": {
      "image/png": "[encoded data removed]",
      "text/plain": [
       "<Figure size 432x288 with 1 Axes>"
      ]
     },
     "metadata": {
      "needs_background": "light"
     },
     "output_type": "display_data"
    }
   ],
   "source": [
    "plt.plot(FPR_LR[0], FPR_LR[0], label='Log Reg, (Avg AUC: ' + str(round(sum(AUCs_LR)/len(AUCs_LR),2))+')')\n",
    "plt.plot([0,1],[0,1])\n",
    "\n",
    "for d in range(len(D)):\n",
    "    plt.plot(FPR_RF_All[d][0], TPR_RF_All[d][0], label='RF, Mx_Dpth = '+str(D[d])+' (Avg AUC: ' + str(round(sum(AUCs_RF_All[d])/len(AUCs_RF_All[d]),2))+')')\n",
    "\n",
    "for d in range(len(D)):\n",
    "    plt.plot(FPR_LR_RF_All[d][0], TPR_LR_RF_All[d][0], label='LR + RF, Mx_Dpth = '+str(D[d])+' (Avg AUC: ' + str(round(sum(AUCs_LR_RF_All[d])/len(AUCs_LR_RF_All[d]),2))+')')\n",
    "\n",
    "#for d in range(len(D)):\n",
    "#    plt.plot(FPR_RF_LR_All[d][0], TPR_RF_LR_All[d][0], label='RF + LR, Mx_Dpth = '+str(D[d])+' (AUC: ' + str(round(sum(AUCs_RF_LR_All[d])/len(AUCs_RF_LR_All[d]),2))+')')\n",
    "\n",
    "\n",
    "plt.xlabel(\"False Positive Rate\")\n",
    "plt.ylabel(\"True Positive Rate\")\n",
    "plt.title(\"CT + ALL CLINICAL\")\n",
    "plt.legend()\n",
    "\n",
    "plt.savefig('CT_ALL_ROC.pdf',bbox_inches='tight')\n",
    "plt.show()"
   ]
  },
  {
   "cell_type": "code",
   "execution_count": 60,
   "metadata": {
    "ExecuteTime": {
     "end_time": "2022-05-11T13:04:42.372236Z",
     "start_time": "2022-05-11T13:04:42.082087Z"
    }
   },
   "outputs": [
    {
     "data": {
      "image/png": "[encoded data removed]",
      "text/plain": [
       "<Figure size 432x288 with 1 Axes>"
      ]
     },
     "metadata": {
      "needs_background": "light"
     },
     "output_type": "display_data"
    }
   ],
   "source": [
    "data = [AUCs_LR] +  [ AUCs_RF_All[d] for d in range(len(D))] + [ AUCs_LR_RF_All[d] for d in range(len(D))]\n",
    "Labs = [\"Lin Reg\"] + [ \"RF\\nMX_Dpth: \" + str(D[d]) for d in range(len(D))] + [ \"LR + RF\\nMX_Dpth: \" + str(D[d]) for d in range(len(D))]\n",
    " \n",
    "fig = plt.figure()\n",
    " \n",
    "# Creating axes instance\n",
    "ax = fig.add_axes([0, 0, 1, 1])\n",
    " \n",
    "# Creating plot\n",
    "bp = ax.boxplot(data,showmeans=True)\n",
    "\n",
    "ax.set_title('AUC Values from Cross-Validation')\n",
    "ax.set_xlabel('Method')\n",
    "ax.set_ylabel('AUC Value')\n",
    "\n",
    "plt.xticks(list(range(1,1+len(data))), Labs)\n",
    "ax.set_xticklabels(Labs, rotation = 90)\n",
    " \n",
    "plt.savefig('CT_ALL_BW.pdf',bbox_inches='tight')\n",
    "plt.show()"
   ]
  },
  {
   "cell_type": "markdown",
   "metadata": {},
   "source": [
    "# BIO AGE"
   ]
  },
  {
   "cell_type": "code",
   "execution_count": 62,
   "metadata": {
    "ExecuteTime": {
     "end_time": "2022-05-11T13:23:32.334347Z",
     "start_time": "2022-05-11T13:23:32.318239Z"
    }
   },
   "outputs": [],
   "source": [
    "def NN_Age(train,test_original,cols,k):\n",
    "    \n",
    "    cols = cols #+ [\"risk_prob\"]\n",
    "    cols2 = cols + [\"Sex\"]\n",
    "    test = test_original.loc[:,cols2]\n",
    "\n",
    "    train_sex = {s:train.loc[(train[\"Sex\"] == s),:].copy() for s in range(2)}\n",
    "    train_sex[0][\"dist\"] = 0\n",
    "    train_sex[1][\"dist\"] = 0\n",
    "    \n",
    "    for c in cols:\n",
    "        std_val = [0,0]\n",
    "        for s in range(2):\n",
    "            std_val[s] = train_sex[s][c].std()\n",
    "            train_sex[s].loc[:,c] = train_sex[s].loc[:,c]/std_val[s]\n",
    "        for r in test.index:\n",
    "            s = test.loc[r,\"Sex\"]\n",
    "            test.loc[r,c] = test.loc[r,c]/std_val[s]\n",
    "\n",
    "    test[\"dist\"] = 0\n",
    "    for r in test.index:\n",
    "        \n",
    "        s = test.loc[r,\"Sex\"]\n",
    "        train_sex[s][\"dist\"] = 0\n",
    "        for c in cols:\n",
    "            train_sex[s].loc[:,\"dist\"] += (train_sex[s].loc[:,c] - float(test.loc[r,c]))**2\n",
    "        \n",
    "        after_sort = train_sex[s].sort_values(\"dist\")\n",
    "        \n",
    "        test.loc[r,\"pred_age\"] = (after_sort[\"Age at CT\"].iloc[0:k]).mean()\n",
    "        \n",
    "    print(\"done\")\n",
    "    return test[\"pred_age\"] "
   ]
  },
  {
   "cell_type": "code",
   "execution_count": 63,
   "metadata": {
    "ExecuteTime": {
     "end_time": "2022-05-11T13:23:34.003138Z",
     "start_time": "2022-05-11T13:23:33.287278Z"
    }
   },
   "outputs": [],
   "source": [
    "prob_list, list_y = LR_RF2(data_cleaned,data_cleaned,data_cleaned,5)"
   ]
  },
  {
   "cell_type": "code",
   "execution_count": 64,
   "metadata": {
    "ExecuteTime": {
     "end_time": "2022-05-11T13:23:38.237009Z",
     "start_time": "2022-05-11T13:23:38.204830Z"
    }
   },
   "outputs": [
    {
     "data": {
      "text/html": [
       "<div>\n",
       "<style scoped>\n",
       "    .dataframe tbody tr th:only-of-type {\n",
       "        vertical-align: middle;\n",
       "    }\n",
       "\n",
       "    .dataframe tbody tr th {\n",
       "        vertical-align: top;\n",
       "    }\n",
       "\n",
       "    .dataframe thead th {\n",
       "        text-align: right;\n",
       "    }\n",
       "</style>\n",
       "<table border=\"1\" class=\"dataframe\">\n",
       "  <thead>\n",
       "    <tr style=\"text-align: right;\">\n",
       "      <th></th>\n",
       "      <th>index</th>\n",
       "      <th>Clinical F/U interval  [d from CT]</th>\n",
       "      <th>BMI</th>\n",
       "      <th>BMI &gt;30</th>\n",
       "      <th>Sex</th>\n",
       "      <th>Age at CT</th>\n",
       "      <th>Tobacco</th>\n",
       "      <th>FRS 10-year risk (%)</th>\n",
       "      <th>FRAX 10y Fx Prob (Orange-w/ DXA)</th>\n",
       "      <th>FRAX 10y Hip Fx Prob (Orange-w/ DXA)</th>\n",
       "      <th>...</th>\n",
       "      <th>DEATH_FLAG</th>\n",
       "      <th>Fold</th>\n",
       "      <th>risk_prob</th>\n",
       "      <th>Bone_Bio_Age</th>\n",
       "      <th>Fat_Bio_Age</th>\n",
       "      <th>Muscle_Bio_Age</th>\n",
       "      <th>Aortic_Bio_Age</th>\n",
       "      <th>Liver_Bio_Age</th>\n",
       "      <th>Bio_Age</th>\n",
       "      <th>Age_Adjustment_Days</th>\n",
       "    </tr>\n",
       "  </thead>\n",
       "  <tbody>\n",
       "    <tr>\n",
       "      <th>0</th>\n",
       "      <td>4989</td>\n",
       "      <td>4920.0</td>\n",
       "      <td>24.6</td>\n",
       "      <td>0</td>\n",
       "      <td>0</td>\n",
       "      <td>54.0</td>\n",
       "      <td>0</td>\n",
       "      <td>0.005</td>\n",
       "      <td>7.24</td>\n",
       "      <td>0.60</td>\n",
       "      <td>...</td>\n",
       "      <td>0</td>\n",
       "      <td>0</td>\n",
       "      <td>0.019310</td>\n",
       "      <td>53.557143</td>\n",
       "      <td>55.828571</td>\n",
       "      <td>54.871429</td>\n",
       "      <td>53.857143</td>\n",
       "      <td>53.314286</td>\n",
       "      <td>51.542497</td>\n",
       "      <td>-896.988733</td>\n",
       "    </tr>\n",
       "    <tr>\n",
       "      <th>1</th>\n",
       "      <td>5056</td>\n",
       "      <td>4769.0</td>\n",
       "      <td>49.6</td>\n",
       "      <td>1</td>\n",
       "      <td>0</td>\n",
       "      <td>44.0</td>\n",
       "      <td>1</td>\n",
       "      <td>0.005</td>\n",
       "      <td>1.19</td>\n",
       "      <td>0.04</td>\n",
       "      <td>...</td>\n",
       "      <td>0</td>\n",
       "      <td>1</td>\n",
       "      <td>0.041699</td>\n",
       "      <td>53.828571</td>\n",
       "      <td>54.514286</td>\n",
       "      <td>54.171429</td>\n",
       "      <td>56.257143</td>\n",
       "      <td>56.428571</td>\n",
       "      <td>42.919548</td>\n",
       "      <td>-394.364845</td>\n",
       "    </tr>\n",
       "    <tr>\n",
       "      <th>3</th>\n",
       "      <td>1038</td>\n",
       "      <td>5033.0</td>\n",
       "      <td>30.9</td>\n",
       "      <td>1</td>\n",
       "      <td>1</td>\n",
       "      <td>49.0</td>\n",
       "      <td>0</td>\n",
       "      <td>0.010</td>\n",
       "      <td>2.37</td>\n",
       "      <td>0.08</td>\n",
       "      <td>...</td>\n",
       "      <td>0</td>\n",
       "      <td>3</td>\n",
       "      <td>0.026744</td>\n",
       "      <td>54.985714</td>\n",
       "      <td>55.771429</td>\n",
       "      <td>53.157143</td>\n",
       "      <td>54.742857</td>\n",
       "      <td>53.700000</td>\n",
       "      <td>50.132492</td>\n",
       "      <td>413.359442</td>\n",
       "    </tr>\n",
       "    <tr>\n",
       "      <th>4</th>\n",
       "      <td>2248</td>\n",
       "      <td>4146.0</td>\n",
       "      <td>36.1</td>\n",
       "      <td>1</td>\n",
       "      <td>1</td>\n",
       "      <td>50.0</td>\n",
       "      <td>1</td>\n",
       "      <td>0.060</td>\n",
       "      <td>2.24</td>\n",
       "      <td>0.10</td>\n",
       "      <td>...</td>\n",
       "      <td>0</td>\n",
       "      <td>4</td>\n",
       "      <td>0.045254</td>\n",
       "      <td>58.585714</td>\n",
       "      <td>55.971429</td>\n",
       "      <td>53.171429</td>\n",
       "      <td>57.871429</td>\n",
       "      <td>58.128571</td>\n",
       "      <td>43.396831</td>\n",
       "      <td>-2410.156762</td>\n",
       "    </tr>\n",
       "    <tr>\n",
       "      <th>5</th>\n",
       "      <td>7031</td>\n",
       "      <td>2119.0</td>\n",
       "      <td>39.5</td>\n",
       "      <td>1</td>\n",
       "      <td>0</td>\n",
       "      <td>73.0</td>\n",
       "      <td>1</td>\n",
       "      <td>0.050</td>\n",
       "      <td>9.41</td>\n",
       "      <td>2.43</td>\n",
       "      <td>...</td>\n",
       "      <td>0</td>\n",
       "      <td>0</td>\n",
       "      <td>0.084358</td>\n",
       "      <td>62.185714</td>\n",
       "      <td>55.828571</td>\n",
       "      <td>56.571429</td>\n",
       "      <td>62.528571</td>\n",
       "      <td>59.285714</td>\n",
       "      <td>74.246299</td>\n",
       "      <td>454.899107</td>\n",
       "    </tr>\n",
       "    <tr>\n",
       "      <th>...</th>\n",
       "      <td>...</td>\n",
       "      <td>...</td>\n",
       "      <td>...</td>\n",
       "      <td>...</td>\n",
       "      <td>...</td>\n",
       "      <td>...</td>\n",
       "      <td>...</td>\n",
       "      <td>...</td>\n",
       "      <td>...</td>\n",
       "      <td>...</td>\n",
       "      <td>...</td>\n",
       "      <td>...</td>\n",
       "      <td>...</td>\n",
       "      <td>...</td>\n",
       "      <td>...</td>\n",
       "      <td>...</td>\n",
       "      <td>...</td>\n",
       "      <td>...</td>\n",
       "      <td>...</td>\n",
       "      <td>...</td>\n",
       "      <td>...</td>\n",
       "    </tr>\n",
       "    <tr>\n",
       "      <th>9215</th>\n",
       "      <td>24</td>\n",
       "      <td>1063.0</td>\n",
       "      <td>25.7</td>\n",
       "      <td>0</td>\n",
       "      <td>1</td>\n",
       "      <td>88.0</td>\n",
       "      <td>1</td>\n",
       "      <td>0.160</td>\n",
       "      <td>16.25</td>\n",
       "      <td>11.64</td>\n",
       "      <td>...</td>\n",
       "      <td>1</td>\n",
       "      <td>0</td>\n",
       "      <td>0.500357</td>\n",
       "      <td>71.771429</td>\n",
       "      <td>74.142857</td>\n",
       "      <td>73.914286</td>\n",
       "      <td>72.742857</td>\n",
       "      <td>72.728571</td>\n",
       "      <td>96.340816</td>\n",
       "      <td>3044.397946</td>\n",
       "    </tr>\n",
       "    <tr>\n",
       "      <th>9216</th>\n",
       "      <td>3967</td>\n",
       "      <td>854.0</td>\n",
       "      <td>19.8</td>\n",
       "      <td>0</td>\n",
       "      <td>0</td>\n",
       "      <td>66.0</td>\n",
       "      <td>1</td>\n",
       "      <td>0.020</td>\n",
       "      <td>14.79</td>\n",
       "      <td>5.69</td>\n",
       "      <td>...</td>\n",
       "      <td>1</td>\n",
       "      <td>1</td>\n",
       "      <td>0.289317</td>\n",
       "      <td>70.000000</td>\n",
       "      <td>68.400000</td>\n",
       "      <td>69.471429</td>\n",
       "      <td>67.028571</td>\n",
       "      <td>69.985714</td>\n",
       "      <td>82.371316</td>\n",
       "      <td>5975.530195</td>\n",
       "    </tr>\n",
       "    <tr>\n",
       "      <th>9218</th>\n",
       "      <td>3562</td>\n",
       "      <td>2401.0</td>\n",
       "      <td>26.6</td>\n",
       "      <td>0</td>\n",
       "      <td>0</td>\n",
       "      <td>88.0</td>\n",
       "      <td>0</td>\n",
       "      <td>0.050</td>\n",
       "      <td>27.79</td>\n",
       "      <td>14.42</td>\n",
       "      <td>...</td>\n",
       "      <td>1</td>\n",
       "      <td>3</td>\n",
       "      <td>0.518235</td>\n",
       "      <td>73.857143</td>\n",
       "      <td>73.471429</td>\n",
       "      <td>74.800000</td>\n",
       "      <td>72.700000</td>\n",
       "      <td>73.900000</td>\n",
       "      <td>94.207193</td>\n",
       "      <td>2265.625463</td>\n",
       "    </tr>\n",
       "    <tr>\n",
       "      <th>9221</th>\n",
       "      <td>612</td>\n",
       "      <td>3937.0</td>\n",
       "      <td>28.4</td>\n",
       "      <td>0</td>\n",
       "      <td>1</td>\n",
       "      <td>64.0</td>\n",
       "      <td>0</td>\n",
       "      <td>0.060</td>\n",
       "      <td>4.96</td>\n",
       "      <td>0.55</td>\n",
       "      <td>...</td>\n",
       "      <td>1</td>\n",
       "      <td>1</td>\n",
       "      <td>0.105566</td>\n",
       "      <td>63.342857</td>\n",
       "      <td>60.028571</td>\n",
       "      <td>64.285714</td>\n",
       "      <td>59.928571</td>\n",
       "      <td>62.514286</td>\n",
       "      <td>70.920983</td>\n",
       "      <td>2526.158719</td>\n",
       "    </tr>\n",
       "    <tr>\n",
       "      <th>9222</th>\n",
       "      <td>5879</td>\n",
       "      <td>3530.0</td>\n",
       "      <td>26.6</td>\n",
       "      <td>0</td>\n",
       "      <td>1</td>\n",
       "      <td>51.0</td>\n",
       "      <td>1</td>\n",
       "      <td>0.060</td>\n",
       "      <td>3.15</td>\n",
       "      <td>0.19</td>\n",
       "      <td>...</td>\n",
       "      <td>1</td>\n",
       "      <td>2</td>\n",
       "      <td>0.035546</td>\n",
       "      <td>58.128571</td>\n",
       "      <td>54.928571</td>\n",
       "      <td>55.385714</td>\n",
       "      <td>60.385714</td>\n",
       "      <td>59.142857</td>\n",
       "      <td>60.365193</td>\n",
       "      <td>3418.295426</td>\n",
       "    </tr>\n",
       "  </tbody>\n",
       "</table>\n",
       "<p>7049 rows × 39 columns</p>\n",
       "</div>"
      ],
      "text/plain": [
       "      index  Clinical F/U interval  [d from CT]   BMI BMI >30 Sex  Age at CT  \\\n",
       "0      4989                              4920.0  24.6       0   0       54.0   \n",
       "1      5056                              4769.0  49.6       1   0       44.0   \n",
       "3      1038                              5033.0  30.9       1   1       49.0   \n",
       "4      2248                              4146.0  36.1       1   1       50.0   \n",
       "5      7031                              2119.0  39.5       1   0       73.0   \n",
       "...     ...                                 ...   ...     ...  ..        ...   \n",
       "9215     24                              1063.0  25.7       0   1       88.0   \n",
       "9216   3967                               854.0  19.8       0   0       66.0   \n",
       "9218   3562                              2401.0  26.6       0   0       88.0   \n",
       "9221    612                              3937.0  28.4       0   1       64.0   \n",
       "9222   5879                              3530.0  26.6       0   1       51.0   \n",
       "\n",
       "     Tobacco  FRS 10-year risk (%)  FRAX 10y Fx Prob (Orange-w/ DXA)  \\\n",
       "0          0                 0.005                              7.24   \n",
       "1          1                 0.005                              1.19   \n",
       "3          0                 0.010                              2.37   \n",
       "4          1                 0.060                              2.24   \n",
       "5          1                 0.050                              9.41   \n",
       "...      ...                   ...                               ...   \n",
       "9215       1                 0.160                             16.25   \n",
       "9216       1                 0.020                             14.79   \n",
       "9218       0                 0.050                             27.79   \n",
       "9221       0                 0.060                              4.96   \n",
       "9222       1                 0.060                              3.15   \n",
       "\n",
       "      FRAX 10y Hip Fx Prob (Orange-w/ DXA)  ... DEATH_FLAG  Fold  risk_prob  \\\n",
       "0                                     0.60  ...          0     0   0.019310   \n",
       "1                                     0.04  ...          0     1   0.041699   \n",
       "3                                     0.08  ...          0     3   0.026744   \n",
       "4                                     0.10  ...          0     4   0.045254   \n",
       "5                                     2.43  ...          0     0   0.084358   \n",
       "...                                    ...  ...        ...   ...        ...   \n",
       "9215                                 11.64  ...          1     0   0.500357   \n",
       "9216                                  5.69  ...          1     1   0.289317   \n",
       "9218                                 14.42  ...          1     3   0.518235   \n",
       "9221                                  0.55  ...          1     1   0.105566   \n",
       "9222                                  0.19  ...          1     2   0.035546   \n",
       "\n",
       "      Bone_Bio_Age  Fat_Bio_Age  Muscle_Bio_Age  Aortic_Bio_Age  \\\n",
       "0        53.557143    55.828571       54.871429       53.857143   \n",
       "1        53.828571    54.514286       54.171429       56.257143   \n",
       "3        54.985714    55.771429       53.157143       54.742857   \n",
       "4        58.585714    55.971429       53.171429       57.871429   \n",
       "5        62.185714    55.828571       56.571429       62.528571   \n",
       "...            ...          ...             ...             ...   \n",
       "9215     71.771429    74.142857       73.914286       72.742857   \n",
       "9216     70.000000    68.400000       69.471429       67.028571   \n",
       "9218     73.857143    73.471429       74.800000       72.700000   \n",
       "9221     63.342857    60.028571       64.285714       59.928571   \n",
       "9222     58.128571    54.928571       55.385714       60.385714   \n",
       "\n",
       "      Liver_Bio_Age    Bio_Age  Age_Adjustment_Days  \n",
       "0         53.314286  51.542497          -896.988733  \n",
       "1         56.428571  42.919548          -394.364845  \n",
       "3         53.700000  50.132492           413.359442  \n",
       "4         58.128571  43.396831         -2410.156762  \n",
       "5         59.285714  74.246299           454.899107  \n",
       "...             ...        ...                  ...  \n",
       "9215      72.728571  96.340816          3044.397946  \n",
       "9216      69.985714  82.371316          5975.530195  \n",
       "9218      73.900000  94.207193          2265.625463  \n",
       "9221      62.514286  70.920983          2526.158719  \n",
       "9222      59.142857  60.365193          3418.295426  \n",
       "\n",
       "[7049 rows x 39 columns]"
      ]
     },
     "execution_count": 64,
     "metadata": {},
     "output_type": "execute_result"
    }
   ],
   "source": [
    "data_cleaned"
   ]
  },
  {
   "cell_type": "code",
   "execution_count": 65,
   "metadata": {
    "ExecuteTime": {
     "end_time": "2022-05-11T13:25:37.567484Z",
     "start_time": "2022-05-11T13:23:39.295043Z"
    }
   },
   "outputs": [
    {
     "name": "stdout",
     "output_type": "stream",
     "text": [
      "0\n",
      "done\n",
      "done\n",
      "done\n",
      "done\n",
      "done\n",
      "done\n",
      "done\n",
      "done\n",
      "done\n",
      "done\n",
      "done\n",
      "done\n",
      "done\n",
      "done\n",
      "done\n",
      "1\n",
      "done\n",
      "done\n",
      "done\n",
      "done\n",
      "done\n",
      "done\n",
      "done\n",
      "done\n",
      "done\n",
      "done\n",
      "done\n",
      "done\n",
      "done\n",
      "done\n",
      "done\n",
      "2\n",
      "done\n",
      "done\n",
      "done\n",
      "done\n",
      "done\n",
      "done\n",
      "done\n",
      "done\n",
      "done\n",
      "done\n",
      "done\n",
      "done\n",
      "done\n",
      "done\n",
      "done\n",
      "3\n",
      "done\n",
      "done\n",
      "done\n",
      "done\n",
      "done\n",
      "done\n",
      "done\n",
      "done\n",
      "done\n",
      "done\n",
      "done\n",
      "done\n",
      "done\n",
      "done\n",
      "done\n",
      "4\n",
      "done\n",
      "done\n",
      "done\n",
      "done\n",
      "done\n",
      "done\n",
      "done\n",
      "done\n",
      "done\n",
      "done\n",
      "done\n",
      "done\n",
      "done\n",
      "done\n",
      "done\n"
     ]
    }
   ],
   "source": [
    "tested = []\n",
    "for f in range(Folds):\n",
    "    train = data_cleaned.loc[(data_cleaned[\"Fold\"] != f),]\n",
    "    \n",
    "    # estimate risk prob\n",
    "    prob_list, list_y = LR_RF2(train,train,data_cleaned,5)\n",
    "    data_cleaned[\"risk_prob\"] = prob_list\n",
    "    test = data_cleaned.loc[(data_cleaned[\"Fold\"] == f),] #split train and test data\n",
    "    train = data_cleaned.loc[(data_cleaned[\"Fold\"] != f),]\n",
    "    \n",
    "    print(f)\n",
    "    # knn\n",
    "    k = 70\n",
    "    test = test.copy()\n",
    "    test[\"Bone_Bio_Age\"] = NN_Age(train,test,bone_measures,k) # Get the system ages for the test data using train.\n",
    "    test[\"Fat_Bio_Age\"] = NN_Age(train,test,fat_measures,k)\n",
    "    test[\"Muscle_Bio_Age\"] = NN_Age(train,test,muscle_measures,k)\n",
    "    test[\"Aortic_Bio_Age\"] = NN_Age(train,test,aortic_measures,k)\n",
    "    test[\"Liver_Bio_Age\"] = NN_Age(train,test,liver_measures,k)\n",
    "    \n",
    "    random.seed(20)\n",
    "\n",
    "    sample_people = train.copy()\n",
    "    sample_people[\"decade\"] = round(sample_people[\"Age at CT\"],-1)\n",
    "\n",
    "    sample = [] \n",
    "    for f in list(sample_people[\"decade\"].unique()):\n",
    "        inds = list(sample_people.loc[sample_people[\"decade\"]==f,:].index)\n",
    "        sample += list(random.sample(inds, min(10,len(inds))))\n",
    "        \n",
    "    age_measures = [\"Bone_Bio_Age\",\"Fat_Bio_Age\",\"Muscle_Bio_Age\",\"Aortic_Bio_Age\",\"Liver_Bio_Age\"]\n",
    "\n",
    "    Females_Data = train.loc[(train[\"Sex\"] == 0),:]\n",
    "    Males_Data = train.loc[(train[\"Sex\"] == 1),:]\n",
    "\n",
    "    Females_Data_samp = train.loc[(train.index.isin(sample))&(train[\"Sex\"] == 0),:]\n",
    "    Males_Data_samp = train.loc[(train.index.isin(sample))&(train[\"Sex\"] == 1),:]\n",
    "\n",
    "    Females_Data_samp = Females_Data_samp.copy()\n",
    "    Females_Data_samp[\"Bone_Bio_Age\"] = NN_Age(train,Females_Data_samp,bone_measures,k)\n",
    "    Females_Data_samp[\"Fat_Bio_Age\"] = NN_Age(train,Females_Data_samp,fat_measures,k)\n",
    "    Females_Data_samp[\"Muscle_Bio_Age\"] = NN_Age(train,Females_Data_samp,muscle_measures,k)\n",
    "    Females_Data_samp[\"Aortic_Bio_Age\"] = NN_Age(train,Females_Data_samp,aortic_measures,k)\n",
    "    Females_Data_samp[\"Liver_Bio_Age\"] = NN_Age(train,Females_Data_samp,liver_measures,k)\n",
    "    Males_Data_samp = Males_Data_samp.copy()\n",
    "    Males_Data_samp[\"Bone_Bio_Age\"] = NN_Age(train,Males_Data_samp,bone_measures,k)\n",
    "    Males_Data_samp[\"Fat_Bio_Age\"] = NN_Age(train,Males_Data_samp,fat_measures,k)\n",
    "    Males_Data_samp[\"Muscle_Bio_Age\"] = NN_Age(train,Males_Data_samp,muscle_measures,k)\n",
    "    Males_Data_samp[\"Aortic_Bio_Age\"] = NN_Age(train,Males_Data_samp,aortic_measures,k)\n",
    "    Males_Data_samp[\"Liver_Bio_Age\"] = NN_Age(train,Males_Data_samp,liver_measures,k)\n",
    "    \n",
    "    reg = {}\n",
    "    reg[0] = LinearRegression().fit(Females_Data_samp[age_measures],Females_Data_samp[\"Age at CT\"])\n",
    "    reg[1] = LinearRegression().fit(Males_Data_samp[age_measures],Males_Data_samp[\"Age at CT\"])\n",
    "\n",
    "    test.loc[:,\"Bio_Age\"] = 0\n",
    "    for r in test.index:\n",
    "        s = test.loc[r,\"Sex\"]\n",
    "        m = [test.loc[r,i] for i in age_measures]\n",
    "        test.loc[r,\"Bio_Age\"] = reg[s].predict([m])[0]\n",
    "\n",
    "    test[\"Age_Adjustment_Days\"] = 0\n",
    "    test[\"Age_Adjustment_Days\"] = (test[\"Bio_Age\"] - test[\"Age at CT\"])*365\n",
    "    \n",
    "    tested.append(test.copy())\n",
    "\n",
    "    \n",
    "data_cleaned = pd.concat(tested)"
   ]
  },
  {
   "cell_type": "code",
   "execution_count": 66,
   "metadata": {
    "ExecuteTime": {
     "end_time": "2022-05-11T13:28:05.048753Z",
     "start_time": "2022-05-11T13:28:05.015349Z"
    }
   },
   "outputs": [
    {
     "data": {
      "text/html": [
       "<div>\n",
       "<style scoped>\n",
       "    .dataframe tbody tr th:only-of-type {\n",
       "        vertical-align: middle;\n",
       "    }\n",
       "\n",
       "    .dataframe tbody tr th {\n",
       "        vertical-align: top;\n",
       "    }\n",
       "\n",
       "    .dataframe thead th {\n",
       "        text-align: right;\n",
       "    }\n",
       "</style>\n",
       "<table border=\"1\" class=\"dataframe\">\n",
       "  <thead>\n",
       "    <tr style=\"text-align: right;\">\n",
       "      <th></th>\n",
       "      <th>index</th>\n",
       "      <th>Clinical F/U interval  [d from CT]</th>\n",
       "      <th>BMI</th>\n",
       "      <th>BMI &gt;30</th>\n",
       "      <th>Sex</th>\n",
       "      <th>Age at CT</th>\n",
       "      <th>Tobacco</th>\n",
       "      <th>FRS 10-year risk (%)</th>\n",
       "      <th>FRAX 10y Fx Prob (Orange-w/ DXA)</th>\n",
       "      <th>FRAX 10y Hip Fx Prob (Orange-w/ DXA)</th>\n",
       "      <th>...</th>\n",
       "      <th>DEATH_FLAG</th>\n",
       "      <th>Fold</th>\n",
       "      <th>risk_prob</th>\n",
       "      <th>Bone_Bio_Age</th>\n",
       "      <th>Fat_Bio_Age</th>\n",
       "      <th>Muscle_Bio_Age</th>\n",
       "      <th>Aortic_Bio_Age</th>\n",
       "      <th>Liver_Bio_Age</th>\n",
       "      <th>Bio_Age</th>\n",
       "      <th>Age_Adjustment_Days</th>\n",
       "    </tr>\n",
       "  </thead>\n",
       "  <tbody>\n",
       "    <tr>\n",
       "      <th>0</th>\n",
       "      <td>4989</td>\n",
       "      <td>4920.0</td>\n",
       "      <td>24.6</td>\n",
       "      <td>0</td>\n",
       "      <td>0</td>\n",
       "      <td>54.0</td>\n",
       "      <td>0</td>\n",
       "      <td>0.005</td>\n",
       "      <td>7.24</td>\n",
       "      <td>0.60</td>\n",
       "      <td>...</td>\n",
       "      <td>0</td>\n",
       "      <td>0</td>\n",
       "      <td>0.019310</td>\n",
       "      <td>55.157143</td>\n",
       "      <td>56.914286</td>\n",
       "      <td>55.228571</td>\n",
       "      <td>55.000000</td>\n",
       "      <td>55.357143</td>\n",
       "      <td>51.649894</td>\n",
       "      <td>-857.788786</td>\n",
       "    </tr>\n",
       "    <tr>\n",
       "      <th>1</th>\n",
       "      <td>5056</td>\n",
       "      <td>4769.0</td>\n",
       "      <td>49.6</td>\n",
       "      <td>1</td>\n",
       "      <td>0</td>\n",
       "      <td>44.0</td>\n",
       "      <td>1</td>\n",
       "      <td>0.005</td>\n",
       "      <td>1.19</td>\n",
       "      <td>0.04</td>\n",
       "      <td>...</td>\n",
       "      <td>0</td>\n",
       "      <td>1</td>\n",
       "      <td>0.041699</td>\n",
       "      <td>53.457143</td>\n",
       "      <td>56.457143</td>\n",
       "      <td>54.300000</td>\n",
       "      <td>52.900000</td>\n",
       "      <td>57.014286</td>\n",
       "      <td>42.315329</td>\n",
       "      <td>-614.904769</td>\n",
       "    </tr>\n",
       "    <tr>\n",
       "      <th>3</th>\n",
       "      <td>1038</td>\n",
       "      <td>5033.0</td>\n",
       "      <td>30.9</td>\n",
       "      <td>1</td>\n",
       "      <td>1</td>\n",
       "      <td>49.0</td>\n",
       "      <td>0</td>\n",
       "      <td>0.010</td>\n",
       "      <td>2.37</td>\n",
       "      <td>0.08</td>\n",
       "      <td>...</td>\n",
       "      <td>0</td>\n",
       "      <td>3</td>\n",
       "      <td>0.026744</td>\n",
       "      <td>55.100000</td>\n",
       "      <td>58.242857</td>\n",
       "      <td>53.671429</td>\n",
       "      <td>54.642857</td>\n",
       "      <td>54.157143</td>\n",
       "      <td>45.710825</td>\n",
       "      <td>-1200.548804</td>\n",
       "    </tr>\n",
       "    <tr>\n",
       "      <th>4</th>\n",
       "      <td>2248</td>\n",
       "      <td>4146.0</td>\n",
       "      <td>36.1</td>\n",
       "      <td>1</td>\n",
       "      <td>1</td>\n",
       "      <td>50.0</td>\n",
       "      <td>1</td>\n",
       "      <td>0.060</td>\n",
       "      <td>2.24</td>\n",
       "      <td>0.10</td>\n",
       "      <td>...</td>\n",
       "      <td>0</td>\n",
       "      <td>4</td>\n",
       "      <td>0.045254</td>\n",
       "      <td>56.642857</td>\n",
       "      <td>56.742857</td>\n",
       "      <td>53.385714</td>\n",
       "      <td>60.214286</td>\n",
       "      <td>54.242857</td>\n",
       "      <td>53.017340</td>\n",
       "      <td>1101.329027</td>\n",
       "    </tr>\n",
       "    <tr>\n",
       "      <th>5</th>\n",
       "      <td>7031</td>\n",
       "      <td>2119.0</td>\n",
       "      <td>39.5</td>\n",
       "      <td>1</td>\n",
       "      <td>0</td>\n",
       "      <td>73.0</td>\n",
       "      <td>1</td>\n",
       "      <td>0.050</td>\n",
       "      <td>9.41</td>\n",
       "      <td>2.43</td>\n",
       "      <td>...</td>\n",
       "      <td>0</td>\n",
       "      <td>0</td>\n",
       "      <td>0.084358</td>\n",
       "      <td>58.542857</td>\n",
       "      <td>56.600000</td>\n",
       "      <td>56.900000</td>\n",
       "      <td>65.371429</td>\n",
       "      <td>57.785714</td>\n",
       "      <td>67.040041</td>\n",
       "      <td>-2175.385128</td>\n",
       "    </tr>\n",
       "    <tr>\n",
       "      <th>...</th>\n",
       "      <td>...</td>\n",
       "      <td>...</td>\n",
       "      <td>...</td>\n",
       "      <td>...</td>\n",
       "      <td>...</td>\n",
       "      <td>...</td>\n",
       "      <td>...</td>\n",
       "      <td>...</td>\n",
       "      <td>...</td>\n",
       "      <td>...</td>\n",
       "      <td>...</td>\n",
       "      <td>...</td>\n",
       "      <td>...</td>\n",
       "      <td>...</td>\n",
       "      <td>...</td>\n",
       "      <td>...</td>\n",
       "      <td>...</td>\n",
       "      <td>...</td>\n",
       "      <td>...</td>\n",
       "      <td>...</td>\n",
       "      <td>...</td>\n",
       "    </tr>\n",
       "    <tr>\n",
       "      <th>9215</th>\n",
       "      <td>24</td>\n",
       "      <td>1063.0</td>\n",
       "      <td>25.7</td>\n",
       "      <td>0</td>\n",
       "      <td>1</td>\n",
       "      <td>88.0</td>\n",
       "      <td>1</td>\n",
       "      <td>0.160</td>\n",
       "      <td>16.25</td>\n",
       "      <td>11.64</td>\n",
       "      <td>...</td>\n",
       "      <td>1</td>\n",
       "      <td>0</td>\n",
       "      <td>0.500357</td>\n",
       "      <td>66.442857</td>\n",
       "      <td>57.671429</td>\n",
       "      <td>66.342857</td>\n",
       "      <td>67.085714</td>\n",
       "      <td>58.114286</td>\n",
       "      <td>92.065324</td>\n",
       "      <td>1483.843093</td>\n",
       "    </tr>\n",
       "    <tr>\n",
       "      <th>9216</th>\n",
       "      <td>3967</td>\n",
       "      <td>854.0</td>\n",
       "      <td>19.8</td>\n",
       "      <td>0</td>\n",
       "      <td>0</td>\n",
       "      <td>66.0</td>\n",
       "      <td>1</td>\n",
       "      <td>0.020</td>\n",
       "      <td>14.79</td>\n",
       "      <td>5.69</td>\n",
       "      <td>...</td>\n",
       "      <td>1</td>\n",
       "      <td>1</td>\n",
       "      <td>0.289317</td>\n",
       "      <td>59.200000</td>\n",
       "      <td>59.685714</td>\n",
       "      <td>67.057143</td>\n",
       "      <td>54.800000</td>\n",
       "      <td>57.500000</td>\n",
       "      <td>70.967444</td>\n",
       "      <td>1813.117179</td>\n",
       "    </tr>\n",
       "    <tr>\n",
       "      <th>9218</th>\n",
       "      <td>3562</td>\n",
       "      <td>2401.0</td>\n",
       "      <td>26.6</td>\n",
       "      <td>0</td>\n",
       "      <td>0</td>\n",
       "      <td>88.0</td>\n",
       "      <td>0</td>\n",
       "      <td>0.050</td>\n",
       "      <td>27.79</td>\n",
       "      <td>14.42</td>\n",
       "      <td>...</td>\n",
       "      <td>1</td>\n",
       "      <td>3</td>\n",
       "      <td>0.518235</td>\n",
       "      <td>69.571429</td>\n",
       "      <td>59.928571</td>\n",
       "      <td>66.971429</td>\n",
       "      <td>65.800000</td>\n",
       "      <td>55.300000</td>\n",
       "      <td>98.657166</td>\n",
       "      <td>3889.865559</td>\n",
       "    </tr>\n",
       "    <tr>\n",
       "      <th>9221</th>\n",
       "      <td>612</td>\n",
       "      <td>3937.0</td>\n",
       "      <td>28.4</td>\n",
       "      <td>0</td>\n",
       "      <td>1</td>\n",
       "      <td>64.0</td>\n",
       "      <td>0</td>\n",
       "      <td>0.060</td>\n",
       "      <td>4.96</td>\n",
       "      <td>0.55</td>\n",
       "      <td>...</td>\n",
       "      <td>1</td>\n",
       "      <td>1</td>\n",
       "      <td>0.105566</td>\n",
       "      <td>60.228571</td>\n",
       "      <td>58.400000</td>\n",
       "      <td>62.242857</td>\n",
       "      <td>53.142857</td>\n",
       "      <td>56.428571</td>\n",
       "      <td>60.834214</td>\n",
       "      <td>-1155.511816</td>\n",
       "    </tr>\n",
       "    <tr>\n",
       "      <th>9222</th>\n",
       "      <td>5879</td>\n",
       "      <td>3530.0</td>\n",
       "      <td>26.6</td>\n",
       "      <td>0</td>\n",
       "      <td>1</td>\n",
       "      <td>51.0</td>\n",
       "      <td>1</td>\n",
       "      <td>0.060</td>\n",
       "      <td>3.15</td>\n",
       "      <td>0.19</td>\n",
       "      <td>...</td>\n",
       "      <td>1</td>\n",
       "      <td>2</td>\n",
       "      <td>0.035546</td>\n",
       "      <td>56.157143</td>\n",
       "      <td>55.885714</td>\n",
       "      <td>55.228571</td>\n",
       "      <td>62.385714</td>\n",
       "      <td>57.314286</td>\n",
       "      <td>56.331626</td>\n",
       "      <td>1946.043391</td>\n",
       "    </tr>\n",
       "  </tbody>\n",
       "</table>\n",
       "<p>7049 rows × 39 columns</p>\n",
       "</div>"
      ],
      "text/plain": [
       "      index  Clinical F/U interval  [d from CT]   BMI BMI >30 Sex  Age at CT  \\\n",
       "0      4989                              4920.0  24.6       0   0       54.0   \n",
       "1      5056                              4769.0  49.6       1   0       44.0   \n",
       "3      1038                              5033.0  30.9       1   1       49.0   \n",
       "4      2248                              4146.0  36.1       1   1       50.0   \n",
       "5      7031                              2119.0  39.5       1   0       73.0   \n",
       "...     ...                                 ...   ...     ...  ..        ...   \n",
       "9215     24                              1063.0  25.7       0   1       88.0   \n",
       "9216   3967                               854.0  19.8       0   0       66.0   \n",
       "9218   3562                              2401.0  26.6       0   0       88.0   \n",
       "9221    612                              3937.0  28.4       0   1       64.0   \n",
       "9222   5879                              3530.0  26.6       0   1       51.0   \n",
       "\n",
       "     Tobacco  FRS 10-year risk (%)  FRAX 10y Fx Prob (Orange-w/ DXA)  \\\n",
       "0          0                 0.005                              7.24   \n",
       "1          1                 0.005                              1.19   \n",
       "3          0                 0.010                              2.37   \n",
       "4          1                 0.060                              2.24   \n",
       "5          1                 0.050                              9.41   \n",
       "...      ...                   ...                               ...   \n",
       "9215       1                 0.160                             16.25   \n",
       "9216       1                 0.020                             14.79   \n",
       "9218       0                 0.050                             27.79   \n",
       "9221       0                 0.060                              4.96   \n",
       "9222       1                 0.060                              3.15   \n",
       "\n",
       "      FRAX 10y Hip Fx Prob (Orange-w/ DXA)  ... DEATH_FLAG  Fold  risk_prob  \\\n",
       "0                                     0.60  ...          0     0   0.019310   \n",
       "1                                     0.04  ...          0     1   0.041699   \n",
       "3                                     0.08  ...          0     3   0.026744   \n",
       "4                                     0.10  ...          0     4   0.045254   \n",
       "5                                     2.43  ...          0     0   0.084358   \n",
       "...                                    ...  ...        ...   ...        ...   \n",
       "9215                                 11.64  ...          1     0   0.500357   \n",
       "9216                                  5.69  ...          1     1   0.289317   \n",
       "9218                                 14.42  ...          1     3   0.518235   \n",
       "9221                                  0.55  ...          1     1   0.105566   \n",
       "9222                                  0.19  ...          1     2   0.035546   \n",
       "\n",
       "      Bone_Bio_Age  Fat_Bio_Age  Muscle_Bio_Age  Aortic_Bio_Age  \\\n",
       "0        55.157143    56.914286       55.228571       55.000000   \n",
       "1        53.457143    56.457143       54.300000       52.900000   \n",
       "3        55.100000    58.242857       53.671429       54.642857   \n",
       "4        56.642857    56.742857       53.385714       60.214286   \n",
       "5        58.542857    56.600000       56.900000       65.371429   \n",
       "...            ...          ...             ...             ...   \n",
       "9215     66.442857    57.671429       66.342857       67.085714   \n",
       "9216     59.200000    59.685714       67.057143       54.800000   \n",
       "9218     69.571429    59.928571       66.971429       65.800000   \n",
       "9221     60.228571    58.400000       62.242857       53.142857   \n",
       "9222     56.157143    55.885714       55.228571       62.385714   \n",
       "\n",
       "      Liver_Bio_Age    Bio_Age  Age_Adjustment_Days  \n",
       "0         55.357143  51.649894          -857.788786  \n",
       "1         57.014286  42.315329          -614.904769  \n",
       "3         54.157143  45.710825         -1200.548804  \n",
       "4         54.242857  53.017340          1101.329027  \n",
       "5         57.785714  67.040041         -2175.385128  \n",
       "...             ...        ...                  ...  \n",
       "9215      58.114286  92.065324          1483.843093  \n",
       "9216      57.500000  70.967444          1813.117179  \n",
       "9218      55.300000  98.657166          3889.865559  \n",
       "9221      56.428571  60.834214         -1155.511816  \n",
       "9222      57.314286  56.331626          1946.043391  \n",
       "\n",
       "[7049 rows x 39 columns]"
      ]
     },
     "execution_count": 66,
     "metadata": {},
     "output_type": "execute_result"
    }
   ],
   "source": [
    "data_cleaned = data_cleaned.sort_index()\n",
    "data_cleaned"
   ]
  },
  {
   "cell_type": "code",
   "execution_count": 69,
   "metadata": {
    "ExecuteTime": {
     "end_time": "2022-05-11T18:30:51.846865Z",
     "start_time": "2022-05-11T18:30:51.593312Z"
    }
   },
   "outputs": [
    {
     "data": {
      "text/plain": [
       "<matplotlib.legend.Legend at 0x1975f89a670>"
      ]
     },
     "execution_count": 69,
     "metadata": {},
     "output_type": "execute_result"
    },
    {
     "data": {
      "image/png": "[encoded data removed]",
      "text/plain": [
       "<Figure size 576x576 with 1 Axes>"
      ]
     },
     "metadata": {
      "needs_background": "light"
     },
     "output_type": "display_data"
    }
   ],
   "source": [
    "min_temp = min(list(data_cleaned[\"Age at CT\"])+list(data_cleaned[\"Bio_Age\"]))\n",
    "max_temp =  max(list(data_cleaned[\"Age at CT\"])+list(data_cleaned[\"Bio_Age\"]))\n",
    "\n",
    "plt.figure(figsize=(8, 8))\n",
    "lived = (data_cleaned[\"DEATH_FLAG\"] == 0)\n",
    "dead = (data_cleaned[\"DEATH_FLAG\"] == 1)\n",
    "\n",
    "plt.plot([min_temp,max_temp ],[min_temp,max_temp],color = \"red\")\n",
    "\n",
    "plt.scatter( list(data_cleaned.loc[lived , \"Age at CT\"]), list(data_cleaned.loc[lived ,\"Bio_Age\"]),label = \"Lived\")\n",
    "plt.scatter( list(data_cleaned.loc[dead,\"Age at CT\"]), list(data_cleaned.loc[dead,\"Bio_Age\"]),label = \"Died\")\n",
    "\n",
    "plt.xlabel(\"Actual Age\")\n",
    "plt.ylabel(\"Biological Age\")\n",
    "plt.legend()\n"
   ]
  },
  {
   "cell_type": "code",
   "execution_count": 68,
   "metadata": {
    "ExecuteTime": {
     "end_time": "2022-05-11T13:28:07.691362Z",
     "start_time": "2022-05-11T13:28:06.861088Z"
    }
   },
   "outputs": [
    {
     "name": "stdout",
     "output_type": "stream",
     "text": [
      "offset=-2.2665332226506814\n",
      "dead=0.6176470588235294  total:68\n",
      "dead_diff=4.803890810935991  total:68\n",
      "lived=0.4639940608760208  total:1347\n",
      "lived_diff=-0.2425126764243824  total:1347\n",
      "\n",
      "\n",
      "offset=-1.7365776305326195\n",
      "dead=0.6533333333333333  total:75\n",
      "dead_diff=4.11429368386726  total:75\n",
      "lived=0.4503311258278146  total:1359\n",
      "lived_diff=-0.2270581503238004  total:1359\n",
      "\n",
      "\n",
      "offset=-3.2312611231262935\n",
      "dead=0.618421052631579  total:76\n",
      "dead_diff=3.4958509417434187  total:76\n",
      "lived=0.4431988041853513  total:1338\n",
      "lived_diff=-0.1985685138807896  total:1338\n",
      "\n",
      "\n",
      "offset=-2.81358998042154\n",
      "dead=0.5866666666666667  total:75\n",
      "dead_diff=3.2850734054158433  total:75\n",
      "lived=0.4520754716981132  total:1325\n",
      "lived_diff=-0.18594755124995468  total:1325\n",
      "\n",
      "\n",
      "offset=-4.469370946539793\n",
      "dead=0.5205479452054794  total:73\n",
      "dead_diff=3.459002524284973  total:73\n",
      "lived=0.43107387661843105  total:1313\n",
      "lived_diff=-0.19231316395491613  total:1313\n",
      "\n",
      "\n"
     ]
    }
   ],
   "source": [
    "for f in range(Folds):\n",
    "    diff = []\n",
    "    for r in data_cleaned.index:\n",
    "        if data_cleaned.loc[r,\"Fold\"] == f:\n",
    "            diff.append(data_cleaned.loc[r,\"Bio_Age\"] - data_cleaned.loc[r,\"Age at CT\"])\n",
    "    offset = sum(diff)/len(diff)\n",
    "    print(f'offset={offset}')\n",
    "    \n",
    "    bio_age_under_died = 0\n",
    "    bio_age_over_died= 0 \n",
    "    bio_age_over_died_age= 0 \n",
    "    bio_age_under_lived = 0\n",
    "    bio_age_over_lived = 0 \n",
    "\n",
    "    lived_age_diff = 0\n",
    "    died_age_diff = 0\n",
    "\n",
    "    dead_list = []\n",
    "    lived_list = []\n",
    "\n",
    "    for r in data_cleaned.index:\n",
    "        if data_cleaned.loc[r,\"Fold\"] == f:\n",
    "            flag_sum = data_cleaned.loc[r,\"CARD_FLAG\"] + data_cleaned.loc[r,\"DIA_FLAG\"] + data_cleaned.loc[r,\"FEM_FLAG\"] + data_cleaned.loc[r,\"ALZ_FLAG\"] + data_cleaned.loc[r,\"CANCER_FLAG\"]\n",
    "            if data_cleaned.loc[r,\"DEATH_FLAG\"] == 1:\n",
    "                dead_list.append(data_cleaned.loc[r,\"Bio_Age\"])\n",
    "                died_age_diff += data_cleaned.loc[r,\"Bio_Age\"] - data_cleaned.loc[r,\"Age at CT\"] - offset\n",
    "                \n",
    "                if data_cleaned.loc[r,\"Age at CT\"] > data_cleaned.loc[r,\"Bio_Age\"] - offset:\n",
    "                    bio_age_under_died += 1\n",
    "                else:\n",
    "                    bio_age_over_died += 1\n",
    "\n",
    "            else:\n",
    "                lived_list.append(data_cleaned.loc[r,\"Bio_Age\"])\n",
    "                lived_age_diff += data_cleaned.loc[r,\"Bio_Age\"] - data_cleaned.loc[r,\"Age at CT\"] - offset\n",
    "                if data_cleaned.loc[r,\"Age at CT\"] > data_cleaned.loc[r,\"Bio_Age\"] - offset:\n",
    "                    bio_age_under_lived += 1\n",
    "                else:\n",
    "                    bio_age_over_lived += 1\n",
    "\n",
    "    print(f'dead={bio_age_over_died / (bio_age_over_died + bio_age_under_died)}  total:{bio_age_over_died + bio_age_under_died}')\n",
    "    print(f'dead_diff={died_age_diff / (bio_age_over_died + bio_age_under_died)}  total:{bio_age_over_died + bio_age_under_died}')\n",
    "   \n",
    "\n",
    "    print(f'lived={bio_age_over_lived / (bio_age_over_lived + bio_age_under_lived)}  total:{bio_age_over_lived + bio_age_under_lived}')\n",
    "    print(f'lived_diff={lived_age_diff / (bio_age_over_lived + bio_age_under_lived)}  total:{bio_age_over_lived + bio_age_under_lived}')\n",
    "   \n",
    "    \n",
    "    print('\\n')\n"
   ]
  },
  {
   "cell_type": "code",
   "execution_count": 45,
   "metadata": {
    "ExecuteTime": {
     "end_time": "2022-05-11T12:43:50.974591Z",
     "start_time": "2022-05-11T12:43:50.565304Z"
    }
   },
   "outputs": [
    {
     "name": "stdout",
     "output_type": "stream",
     "text": [
      "0.6839237057220708\n",
      "0.4971565399580964\n",
      "6.733063853891509\n",
      "0.7462011259753348\n"
     ]
    }
   ],
   "source": [
    "#offset = -0\n",
    "bio_age_under_died = 0\n",
    "bio_age_over_died= 0 \n",
    "bio_age_over_died_age= 0 \n",
    "bio_age_under_lived = 0\n",
    "bio_age_over_lived = 0 \n",
    "\n",
    "lived_age_diff = 0\n",
    "died_age_diff = 0\n",
    "\n",
    "dead_list = []\n",
    "lived_list = []\n",
    "\n",
    "for r in data_cleaned.index:\n",
    "    flag_sum = data_cleaned.loc[r,\"CARD_FLAG\"] + data_cleaned.loc[r,\"DIA_FLAG\"] + data_cleaned.loc[r,\"FEM_FLAG\"] + data_cleaned.loc[r,\"ALZ_FLAG\"] + data_cleaned.loc[r,\"CANCER_FLAG\"]\n",
    "    if data_cleaned.loc[r,\"DEATH_FLAG\"] == 1:\n",
    "        dead_list.append(data_cleaned.loc[r,\"Bio_Age\"])\n",
    "        died_age_diff += data_cleaned.loc[r,\"Bio_Age\"] - data_cleaned.loc[r,\"Age at CT\"] - offset\n",
    "        if data_cleaned.loc[r,\"Age at CT\"] > data_cleaned.loc[r,\"Bio_Age\"] - offset:\n",
    "            bio_age_under_died += 1\n",
    "        else:\n",
    "            bio_age_over_died += 1\n",
    "            \n",
    "    else:\n",
    "        lived_list.append(data_cleaned.loc[r,\"Bio_Age\"])\n",
    "        lived_age_diff += data_cleaned.loc[r,\"Bio_Age\"] - data_cleaned.loc[r,\"Age at CT\"] - offset\n",
    "        if data_cleaned.loc[r,\"Age at CT\"] > data_cleaned.loc[r,\"Bio_Age\"] - offset:\n",
    "            bio_age_under_lived += 1\n",
    "        else:\n",
    "            bio_age_over_lived += 1\n",
    "            \n",
    "print(bio_age_over_died / (bio_age_over_died + bio_age_under_died))\n",
    "print(bio_age_over_lived / (bio_age_over_lived + bio_age_under_lived))\n",
    "\n",
    "print(died_age_diff  /  (bio_age_over_died + bio_age_under_died))\n",
    "print(lived_age_diff / (bio_age_over_lived + bio_age_under_lived))"
   ]
  },
  {
   "cell_type": "code",
   "execution_count": 46,
   "metadata": {
    "ExecuteTime": {
     "end_time": "2022-05-11T12:43:51.118611Z",
     "start_time": "2022-05-11T12:43:50.974591Z"
    }
   },
   "outputs": [
    {
     "name": "stderr",
     "output_type": "stream",
     "text": [
      "No handles with labels found to put in legend.\n"
     ]
    },
    {
     "data": {
      "image/png": "[encoded data removed]",
      "text/plain": [
       "<Figure size 432x288 with 1 Axes>"
      ]
     },
     "metadata": {
      "needs_background": "light"
     },
     "output_type": "display_data"
    }
   ],
   "source": [
    "#plt.hist(dead_list, alpha=0.5, label='x')\n",
    "#plt.hist(lived_list, alpha=0.5, label='y')\n",
    "dead_actual_age = list(data_cleaned[\"Age at CT\"])\n",
    "plt.hist(prob_list, alpha=0.5)\n",
    "plt.legend(loc='upper right')\n",
    "plt.show()"
   ]
  },
  {
   "cell_type": "code",
   "execution_count": null,
   "metadata": {},
   "outputs": [],
   "source": []
  }
 ],
 "metadata": {
  "kernelspec": {
   "display_name": "Python 3",
   "language": "python",
   "name": "python3"
  },
  "language_info": {
   "codemirror_mode": {
    "name": "ipython",
    "version": 3
   },
   "file_extension": ".py",
   "mimetype": "text/x-python",
   "name": "python",
   "nbconvert_exporter": "python",
   "pygments_lexer": "ipython3",
   "version": "3.8.7"
  },
  "toc": {
   "base_numbering": 1,
   "nav_menu": {},
   "number_sections": true,
   "sideBar": true,
   "skip_h1_title": false,
   "title_cell": "Table of Contents",
   "title_sidebar": "Contents",
   "toc_cell": false,
   "toc_position": {},
   "toc_section_display": true,
   "toc_window_display": false
  },
  "varInspector": {
   "cols": {
    "lenName": 16,
    "lenType": 16,
    "lenVar": 40
   },
   "kernels_config": {
    "python": {
     "delete_cmd_postfix": "",
     "delete_cmd_prefix": "del ",
     "library": "var_list.py",
     "varRefreshCmd": "print(var_dic_list())"
    },
    "r": {
     "delete_cmd_postfix": ") ",
     "delete_cmd_prefix": "rm(",
     "library": "var_list.r",
     "varRefreshCmd": "cat(var_dic_list()) "
    }
   },
   "types_to_exclude": [
    "module",
    "function",
    "builtin_function_or_method",
    "instance",
    "_Feature"
   ],
   "window_display": false
  }
 },
 "nbformat": 4,
 "nbformat_minor": 2
}
