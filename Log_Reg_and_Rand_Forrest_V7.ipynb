{
 "cells": [
  {
   "cell_type": "code",
   "execution_count": 1,
   "metadata": {
    "ExecuteTime": {
     "end_time": "2022-05-10T20:47:48.162002Z",
     "start_time": "2022-05-10T20:47:46.948732Z"
    }
   },
   "outputs": [],
   "source": [
    "import pandas as pd\n",
    "import numpy as np\n",
    "import random\n",
    "import copy\n",
    "import math\n",
    "from sklearn.linear_model import LinearRegression\n",
    "from sklearn.linear_model import LogisticRegression\n",
    "from sklearn.tree import DecisionTreeClassifier\n",
    "from sklearn.ensemble import RandomForestClassifier\n",
    "\n",
    "from sklearn import tree\n",
    "from sklearn import svm\n",
    "\n",
    "from sklearn import metrics\n",
    "from itertools import combinations"
   ]
  },
  {
   "cell_type": "markdown",
   "metadata": {},
   "source": [
    "# Read in Data"
   ]
  },
  {
   "cell_type": "code",
   "execution_count": 2,
   "metadata": {
    "ExecuteTime": {
     "end_time": "2022-05-10T20:47:48.487759Z",
     "start_time": "2022-05-10T20:47:48.164133Z"
    }
   },
   "outputs": [],
   "source": [
    "import pandas as pd\n",
    "data = pd.ExcelFile(\"OppScrData.xlsx\")"
   ]
  },
  {
   "cell_type": "code",
   "execution_count": 3,
   "metadata": {
    "ExecuteTime": {
     "end_time": "2022-05-10T20:47:54.000352Z",
     "start_time": "2022-05-10T20:47:48.487759Z"
    }
   },
   "outputs": [],
   "source": [
    "data1 = data.parse(0)"
   ]
  },
  {
   "cell_type": "code",
   "execution_count": 4,
   "metadata": {
    "ExecuteTime": {
     "end_time": "2022-05-10T20:47:54.143019Z",
     "start_time": "2022-05-10T20:47:54.002482Z"
    }
   },
   "outputs": [],
   "source": [
    "# remove unnamed column\n",
    "for i in data1:\n",
    "    if i.startswith('Unnamed') or i.startswith('CLINICAL OUTCOMES') or i.startswith('AUTO-CT'):\n",
    "        data1.pop(i)\n",
    "    \n",
    "data1 = data1.dropna(axis = 0,how='all') # Remove Rows with All NAS"
   ]
  },
  {
   "cell_type": "markdown",
   "metadata": {
    "ExecuteTime": {
     "end_time": "2022-04-08T15:05:33.661579Z",
     "start_time": "2022-04-08T15:05:33.636688Z"
    }
   },
   "source": [
    "# Create Binary Indicators"
   ]
  },
  {
   "cell_type": "code",
   "execution_count": 5,
   "metadata": {
    "ExecuteTime": {
     "end_time": "2022-05-10T20:47:54.163510Z",
     "start_time": "2022-05-10T20:47:54.143019Z"
    }
   },
   "outputs": [],
   "source": [
    "def replace_binary_indicator(df, c1, c2, t):\n",
    "    if c2 != \"\":\n",
    "        df.loc[df.loc[:, c1:c2].any(axis=1), t] = 1\n",
    "        df.loc[~df.loc[:, c1:c2].any(axis=1), t] = 0\n",
    "        df = df.drop(df.loc[:, c1:c2], axis=1)\n",
    "    else:\n",
    "        df.loc[~df.loc[:, c1].isnull(), t] = 1\n",
    "        df.loc[df.loc[:, c1].isnull(), t] = 0\n",
    "        df = df.drop(c1, axis=1)\n",
    "    df[t] = df[t].astype(np.uint8)\n",
    "\n",
    "    return df"
   ]
  },
  {
   "cell_type": "code",
   "execution_count": 6,
   "metadata": {
    "ExecuteTime": {
     "end_time": "2022-05-10T20:47:54.265508Z",
     "start_time": "2022-05-10T20:47:54.165564Z"
    }
   },
   "outputs": [],
   "source": [
    "data2 = data1.copy()\n",
    "data2 = replace_binary_indicator(data2,\"Alcohol abuse\",\"\",\"AA_FLAG\")\n",
    "\n",
    "data2 = replace_binary_indicator(data2,\"CVD DX\",\"MI DX Date [d from CT]\",\"CARD_FLAG\")\n",
    "data2 = replace_binary_indicator(data2,\"Type 2 Diabetes DX\",\"Type 2 Diabetes DX Date [d from CT]\",\"DIA_FLAG\")\n",
    "data2 = replace_binary_indicator(data2,\"Femoral neck fracture DX\",\"Pathologic fracture DX Date [d from CT]\",\"FEM_FLAG\")\n",
    "data2 = replace_binary_indicator(data2,\"Alzheimers DX\",\"Alzheimers DX Date [d from CT]\",\"ALZ_FLAG\")\n",
    "data2 = replace_binary_indicator(data2,\"Primary Cancer Site\",\"Primary Cancer Site 2 Dx [d from CT]\",\"CANCER_FLAG\")\n",
    "\n",
    "data2[\"OUTCOME_FLAGS\"] = data2.loc[:,\"CARD_FLAG\":\"CANCER_FLAG\"].sum(axis = 1)\n",
    "data2[\"OUTCOME_FLAGS\"] = pd.Categorical(data2[\"OUTCOME_FLAGS\"])\n",
    "\n",
    "data2 = replace_binary_indicator(data2,\"DEATH [d from CT]\",\"\",\"DEATH_FLAG\")\n",
    "data2\n",
    "\n",
    "# We do a reshuffle to \"AA_Flag\" is next to the other clinical data\n",
    "data2 = pd.concat([data2.loc[:,\"Record ID\":\"Met Sx\"],data2.loc[:,\"AA_FLAG\"],data2.loc[:,\"L1_HU_BMD\":\"Liver HU    (Median)\"],data2.loc[:,\"CARD_FLAG\":\"DEATH_FLAG\"]], axis = 1)"
   ]
  },
  {
   "cell_type": "markdown",
   "metadata": {},
   "source": [
    "# Create Column Index"
   ]
  },
  {
   "cell_type": "code",
   "execution_count": 7,
   "metadata": {
    "ExecuteTime": {
     "end_time": "2022-05-10T20:47:54.286062Z",
     "start_time": "2022-05-10T20:47:54.267691Z"
    }
   },
   "outputs": [],
   "source": [
    "# define a lookup table for the column\n",
    "columns = {\n",
    "    0: \"Record ID\",\n",
    "    1: \"Visit ID\",\n",
    "    2: \"PT ID\",\n",
    "    3: \"Clinical F/U interval  [d from CT]\",\n",
    "    4: \"BMI\",\n",
    "    5: \"BMI >30\",\n",
    "    6: \"Sex\",\n",
    "    7: \"Age at CT\",\n",
    "    8: \"Tobacco\",\n",
    "    9: \"FRS 10-year risk (%)\",\n",
    "    10: \"FRAX 10y Fx Prob (Orange-w/ DXA)\",\n",
    "    11: \"FRAX 10y Hip Fx Prob (Orange-w/ DXA)\",\n",
    "    12: \"Met Sx\",\n",
    "    13: \"AA_FLAG\",\n",
    "    14: \"L1_HU_BMD\",\n",
    "    15: \"TAT Area (cm2)\",\n",
    "    16: \"Total Body                Area EA (cm2)\",\n",
    "    17: \"VAT Area (cm2)\",\n",
    "    18: \"SAT Area (cm2)\",\n",
    "    19: \"VAT/SAT     Ratio\",\n",
    "    20: \"Muscle HU\",\n",
    "    21: \" Muscle Area (cm2)\",\n",
    "    22: \"L3 SMI (cm2/m2)\",\n",
    "    23: \"AoCa        Agatston\",\n",
    "    24: \"Liver HU    (Median)\",\n",
    "    25: \"CARD_FLAG\",\n",
    "    26: \"DIA_FLAG\",\n",
    "    27: \"FEM_FLAG\",\n",
    "    28: \"ALZ_FLAG\",\n",
    "    29: \"CANCER_FLAG\",\n",
    "    30: \"OUTCOME_FLAGS\",\n",
    "    31: \"DEATH_FLAG\",\n",
    "}\n",
    "\n",
    "# define different groups of column\n",
    "clinical_data_columns = {i: columns[i] for i in range(14)}\n",
    "CT_data = {i: columns[i] for i in range(14, 25)}\n",
    "clinical_outcome_columns = {i: columns[i] for i in range(25, 32)}"
   ]
  },
  {
   "cell_type": "code",
   "execution_count": 8,
   "metadata": {
    "ExecuteTime": {
     "end_time": "2022-05-10T20:47:54.306398Z",
     "start_time": "2022-05-10T20:47:54.288089Z"
    }
   },
   "outputs": [
    {
     "name": "stdout",
     "output_type": "stream",
     "text": [
      "Record ID has 0 repeated ID\n",
      "Visit ID has 0 repeated ID\n",
      "PT ID has 0 repeated ID\n"
     ]
    }
   ],
   "source": [
    "# check if there is repeat ID\n",
    "for i in range(3):\n",
    "    column_name = columns[i]\n",
    "    unique_id = data2[column_name].unique()\n",
    "    print(\n",
    "        f'{column_name} has {len(data1[column_name])-len(unique_id)} repeated ID'\n",
    "    )"
   ]
  },
  {
   "cell_type": "markdown",
   "metadata": {},
   "source": [
    "# Visualize Data CT Data"
   ]
  },
  {
   "cell_type": "code",
   "execution_count": 9,
   "metadata": {
    "ExecuteTime": {
     "end_time": "2022-05-10T20:47:54.469637Z",
     "start_time": "2022-05-10T20:47:54.308437Z"
    }
   },
   "outputs": [],
   "source": [
    "import matplotlib.pyplot as plt\n",
    "\n",
    "\n",
    "def removenan(a, sorting=True):\n",
    "    nums = []\n",
    "    strs = []\n",
    "    for aa in list(a):\n",
    "        if not pd.isna(aa):\n",
    "            if type(aa) == str:\n",
    "                strs.append(aa)\n",
    "            else:\n",
    "                nums.append(aa)\n",
    "    type_string = False\n",
    "    if len(nums) < len(strs):\n",
    "        type_string = True\n",
    "\n",
    "    result = []\n",
    "    missing = []\n",
    "    special = []\n",
    "\n",
    "    for value in list(a):\n",
    "        if not pd.isna(value):\n",
    "            if (type(value) != str) and type_string == True:\n",
    "                special.append(value)\n",
    "            elif (type(value) == str) and type_string != True:\n",
    "                special.append(value)\n",
    "            else:\n",
    "                result.append(value)\n",
    "        else:\n",
    "            missing.append(value)\n",
    "    if sorting:\n",
    "        result.sort()\n",
    "    return result, missing, special"
   ]
  },
  {
   "cell_type": "markdown",
   "metadata": {
    "ExecuteTime": {
     "end_time": "2022-05-10T20:10:20.123560Z",
     "start_time": "2022-05-10T20:10:20.107893Z"
    }
   },
   "source": [
    "## Visualize CT Data"
   ]
  },
  {
   "cell_type": "code",
   "execution_count": 10,
   "metadata": {
    "ExecuteTime": {
     "end_time": "2022-05-10T20:47:55.930578Z",
     "start_time": "2022-05-10T20:47:54.469637Z"
    }
   },
   "outputs": [
    {
     "name": "stdout",
     "output_type": "stream",
     "text": [
      "L1_HU_BMD has 47 missing entries\n",
      "L1_HU_BMD has 0 special entries set()\n"
     ]
    },
    {
     "data": {
      "image/png": "[encoded data removed]",
      "text/plain": [
       "<Figure size 432x288 with 1 Axes>"
      ]
     },
     "metadata": {
      "needs_background": "light"
     },
     "output_type": "display_data"
    },
    {
     "name": "stdout",
     "output_type": "stream",
     "text": [
      "TAT Area (cm2) has 132 missing entries\n",
      "TAT Area (cm2) has 0 special entries set()\n"
     ]
    },
    {
     "data": {
      "image/png": "[encoded data removed]",
      "text/plain": [
       "<Figure size 432x288 with 1 Axes>"
      ]
     },
     "metadata": {
      "needs_background": "light"
     },
     "output_type": "display_data"
    },
    {
     "name": "stdout",
     "output_type": "stream",
     "text": [
      "Total Body                Area EA (cm2) has 132 missing entries\n",
      "Total Body                Area EA (cm2) has 0 special entries set()\n"
     ]
    },
    {
     "data": {
      "image/png": "[encoded data removed]",
      "text/plain": [
       "<Figure size 432x288 with 1 Axes>"
      ]
     },
     "metadata": {
      "needs_background": "light"
     },
     "output_type": "display_data"
    },
    {
     "name": "stdout",
     "output_type": "stream",
     "text": [
      "VAT Area (cm2) has 132 missing entries\n",
      "VAT Area (cm2) has 0 special entries set()\n"
     ]
    },
    {
     "data": {
      "image/png": "[encoded data removed]",
      "text/plain": [
       "<Figure size 432x288 with 1 Axes>"
      ]
     },
     "metadata": {
      "needs_background": "light"
     },
     "output_type": "display_data"
    },
    {
     "name": "stdout",
     "output_type": "stream",
     "text": [
      "SAT Area (cm2) has 132 missing entries\n",
      "SAT Area (cm2) has 0 special entries set()\n"
     ]
    },
    {
     "data": {
      "image/png": "[encoded data removed]",
      "text/plain": [
       "<Figure size 432x288 with 1 Axes>"
      ]
     },
     "metadata": {
      "needs_background": "light"
     },
     "output_type": "display_data"
    },
    {
     "name": "stdout",
     "output_type": "stream",
     "text": [
      "VAT/SAT     Ratio has 133 missing entries\n",
      "VAT/SAT     Ratio has 0 special entries set()\n"
     ]
    },
    {
     "data": {
      "image/png": "[encoded data removed]",
      "text/plain": [
       "<Figure size 432x288 with 1 Axes>"
      ]
     },
     "metadata": {
      "needs_background": "light"
     },
     "output_type": "display_data"
    },
    {
     "name": "stdout",
     "output_type": "stream",
     "text": [
      "Muscle HU has 28 missing entries\n",
      "Muscle HU has 0 special entries set()\n"
     ]
    },
    {
     "data": {
      "image/png": "[encoded data removed]",
      "text/plain": [
       "<Figure size 432x288 with 1 Axes>"
      ]
     },
     "metadata": {
      "needs_background": "light"
     },
     "output_type": "display_data"
    },
    {
     "name": "stdout",
     "output_type": "stream",
     "text": [
      " Muscle Area (cm2) has 28 missing entries\n",
      " Muscle Area (cm2) has 0 special entries set()\n"
     ]
    },
    {
     "data": {
      "image/png": "[encoded data removed]",
      "text/plain": [
       "<Figure size 432x288 with 1 Axes>"
      ]
     },
     "metadata": {
      "needs_background": "light"
     },
     "output_type": "display_data"
    },
    {
     "name": "stdout",
     "output_type": "stream",
     "text": [
      "L3 SMI (cm2/m2) has 152 missing entries\n",
      "L3 SMI (cm2/m2) has 0 special entries set()\n"
     ]
    },
    {
     "data": {
      "image/png": "[encoded data removed]",
      "text/plain": [
       "<Figure size 432x288 with 1 Axes>"
      ]
     },
     "metadata": {
      "needs_background": "light"
     },
     "output_type": "display_data"
    },
    {
     "name": "stdout",
     "output_type": "stream",
     "text": [
      "AoCa        Agatston has 1 missing entries\n",
      "AoCa        Agatston has 0 special entries set()\n"
     ]
    },
    {
     "data": {
      "image/png": "[encoded data removed]",
      "text/plain": [
       "<Figure size 432x288 with 1 Axes>"
      ]
     },
     "metadata": {
      "needs_background": "light"
     },
     "output_type": "display_data"
    },
    {
     "name": "stdout",
     "output_type": "stream",
     "text": [
      "Liver HU    (Median) has 47 missing entries\n",
      "Liver HU    (Median) has 27 special entries {' '}\n"
     ]
    },
    {
     "data": {
      "image/png": "[encoded data removed]",
      "text/plain": [
       "<Figure size 432x288 with 1 Axes>"
      ]
     },
     "metadata": {
      "needs_background": "light"
     },
     "output_type": "display_data"
    }
   ],
   "source": [
    "for i in range(14, 25):\n",
    "    column_name = columns[i]\n",
    "    result, missing, special = removenan(data2[column_name])\n",
    "    print(f'{column_name} has {len(missing)} missing entries')\n",
    "    print(f'{column_name} has {len(special)} special entries', set(special))\n",
    "    plt.hist(result)\n",
    "    plt.show()"
   ]
  },
  {
   "cell_type": "markdown",
   "metadata": {
    "ExecuteTime": {
     "end_time": "2022-05-10T19:30:49.776723Z",
     "start_time": "2022-05-10T19:30:49.755987Z"
    }
   },
   "source": [
    "## Visualize Clinical"
   ]
  },
  {
   "cell_type": "code",
   "execution_count": 11,
   "metadata": {
    "ExecuteTime": {
     "end_time": "2022-05-10T20:47:57.264896Z",
     "start_time": "2022-05-10T20:47:55.930578Z"
    }
   },
   "outputs": [
    {
     "name": "stdout",
     "output_type": "stream",
     "text": [
      "Clinical F/U interval  [d from CT] has 0 missing entries\n",
      "Clinical F/U interval  [d from CT] has 0 special entries set()\n"
     ]
    },
    {
     "data": {
      "image/png": "[encoded data removed]",
      "text/plain": [
       "<Figure size 432x288 with 1 Axes>"
      ]
     },
     "metadata": {
      "needs_background": "light"
     },
     "output_type": "display_data"
    },
    {
     "name": "stdout",
     "output_type": "stream",
     "text": [
      "BMI has 123 missing entries\n",
      "BMI has 0 special entries set()\n"
     ]
    },
    {
     "data": {
      "image/png": "[encoded data removed]",
      "text/plain": [
       "<Figure size 432x288 with 1 Axes>"
      ]
     },
     "metadata": {
      "needs_background": "light"
     },
     "output_type": "display_data"
    },
    {
     "name": "stdout",
     "output_type": "stream",
     "text": [
      "BMI >30 has 123 missing entries\n",
      "BMI >30 has 0 special entries set()\n"
     ]
    },
    {
     "data": {
      "image/png": "[encoded data removed]",
      "text/plain": [
       "<Figure size 432x288 with 1 Axes>"
      ]
     },
     "metadata": {
      "needs_background": "light"
     },
     "output_type": "display_data"
    },
    {
     "name": "stdout",
     "output_type": "stream",
     "text": [
      "Sex has 0 missing entries\n",
      "Sex has 0 special entries set()\n"
     ]
    },
    {
     "data": {
      "image/png": "[encoded data removed]",
      "text/plain": [
       "<Figure size 432x288 with 1 Axes>"
      ]
     },
     "metadata": {
      "needs_background": "light"
     },
     "output_type": "display_data"
    },
    {
     "name": "stdout",
     "output_type": "stream",
     "text": [
      "Age at CT has 0 missing entries\n",
      "Age at CT has 0 special entries set()\n"
     ]
    },
    {
     "data": {
      "image/png": "[encoded data removed]",
      "text/plain": [
       "<Figure size 432x288 with 1 Axes>"
      ]
     },
     "metadata": {
      "needs_background": "light"
     },
     "output_type": "display_data"
    },
    {
     "name": "stdout",
     "output_type": "stream",
     "text": [
      "Tobacco has 608 missing entries\n",
      "Tobacco has 0 special entries set()\n"
     ]
    },
    {
     "data": {
      "image/png": "[encoded data removed]",
      "text/plain": [
       "<Figure size 432x288 with 1 Axes>"
      ]
     },
     "metadata": {
      "needs_background": "light"
     },
     "output_type": "display_data"
    },
    {
     "name": "stdout",
     "output_type": "stream",
     "text": [
      "FRS 10-year risk (%) has 0 missing entries\n",
      "FRS 10-year risk (%) has 2516 special entries {'X', '>30%', '<1%'}\n"
     ]
    },
    {
     "data": {
      "image/png": "[encoded data removed]",
      "text/plain": [
       "<Figure size 432x288 with 1 Axes>"
      ]
     },
     "metadata": {
      "needs_background": "light"
     },
     "output_type": "display_data"
    },
    {
     "name": "stdout",
     "output_type": "stream",
     "text": [
      "FRAX 10y Fx Prob (Orange-w/ DXA) has 0 missing entries\n",
      "FRAX 10y Fx Prob (Orange-w/ DXA) has 123 special entries {'_'}\n"
     ]
    },
    {
     "data": {
      "image/png": "[encoded data removed]",
      "text/plain": [
       "<Figure size 432x288 with 1 Axes>"
      ]
     },
     "metadata": {
      "needs_background": "light"
     },
     "output_type": "display_data"
    },
    {
     "name": "stdout",
     "output_type": "stream",
     "text": [
      "FRAX 10y Hip Fx Prob (Orange-w/ DXA) has 0 missing entries\n",
      "FRAX 10y Hip Fx Prob (Orange-w/ DXA) has 123 special entries {'_'}\n"
     ]
    },
    {
     "data": {
      "image/png": "[encoded data removed]",
      "text/plain": [
       "<Figure size 432x288 with 1 Axes>"
      ]
     },
     "metadata": {
      "needs_background": "light"
     },
     "output_type": "display_data"
    },
    {
     "name": "stdout",
     "output_type": "stream",
     "text": [
      "Met Sx has 1438 missing entries\n",
      "Met Sx has 0 special entries set()\n"
     ]
    },
    {
     "data": {
      "image/png": "[encoded data removed]",
      "text/plain": [
       "<Figure size 432x288 with 1 Axes>"
      ]
     },
     "metadata": {
      "needs_background": "light"
     },
     "output_type": "display_data"
    },
    {
     "name": "stdout",
     "output_type": "stream",
     "text": [
      "AA_FLAG has 0 missing entries\n",
      "AA_FLAG has 0 special entries set()\n"
     ]
    },
    {
     "data": {
      "image/png": "[encoded data removed]",
      "text/plain": [
       "<Figure size 432x288 with 1 Axes>"
      ]
     },
     "metadata": {
      "needs_background": "light"
     },
     "output_type": "display_data"
    }
   ],
   "source": [
    "for i in range(3, 14):\n",
    "    column_name = columns[i]\n",
    "    result, missing, special = removenan(data2[column_name])\n",
    "    print(f'{column_name} has {len(missing)} missing entries')\n",
    "    print(f'{column_name} has {len(special)} special entries', set(special))\n",
    "    plt.hist(result)\n",
    "    plt.show()"
   ]
  },
  {
   "cell_type": "markdown",
   "metadata": {},
   "source": [
    "## Visualize Outcomes"
   ]
  },
  {
   "cell_type": "code",
   "execution_count": 12,
   "metadata": {
    "ExecuteTime": {
     "end_time": "2022-05-10T20:47:58.183931Z",
     "start_time": "2022-05-10T20:47:57.264896Z"
    }
   },
   "outputs": [
    {
     "name": "stdout",
     "output_type": "stream",
     "text": [
      "CARD_FLAG has 0 missing entries\n",
      "CARD_FLAG has 0 special entries set()\n"
     ]
    },
    {
     "data": {
      "image/png": "[encoded data removed]",
      "text/plain": [
       "<Figure size 432x288 with 1 Axes>"
      ]
     },
     "metadata": {
      "needs_background": "light"
     },
     "output_type": "display_data"
    },
    {
     "name": "stdout",
     "output_type": "stream",
     "text": [
      "DIA_FLAG has 0 missing entries\n",
      "DIA_FLAG has 0 special entries set()\n"
     ]
    },
    {
     "data": {
      "image/png": "[encoded data removed]",
      "text/plain": [
       "<Figure size 432x288 with 1 Axes>"
      ]
     },
     "metadata": {
      "needs_background": "light"
     },
     "output_type": "display_data"
    },
    {
     "name": "stdout",
     "output_type": "stream",
     "text": [
      "FEM_FLAG has 0 missing entries\n",
      "FEM_FLAG has 0 special entries set()\n"
     ]
    },
    {
     "data": {
      "image/png": "[encoded data removed]",
      "text/plain": [
       "<Figure size 432x288 with 1 Axes>"
      ]
     },
     "metadata": {
      "needs_background": "light"
     },
     "output_type": "display_data"
    },
    {
     "name": "stdout",
     "output_type": "stream",
     "text": [
      "ALZ_FLAG has 0 missing entries\n",
      "ALZ_FLAG has 0 special entries set()\n"
     ]
    },
    {
     "data": {
      "image/png": "[encoded data removed]",
      "text/plain": [
       "<Figure size 432x288 with 1 Axes>"
      ]
     },
     "metadata": {
      "needs_background": "light"
     },
     "output_type": "display_data"
    },
    {
     "name": "stdout",
     "output_type": "stream",
     "text": [
      "CANCER_FLAG has 0 missing entries\n",
      "CANCER_FLAG has 0 special entries set()\n"
     ]
    },
    {
     "data": {
      "image/png": "[encoded data removed]",
      "text/plain": [
       "<Figure size 432x288 with 1 Axes>"
      ]
     },
     "metadata": {
      "needs_background": "light"
     },
     "output_type": "display_data"
    },
    {
     "name": "stdout",
     "output_type": "stream",
     "text": [
      "OUTCOME_FLAGS has 0 missing entries\n",
      "OUTCOME_FLAGS has 0 special entries set()\n"
     ]
    },
    {
     "data": {
      "image/png": "[encoded data removed]",
      "text/plain": [
       "<Figure size 432x288 with 1 Axes>"
      ]
     },
     "metadata": {
      "needs_background": "light"
     },
     "output_type": "display_data"
    },
    {
     "name": "stdout",
     "output_type": "stream",
     "text": [
      "DEATH_FLAG has 0 missing entries\n",
      "DEATH_FLAG has 0 special entries set()\n"
     ]
    },
    {
     "data": {
      "image/png": "[encoded data removed]",
      "text/plain": [
       "<Figure size 432x288 with 1 Axes>"
      ]
     },
     "metadata": {
      "needs_background": "light"
     },
     "output_type": "display_data"
    }
   ],
   "source": [
    "for i in range(25, 32):\n",
    "    column_name = columns[i]\n",
    "    result, missing, special = removenan(data2[column_name])\n",
    "    print(f'{column_name} has {len(missing)} missing entries')\n",
    "    print(f'{column_name} has {len(special)} special entries', set(special))\n",
    "    plt.hist(result)\n",
    "    plt.show()"
   ]
  },
  {
   "cell_type": "markdown",
   "metadata": {},
   "source": [
    "# Data Cleaning"
   ]
  },
  {
   "cell_type": "markdown",
   "metadata": {},
   "source": [
    "## Assign Fold"
   ]
  },
  {
   "cell_type": "code",
   "execution_count": 13,
   "metadata": {
    "ExecuteTime": {
     "end_time": "2022-05-10T20:47:58.235397Z",
     "start_time": "2022-05-10T20:47:58.183931Z"
    }
   },
   "outputs": [
    {
     "data": {
      "text/html": [
       "<div>\n",
       "<style scoped>\n",
       "    .dataframe tbody tr th:only-of-type {\n",
       "        vertical-align: middle;\n",
       "    }\n",
       "\n",
       "    .dataframe tbody tr th {\n",
       "        vertical-align: top;\n",
       "    }\n",
       "\n",
       "    .dataframe thead th {\n",
       "        text-align: right;\n",
       "    }\n",
       "</style>\n",
       "<table border=\"1\" class=\"dataframe\">\n",
       "  <thead>\n",
       "    <tr style=\"text-align: right;\">\n",
       "      <th></th>\n",
       "      <th>index</th>\n",
       "      <th>Record ID</th>\n",
       "      <th>Visit ID</th>\n",
       "      <th>PT ID</th>\n",
       "      <th>Clinical F/U interval  [d from CT]</th>\n",
       "      <th>BMI</th>\n",
       "      <th>BMI &gt;30</th>\n",
       "      <th>Sex</th>\n",
       "      <th>Age at CT</th>\n",
       "      <th>Tobacco</th>\n",
       "      <th>...</th>\n",
       "      <th>AoCa        Agatston</th>\n",
       "      <th>Liver HU    (Median)</th>\n",
       "      <th>CARD_FLAG</th>\n",
       "      <th>DIA_FLAG</th>\n",
       "      <th>FEM_FLAG</th>\n",
       "      <th>ALZ_FLAG</th>\n",
       "      <th>CANCER_FLAG</th>\n",
       "      <th>OUTCOME_FLAGS</th>\n",
       "      <th>DEATH_FLAG</th>\n",
       "      <th>Fold</th>\n",
       "    </tr>\n",
       "  </thead>\n",
       "  <tbody>\n",
       "    <tr>\n",
       "      <th>0</th>\n",
       "      <td>2468</td>\n",
       "      <td>10458.0</td>\n",
       "      <td>3448.0</td>\n",
       "      <td>1098.0</td>\n",
       "      <td>4375.0</td>\n",
       "      <td>27.6</td>\n",
       "      <td>N</td>\n",
       "      <td>Female</td>\n",
       "      <td>63.0</td>\n",
       "      <td>No</td>\n",
       "      <td>...</td>\n",
       "      <td>0.000</td>\n",
       "      <td>54</td>\n",
       "      <td>0</td>\n",
       "      <td>0</td>\n",
       "      <td>0</td>\n",
       "      <td>0</td>\n",
       "      <td>0</td>\n",
       "      <td>0</td>\n",
       "      <td>0</td>\n",
       "      <td>0</td>\n",
       "    </tr>\n",
       "    <tr>\n",
       "      <th>1</th>\n",
       "      <td>1381</td>\n",
       "      <td>11099.0</td>\n",
       "      <td>1888.0</td>\n",
       "      <td>1406.0</td>\n",
       "      <td>4877.0</td>\n",
       "      <td>30.0</td>\n",
       "      <td>Y</td>\n",
       "      <td>Male</td>\n",
       "      <td>63.0</td>\n",
       "      <td>Yes</td>\n",
       "      <td>...</td>\n",
       "      <td>1579.818</td>\n",
       "      <td>48</td>\n",
       "      <td>0</td>\n",
       "      <td>1</td>\n",
       "      <td>0</td>\n",
       "      <td>0</td>\n",
       "      <td>0</td>\n",
       "      <td>1</td>\n",
       "      <td>0</td>\n",
       "      <td>1</td>\n",
       "    </tr>\n",
       "    <tr>\n",
       "      <th>2</th>\n",
       "      <td>3480</td>\n",
       "      <td>3858.0</td>\n",
       "      <td>4940.0</td>\n",
       "      <td>3914.0</td>\n",
       "      <td>3999.0</td>\n",
       "      <td>43.5</td>\n",
       "      <td>Y</td>\n",
       "      <td>Female</td>\n",
       "      <td>42.0</td>\n",
       "      <td>No</td>\n",
       "      <td>...</td>\n",
       "      <td>0.000</td>\n",
       "      <td>48</td>\n",
       "      <td>0</td>\n",
       "      <td>1</td>\n",
       "      <td>0</td>\n",
       "      <td>0</td>\n",
       "      <td>0</td>\n",
       "      <td>1</td>\n",
       "      <td>0</td>\n",
       "      <td>2</td>\n",
       "    </tr>\n",
       "    <tr>\n",
       "      <th>3</th>\n",
       "      <td>342</td>\n",
       "      <td>8344.0</td>\n",
       "      <td>3257.0</td>\n",
       "      <td>69.0</td>\n",
       "      <td>4293.0</td>\n",
       "      <td>31.3</td>\n",
       "      <td>Y</td>\n",
       "      <td>Male</td>\n",
       "      <td>54.0</td>\n",
       "      <td>No</td>\n",
       "      <td>...</td>\n",
       "      <td>14.322</td>\n",
       "      <td>41</td>\n",
       "      <td>0</td>\n",
       "      <td>1</td>\n",
       "      <td>0</td>\n",
       "      <td>0</td>\n",
       "      <td>0</td>\n",
       "      <td>1</td>\n",
       "      <td>0</td>\n",
       "      <td>3</td>\n",
       "    </tr>\n",
       "    <tr>\n",
       "      <th>4</th>\n",
       "      <td>7464</td>\n",
       "      <td>6382.0</td>\n",
       "      <td>8587.0</td>\n",
       "      <td>7891.0</td>\n",
       "      <td>2330.0</td>\n",
       "      <td>29.3</td>\n",
       "      <td>N</td>\n",
       "      <td>Male</td>\n",
       "      <td>56.0</td>\n",
       "      <td>Yes</td>\n",
       "      <td>...</td>\n",
       "      <td>1805.759</td>\n",
       "      <td>61</td>\n",
       "      <td>0</td>\n",
       "      <td>1</td>\n",
       "      <td>0</td>\n",
       "      <td>0</td>\n",
       "      <td>0</td>\n",
       "      <td>1</td>\n",
       "      <td>0</td>\n",
       "      <td>4</td>\n",
       "    </tr>\n",
       "    <tr>\n",
       "      <th>...</th>\n",
       "      <td>...</td>\n",
       "      <td>...</td>\n",
       "      <td>...</td>\n",
       "      <td>...</td>\n",
       "      <td>...</td>\n",
       "      <td>...</td>\n",
       "      <td>...</td>\n",
       "      <td>...</td>\n",
       "      <td>...</td>\n",
       "      <td>...</td>\n",
       "      <td>...</td>\n",
       "      <td>...</td>\n",
       "      <td>...</td>\n",
       "      <td>...</td>\n",
       "      <td>...</td>\n",
       "      <td>...</td>\n",
       "      <td>...</td>\n",
       "      <td>...</td>\n",
       "      <td>...</td>\n",
       "      <td>...</td>\n",
       "      <td>...</td>\n",
       "    </tr>\n",
       "    <tr>\n",
       "      <th>9218</th>\n",
       "      <td>8474</td>\n",
       "      <td>7450.0</td>\n",
       "      <td>11438.0</td>\n",
       "      <td>9728.0</td>\n",
       "      <td>82.0</td>\n",
       "      <td>34.3</td>\n",
       "      <td>Y</td>\n",
       "      <td>Male</td>\n",
       "      <td>70.0</td>\n",
       "      <td>Yes</td>\n",
       "      <td>...</td>\n",
       "      <td>21081.402</td>\n",
       "      <td>55</td>\n",
       "      <td>1</td>\n",
       "      <td>0</td>\n",
       "      <td>0</td>\n",
       "      <td>0</td>\n",
       "      <td>0</td>\n",
       "      <td>1</td>\n",
       "      <td>1</td>\n",
       "      <td>3</td>\n",
       "    </tr>\n",
       "    <tr>\n",
       "      <th>9219</th>\n",
       "      <td>3472</td>\n",
       "      <td>6838.0</td>\n",
       "      <td>4922.0</td>\n",
       "      <td>5957.0</td>\n",
       "      <td>1401.0</td>\n",
       "      <td>34.6</td>\n",
       "      <td>Y</td>\n",
       "      <td>Male</td>\n",
       "      <td>73.0</td>\n",
       "      <td>Yes</td>\n",
       "      <td>...</td>\n",
       "      <td>4432.919</td>\n",
       "      <td>50</td>\n",
       "      <td>1</td>\n",
       "      <td>0</td>\n",
       "      <td>0</td>\n",
       "      <td>0</td>\n",
       "      <td>0</td>\n",
       "      <td>1</td>\n",
       "      <td>1</td>\n",
       "      <td>4</td>\n",
       "    </tr>\n",
       "    <tr>\n",
       "      <th>9220</th>\n",
       "      <td>1664</td>\n",
       "      <td>926.0</td>\n",
       "      <td>2286.0</td>\n",
       "      <td>2089.0</td>\n",
       "      <td>1730.0</td>\n",
       "      <td>34.7</td>\n",
       "      <td>Y</td>\n",
       "      <td>Male</td>\n",
       "      <td>65.0</td>\n",
       "      <td>No</td>\n",
       "      <td>...</td>\n",
       "      <td>1399.881</td>\n",
       "      <td>55</td>\n",
       "      <td>1</td>\n",
       "      <td>0</td>\n",
       "      <td>0</td>\n",
       "      <td>0</td>\n",
       "      <td>0</td>\n",
       "      <td>1</td>\n",
       "      <td>1</td>\n",
       "      <td>0</td>\n",
       "    </tr>\n",
       "    <tr>\n",
       "      <th>9221</th>\n",
       "      <td>4683</td>\n",
       "      <td>5267.0</td>\n",
       "      <td>7483.0</td>\n",
       "      <td>4822.0</td>\n",
       "      <td>2160.0</td>\n",
       "      <td>47.0</td>\n",
       "      <td>Y</td>\n",
       "      <td>Male</td>\n",
       "      <td>63.0</td>\n",
       "      <td>No</td>\n",
       "      <td>...</td>\n",
       "      <td>1085.916</td>\n",
       "      <td>46</td>\n",
       "      <td>1</td>\n",
       "      <td>0</td>\n",
       "      <td>0</td>\n",
       "      <td>0</td>\n",
       "      <td>0</td>\n",
       "      <td>1</td>\n",
       "      <td>1</td>\n",
       "      <td>1</td>\n",
       "    </tr>\n",
       "    <tr>\n",
       "      <th>9222</th>\n",
       "      <td>4201</td>\n",
       "      <td>4087.0</td>\n",
       "      <td>6461.0</td>\n",
       "      <td>4064.0</td>\n",
       "      <td>661.0</td>\n",
       "      <td>43.2</td>\n",
       "      <td>Y</td>\n",
       "      <td>Male</td>\n",
       "      <td>52.0</td>\n",
       "      <td>Yes</td>\n",
       "      <td>...</td>\n",
       "      <td>2416.882</td>\n",
       "      <td>55</td>\n",
       "      <td>0</td>\n",
       "      <td>0</td>\n",
       "      <td>0</td>\n",
       "      <td>0</td>\n",
       "      <td>0</td>\n",
       "      <td>0</td>\n",
       "      <td>1</td>\n",
       "      <td>2</td>\n",
       "    </tr>\n",
       "  </tbody>\n",
       "</table>\n",
       "<p>9223 rows × 34 columns</p>\n",
       "</div>"
      ],
      "text/plain": [
       "      index  Record ID  Visit ID   PT ID  Clinical F/U interval  [d from CT]  \\\n",
       "0      2468    10458.0    3448.0  1098.0                              4375.0   \n",
       "1      1381    11099.0    1888.0  1406.0                              4877.0   \n",
       "2      3480     3858.0    4940.0  3914.0                              3999.0   \n",
       "3       342     8344.0    3257.0    69.0                              4293.0   \n",
       "4      7464     6382.0    8587.0  7891.0                              2330.0   \n",
       "...     ...        ...       ...     ...                                 ...   \n",
       "9218   8474     7450.0   11438.0  9728.0                                82.0   \n",
       "9219   3472     6838.0    4922.0  5957.0                              1401.0   \n",
       "9220   1664      926.0    2286.0  2089.0                              1730.0   \n",
       "9221   4683     5267.0    7483.0  4822.0                              2160.0   \n",
       "9222   4201     4087.0    6461.0  4064.0                               661.0   \n",
       "\n",
       "       BMI BMI >30     Sex  Age at CT Tobacco  ... AoCa        Agatston  \\\n",
       "0     27.6       N  Female       63.0      No  ...                0.000   \n",
       "1     30.0       Y    Male       63.0     Yes  ...             1579.818   \n",
       "2     43.5       Y  Female       42.0      No  ...                0.000   \n",
       "3     31.3       Y    Male       54.0      No  ...               14.322   \n",
       "4     29.3       N    Male       56.0     Yes  ...             1805.759   \n",
       "...    ...     ...     ...        ...     ...  ...                  ...   \n",
       "9218  34.3       Y    Male       70.0     Yes  ...            21081.402   \n",
       "9219  34.6       Y    Male       73.0     Yes  ...             4432.919   \n",
       "9220  34.7       Y    Male       65.0      No  ...             1399.881   \n",
       "9221  47.0       Y    Male       63.0      No  ...             1085.916   \n",
       "9222  43.2       Y    Male       52.0     Yes  ...             2416.882   \n",
       "\n",
       "     Liver HU    (Median) CARD_FLAG DIA_FLAG  FEM_FLAG  ALZ_FLAG  CANCER_FLAG  \\\n",
       "0                      54         0        0         0         0            0   \n",
       "1                      48         0        1         0         0            0   \n",
       "2                      48         0        1         0         0            0   \n",
       "3                      41         0        1         0         0            0   \n",
       "4                      61         0        1         0         0            0   \n",
       "...                   ...       ...      ...       ...       ...          ...   \n",
       "9218                   55         1        0         0         0            0   \n",
       "9219                   50         1        0         0         0            0   \n",
       "9220                   55         1        0         0         0            0   \n",
       "9221                   46         1        0         0         0            0   \n",
       "9222                   55         0        0         0         0            0   \n",
       "\n",
       "      OUTCOME_FLAGS  DEATH_FLAG  Fold  \n",
       "0                 0           0     0  \n",
       "1                 1           0     1  \n",
       "2                 1           0     2  \n",
       "3                 1           0     3  \n",
       "4                 1           0     4  \n",
       "...             ...         ...   ...  \n",
       "9218              1           1     3  \n",
       "9219              1           1     4  \n",
       "9220              1           1     0  \n",
       "9221              1           1     1  \n",
       "9222              0           1     2  \n",
       "\n",
       "[9223 rows x 34 columns]"
      ]
     },
     "execution_count": 13,
     "metadata": {},
     "output_type": "execute_result"
    }
   ],
   "source": [
    "# Aproxx Equal Outcomes in Each Fold\n",
    "Folds = 5\n",
    "random.seed(1)\n",
    "data2 = data2.sample(frac=1)\n",
    "data2 = data2.sort_values([\"CARD_FLAG\",\"DIA_FLAG\",\"FEM_FLAG\",\"ALZ_FLAG\",\"CANCER_FLAG\",\"DEATH_FLAG\"]) \n",
    "data2 = data2.sort_values(\"DEATH_FLAG\")\n",
    "data2 = data2.reset_index() \n",
    "data2[\"Fold\"] =  data2.index % Folds\n",
    "data2"
   ]
  },
  {
   "cell_type": "markdown",
   "metadata": {
    "ExecuteTime": {
     "end_time": "2022-05-10T20:15:59.869469Z",
     "start_time": "2022-05-10T20:15:59.842241Z"
    }
   },
   "source": [
    "## CT Cleaning"
   ]
  },
  {
   "cell_type": "code",
   "execution_count": 14,
   "metadata": {
    "ExecuteTime": {
     "end_time": "2022-05-10T20:47:58.251024Z",
     "start_time": "2022-05-10T20:47:58.235397Z"
    }
   },
   "outputs": [],
   "source": [
    "bone_measures = [\"L1_HU_BMD\"]\n",
    "\n",
    "fat_measures = [\"TAT Area (cm2)\",\"Total Body                Area EA (cm2)\", \"VAT Area (cm2)\", \"SAT Area (cm2)\", \"VAT/SAT     Ratio\" ]\n",
    "\n",
    "muscle_measures = [\"Muscle HU\", \" Muscle Area (cm2)\", \"L3 SMI (cm2/m2)\"]\n",
    "\n",
    "aortic_measures = [\"AoCa        Agatston\"]\n",
    "\n",
    "liver_measures = [\"Liver HU    (Median)\"]\n",
    "\n",
    "measures = [bone_measures,fat_measures,muscle_measures,aortic_measures,liver_measures]\n",
    "measures_all = bone_measures + fat_measures + muscle_measures + aortic_measures + liver_measures\n",
    "\n",
    "\n",
    "clinical_measures = [\"Clinical F/U interval  [d from CT]\", \"BMI\", \"BMI >30\", \"Sex\", \"Age at CT\", \"Tobacco\", \"FRS 10-year risk (%)\", \"FRAX 10y Fx Prob (Orange-w/ DXA)\", \"FRAX 10y Hip Fx Prob (Orange-w/ DXA)\", \"Met Sx\", \"AA_FLAG\",]\n",
    "clinical_measures_1 = [\"BMI\", \"BMI >30\", \"Sex\", \"Age at CT\"]\n",
    "clinical_measures_2 = [\"Clinical F/U interval  [d from CT]\",\"Tobacco\", \"FRS 10-year risk (%)\", \"FRAX 10y Fx Prob (Orange-w/ DXA)\", \"FRAX 10y Hip Fx Prob (Orange-w/ DXA)\", \"Met Sx\", \"AA_FLAG\"]\n",
    "measures1 = [bone_measures,fat_measures,muscle_measures,aortic_measures,liver_measures,clinical_measures]\n",
    "ct_clinical_measure = measures_all + clinical_measures\n",
    "ct_clinical_measure_1 = measures_all + clinical_measures_1\n",
    "ct_clinical_measure_2 = measures_all + clinical_measures_2"
   ]
  },
  {
   "cell_type": "code",
   "execution_count": 15,
   "metadata": {
    "ExecuteTime": {
     "end_time": "2022-05-10T20:47:58.366916Z",
     "start_time": "2022-05-10T20:47:58.251024Z"
    }
   },
   "outputs": [
    {
     "name": "stdout",
     "output_type": "stream",
     "text": [
      "2138 Remove (23.18% of data)\n"
     ]
    }
   ],
   "source": [
    "# Convert blanks to NA\n",
    "data2  = data2.replace(\"\", np.nan, regex=True) # Replace Blanks with NAs\n",
    "data2  = data2.replace(\" \", np.nan, regex=True) # Replace Blanks with NAs\n",
    "\n",
    "data_cleaned = data2.copy()\n",
    "for mea in measures1:\n",
    "    for m in mea:\n",
    "        data_cleaned = data_cleaned[(data_cleaned[m] != \"\") & (data_cleaned[m].isnull() == False)]\n",
    "\n",
    "rmv = len(data2)-len(data_cleaned)\n",
    "print(rmv, \"Remove (\" + str(round(rmv*100/len(data2),2)) + \"% of data)\")\n"
   ]
  },
  {
   "cell_type": "markdown",
   "metadata": {},
   "source": [
    "## Clinical Cleaning"
   ]
  },
  {
   "cell_type": "code",
   "execution_count": 16,
   "metadata": {
    "ExecuteTime": {
     "end_time": "2022-05-10T20:47:58.451671Z",
     "start_time": "2022-05-10T20:47:58.366916Z"
    }
   },
   "outputs": [
    {
     "name": "stdout",
     "output_type": "stream",
     "text": [
      "36 Removed (0.39% of data)\n"
     ]
    }
   ],
   "source": [
    "data3 = data_cleaned.copy()\n",
    "\n",
    "# BMI - Remove Outliers (Less than 10 and those with Missing values)\n",
    "data3 = data3[ (data3[\"BMI\"] > 10)]\n",
    "\n",
    "# Tobacco - Create new category for the NAs\n",
    "data3[\"Tobacco\"] = data3[\"Tobacco\"].replace(np.nan, \"Not Recorded\", regex=True) # Replace Blanks with NAs\n",
    "\n",
    "# Met Sx - Create new category for the NAs\n",
    "data3[\"Met Sx\"] = data3[\"Met Sx\"].replace(np.nan, \"Not Recorded\", regex=True) # Replace Blanks with NAs\n",
    "\n",
    "# Remove Rows wth Special Characters\n",
    "data3 = data3[ (data3[\"FRS 10-year risk (%)\"] !=  \"X\")]\n",
    "data3 = data3[ (data3[\"FRAX 10y Fx Prob (Orange-w/ DXA)\"] !=  \"_\")]\n",
    "data3 = data3[ (data3[\"FRAX 10y Hip Fx Prob (Orange-w/ DXA)\"] !=  \"_\")]\n",
    "\n",
    "# Turn these into numeric\n",
    "data3.loc[(data3[\"FRS 10-year risk (%)\"] == \"<1%\"),\"FRS 10-year risk (%)\"] = .005\n",
    "data3.loc[(data3[\"FRS 10-year risk (%)\"] == \">30%\"),\"FRS 10-year risk (%)\"] = .35\n",
    "\n",
    "# Remove ID columns becuase no value added\n",
    "data3 = data3.drop([\"Record ID\",\"Visit ID\" , \"PT ID\"],axis = 1)\n",
    "\n",
    "# Convert remaining blanks to NA\n",
    "data3  = data3.replace(\"\", np.nan, regex=True) # Replace Blanks with NAs\n",
    "data3  = data3.replace(\" \", np.nan, regex=True) # Replace Blanks with NAs\n",
    "\n",
    "# turn binary str result to 0 and 1\n",
    "data3.loc[(data3[\"BMI >30\"]=='N'),\"BMI >30\"] = 0\n",
    "data3.loc[(data3[\"BMI >30\"]=='Y'),\"BMI >30\"] = 1\n",
    "data3.loc[(data3[\"Sex\"]=='Female'),\"Sex\"] = 0\n",
    "data3.loc[(data3[\"Sex\"]=='Male'),\"Sex\"] = 1\n",
    "data3.loc[(data3[\"Tobacco\"]=='No'),\"Tobacco\"] = 0\n",
    "data3.loc[(data3[\"Tobacco\"]=='Yes'),\"Tobacco\"] = 1\n",
    "data3.loc[(data3[\"Met Sx\"]=='N'),\"Met Sx\"] = 0\n",
    "data3.loc[(data3[\"Met Sx\"]=='Y'),\"Met Sx\"] = 1\n",
    "\n",
    "\n",
    "rmv = len(data_cleaned) - len(data3)\n",
    "print(str(rmv) + \" Removed (\" + str(round(rmv*100/len(data2),2)) + \"% of data)\")\n",
    "\n",
    "data_cleaned = data3.copy()"
   ]
  },
  {
   "cell_type": "code",
   "execution_count": 17,
   "metadata": {
    "ExecuteTime": {
     "end_time": "2022-05-10T20:47:58.496393Z",
     "start_time": "2022-05-10T20:47:58.454872Z"
    }
   },
   "outputs": [
    {
     "data": {
      "text/html": [
       "<div>\n",
       "<style scoped>\n",
       "    .dataframe tbody tr th:only-of-type {\n",
       "        vertical-align: middle;\n",
       "    }\n",
       "\n",
       "    .dataframe tbody tr th {\n",
       "        vertical-align: top;\n",
       "    }\n",
       "\n",
       "    .dataframe thead th {\n",
       "        text-align: right;\n",
       "    }\n",
       "</style>\n",
       "<table border=\"1\" class=\"dataframe\">\n",
       "  <thead>\n",
       "    <tr style=\"text-align: right;\">\n",
       "      <th></th>\n",
       "      <th>index</th>\n",
       "      <th>Clinical F/U interval  [d from CT]</th>\n",
       "      <th>BMI</th>\n",
       "      <th>BMI &gt;30</th>\n",
       "      <th>Sex</th>\n",
       "      <th>Age at CT</th>\n",
       "      <th>Tobacco</th>\n",
       "      <th>FRS 10-year risk (%)</th>\n",
       "      <th>FRAX 10y Fx Prob (Orange-w/ DXA)</th>\n",
       "      <th>FRAX 10y Hip Fx Prob (Orange-w/ DXA)</th>\n",
       "      <th>...</th>\n",
       "      <th>AoCa        Agatston</th>\n",
       "      <th>Liver HU    (Median)</th>\n",
       "      <th>CARD_FLAG</th>\n",
       "      <th>DIA_FLAG</th>\n",
       "      <th>FEM_FLAG</th>\n",
       "      <th>ALZ_FLAG</th>\n",
       "      <th>CANCER_FLAG</th>\n",
       "      <th>OUTCOME_FLAGS</th>\n",
       "      <th>DEATH_FLAG</th>\n",
       "      <th>Fold</th>\n",
       "    </tr>\n",
       "  </thead>\n",
       "  <tbody>\n",
       "    <tr>\n",
       "      <th>0</th>\n",
       "      <td>2468</td>\n",
       "      <td>4375.0</td>\n",
       "      <td>27.6</td>\n",
       "      <td>0</td>\n",
       "      <td>0</td>\n",
       "      <td>63.0</td>\n",
       "      <td>0</td>\n",
       "      <td>0.010</td>\n",
       "      <td>6.45</td>\n",
       "      <td>0.31</td>\n",
       "      <td>...</td>\n",
       "      <td>0.000</td>\n",
       "      <td>54.0</td>\n",
       "      <td>0</td>\n",
       "      <td>0</td>\n",
       "      <td>0</td>\n",
       "      <td>0</td>\n",
       "      <td>0</td>\n",
       "      <td>0</td>\n",
       "      <td>0</td>\n",
       "      <td>0</td>\n",
       "    </tr>\n",
       "    <tr>\n",
       "      <th>2</th>\n",
       "      <td>3480</td>\n",
       "      <td>3999.0</td>\n",
       "      <td>43.5</td>\n",
       "      <td>1</td>\n",
       "      <td>0</td>\n",
       "      <td>42.0</td>\n",
       "      <td>0</td>\n",
       "      <td>0.005</td>\n",
       "      <td>1.19</td>\n",
       "      <td>0.03</td>\n",
       "      <td>...</td>\n",
       "      <td>0.000</td>\n",
       "      <td>48.0</td>\n",
       "      <td>0</td>\n",
       "      <td>1</td>\n",
       "      <td>0</td>\n",
       "      <td>0</td>\n",
       "      <td>0</td>\n",
       "      <td>1</td>\n",
       "      <td>0</td>\n",
       "      <td>2</td>\n",
       "    </tr>\n",
       "    <tr>\n",
       "      <th>3</th>\n",
       "      <td>342</td>\n",
       "      <td>4293.0</td>\n",
       "      <td>31.3</td>\n",
       "      <td>1</td>\n",
       "      <td>1</td>\n",
       "      <td>54.0</td>\n",
       "      <td>0</td>\n",
       "      <td>0.030</td>\n",
       "      <td>3.31</td>\n",
       "      <td>0.14</td>\n",
       "      <td>...</td>\n",
       "      <td>14.322</td>\n",
       "      <td>41.0</td>\n",
       "      <td>0</td>\n",
       "      <td>1</td>\n",
       "      <td>0</td>\n",
       "      <td>0</td>\n",
       "      <td>0</td>\n",
       "      <td>1</td>\n",
       "      <td>0</td>\n",
       "      <td>3</td>\n",
       "    </tr>\n",
       "    <tr>\n",
       "      <th>4</th>\n",
       "      <td>7464</td>\n",
       "      <td>2330.0</td>\n",
       "      <td>29.3</td>\n",
       "      <td>0</td>\n",
       "      <td>1</td>\n",
       "      <td>56.0</td>\n",
       "      <td>1</td>\n",
       "      <td>0.060</td>\n",
       "      <td>4.75</td>\n",
       "      <td>0.45</td>\n",
       "      <td>...</td>\n",
       "      <td>1805.759</td>\n",
       "      <td>61.0</td>\n",
       "      <td>0</td>\n",
       "      <td>1</td>\n",
       "      <td>0</td>\n",
       "      <td>0</td>\n",
       "      <td>0</td>\n",
       "      <td>1</td>\n",
       "      <td>0</td>\n",
       "      <td>4</td>\n",
       "    </tr>\n",
       "    <tr>\n",
       "      <th>5</th>\n",
       "      <td>5701</td>\n",
       "      <td>4182.0</td>\n",
       "      <td>35.1</td>\n",
       "      <td>1</td>\n",
       "      <td>0</td>\n",
       "      <td>55.0</td>\n",
       "      <td>0</td>\n",
       "      <td>0.010</td>\n",
       "      <td>4.39</td>\n",
       "      <td>0.21</td>\n",
       "      <td>...</td>\n",
       "      <td>0.000</td>\n",
       "      <td>30.0</td>\n",
       "      <td>0</td>\n",
       "      <td>1</td>\n",
       "      <td>0</td>\n",
       "      <td>0</td>\n",
       "      <td>0</td>\n",
       "      <td>1</td>\n",
       "      <td>0</td>\n",
       "      <td>0</td>\n",
       "    </tr>\n",
       "    <tr>\n",
       "      <th>...</th>\n",
       "      <td>...</td>\n",
       "      <td>...</td>\n",
       "      <td>...</td>\n",
       "      <td>...</td>\n",
       "      <td>...</td>\n",
       "      <td>...</td>\n",
       "      <td>...</td>\n",
       "      <td>...</td>\n",
       "      <td>...</td>\n",
       "      <td>...</td>\n",
       "      <td>...</td>\n",
       "      <td>...</td>\n",
       "      <td>...</td>\n",
       "      <td>...</td>\n",
       "      <td>...</td>\n",
       "      <td>...</td>\n",
       "      <td>...</td>\n",
       "      <td>...</td>\n",
       "      <td>...</td>\n",
       "      <td>...</td>\n",
       "      <td>...</td>\n",
       "    </tr>\n",
       "    <tr>\n",
       "      <th>9213</th>\n",
       "      <td>48</td>\n",
       "      <td>997.0</td>\n",
       "      <td>35.0</td>\n",
       "      <td>1</td>\n",
       "      <td>1</td>\n",
       "      <td>88.0</td>\n",
       "      <td>1</td>\n",
       "      <td>0.160</td>\n",
       "      <td>5.84</td>\n",
       "      <td>2.32</td>\n",
       "      <td>...</td>\n",
       "      <td>31723.945</td>\n",
       "      <td>59.0</td>\n",
       "      <td>1</td>\n",
       "      <td>0</td>\n",
       "      <td>0</td>\n",
       "      <td>0</td>\n",
       "      <td>0</td>\n",
       "      <td>1</td>\n",
       "      <td>1</td>\n",
       "      <td>3</td>\n",
       "    </tr>\n",
       "    <tr>\n",
       "      <th>9215</th>\n",
       "      <td>6117</td>\n",
       "      <td>3120.0</td>\n",
       "      <td>20.6</td>\n",
       "      <td>0</td>\n",
       "      <td>0</td>\n",
       "      <td>77.0</td>\n",
       "      <td>1</td>\n",
       "      <td>0.050</td>\n",
       "      <td>3.61</td>\n",
       "      <td>0.13</td>\n",
       "      <td>...</td>\n",
       "      <td>3345.262</td>\n",
       "      <td>51.0</td>\n",
       "      <td>1</td>\n",
       "      <td>0</td>\n",
       "      <td>0</td>\n",
       "      <td>0</td>\n",
       "      <td>0</td>\n",
       "      <td>1</td>\n",
       "      <td>1</td>\n",
       "      <td>0</td>\n",
       "    </tr>\n",
       "    <tr>\n",
       "      <th>9216</th>\n",
       "      <td>8007</td>\n",
       "      <td>1542.0</td>\n",
       "      <td>20.3</td>\n",
       "      <td>0</td>\n",
       "      <td>0</td>\n",
       "      <td>57.0</td>\n",
       "      <td>1</td>\n",
       "      <td>0.020</td>\n",
       "      <td>12.26</td>\n",
       "      <td>3.20</td>\n",
       "      <td>...</td>\n",
       "      <td>77.930</td>\n",
       "      <td>58.0</td>\n",
       "      <td>1</td>\n",
       "      <td>0</td>\n",
       "      <td>0</td>\n",
       "      <td>0</td>\n",
       "      <td>0</td>\n",
       "      <td>1</td>\n",
       "      <td>1</td>\n",
       "      <td>1</td>\n",
       "    </tr>\n",
       "    <tr>\n",
       "      <th>9219</th>\n",
       "      <td>3472</td>\n",
       "      <td>1401.0</td>\n",
       "      <td>34.6</td>\n",
       "      <td>1</td>\n",
       "      <td>1</td>\n",
       "      <td>73.0</td>\n",
       "      <td>1</td>\n",
       "      <td>0.160</td>\n",
       "      <td>5.31</td>\n",
       "      <td>1.68</td>\n",
       "      <td>...</td>\n",
       "      <td>4432.919</td>\n",
       "      <td>50.0</td>\n",
       "      <td>1</td>\n",
       "      <td>0</td>\n",
       "      <td>0</td>\n",
       "      <td>0</td>\n",
       "      <td>0</td>\n",
       "      <td>1</td>\n",
       "      <td>1</td>\n",
       "      <td>4</td>\n",
       "    </tr>\n",
       "    <tr>\n",
       "      <th>9222</th>\n",
       "      <td>4201</td>\n",
       "      <td>661.0</td>\n",
       "      <td>43.2</td>\n",
       "      <td>1</td>\n",
       "      <td>1</td>\n",
       "      <td>52.0</td>\n",
       "      <td>1</td>\n",
       "      <td>0.060</td>\n",
       "      <td>2.15</td>\n",
       "      <td>0.09</td>\n",
       "      <td>...</td>\n",
       "      <td>2416.882</td>\n",
       "      <td>55.0</td>\n",
       "      <td>0</td>\n",
       "      <td>0</td>\n",
       "      <td>0</td>\n",
       "      <td>0</td>\n",
       "      <td>0</td>\n",
       "      <td>0</td>\n",
       "      <td>1</td>\n",
       "      <td>2</td>\n",
       "    </tr>\n",
       "  </tbody>\n",
       "</table>\n",
       "<p>7049 rows × 31 columns</p>\n",
       "</div>"
      ],
      "text/plain": [
       "      index  Clinical F/U interval  [d from CT]   BMI BMI >30 Sex  Age at CT  \\\n",
       "0      2468                              4375.0  27.6       0   0       63.0   \n",
       "2      3480                              3999.0  43.5       1   0       42.0   \n",
       "3       342                              4293.0  31.3       1   1       54.0   \n",
       "4      7464                              2330.0  29.3       0   1       56.0   \n",
       "5      5701                              4182.0  35.1       1   0       55.0   \n",
       "...     ...                                 ...   ...     ...  ..        ...   \n",
       "9213     48                               997.0  35.0       1   1       88.0   \n",
       "9215   6117                              3120.0  20.6       0   0       77.0   \n",
       "9216   8007                              1542.0  20.3       0   0       57.0   \n",
       "9219   3472                              1401.0  34.6       1   1       73.0   \n",
       "9222   4201                               661.0  43.2       1   1       52.0   \n",
       "\n",
       "     Tobacco  FRS 10-year risk (%)  FRAX 10y Fx Prob (Orange-w/ DXA)  \\\n",
       "0          0                 0.010                              6.45   \n",
       "2          0                 0.005                              1.19   \n",
       "3          0                 0.030                              3.31   \n",
       "4          1                 0.060                              4.75   \n",
       "5          0                 0.010                              4.39   \n",
       "...      ...                   ...                               ...   \n",
       "9213       1                 0.160                              5.84   \n",
       "9215       1                 0.050                              3.61   \n",
       "9216       1                 0.020                             12.26   \n",
       "9219       1                 0.160                              5.31   \n",
       "9222       1                 0.060                              2.15   \n",
       "\n",
       "      FRAX 10y Hip Fx Prob (Orange-w/ DXA)  ... AoCa        Agatston  \\\n",
       "0                                     0.31  ...                0.000   \n",
       "2                                     0.03  ...                0.000   \n",
       "3                                     0.14  ...               14.322   \n",
       "4                                     0.45  ...             1805.759   \n",
       "5                                     0.21  ...                0.000   \n",
       "...                                    ...  ...                  ...   \n",
       "9213                                  2.32  ...            31723.945   \n",
       "9215                                  0.13  ...             3345.262   \n",
       "9216                                  3.20  ...               77.930   \n",
       "9219                                  1.68  ...             4432.919   \n",
       "9222                                  0.09  ...             2416.882   \n",
       "\n",
       "      Liver HU    (Median)  CARD_FLAG  DIA_FLAG  FEM_FLAG  ALZ_FLAG  \\\n",
       "0                     54.0          0         0         0         0   \n",
       "2                     48.0          0         1         0         0   \n",
       "3                     41.0          0         1         0         0   \n",
       "4                     61.0          0         1         0         0   \n",
       "5                     30.0          0         1         0         0   \n",
       "...                    ...        ...       ...       ...       ...   \n",
       "9213                  59.0          1         0         0         0   \n",
       "9215                  51.0          1         0         0         0   \n",
       "9216                  58.0          1         0         0         0   \n",
       "9219                  50.0          1         0         0         0   \n",
       "9222                  55.0          0         0         0         0   \n",
       "\n",
       "      CANCER_FLAG  OUTCOME_FLAGS  DEATH_FLAG  Fold  \n",
       "0               0              0           0     0  \n",
       "2               0              1           0     2  \n",
       "3               0              1           0     3  \n",
       "4               0              1           0     4  \n",
       "5               0              1           0     0  \n",
       "...           ...            ...         ...   ...  \n",
       "9213            0              1           1     3  \n",
       "9215            0              1           1     0  \n",
       "9216            0              1           1     1  \n",
       "9219            0              1           1     4  \n",
       "9222            0              0           1     2  \n",
       "\n",
       "[7049 rows x 31 columns]"
      ]
     },
     "execution_count": 17,
     "metadata": {},
     "output_type": "execute_result"
    }
   ],
   "source": [
    "data_cleaned "
   ]
  },
  {
   "cell_type": "markdown",
   "metadata": {},
   "source": [
    "## CT Prediction"
   ]
  },
  {
   "cell_type": "code",
   "execution_count": 18,
   "metadata": {
    "ExecuteTime": {
     "end_time": "2022-05-10T20:47:58.520569Z",
     "start_time": "2022-05-10T20:47:58.496393Z"
    }
   },
   "outputs": [],
   "source": [
    "def LR(train,test,X_col=measures_all):\n",
    "    ct_train_x = train.loc[:,X_col]\n",
    "    ct_train_y = train.loc[:,\"DEATH_FLAG\"]\n",
    "    ct_test_x = test.loc[:,X_col]\n",
    "    ct_test_y = test.loc[:,\"DEATH_FLAG\"]\n",
    "\n",
    "    clf_ct_LR = LogisticRegression(random_state=0, solver='liblinear').fit(ct_train_x, ct_train_y)\n",
    "    pred_y = clf_ct_LR.predict_proba(ct_test_x)\n",
    "    prob_y_LR = [i[1] for i in pred_y]\n",
    "    \n",
    "    return prob_y_LR,ct_test_y"
   ]
  },
  {
   "cell_type": "code",
   "execution_count": 19,
   "metadata": {
    "ExecuteTime": {
     "end_time": "2022-05-10T20:47:58.536170Z",
     "start_time": "2022-05-10T20:47:58.520569Z"
    }
   },
   "outputs": [],
   "source": [
    "def RF2(train,test,d,X_col=measures_all):\n",
    "    \n",
    "    ct_train_x = train.loc[:,X_col]\n",
    "    ct_train_y = train.loc[:,\"DEATH_FLAG\"]\n",
    "    ct_test_x = test.loc[:,X_col]\n",
    "    ct_test_y = test.loc[:,\"DEATH_FLAG\"]\n",
    "    \n",
    "    clf_ct = RandomForestClassifier(max_depth = d,max_samples = .5, n_estimators = 100,random_state=17).fit(ct_train_x, ct_train_y)\n",
    "    pred_y = clf_ct.predict_proba(ct_test_x)\n",
    "    prob_y_RF = [i[1] for i in pred_y]\n",
    "            \n",
    "    return list(prob_y_RF),list(ct_test_y)\n",
    "    "
   ]
  },
  {
   "cell_type": "code",
   "execution_count": 20,
   "metadata": {
    "ExecuteTime": {
     "end_time": "2022-05-10T20:47:58.551808Z",
     "start_time": "2022-05-10T20:47:58.536170Z"
    }
   },
   "outputs": [],
   "source": [
    "def LR_RF2(tr1,tr2,test,d,X_col=measures_all):\n",
    "\n",
    "    ct_train2_x = tr2.loc[:,X_col]\n",
    "    ct_train2_x_temp = tr2.loc[:,X_col]\n",
    "    ct_train2_y = tr2.loc[:,\"DEATH_FLAG\"]\n",
    "\n",
    "    ct_test_x = test.loc[:,X_col]\n",
    "    ct_test_x_temp = test.loc[:,X_col]\n",
    "    ct_test_y = test.loc[:,\"DEATH_FLAG\"]\n",
    "        \n",
    "    Flags = [\"CARD_FLAG\",\"DIA_FLAG\",\"FEM_FLAG\",\"ALZ_FLAG\",\"CANCER_FLAG\",\"DEATH_FLAG\"] \n",
    "    \n",
    "    \n",
    "    \n",
    "    for f in Flags:\n",
    "        ct_train1_x = tr1.loc[:,X_col]\n",
    "        ct_train1_y = tr1.loc[:,f]\n",
    "        clf_ct_LR = LogisticRegression(random_state=0, solver='liblinear').fit(ct_train1_x, ct_train1_y)\n",
    "        #clf_ct_LR =  RandomForestClassifier(max_depth = d, n_estimators = 50,random_state=17).fit(ct_train2_x, ct_train2_y)\n",
    "        \n",
    "        pred_y = clf_ct_LR.predict_proba(ct_train2_x_temp)\n",
    "        prob_y_LR = [i[1]for i in pred_y]\n",
    "        ct_train2_x[f+\"_PRED\"] = prob_y_LR.copy()\n",
    "\n",
    "        pred_y = clf_ct_LR.predict_proba(ct_test_x_temp)\n",
    "        prob_y_LR = [i[1] for i in pred_y]\n",
    "        ct_test_x[f+\"_PRED\"] = prob_y_LR.copy()\n",
    "        \n",
    "\n",
    "    clf_ct = RandomForestClassifier(max_depth = d,max_samples = .5, n_estimators = 100,random_state=17).fit(ct_train2_x, ct_train2_y)\n",
    "    #lf_ct = LogisticRegression(random_state=0, solver='liblinear').fit(ct_train2_x, ct_train2_y)\n",
    "    \n",
    "    pred_y = clf_ct.predict_proba(ct_test_x)\n",
    "    prob_y_LR_RF = [i[1] for i in pred_y]\n",
    "\n",
    "    return list(prob_y_LR_RF),list(ct_test_y)"
   ]
  },
  {
   "cell_type": "code",
   "execution_count": 21,
   "metadata": {
    "ExecuteTime": {
     "end_time": "2022-05-10T20:47:58.721242Z",
     "start_time": "2022-05-10T20:47:58.551808Z"
    }
   },
   "outputs": [],
   "source": [
    "AUCs_LR = []\n",
    "FPR_LR = []\n",
    "TPR_LR = []\n",
    "TH_LR = []\n",
    "\n",
    "for f in range(Folds):\n",
    "    prob_y, true_y = LR(data_cleaned.loc[(data_cleaned[\"Fold\"] != f), ],\n",
    "                        data_cleaned.loc[(data_cleaned[\"Fold\"] == f), ])\n",
    "\n",
    "    fpr, tpr, thresholds = metrics.roc_curve(true_y, prob_y)\n",
    "    auc = metrics.roc_auc_score(true_y, prob_y)\n",
    "    AUCs_LR.append(auc)\n",
    "    FPR_LR.append(fpr)\n",
    "    TPR_LR.append(tpr)\n",
    "    TH_LR.append(thresholds)"
   ]
  },
  {
   "cell_type": "code",
   "execution_count": 22,
   "metadata": {
    "ExecuteTime": {
     "end_time": "2022-05-10T20:48:04.019242Z",
     "start_time": "2022-05-10T20:47:58.721242Z"
    }
   },
   "outputs": [
    {
     "name": "stdout",
     "output_type": "stream",
     "text": [
      "0\n",
      "1\n",
      "2\n",
      "3\n",
      "4\n",
      "0\n",
      "1\n",
      "2\n",
      "3\n",
      "4\n",
      "0\n",
      "1\n",
      "2\n",
      "3\n",
      "4\n"
     ]
    }
   ],
   "source": [
    "D = [3, 5, 10]\n",
    "\n",
    "AUCs_RF_All = []\n",
    "FPR_RF_All = []\n",
    "TPR_RF_All = []\n",
    "TH_RF_All = []\n",
    "\n",
    "for d in D:\n",
    "    AUCs_RF = []\n",
    "    FPR_RF = []\n",
    "    TPR_RF = []\n",
    "    TH_RF = []\n",
    "    for f in range(Folds):\n",
    "        print(f)\n",
    "        prob_y, true_y = RF2(data_cleaned.loc[(data_cleaned[\"Fold\"] != f), ],\n",
    "                             data_cleaned.loc[(data_cleaned[\"Fold\"] == f), ],\n",
    "                             d)\n",
    "\n",
    "        fpr, tpr, thresholds = metrics.roc_curve(true_y, prob_y)\n",
    "        auc = metrics.roc_auc_score(true_y, prob_y)\n",
    "        AUCs_RF.append(auc)\n",
    "        FPR_RF.append(fpr)\n",
    "        TPR_RF.append(tpr)\n",
    "        TH_RF.append(thresholds)\n",
    "\n",
    "    AUCs_RF_All.append(AUCs_RF)\n",
    "    FPR_RF_All.append(FPR_RF)\n",
    "    TPR_RF_All.append(TPR_RF)\n",
    "    TH_RF_All.append(TH_RF)"
   ]
  },
  {
   "cell_type": "code",
   "execution_count": 23,
   "metadata": {
    "ExecuteTime": {
     "end_time": "2022-05-10T20:48:37.777538Z",
     "start_time": "2022-05-10T20:48:04.019242Z"
    }
   },
   "outputs": [
    {
     "name": "stdout",
     "output_type": "stream",
     "text": [
      "0\n",
      "1\n",
      "2\n",
      "3\n",
      "4\n",
      "0\n",
      "1\n",
      "2\n",
      "3\n",
      "4\n",
      "0\n",
      "1\n",
      "2\n",
      "3\n",
      "4\n"
     ]
    }
   ],
   "source": [
    "AUCs_LR_RF_All = []\n",
    "FPR_LR_RF_All = []\n",
    "TPR_LR_RF_All = []\n",
    "TH_LR_RF_All = []\n",
    "\n",
    "for d in D:\n",
    "    AUCs_LR_RF = []\n",
    "    FPR_LR_RF = []\n",
    "    TPR_LR_RF = []\n",
    "    TH_LR_RF = []\n",
    "    for f in range(Folds):\n",
    "        print(f)\n",
    "        Train_Folds = [ff for ff in range(Folds) if ff != f]\n",
    "        combs = combinations(Train_Folds, math.ceil((Folds - 1) * .5))\n",
    "\n",
    "        for c in combs:\n",
    "            c = list(c)\n",
    "            prob_y, true_y = LR_RF2(\n",
    "                data_cleaned.loc[(data_cleaned[\"Fold\"] != f) &\n",
    "                                 (data_cleaned[\"Fold\"].isin(c)), ],\n",
    "                data_cleaned.loc[(data_cleaned[\"Fold\"] != f) &\n",
    "                                 (~data_cleaned[\"Fold\"].isin(c)), ],\n",
    "                data_cleaned.loc[(data_cleaned[\"Fold\"] == f)], d)\n",
    "\n",
    "            fpr, tpr, thresholds = metrics.roc_curve(true_y, prob_y)\n",
    "            auc = metrics.roc_auc_score(true_y, prob_y)\n",
    "            AUCs_LR_RF.append(auc)\n",
    "            FPR_LR_RF.append(fpr)\n",
    "            TPR_LR_RF.append(tpr)\n",
    "            TH_LR_RF.append(thresholds)\n",
    "\n",
    "    AUCs_LR_RF_All.append(AUCs_LR_RF)\n",
    "    FPR_LR_RF_All.append(FPR_LR_RF)\n",
    "    TPR_LR_RF_All.append(TPR_LR_RF)\n",
    "    TH_LR_RF_All.append(TH_LR_RF)"
   ]
  },
  {
   "cell_type": "code",
   "execution_count": 24,
   "metadata": {
    "ExecuteTime": {
     "end_time": "2022-05-10T20:48:38.031780Z",
     "start_time": "2022-05-10T20:48:37.779420Z"
    }
   },
   "outputs": [
    {
     "data": {
      "image/png": "[encoded data removed]",
      "text/plain": [
       "<Figure size 432x288 with 1 Axes>"
      ]
     },
     "metadata": {
      "needs_background": "light"
     },
     "output_type": "display_data"
    }
   ],
   "source": [
    "plt.plot(FPR_LR[0], FPR_LR[0], label='Log Regression, (AUC: ' + str(round(sum(AUCs_LR)/len(AUCs_LR),2))+')')\n",
    "plt.plot([0,1],[0,1])\n",
    "\n",
    "for d in range(len(D)):\n",
    "    plt.plot(FPR_RF_All[d][0], TPR_RF_All[d][0], label='Rand Forest, Mx_Dpth = '+str(D[d])+' (AUC: ' + str(round(sum(AUCs_RF_All[d])/len(AUCs_RF_All[d]),2))+')')\n",
    "\n",
    "for d in range(len(D)):\n",
    "    plt.plot(FPR_LR_RF_All[d][0], TPR_LR_RF_All[d][0], label='LR + RF, Mx_Dpth = '+str(D[d])+' (AUC: ' + str(round(sum(AUCs_LR_RF_All[d])/len(AUCs_LR_RF_All[d]),2))+')')\n",
    "\n",
    "#for d in range(len(D)):\n",
    "#    plt.plot(FPR_RF_LR_All[d][0], TPR_RF_LR_All[d][0], label='RF + LR, Mx_Dpth = '+str(D[d])+' (AUC: ' + str(round(sum(AUCs_RF_LR_All[d])/len(AUCs_RF_LR_All[d]),2))+')')\n",
    "\n",
    "\n",
    "plt.xlabel(\"False Positive Rate\")\n",
    "plt.ylabel(\"True Positive Rate\")\n",
    "plt.legend()\n",
    "plt.show()"
   ]
  },
  {
   "cell_type": "code",
   "execution_count": 25,
   "metadata": {
    "ExecuteTime": {
     "end_time": "2022-05-10T20:48:38.214331Z",
     "start_time": "2022-05-10T20:48:38.037253Z"
    }
   },
   "outputs": [
    {
     "data": {
      "image/png": "[encoded data removed]",
      "text/plain": [
       "<Figure size 432x288 with 1 Axes>"
      ]
     },
     "metadata": {
      "needs_background": "light"
     },
     "output_type": "display_data"
    }
   ],
   "source": [
    "\n",
    "data = [AUCs_LR] +  [ AUCs_RF_All[d] for d in range(len(D))] + [ AUCs_LR_RF_All[d] for d in range(len(D))] \n",
    "Labs = [\"Lin Reg\"] + [ \"RF, MX_Dpth = \" + str(D[d]) for d in range(len(D))] + [ \"LR + RF, MX_Dpth = \" + str(D[d]) for d in range(len(D))] \n",
    " \n",
    "fig = plt.figure()\n",
    " \n",
    "# Creating axes instance\n",
    "ax = fig.add_axes([0, 0, 1, 1])\n",
    " \n",
    "# Creating plot\n",
    "bp = ax.boxplot(data,showmeans=True)\n",
    "\n",
    "ax.set_title('AUC Values from Cross-Validation')\n",
    "ax.set_xlabel('Method')\n",
    "ax.set_ylabel('AUC Value')\n",
    "\n",
    "plt.xticks(list(range(1,1+len(data))), Labs)\n",
    "ax.set_xticklabels(Labs, rotation = 90)\n",
    " \n",
    "# show plot\n",
    "plt.show()"
   ]
  },
  {
   "cell_type": "markdown",
   "metadata": {},
   "source": [
    "## CT + CLINICAL PREDICTION"
   ]
  },
  {
   "cell_type": "markdown",
   "metadata": {},
   "source": [
    "### CT + Simple Demographics (Sex,Age,BMI)"
   ]
  },
  {
   "cell_type": "code",
   "execution_count": 26,
   "metadata": {
    "ExecuteTime": {
     "end_time": "2022-05-10T20:48:38.222617Z",
     "start_time": "2022-05-10T20:48:38.216577Z"
    }
   },
   "outputs": [
    {
     "data": {
      "text/plain": [
       "['L1_HU_BMD',\n",
       " 'TAT Area (cm2)',\n",
       " 'Total Body                Area EA (cm2)',\n",
       " 'VAT Area (cm2)',\n",
       " 'SAT Area (cm2)',\n",
       " 'VAT/SAT     Ratio',\n",
       " 'Muscle HU',\n",
       " ' Muscle Area (cm2)',\n",
       " 'L3 SMI (cm2/m2)',\n",
       " 'AoCa        Agatston',\n",
       " 'Liver HU    (Median)',\n",
       " 'BMI',\n",
       " 'BMI >30',\n",
       " 'Sex',\n",
       " 'Age at CT']"
      ]
     },
     "execution_count": 26,
     "metadata": {},
     "output_type": "execute_result"
    }
   ],
   "source": [
    "ct_clinical_measure_1"
   ]
  },
  {
   "cell_type": "code",
   "execution_count": 27,
   "metadata": {
    "ExecuteTime": {
     "end_time": "2022-05-10T20:48:38.634651Z",
     "start_time": "2022-05-10T20:48:38.223580Z"
    }
   },
   "outputs": [],
   "source": [
    "AUCs_LR = []\n",
    "FPR_LR = []\n",
    "TPR_LR = []\n",
    "TH_LR = []\n",
    "\n",
    "for f in range(Folds):\n",
    "    prob_y,true_y = LR(data_cleaned.loc[(data_cleaned[\"Fold\"] != f),],\n",
    "                                data_cleaned.loc[(data_cleaned[\"Fold\"] == f),],X_col=ct_clinical_measure_1)\n",
    "     \n",
    "    fpr, tpr, thresholds = metrics.roc_curve(true_y,prob_y)\n",
    "    auc = metrics.roc_auc_score(true_y,prob_y)\n",
    "    AUCs_LR.append(auc) \n",
    "    FPR_LR.append(fpr) \n",
    "    TPR_LR.append(tpr) \n",
    "    TH_LR.append(thresholds) "
   ]
  },
  {
   "cell_type": "code",
   "execution_count": 28,
   "metadata": {
    "ExecuteTime": {
     "end_time": "2022-05-10T20:48:43.530711Z",
     "start_time": "2022-05-10T20:48:38.636665Z"
    }
   },
   "outputs": [
    {
     "name": "stdout",
     "output_type": "stream",
     "text": [
      "0\n",
      "1\n",
      "2\n",
      "3\n",
      "4\n",
      "0\n",
      "1\n",
      "2\n",
      "3\n",
      "4\n",
      "0\n",
      "1\n",
      "2\n",
      "3\n",
      "4\n"
     ]
    }
   ],
   "source": [
    "D = [3,5,10]\n",
    "\n",
    "AUCs_RF_All = []\n",
    "FPR_RF_All =[]\n",
    "TPR_RF_All =[]\n",
    "TH_RF_All = []\n",
    "\n",
    "for d in D:\n",
    "    AUCs_RF = []\n",
    "    FPR_RF =[]\n",
    "    TPR_RF =[]\n",
    "    TH_RF = []\n",
    "    for f in range(Folds):\n",
    "        print(f)\n",
    "        prob_y,true_y = RF2(data_cleaned.loc[(data_cleaned[\"Fold\"] != f),],\n",
    "                                 data_cleaned.loc[(data_cleaned[\"Fold\"] == f),],\n",
    "                                 d,X_col=ct_clinical_measure_1)\n",
    "     \n",
    "        fpr, tpr, thresholds = metrics.roc_curve(true_y,prob_y)\n",
    "        auc = metrics.roc_auc_score(true_y,prob_y)\n",
    "        AUCs_RF.append(auc) \n",
    "        FPR_RF.append(fpr) \n",
    "        TPR_RF.append(tpr) \n",
    "        TH_RF.append(thresholds) \n",
    "    \n",
    "    AUCs_RF_All.append(AUCs_RF)\n",
    "    FPR_RF_All.append(FPR_RF)\n",
    "    TPR_RF_All.append(TPR_RF)\n",
    "    TH_RF_All.append(TH_RF)\n"
   ]
  },
  {
   "cell_type": "code",
   "execution_count": 29,
   "metadata": {
    "ExecuteTime": {
     "end_time": "2022-05-10T20:49:28.539600Z",
     "start_time": "2022-05-10T20:48:43.531629Z"
    }
   },
   "outputs": [
    {
     "name": "stdout",
     "output_type": "stream",
     "text": [
      "0\n",
      "1\n",
      "2\n",
      "3\n",
      "4\n",
      "0\n",
      "1\n",
      "2\n",
      "3\n",
      "4\n",
      "0\n",
      "1\n",
      "2\n",
      "3\n",
      "4\n"
     ]
    }
   ],
   "source": [
    "AUCs_LR_RF_All = []\n",
    "FPR_LR_RF_All =[]\n",
    "TPR_LR_RF_All =[]\n",
    "TH_LR_RF_All = []\n",
    "\n",
    "for d in D:\n",
    "    AUCs_LR_RF = []\n",
    "    FPR_LR_RF =[]\n",
    "    TPR_LR_RF =[]\n",
    "    TH_LR_RF = []\n",
    "    for f in range(Folds):\n",
    "        print(f)\n",
    "        Train_Folds = [ff for ff in range(Folds) if ff != f]\n",
    "        combs = combinations(Train_Folds, math.ceil((Folds-1)*.5))\n",
    "        \n",
    "        for c in combs:\n",
    "            c= list(c)\n",
    "            prob_y,true_y = LR_RF2(data_cleaned.loc[(data_cleaned[\"Fold\"] != f) & (data_cleaned[\"Fold\"].isin(c)),],\n",
    "                                  data_cleaned.loc[(data_cleaned[\"Fold\"] != f) & (~data_cleaned[\"Fold\"].isin(c)),],\n",
    "                                  data_cleaned.loc[(data_cleaned[\"Fold\"] == f)],\n",
    "                                  d,X_col=ct_clinical_measure_1)\n",
    "\n",
    "            fpr, tpr, thresholds = metrics.roc_curve(true_y,prob_y)\n",
    "            auc = metrics.roc_auc_score(true_y,prob_y)\n",
    "            AUCs_LR_RF.append(auc) \n",
    "            FPR_LR_RF.append(fpr) \n",
    "            TPR_LR_RF.append(tpr) \n",
    "            TH_LR_RF.append(thresholds) \n",
    "    \n",
    "    AUCs_LR_RF_All.append(AUCs_LR_RF)\n",
    "    FPR_LR_RF_All.append(FPR_LR_RF)\n",
    "    TPR_LR_RF_All.append(TPR_LR_RF)\n",
    "    TH_LR_RF_All.append(TH_LR_RF)"
   ]
  },
  {
   "cell_type": "code",
   "execution_count": 30,
   "metadata": {
    "ExecuteTime": {
     "end_time": "2022-05-10T20:49:28.755983Z",
     "start_time": "2022-05-10T20:49:28.539600Z"
    }
   },
   "outputs": [
    {
     "data": {
      "image/png": "[encoded data removed]",
      "text/plain": [
       "<Figure size 432x288 with 1 Axes>"
      ]
     },
     "metadata": {
      "needs_background": "light"
     },
     "output_type": "display_data"
    }
   ],
   "source": [
    "plt.plot(FPR_LR[0], FPR_LR[0], label='Log Regression, (AUC: ' + str(round(sum(AUCs_LR)/len(AUCs_LR),2))+')')\n",
    "plt.plot([0,1],[0,1])\n",
    "\n",
    "for d in range(len(D)):\n",
    "    plt.plot(FPR_RF_All[d][0], TPR_RF_All[d][0], label='Rand Forest, Mx_Dpth = '+str(D[d])+' (AUC: ' + str(round(sum(AUCs_RF_All[d])/len(AUCs_RF_All[d]),2))+')')\n",
    "\n",
    "for d in range(len(D)):\n",
    "    plt.plot(FPR_LR_RF_All[d][0], TPR_LR_RF_All[d][0], label='LR + RF, Mx_Dpth = '+str(D[d])+' (AUC: ' + str(round(sum(AUCs_LR_RF_All[d])/len(AUCs_LR_RF_All[d]),2))+')')\n",
    "\n",
    "\n",
    "plt.xlabel(\"False Positive Rate\")\n",
    "plt.ylabel(\"True Positive Rate\")\n",
    "plt.title(\"CT + CLINICAL\")\n",
    "plt.legend()\n",
    "plt.show()"
   ]
  },
  {
   "cell_type": "code",
   "execution_count": 31,
   "metadata": {
    "ExecuteTime": {
     "end_time": "2022-05-10T20:49:28.978037Z",
     "start_time": "2022-05-10T20:49:28.756950Z"
    }
   },
   "outputs": [
    {
     "data": {
      "image/png": "[encoded data removed]",
      "text/plain": [
       "<Figure size 432x288 with 1 Axes>"
      ]
     },
     "metadata": {
      "needs_background": "light"
     },
     "output_type": "display_data"
    }
   ],
   "source": [
    "data = [AUCs_LR] +  [ AUCs_RF_All[d] for d in range(len(D))] + [ AUCs_LR_RF_All[d] for d in range(len(D))]\n",
    "Labs = [\"Lin Reg\"] + [ \"RF, MX_Dpth = \" + str(D[d]) for d in range(len(D))] + [ \"LR + RF, MX_Dpth = \" + str(D[d]) for d in range(len(D))]\n",
    " \n",
    "fig = plt.figure()\n",
    " \n",
    "# Creating axes instance\n",
    "ax = fig.add_axes([0, 0, 1, 1])\n",
    " \n",
    "# Creating plot\n",
    "bp = ax.boxplot(data,showmeans=True)\n",
    "\n",
    "ax.set_title('AUC Values from Cross-Validation')\n",
    "ax.set_xlabel('Method')\n",
    "ax.set_ylabel('AUC Value')\n",
    "\n",
    "plt.xticks(list(range(1,1+len(data))), Labs)\n",
    "ax.set_xticklabels(Labs, rotation = 90)\n",
    " \n",
    "# show plot\n",
    "plt.show()"
   ]
  },
  {
   "cell_type": "markdown",
   "metadata": {},
   "source": [
    "### All CT + Clincal Data"
   ]
  },
  {
   "cell_type": "code",
   "execution_count": 32,
   "metadata": {
    "ExecuteTime": {
     "end_time": "2022-05-10T20:49:28.994502Z",
     "start_time": "2022-05-10T20:49:28.979180Z"
    },
    "scrolled": true
   },
   "outputs": [
    {
     "data": {
      "text/plain": [
       "['L1_HU_BMD',\n",
       " 'TAT Area (cm2)',\n",
       " 'Total Body                Area EA (cm2)',\n",
       " 'VAT Area (cm2)',\n",
       " 'SAT Area (cm2)',\n",
       " 'VAT/SAT     Ratio',\n",
       " 'Muscle HU',\n",
       " ' Muscle Area (cm2)',\n",
       " 'L3 SMI (cm2/m2)',\n",
       " 'AoCa        Agatston',\n",
       " 'Liver HU    (Median)',\n",
       " 'Clinical F/U interval  [d from CT]',\n",
       " 'BMI',\n",
       " 'BMI >30',\n",
       " 'Sex',\n",
       " 'Age at CT',\n",
       " 'Tobacco',\n",
       " 'FRS 10-year risk (%)',\n",
       " 'FRAX 10y Fx Prob (Orange-w/ DXA)',\n",
       " 'FRAX 10y Hip Fx Prob (Orange-w/ DXA)',\n",
       " 'Met Sx',\n",
       " 'AA_FLAG']"
      ]
     },
     "execution_count": 32,
     "metadata": {},
     "output_type": "execute_result"
    }
   ],
   "source": [
    "ct_clinical_measure"
   ]
  },
  {
   "cell_type": "code",
   "execution_count": 33,
   "metadata": {
    "ExecuteTime": {
     "end_time": "2022-05-10T20:49:29.503124Z",
     "start_time": "2022-05-10T20:49:28.994502Z"
    }
   },
   "outputs": [],
   "source": [
    "AUCs_LR = []\n",
    "FPR_LR = []\n",
    "TPR_LR = []\n",
    "TH_LR = []\n",
    "\n",
    "for f in range(Folds):\n",
    "    prob_y,true_y = LR(data_cleaned.loc[(data_cleaned[\"Fold\"] != f),],\n",
    "                                data_cleaned.loc[(data_cleaned[\"Fold\"] == f),],X_col=ct_clinical_measure)\n",
    "     \n",
    "    fpr, tpr, thresholds = metrics.roc_curve(true_y,prob_y)\n",
    "    auc = metrics.roc_auc_score(true_y,prob_y)\n",
    "    AUCs_LR.append(auc) \n",
    "    FPR_LR.append(fpr) \n",
    "    TPR_LR.append(tpr) \n",
    "    TH_LR.append(thresholds)"
   ]
  },
  {
   "cell_type": "code",
   "execution_count": 34,
   "metadata": {
    "ExecuteTime": {
     "end_time": "2022-05-10T20:49:34.779603Z",
     "start_time": "2022-05-10T20:49:29.503124Z"
    }
   },
   "outputs": [
    {
     "name": "stdout",
     "output_type": "stream",
     "text": [
      "0\n",
      "1\n",
      "2\n",
      "3\n",
      "4\n",
      "0\n",
      "1\n",
      "2\n",
      "3\n",
      "4\n",
      "0\n",
      "1\n",
      "2\n",
      "3\n",
      "4\n"
     ]
    }
   ],
   "source": [
    "D = [3, 5, 10]\n",
    "\n",
    "AUCs_RF_All = []\n",
    "FPR_RF_All = []\n",
    "TPR_RF_All = []\n",
    "TH_RF_All = []\n",
    "\n",
    "for d in D:\n",
    "    AUCs_RF = []\n",
    "    FPR_RF = []\n",
    "    TPR_RF = []\n",
    "    TH_RF = []\n",
    "    for f in range(Folds):\n",
    "        print(f)\n",
    "        prob_y, true_y = RF2(data_cleaned.loc[(data_cleaned[\"Fold\"] != f), ],\n",
    "                             data_cleaned.loc[(data_cleaned[\"Fold\"] == f), ],\n",
    "                             d,\n",
    "                             X_col=ct_clinical_measure)\n",
    "\n",
    "        fpr, tpr, thresholds = metrics.roc_curve(true_y, prob_y)\n",
    "        auc = metrics.roc_auc_score(true_y, prob_y)\n",
    "        AUCs_RF.append(auc)\n",
    "        FPR_RF.append(fpr)\n",
    "        TPR_RF.append(tpr)\n",
    "        TH_RF.append(thresholds)\n",
    "\n",
    "    AUCs_RF_All.append(AUCs_RF)\n",
    "    FPR_RF_All.append(FPR_RF)\n",
    "    TPR_RF_All.append(TPR_RF)\n",
    "    TH_RF_All.append(TH_RF)"
   ]
  },
  {
   "cell_type": "code",
   "execution_count": 35,
   "metadata": {
    "ExecuteTime": {
     "end_time": "2022-05-10T20:50:28.905708Z",
     "start_time": "2022-05-10T20:49:34.781943Z"
    }
   },
   "outputs": [
    {
     "name": "stdout",
     "output_type": "stream",
     "text": [
      "0\n",
      "1\n",
      "2\n",
      "3\n",
      "4\n",
      "0\n",
      "1\n",
      "2\n",
      "3\n",
      "4\n",
      "0\n",
      "1\n",
      "2\n",
      "3\n",
      "4\n"
     ]
    }
   ],
   "source": [
    "AUCs_LR_RF_All = []\n",
    "FPR_LR_RF_All = []\n",
    "TPR_LR_RF_All = []\n",
    "TH_LR_RF_All = []\n",
    "\n",
    "for d in D:\n",
    "    AUCs_LR_RF = []\n",
    "    FPR_LR_RF = []\n",
    "    TPR_LR_RF = []\n",
    "    TH_LR_RF = []\n",
    "    for f in range(Folds):\n",
    "        print(f)\n",
    "        Train_Folds = [ff for ff in range(Folds) if ff != f]\n",
    "        combs = combinations(Train_Folds, math.ceil((Folds - 1) * .5))\n",
    "\n",
    "        for c in combs:\n",
    "            c = list(c)\n",
    "            prob_y, true_y = LR_RF2(\n",
    "                data_cleaned.loc[(data_cleaned[\"Fold\"] != f) &\n",
    "                                 (data_cleaned[\"Fold\"].isin(c)), ],\n",
    "                data_cleaned.loc[(data_cleaned[\"Fold\"] != f) &\n",
    "                                 (~data_cleaned[\"Fold\"].isin(c)), ],\n",
    "                data_cleaned.loc[(data_cleaned[\"Fold\"] == f)],\n",
    "                d,\n",
    "                X_col=ct_clinical_measure)\n",
    "\n",
    "            fpr, tpr, thresholds = metrics.roc_curve(true_y, prob_y)\n",
    "            auc = metrics.roc_auc_score(true_y, prob_y)\n",
    "            AUCs_LR_RF.append(auc)\n",
    "            FPR_LR_RF.append(fpr)\n",
    "            TPR_LR_RF.append(tpr)\n",
    "            TH_LR_RF.append(thresholds)\n",
    "\n",
    "    AUCs_LR_RF_All.append(AUCs_LR_RF)\n",
    "    FPR_LR_RF_All.append(FPR_LR_RF)\n",
    "    TPR_LR_RF_All.append(TPR_LR_RF)\n",
    "    TH_LR_RF_All.append(TH_LR_RF)"
   ]
  },
  {
   "cell_type": "code",
   "execution_count": 36,
   "metadata": {
    "ExecuteTime": {
     "end_time": "2022-05-10T20:50:29.126758Z",
     "start_time": "2022-05-10T20:50:28.907782Z"
    }
   },
   "outputs": [
    {
     "data": {
      "image/png": "[encoded data removed]",
      "text/plain": [
       "<Figure size 432x288 with 1 Axes>"
      ]
     },
     "metadata": {
      "needs_background": "light"
     },
     "output_type": "display_data"
    }
   ],
   "source": [
    "plt.plot(FPR_LR[0], FPR_LR[0], label='Log Regression, (AUC: ' + str(round(sum(AUCs_LR)/len(AUCs_LR),2))+')')\n",
    "plt.plot([0,1],[0,1])\n",
    "\n",
    "for d in range(len(D)):\n",
    "    plt.plot(FPR_RF_All[d][0], TPR_RF_All[d][0], label='Rand Forest, Mx_Dpth = '+str(D[d])+' (AUC: ' + str(round(sum(AUCs_RF_All[d])/len(AUCs_RF_All[d]),2))+')')\n",
    "\n",
    "for d in range(len(D)):\n",
    "    plt.plot(FPR_LR_RF_All[d][0], TPR_LR_RF_All[d][0], label='LR + RF, Mx_Dpth = '+str(D[d])+' (AUC: ' + str(round(sum(AUCs_LR_RF_All[d])/len(AUCs_LR_RF_All[d]),2))+')')\n",
    "\n",
    "\n",
    "plt.xlabel(\"False Positive Rate\")\n",
    "plt.ylabel(\"True Positive Rate\")\n",
    "plt.title(\"CT + CLINICAL\")\n",
    "plt.legend()\n",
    "plt.show()"
   ]
  },
  {
   "cell_type": "code",
   "execution_count": 37,
   "metadata": {
    "ExecuteTime": {
     "end_time": "2022-05-10T20:50:29.289689Z",
     "start_time": "2022-05-10T20:50:29.127762Z"
    }
   },
   "outputs": [
    {
     "data": {
      "image/png": "[encoded data removed]",
      "text/plain": [
       "<Figure size 432x288 with 1 Axes>"
      ]
     },
     "metadata": {
      "needs_background": "light"
     },
     "output_type": "display_data"
    }
   ],
   "source": [
    "data = [AUCs_LR] +  [ AUCs_RF_All[d] for d in range(len(D))] + [ AUCs_LR_RF_All[d] for d in range(len(D))]\n",
    "Labs = [\"Lin Reg\"] + [ \"RF, MX_Dpth = \" + str(D[d]) for d in range(len(D))] + [ \"LR + RF, MX_Dpth = \" + str(D[d]) for d in range(len(D))]\n",
    " \n",
    "fig = plt.figure()\n",
    " \n",
    "# Creating axes instance\n",
    "ax = fig.add_axes([0, 0, 1, 1])\n",
    " \n",
    "# Creating plot\n",
    "bp = ax.boxplot(data,showmeans=True)\n",
    "\n",
    "ax.set_title('AUC Values from Cross-Validation')\n",
    "ax.set_xlabel('Method')\n",
    "ax.set_ylabel('AUC Value')\n",
    "\n",
    "plt.xticks(list(range(1,1+len(data))), Labs)\n",
    "ax.set_xticklabels(Labs, rotation = 90)\n",
    " \n",
    "# show plot\n",
    "plt.show()"
   ]
  },
  {
   "cell_type": "markdown",
   "metadata": {},
   "source": [
    "# BIO AGE"
   ]
  },
  {
   "cell_type": "code",
   "execution_count": 53,
   "metadata": {
    "ExecuteTime": {
     "end_time": "2022-05-10T22:00:19.668676Z",
     "start_time": "2022-05-10T22:00:19.661679Z"
    }
   },
   "outputs": [],
   "source": [
    "def NN_Age(train,test_original,cols,k):\n",
    "    \n",
    "    cols = cols + [\"risk_prob\"]\n",
    "    cols2 = cols + [\"Sex\"]\n",
    "    test = test_original.loc[:,cols2]\n",
    "\n",
    "    train_sex = {s:train.loc[(train[\"Sex\"] == s),:].copy() for s in range(2)}\n",
    "    train_sex[0][\"dist\"] = 0\n",
    "    train_sex[1][\"dist\"] = 0\n",
    "    \n",
    "    for c in cols:\n",
    "        std_val = [0,0]\n",
    "        for s in range(2):\n",
    "            std_val[s] = train_sex[s][c].std()\n",
    "            train_sex[s].loc[:,c] = train_sex[s].loc[:,c]/std_val[s]\n",
    "        for r in test.index:\n",
    "            s = test.loc[r,\"Sex\"]\n",
    "            test.loc[r,c] = test.loc[r,c]/std_val[s]\n",
    "\n",
    "    test[\"dist\"] = 0\n",
    "    for r in test.index:\n",
    "        \n",
    "        s = test.loc[r,\"Sex\"]\n",
    "        train_sex[s][\"dist\"] = 0\n",
    "        for c in cols:\n",
    "            train_sex[s].loc[:,\"dist\"] += (train_sex[s].loc[:,c] - float(test.loc[r,c]))**2\n",
    "        \n",
    "        after_sort = train_sex[s].sort_values(\"dist\")\n",
    "        \n",
    "        test.loc[r,\"pred_age\"] = (after_sort[\"Age at CT\"].iloc[0:k]).mean()\n",
    "        \n",
    "    print(\"done\")\n",
    "    return test[\"pred_age\"] "
   ]
  },
  {
   "cell_type": "code",
   "execution_count": 54,
   "metadata": {
    "ExecuteTime": {
     "end_time": "2022-05-10T22:00:22.750739Z",
     "start_time": "2022-05-10T22:00:21.946919Z"
    }
   },
   "outputs": [],
   "source": [
    "prob_list, list_y = LR_RF2(data_cleaned,data_cleaned,data_cleaned,5)"
   ]
  },
  {
   "cell_type": "code",
   "execution_count": 55,
   "metadata": {
    "ExecuteTime": {
     "end_time": "2022-05-10T22:00:25.000541Z",
     "start_time": "2022-05-10T22:00:24.973502Z"
    }
   },
   "outputs": [
    {
     "data": {
      "text/html": [
       "<div>\n",
       "<style scoped>\n",
       "    .dataframe tbody tr th:only-of-type {\n",
       "        vertical-align: middle;\n",
       "    }\n",
       "\n",
       "    .dataframe tbody tr th {\n",
       "        vertical-align: top;\n",
       "    }\n",
       "\n",
       "    .dataframe thead th {\n",
       "        text-align: right;\n",
       "    }\n",
       "</style>\n",
       "<table border=\"1\" class=\"dataframe\">\n",
       "  <thead>\n",
       "    <tr style=\"text-align: right;\">\n",
       "      <th></th>\n",
       "      <th>index</th>\n",
       "      <th>Clinical F/U interval  [d from CT]</th>\n",
       "      <th>BMI</th>\n",
       "      <th>BMI &gt;30</th>\n",
       "      <th>Sex</th>\n",
       "      <th>Age at CT</th>\n",
       "      <th>Tobacco</th>\n",
       "      <th>FRS 10-year risk (%)</th>\n",
       "      <th>FRAX 10y Fx Prob (Orange-w/ DXA)</th>\n",
       "      <th>FRAX 10y Hip Fx Prob (Orange-w/ DXA)</th>\n",
       "      <th>...</th>\n",
       "      <th>DEATH_FLAG</th>\n",
       "      <th>Fold</th>\n",
       "      <th>risk_prob</th>\n",
       "      <th>Bone_Bio_Age</th>\n",
       "      <th>Fat_Bio_Age</th>\n",
       "      <th>Muscle_Bio_Age</th>\n",
       "      <th>Aortic_Bio_Age</th>\n",
       "      <th>Liver_Bio_Age</th>\n",
       "      <th>Bio_Age</th>\n",
       "      <th>Age_Adjustment_Days</th>\n",
       "    </tr>\n",
       "  </thead>\n",
       "  <tbody>\n",
       "    <tr>\n",
       "      <th>0</th>\n",
       "      <td>2468</td>\n",
       "      <td>4375.0</td>\n",
       "      <td>27.6</td>\n",
       "      <td>0</td>\n",
       "      <td>0</td>\n",
       "      <td>63.0</td>\n",
       "      <td>0</td>\n",
       "      <td>0.010</td>\n",
       "      <td>6.45</td>\n",
       "      <td>0.31</td>\n",
       "      <td>...</td>\n",
       "      <td>0</td>\n",
       "      <td>0</td>\n",
       "      <td>0.023694</td>\n",
       "      <td>55.900000</td>\n",
       "      <td>57.357143</td>\n",
       "      <td>61.200000</td>\n",
       "      <td>52.557143</td>\n",
       "      <td>56.757143</td>\n",
       "      <td>55.713932</td>\n",
       "      <td>-2659.414785</td>\n",
       "    </tr>\n",
       "    <tr>\n",
       "      <th>2</th>\n",
       "      <td>3480</td>\n",
       "      <td>3999.0</td>\n",
       "      <td>43.5</td>\n",
       "      <td>1</td>\n",
       "      <td>0</td>\n",
       "      <td>42.0</td>\n",
       "      <td>0</td>\n",
       "      <td>0.005</td>\n",
       "      <td>1.19</td>\n",
       "      <td>0.03</td>\n",
       "      <td>...</td>\n",
       "      <td>0</td>\n",
       "      <td>2</td>\n",
       "      <td>0.023825</td>\n",
       "      <td>53.428571</td>\n",
       "      <td>57.742857</td>\n",
       "      <td>53.742857</td>\n",
       "      <td>53.128571</td>\n",
       "      <td>57.071429</td>\n",
       "      <td>40.958211</td>\n",
       "      <td>-380.253157</td>\n",
       "    </tr>\n",
       "    <tr>\n",
       "      <th>3</th>\n",
       "      <td>342</td>\n",
       "      <td>4293.0</td>\n",
       "      <td>31.3</td>\n",
       "      <td>1</td>\n",
       "      <td>1</td>\n",
       "      <td>54.0</td>\n",
       "      <td>0</td>\n",
       "      <td>0.030</td>\n",
       "      <td>3.31</td>\n",
       "      <td>0.14</td>\n",
       "      <td>...</td>\n",
       "      <td>0</td>\n",
       "      <td>3</td>\n",
       "      <td>0.049643</td>\n",
       "      <td>54.428571</td>\n",
       "      <td>59.014286</td>\n",
       "      <td>59.885714</td>\n",
       "      <td>55.000000</td>\n",
       "      <td>56.428571</td>\n",
       "      <td>55.148284</td>\n",
       "      <td>419.123533</td>\n",
       "    </tr>\n",
       "    <tr>\n",
       "      <th>4</th>\n",
       "      <td>7464</td>\n",
       "      <td>2330.0</td>\n",
       "      <td>29.3</td>\n",
       "      <td>0</td>\n",
       "      <td>1</td>\n",
       "      <td>56.0</td>\n",
       "      <td>1</td>\n",
       "      <td>0.060</td>\n",
       "      <td>4.75</td>\n",
       "      <td>0.45</td>\n",
       "      <td>...</td>\n",
       "      <td>0</td>\n",
       "      <td>4</td>\n",
       "      <td>0.069830</td>\n",
       "      <td>58.657143</td>\n",
       "      <td>57.328571</td>\n",
       "      <td>55.228571</td>\n",
       "      <td>64.585714</td>\n",
       "      <td>57.871429</td>\n",
       "      <td>59.244917</td>\n",
       "      <td>1184.394783</td>\n",
       "    </tr>\n",
       "    <tr>\n",
       "      <th>5</th>\n",
       "      <td>5701</td>\n",
       "      <td>4182.0</td>\n",
       "      <td>35.1</td>\n",
       "      <td>1</td>\n",
       "      <td>0</td>\n",
       "      <td>55.0</td>\n",
       "      <td>0</td>\n",
       "      <td>0.010</td>\n",
       "      <td>4.39</td>\n",
       "      <td>0.21</td>\n",
       "      <td>...</td>\n",
       "      <td>0</td>\n",
       "      <td>0</td>\n",
       "      <td>0.034751</td>\n",
       "      <td>54.257143</td>\n",
       "      <td>60.200000</td>\n",
       "      <td>54.228571</td>\n",
       "      <td>52.557143</td>\n",
       "      <td>56.471429</td>\n",
       "      <td>49.148019</td>\n",
       "      <td>-2135.973243</td>\n",
       "    </tr>\n",
       "    <tr>\n",
       "      <th>...</th>\n",
       "      <td>...</td>\n",
       "      <td>...</td>\n",
       "      <td>...</td>\n",
       "      <td>...</td>\n",
       "      <td>...</td>\n",
       "      <td>...</td>\n",
       "      <td>...</td>\n",
       "      <td>...</td>\n",
       "      <td>...</td>\n",
       "      <td>...</td>\n",
       "      <td>...</td>\n",
       "      <td>...</td>\n",
       "      <td>...</td>\n",
       "      <td>...</td>\n",
       "      <td>...</td>\n",
       "      <td>...</td>\n",
       "      <td>...</td>\n",
       "      <td>...</td>\n",
       "      <td>...</td>\n",
       "      <td>...</td>\n",
       "      <td>...</td>\n",
       "    </tr>\n",
       "    <tr>\n",
       "      <th>9213</th>\n",
       "      <td>48</td>\n",
       "      <td>997.0</td>\n",
       "      <td>35.0</td>\n",
       "      <td>1</td>\n",
       "      <td>1</td>\n",
       "      <td>88.0</td>\n",
       "      <td>1</td>\n",
       "      <td>0.160</td>\n",
       "      <td>5.84</td>\n",
       "      <td>2.32</td>\n",
       "      <td>...</td>\n",
       "      <td>1</td>\n",
       "      <td>3</td>\n",
       "      <td>0.583569</td>\n",
       "      <td>67.271429</td>\n",
       "      <td>56.871429</td>\n",
       "      <td>66.514286</td>\n",
       "      <td>71.514286</td>\n",
       "      <td>57.428571</td>\n",
       "      <td>107.753065</td>\n",
       "      <td>7209.868629</td>\n",
       "    </tr>\n",
       "    <tr>\n",
       "      <th>9215</th>\n",
       "      <td>6117</td>\n",
       "      <td>3120.0</td>\n",
       "      <td>20.6</td>\n",
       "      <td>0</td>\n",
       "      <td>0</td>\n",
       "      <td>77.0</td>\n",
       "      <td>1</td>\n",
       "      <td>0.050</td>\n",
       "      <td>3.61</td>\n",
       "      <td>0.13</td>\n",
       "      <td>...</td>\n",
       "      <td>1</td>\n",
       "      <td>0</td>\n",
       "      <td>0.488790</td>\n",
       "      <td>65.442857</td>\n",
       "      <td>55.814286</td>\n",
       "      <td>64.657143</td>\n",
       "      <td>65.842857</td>\n",
       "      <td>57.271429</td>\n",
       "      <td>77.955051</td>\n",
       "      <td>348.593650</td>\n",
       "    </tr>\n",
       "    <tr>\n",
       "      <th>9216</th>\n",
       "      <td>8007</td>\n",
       "      <td>1542.0</td>\n",
       "      <td>20.3</td>\n",
       "      <td>0</td>\n",
       "      <td>0</td>\n",
       "      <td>57.0</td>\n",
       "      <td>1</td>\n",
       "      <td>0.020</td>\n",
       "      <td>12.26</td>\n",
       "      <td>3.20</td>\n",
       "      <td>...</td>\n",
       "      <td>1</td>\n",
       "      <td>1</td>\n",
       "      <td>0.166204</td>\n",
       "      <td>58.914286</td>\n",
       "      <td>54.842857</td>\n",
       "      <td>67.400000</td>\n",
       "      <td>57.257143</td>\n",
       "      <td>54.657143</td>\n",
       "      <td>68.695640</td>\n",
       "      <td>4268.908473</td>\n",
       "    </tr>\n",
       "    <tr>\n",
       "      <th>9219</th>\n",
       "      <td>3472</td>\n",
       "      <td>1401.0</td>\n",
       "      <td>34.6</td>\n",
       "      <td>1</td>\n",
       "      <td>1</td>\n",
       "      <td>73.0</td>\n",
       "      <td>1</td>\n",
       "      <td>0.160</td>\n",
       "      <td>5.31</td>\n",
       "      <td>1.68</td>\n",
       "      <td>...</td>\n",
       "      <td>1</td>\n",
       "      <td>4</td>\n",
       "      <td>0.212938</td>\n",
       "      <td>59.928571</td>\n",
       "      <td>59.585714</td>\n",
       "      <td>59.242857</td>\n",
       "      <td>64.057143</td>\n",
       "      <td>59.257143</td>\n",
       "      <td>69.187899</td>\n",
       "      <td>-1391.416686</td>\n",
       "    </tr>\n",
       "    <tr>\n",
       "      <th>9222</th>\n",
       "      <td>4201</td>\n",
       "      <td>661.0</td>\n",
       "      <td>43.2</td>\n",
       "      <td>1</td>\n",
       "      <td>1</td>\n",
       "      <td>52.0</td>\n",
       "      <td>1</td>\n",
       "      <td>0.060</td>\n",
       "      <td>2.15</td>\n",
       "      <td>0.09</td>\n",
       "      <td>...</td>\n",
       "      <td>1</td>\n",
       "      <td>2</td>\n",
       "      <td>0.076959</td>\n",
       "      <td>54.871429</td>\n",
       "      <td>59.842857</td>\n",
       "      <td>56.314286</td>\n",
       "      <td>62.214286</td>\n",
       "      <td>55.828571</td>\n",
       "      <td>67.470790</td>\n",
       "      <td>5646.838210</td>\n",
       "    </tr>\n",
       "  </tbody>\n",
       "</table>\n",
       "<p>7049 rows × 39 columns</p>\n",
       "</div>"
      ],
      "text/plain": [
       "      index  Clinical F/U interval  [d from CT]   BMI BMI >30 Sex  Age at CT  \\\n",
       "0      2468                              4375.0  27.6       0   0       63.0   \n",
       "2      3480                              3999.0  43.5       1   0       42.0   \n",
       "3       342                              4293.0  31.3       1   1       54.0   \n",
       "4      7464                              2330.0  29.3       0   1       56.0   \n",
       "5      5701                              4182.0  35.1       1   0       55.0   \n",
       "...     ...                                 ...   ...     ...  ..        ...   \n",
       "9213     48                               997.0  35.0       1   1       88.0   \n",
       "9215   6117                              3120.0  20.6       0   0       77.0   \n",
       "9216   8007                              1542.0  20.3       0   0       57.0   \n",
       "9219   3472                              1401.0  34.6       1   1       73.0   \n",
       "9222   4201                               661.0  43.2       1   1       52.0   \n",
       "\n",
       "     Tobacco  FRS 10-year risk (%)  FRAX 10y Fx Prob (Orange-w/ DXA)  \\\n",
       "0          0                 0.010                              6.45   \n",
       "2          0                 0.005                              1.19   \n",
       "3          0                 0.030                              3.31   \n",
       "4          1                 0.060                              4.75   \n",
       "5          0                 0.010                              4.39   \n",
       "...      ...                   ...                               ...   \n",
       "9213       1                 0.160                              5.84   \n",
       "9215       1                 0.050                              3.61   \n",
       "9216       1                 0.020                             12.26   \n",
       "9219       1                 0.160                              5.31   \n",
       "9222       1                 0.060                              2.15   \n",
       "\n",
       "      FRAX 10y Hip Fx Prob (Orange-w/ DXA)  ... DEATH_FLAG  Fold  risk_prob  \\\n",
       "0                                     0.31  ...          0     0   0.023694   \n",
       "2                                     0.03  ...          0     2   0.023825   \n",
       "3                                     0.14  ...          0     3   0.049643   \n",
       "4                                     0.45  ...          0     4   0.069830   \n",
       "5                                     0.21  ...          0     0   0.034751   \n",
       "...                                    ...  ...        ...   ...        ...   \n",
       "9213                                  2.32  ...          1     3   0.583569   \n",
       "9215                                  0.13  ...          1     0   0.488790   \n",
       "9216                                  3.20  ...          1     1   0.166204   \n",
       "9219                                  1.68  ...          1     4   0.212938   \n",
       "9222                                  0.09  ...          1     2   0.076959   \n",
       "\n",
       "      Bone_Bio_Age  Fat_Bio_Age  Muscle_Bio_Age  Aortic_Bio_Age  \\\n",
       "0        55.900000    57.357143       61.200000       52.557143   \n",
       "2        53.428571    57.742857       53.742857       53.128571   \n",
       "3        54.428571    59.014286       59.885714       55.000000   \n",
       "4        58.657143    57.328571       55.228571       64.585714   \n",
       "5        54.257143    60.200000       54.228571       52.557143   \n",
       "...            ...          ...             ...             ...   \n",
       "9213     67.271429    56.871429       66.514286       71.514286   \n",
       "9215     65.442857    55.814286       64.657143       65.842857   \n",
       "9216     58.914286    54.842857       67.400000       57.257143   \n",
       "9219     59.928571    59.585714       59.242857       64.057143   \n",
       "9222     54.871429    59.842857       56.314286       62.214286   \n",
       "\n",
       "      Liver_Bio_Age     Bio_Age  Age_Adjustment_Days  \n",
       "0         56.757143   55.713932         -2659.414785  \n",
       "2         57.071429   40.958211          -380.253157  \n",
       "3         56.428571   55.148284           419.123533  \n",
       "4         57.871429   59.244917          1184.394783  \n",
       "5         56.471429   49.148019         -2135.973243  \n",
       "...             ...         ...                  ...  \n",
       "9213      57.428571  107.753065          7209.868629  \n",
       "9215      57.271429   77.955051           348.593650  \n",
       "9216      54.657143   68.695640          4268.908473  \n",
       "9219      59.257143   69.187899         -1391.416686  \n",
       "9222      55.828571   67.470790          5646.838210  \n",
       "\n",
       "[7049 rows x 39 columns]"
      ]
     },
     "execution_count": 55,
     "metadata": {},
     "output_type": "execute_result"
    }
   ],
   "source": [
    "data_cleaned"
   ]
  },
  {
   "cell_type": "code",
   "execution_count": 56,
   "metadata": {
    "ExecuteTime": {
     "end_time": "2022-05-10T22:02:59.749868Z",
     "start_time": "2022-05-10T22:00:26.204637Z"
    }
   },
   "outputs": [
    {
     "name": "stdout",
     "output_type": "stream",
     "text": [
      "0\n",
      "done\n",
      "done\n",
      "done\n",
      "done\n",
      "done\n",
      "done\n",
      "done\n",
      "done\n",
      "done\n",
      "done\n",
      "done\n",
      "done\n",
      "done\n",
      "done\n",
      "done\n",
      "1\n",
      "done\n",
      "done\n",
      "done\n",
      "done\n",
      "done\n",
      "done\n",
      "done\n",
      "done\n",
      "done\n",
      "done\n",
      "done\n",
      "done\n",
      "done\n",
      "done\n",
      "done\n",
      "2\n",
      "done\n",
      "done\n",
      "done\n",
      "done\n",
      "done\n",
      "done\n",
      "done\n",
      "done\n",
      "done\n",
      "done\n",
      "done\n",
      "done\n",
      "done\n",
      "done\n",
      "done\n",
      "3\n",
      "done\n",
      "done\n",
      "done\n",
      "done\n",
      "done\n",
      "done\n",
      "done\n",
      "done\n",
      "done\n",
      "done\n",
      "done\n",
      "done\n",
      "done\n",
      "done\n",
      "done\n",
      "4\n",
      "done\n",
      "done\n",
      "done\n",
      "done\n",
      "done\n",
      "done\n",
      "done\n",
      "done\n",
      "done\n",
      "done\n",
      "done\n",
      "done\n",
      "done\n",
      "done\n",
      "done\n"
     ]
    }
   ],
   "source": [
    "tested = []\n",
    "for f in range(Folds):\n",
    "    train = data_cleaned.loc[(data_cleaned[\"Fold\"] != f),]\n",
    "    \n",
    "    # estimate risk prob\n",
    "    prob_list, list_y = LR_RF2(train,train,data_cleaned,5)\n",
    "    data_cleaned[\"risk_prob\"] = prob_list\n",
    "    test = data_cleaned.loc[(data_cleaned[\"Fold\"] == f),]\n",
    "    train = data_cleaned.loc[(data_cleaned[\"Fold\"] != f),]\n",
    "    \n",
    "    print(f)\n",
    "    # knn\n",
    "    k = 70\n",
    "    test = test.copy()\n",
    "    test[\"Bone_Bio_Age\"] = NN_Age(train,test,bone_measures,k)\n",
    "    test[\"Fat_Bio_Age\"] = NN_Age(train,test,fat_measures,k)\n",
    "    test[\"Muscle_Bio_Age\"] = NN_Age(train,test,muscle_measures,k)\n",
    "    test[\"Aortic_Bio_Age\"] = NN_Age(train,test,aortic_measures,k)\n",
    "    test[\"Liver_Bio_Age\"] = NN_Age(train,test,liver_measures,k)\n",
    "    \n",
    "    random.seed(20)\n",
    "\n",
    "    sample_people = train.copy()\n",
    "    sample_people[\"decade\"] = round(sample_people[\"Age at CT\"],-1)\n",
    "\n",
    "    sample = [] \n",
    "    for f in list(sample_people[\"decade\"].unique()):\n",
    "        inds = list(sample_people.loc[sample_people[\"decade\"]==f,:].index)\n",
    "        sample += list(random.sample(inds, min(10,len(inds))))\n",
    "        \n",
    "    age_measures = [\"Bone_Bio_Age\",\"Fat_Bio_Age\",\"Muscle_Bio_Age\",\"Aortic_Bio_Age\",\"Liver_Bio_Age\"]\n",
    "\n",
    "    Females_Data = train.loc[(train[\"Sex\"] == 0),:]\n",
    "    Males_Data = train.loc[(train[\"Sex\"] == 1),:]\n",
    "\n",
    "    Females_Data_samp = train.loc[(train.index.isin(sample))&(train[\"Sex\"] == 0),:]\n",
    "    Males_Data_samp = train.loc[(train.index.isin(sample))&(train[\"Sex\"] == 1),:]\n",
    "\n",
    "    Females_Data_samp = Females_Data_samp.copy()\n",
    "    Females_Data_samp[\"Bone_Bio_Age\"] = NN_Age(train,Females_Data_samp,bone_measures,k)\n",
    "    Females_Data_samp[\"Fat_Bio_Age\"] = NN_Age(train,Females_Data_samp,fat_measures,k)\n",
    "    Females_Data_samp[\"Muscle_Bio_Age\"] = NN_Age(train,Females_Data_samp,muscle_measures,k)\n",
    "    Females_Data_samp[\"Aortic_Bio_Age\"] = NN_Age(train,Females_Data_samp,aortic_measures,k)\n",
    "    Females_Data_samp[\"Liver_Bio_Age\"] = NN_Age(train,Females_Data_samp,liver_measures,k)\n",
    "    Males_Data_samp = Males_Data_samp.copy()\n",
    "    Males_Data_samp[\"Bone_Bio_Age\"] = NN_Age(train,Males_Data_samp,bone_measures,k)\n",
    "    Males_Data_samp[\"Fat_Bio_Age\"] = NN_Age(train,Males_Data_samp,fat_measures,k)\n",
    "    Males_Data_samp[\"Muscle_Bio_Age\"] = NN_Age(train,Males_Data_samp,muscle_measures,k)\n",
    "    Males_Data_samp[\"Aortic_Bio_Age\"] = NN_Age(train,Males_Data_samp,aortic_measures,k)\n",
    "    Males_Data_samp[\"Liver_Bio_Age\"] = NN_Age(train,Males_Data_samp,liver_measures,k)\n",
    "    \n",
    "    reg = {}\n",
    "    reg[0] = LinearRegression().fit(Females_Data_samp[age_measures],Females_Data_samp[\"Age at CT\"])\n",
    "    reg[1] = LinearRegression().fit(Males_Data_samp[age_measures],Males_Data_samp[\"Age at CT\"])\n",
    "\n",
    "    test.loc[:,\"Bio_Age\"] = 0\n",
    "    for r in test.index:\n",
    "        s = test.loc[r,\"Sex\"]\n",
    "        m = [test.loc[r,i] for i in age_measures]\n",
    "        test.loc[r,\"Bio_Age\"] = reg[s].predict([m])[0]\n",
    "\n",
    "    test[\"Age_Adjustment_Days\"] = 0\n",
    "    test[\"Age_Adjustment_Days\"] = (test[\"Bio_Age\"] - test[\"Age at CT\"])*365\n",
    "    \n",
    "    tested.append(test.copy())\n",
    "\n",
    "    \n",
    "data_cleaned = pd.concat(tested)"
   ]
  },
  {
   "cell_type": "code",
   "execution_count": 57,
   "metadata": {
    "ExecuteTime": {
     "end_time": "2022-05-10T22:03:05.206441Z",
     "start_time": "2022-05-10T22:03:05.172911Z"
    }
   },
   "outputs": [
    {
     "data": {
      "text/html": [
       "<div>\n",
       "<style scoped>\n",
       "    .dataframe tbody tr th:only-of-type {\n",
       "        vertical-align: middle;\n",
       "    }\n",
       "\n",
       "    .dataframe tbody tr th {\n",
       "        vertical-align: top;\n",
       "    }\n",
       "\n",
       "    .dataframe thead th {\n",
       "        text-align: right;\n",
       "    }\n",
       "</style>\n",
       "<table border=\"1\" class=\"dataframe\">\n",
       "  <thead>\n",
       "    <tr style=\"text-align: right;\">\n",
       "      <th></th>\n",
       "      <th>index</th>\n",
       "      <th>Clinical F/U interval  [d from CT]</th>\n",
       "      <th>BMI</th>\n",
       "      <th>BMI &gt;30</th>\n",
       "      <th>Sex</th>\n",
       "      <th>Age at CT</th>\n",
       "      <th>Tobacco</th>\n",
       "      <th>FRS 10-year risk (%)</th>\n",
       "      <th>FRAX 10y Fx Prob (Orange-w/ DXA)</th>\n",
       "      <th>FRAX 10y Hip Fx Prob (Orange-w/ DXA)</th>\n",
       "      <th>...</th>\n",
       "      <th>DEATH_FLAG</th>\n",
       "      <th>Fold</th>\n",
       "      <th>risk_prob</th>\n",
       "      <th>Bone_Bio_Age</th>\n",
       "      <th>Fat_Bio_Age</th>\n",
       "      <th>Muscle_Bio_Age</th>\n",
       "      <th>Aortic_Bio_Age</th>\n",
       "      <th>Liver_Bio_Age</th>\n",
       "      <th>Bio_Age</th>\n",
       "      <th>Age_Adjustment_Days</th>\n",
       "    </tr>\n",
       "  </thead>\n",
       "  <tbody>\n",
       "    <tr>\n",
       "      <th>0</th>\n",
       "      <td>2468</td>\n",
       "      <td>4375.0</td>\n",
       "      <td>27.6</td>\n",
       "      <td>0</td>\n",
       "      <td>0</td>\n",
       "      <td>63.0</td>\n",
       "      <td>0</td>\n",
       "      <td>0.010</td>\n",
       "      <td>6.45</td>\n",
       "      <td>0.31</td>\n",
       "      <td>...</td>\n",
       "      <td>0</td>\n",
       "      <td>0</td>\n",
       "      <td>0.023694</td>\n",
       "      <td>55.400000</td>\n",
       "      <td>55.271429</td>\n",
       "      <td>57.171429</td>\n",
       "      <td>54.142857</td>\n",
       "      <td>53.942857</td>\n",
       "      <td>52.249339</td>\n",
       "      <td>-3923.991270</td>\n",
       "    </tr>\n",
       "    <tr>\n",
       "      <th>2</th>\n",
       "      <td>3480</td>\n",
       "      <td>3999.0</td>\n",
       "      <td>43.5</td>\n",
       "      <td>1</td>\n",
       "      <td>0</td>\n",
       "      <td>42.0</td>\n",
       "      <td>0</td>\n",
       "      <td>0.005</td>\n",
       "      <td>1.19</td>\n",
       "      <td>0.03</td>\n",
       "      <td>...</td>\n",
       "      <td>0</td>\n",
       "      <td>2</td>\n",
       "      <td>0.023825</td>\n",
       "      <td>53.728571</td>\n",
       "      <td>55.985714</td>\n",
       "      <td>52.642857</td>\n",
       "      <td>54.571429</td>\n",
       "      <td>53.800000</td>\n",
       "      <td>47.446775</td>\n",
       "      <td>1988.072857</td>\n",
       "    </tr>\n",
       "    <tr>\n",
       "      <th>3</th>\n",
       "      <td>342</td>\n",
       "      <td>4293.0</td>\n",
       "      <td>31.3</td>\n",
       "      <td>1</td>\n",
       "      <td>1</td>\n",
       "      <td>54.0</td>\n",
       "      <td>0</td>\n",
       "      <td>0.030</td>\n",
       "      <td>3.31</td>\n",
       "      <td>0.14</td>\n",
       "      <td>...</td>\n",
       "      <td>0</td>\n",
       "      <td>3</td>\n",
       "      <td>0.049643</td>\n",
       "      <td>56.128571</td>\n",
       "      <td>57.357143</td>\n",
       "      <td>57.285714</td>\n",
       "      <td>58.142857</td>\n",
       "      <td>55.314286</td>\n",
       "      <td>47.574418</td>\n",
       "      <td>-2345.337439</td>\n",
       "    </tr>\n",
       "    <tr>\n",
       "      <th>4</th>\n",
       "      <td>7464</td>\n",
       "      <td>2330.0</td>\n",
       "      <td>29.3</td>\n",
       "      <td>0</td>\n",
       "      <td>1</td>\n",
       "      <td>56.0</td>\n",
       "      <td>1</td>\n",
       "      <td>0.060</td>\n",
       "      <td>4.75</td>\n",
       "      <td>0.45</td>\n",
       "      <td>...</td>\n",
       "      <td>0</td>\n",
       "      <td>4</td>\n",
       "      <td>0.069830</td>\n",
       "      <td>61.057143</td>\n",
       "      <td>56.428571</td>\n",
       "      <td>56.000000</td>\n",
       "      <td>60.228571</td>\n",
       "      <td>59.371429</td>\n",
       "      <td>60.527993</td>\n",
       "      <td>1652.717297</td>\n",
       "    </tr>\n",
       "    <tr>\n",
       "      <th>5</th>\n",
       "      <td>5701</td>\n",
       "      <td>4182.0</td>\n",
       "      <td>35.1</td>\n",
       "      <td>1</td>\n",
       "      <td>0</td>\n",
       "      <td>55.0</td>\n",
       "      <td>0</td>\n",
       "      <td>0.010</td>\n",
       "      <td>4.39</td>\n",
       "      <td>0.21</td>\n",
       "      <td>...</td>\n",
       "      <td>0</td>\n",
       "      <td>0</td>\n",
       "      <td>0.034751</td>\n",
       "      <td>55.842857</td>\n",
       "      <td>57.342857</td>\n",
       "      <td>52.785714</td>\n",
       "      <td>55.371429</td>\n",
       "      <td>54.971429</td>\n",
       "      <td>47.943846</td>\n",
       "      <td>-2575.496322</td>\n",
       "    </tr>\n",
       "    <tr>\n",
       "      <th>...</th>\n",
       "      <td>...</td>\n",
       "      <td>...</td>\n",
       "      <td>...</td>\n",
       "      <td>...</td>\n",
       "      <td>...</td>\n",
       "      <td>...</td>\n",
       "      <td>...</td>\n",
       "      <td>...</td>\n",
       "      <td>...</td>\n",
       "      <td>...</td>\n",
       "      <td>...</td>\n",
       "      <td>...</td>\n",
       "      <td>...</td>\n",
       "      <td>...</td>\n",
       "      <td>...</td>\n",
       "      <td>...</td>\n",
       "      <td>...</td>\n",
       "      <td>...</td>\n",
       "      <td>...</td>\n",
       "      <td>...</td>\n",
       "      <td>...</td>\n",
       "    </tr>\n",
       "    <tr>\n",
       "      <th>9213</th>\n",
       "      <td>48</td>\n",
       "      <td>997.0</td>\n",
       "      <td>35.0</td>\n",
       "      <td>1</td>\n",
       "      <td>1</td>\n",
       "      <td>88.0</td>\n",
       "      <td>1</td>\n",
       "      <td>0.160</td>\n",
       "      <td>5.84</td>\n",
       "      <td>2.32</td>\n",
       "      <td>...</td>\n",
       "      <td>1</td>\n",
       "      <td>3</td>\n",
       "      <td>0.583569</td>\n",
       "      <td>72.514286</td>\n",
       "      <td>72.414286</td>\n",
       "      <td>73.200000</td>\n",
       "      <td>72.157143</td>\n",
       "      <td>72.585714</td>\n",
       "      <td>89.663562</td>\n",
       "      <td>607.200261</td>\n",
       "    </tr>\n",
       "    <tr>\n",
       "      <th>9215</th>\n",
       "      <td>6117</td>\n",
       "      <td>3120.0</td>\n",
       "      <td>20.6</td>\n",
       "      <td>0</td>\n",
       "      <td>0</td>\n",
       "      <td>77.0</td>\n",
       "      <td>1</td>\n",
       "      <td>0.050</td>\n",
       "      <td>3.61</td>\n",
       "      <td>0.13</td>\n",
       "      <td>...</td>\n",
       "      <td>1</td>\n",
       "      <td>0</td>\n",
       "      <td>0.488790</td>\n",
       "      <td>73.328571</td>\n",
       "      <td>72.442857</td>\n",
       "      <td>72.885714</td>\n",
       "      <td>72.700000</td>\n",
       "      <td>73.514286</td>\n",
       "      <td>89.607552</td>\n",
       "      <td>4601.756441</td>\n",
       "    </tr>\n",
       "    <tr>\n",
       "      <th>9216</th>\n",
       "      <td>8007</td>\n",
       "      <td>1542.0</td>\n",
       "      <td>20.3</td>\n",
       "      <td>0</td>\n",
       "      <td>0</td>\n",
       "      <td>57.0</td>\n",
       "      <td>1</td>\n",
       "      <td>0.020</td>\n",
       "      <td>12.26</td>\n",
       "      <td>3.20</td>\n",
       "      <td>...</td>\n",
       "      <td>1</td>\n",
       "      <td>1</td>\n",
       "      <td>0.166204</td>\n",
       "      <td>66.157143</td>\n",
       "      <td>61.871429</td>\n",
       "      <td>66.900000</td>\n",
       "      <td>62.914286</td>\n",
       "      <td>65.771429</td>\n",
       "      <td>76.932335</td>\n",
       "      <td>7275.302434</td>\n",
       "    </tr>\n",
       "    <tr>\n",
       "      <th>9219</th>\n",
       "      <td>3472</td>\n",
       "      <td>1401.0</td>\n",
       "      <td>34.6</td>\n",
       "      <td>1</td>\n",
       "      <td>1</td>\n",
       "      <td>73.0</td>\n",
       "      <td>1</td>\n",
       "      <td>0.160</td>\n",
       "      <td>5.31</td>\n",
       "      <td>1.68</td>\n",
       "      <td>...</td>\n",
       "      <td>1</td>\n",
       "      <td>4</td>\n",
       "      <td>0.212938</td>\n",
       "      <td>66.542857</td>\n",
       "      <td>62.085714</td>\n",
       "      <td>67.228571</td>\n",
       "      <td>67.057143</td>\n",
       "      <td>66.328571</td>\n",
       "      <td>92.673284</td>\n",
       "      <td>7180.748700</td>\n",
       "    </tr>\n",
       "    <tr>\n",
       "      <th>9222</th>\n",
       "      <td>4201</td>\n",
       "      <td>661.0</td>\n",
       "      <td>43.2</td>\n",
       "      <td>1</td>\n",
       "      <td>1</td>\n",
       "      <td>52.0</td>\n",
       "      <td>1</td>\n",
       "      <td>0.060</td>\n",
       "      <td>2.15</td>\n",
       "      <td>0.09</td>\n",
       "      <td>...</td>\n",
       "      <td>1</td>\n",
       "      <td>2</td>\n",
       "      <td>0.076959</td>\n",
       "      <td>58.185714</td>\n",
       "      <td>58.000000</td>\n",
       "      <td>55.942857</td>\n",
       "      <td>63.028571</td>\n",
       "      <td>61.371429</td>\n",
       "      <td>67.127284</td>\n",
       "      <td>5521.458594</td>\n",
       "    </tr>\n",
       "  </tbody>\n",
       "</table>\n",
       "<p>7049 rows × 39 columns</p>\n",
       "</div>"
      ],
      "text/plain": [
       "      index  Clinical F/U interval  [d from CT]   BMI BMI >30 Sex  Age at CT  \\\n",
       "0      2468                              4375.0  27.6       0   0       63.0   \n",
       "2      3480                              3999.0  43.5       1   0       42.0   \n",
       "3       342                              4293.0  31.3       1   1       54.0   \n",
       "4      7464                              2330.0  29.3       0   1       56.0   \n",
       "5      5701                              4182.0  35.1       1   0       55.0   \n",
       "...     ...                                 ...   ...     ...  ..        ...   \n",
       "9213     48                               997.0  35.0       1   1       88.0   \n",
       "9215   6117                              3120.0  20.6       0   0       77.0   \n",
       "9216   8007                              1542.0  20.3       0   0       57.0   \n",
       "9219   3472                              1401.0  34.6       1   1       73.0   \n",
       "9222   4201                               661.0  43.2       1   1       52.0   \n",
       "\n",
       "     Tobacco  FRS 10-year risk (%)  FRAX 10y Fx Prob (Orange-w/ DXA)  \\\n",
       "0          0                 0.010                              6.45   \n",
       "2          0                 0.005                              1.19   \n",
       "3          0                 0.030                              3.31   \n",
       "4          1                 0.060                              4.75   \n",
       "5          0                 0.010                              4.39   \n",
       "...      ...                   ...                               ...   \n",
       "9213       1                 0.160                              5.84   \n",
       "9215       1                 0.050                              3.61   \n",
       "9216       1                 0.020                             12.26   \n",
       "9219       1                 0.160                              5.31   \n",
       "9222       1                 0.060                              2.15   \n",
       "\n",
       "      FRAX 10y Hip Fx Prob (Orange-w/ DXA)  ... DEATH_FLAG  Fold  risk_prob  \\\n",
       "0                                     0.31  ...          0     0   0.023694   \n",
       "2                                     0.03  ...          0     2   0.023825   \n",
       "3                                     0.14  ...          0     3   0.049643   \n",
       "4                                     0.45  ...          0     4   0.069830   \n",
       "5                                     0.21  ...          0     0   0.034751   \n",
       "...                                    ...  ...        ...   ...        ...   \n",
       "9213                                  2.32  ...          1     3   0.583569   \n",
       "9215                                  0.13  ...          1     0   0.488790   \n",
       "9216                                  3.20  ...          1     1   0.166204   \n",
       "9219                                  1.68  ...          1     4   0.212938   \n",
       "9222                                  0.09  ...          1     2   0.076959   \n",
       "\n",
       "      Bone_Bio_Age  Fat_Bio_Age  Muscle_Bio_Age  Aortic_Bio_Age  \\\n",
       "0        55.400000    55.271429       57.171429       54.142857   \n",
       "2        53.728571    55.985714       52.642857       54.571429   \n",
       "3        56.128571    57.357143       57.285714       58.142857   \n",
       "4        61.057143    56.428571       56.000000       60.228571   \n",
       "5        55.842857    57.342857       52.785714       55.371429   \n",
       "...            ...          ...             ...             ...   \n",
       "9213     72.514286    72.414286       73.200000       72.157143   \n",
       "9215     73.328571    72.442857       72.885714       72.700000   \n",
       "9216     66.157143    61.871429       66.900000       62.914286   \n",
       "9219     66.542857    62.085714       67.228571       67.057143   \n",
       "9222     58.185714    58.000000       55.942857       63.028571   \n",
       "\n",
       "      Liver_Bio_Age    Bio_Age  Age_Adjustment_Days  \n",
       "0         53.942857  52.249339         -3923.991270  \n",
       "2         53.800000  47.446775          1988.072857  \n",
       "3         55.314286  47.574418         -2345.337439  \n",
       "4         59.371429  60.527993          1652.717297  \n",
       "5         54.971429  47.943846         -2575.496322  \n",
       "...             ...        ...                  ...  \n",
       "9213      72.585714  89.663562           607.200261  \n",
       "9215      73.514286  89.607552          4601.756441  \n",
       "9216      65.771429  76.932335          7275.302434  \n",
       "9219      66.328571  92.673284          7180.748700  \n",
       "9222      61.371429  67.127284          5521.458594  \n",
       "\n",
       "[7049 rows x 39 columns]"
      ]
     },
     "execution_count": 57,
     "metadata": {},
     "output_type": "execute_result"
    }
   ],
   "source": [
    "data_cleaned = data_cleaned.sort_index()\n",
    "data_cleaned"
   ]
  },
  {
   "cell_type": "code",
   "execution_count": 58,
   "metadata": {
    "ExecuteTime": {
     "end_time": "2022-05-10T22:03:05.864102Z",
     "start_time": "2022-05-10T22:03:05.626532Z"
    }
   },
   "outputs": [
    {
     "data": {
      "text/plain": [
       "<matplotlib.legend.Legend at 0x1517d985220>"
      ]
     },
     "execution_count": 58,
     "metadata": {},
     "output_type": "execute_result"
    },
    {
     "data": {
      "image/png": "[encoded data removed]",
      "text/plain": [
       "<Figure size 576x576 with 1 Axes>"
      ]
     },
     "metadata": {
      "needs_background": "light"
     },
     "output_type": "display_data"
    }
   ],
   "source": [
    "min_temp = min(list(data_cleaned[\"Age at CT\"])+list(data_cleaned[\"Bio_Age\"]))\n",
    "max_temp =  max(list(data_cleaned[\"Age at CT\"])+list(data_cleaned[\"Bio_Age\"]))\n",
    "\n",
    "plt.figure(figsize=(8, 8))\n",
    "lived = (data_cleaned[\"DEATH_FLAG\"] == 0)\n",
    "dead = (data_cleaned[\"DEATH_FLAG\"] == 1)\n",
    "\n",
    "plt.plot([min_temp,max_temp ],[min_temp,max_temp],color = \"red\")\n",
    "\n",
    "plt.scatter( list(data_cleaned.loc[lived , \"Age at CT\"]), list(data_cleaned.loc[lived ,\"Bio_Age\"]),label = \"Lived\")\n",
    "plt.scatter( list(data_cleaned.loc[dead,\"Age at CT\"]), list(data_cleaned.loc[dead,\"Bio_Age\"]),label = \"Died\")\n",
    "\n",
    "plt.xlabel(\"Actual Age\")\n",
    "plt.ylabel(\"Bio Age\")\n",
    "plt.legend()\n"
   ]
  },
  {
   "cell_type": "code",
   "execution_count": 59,
   "metadata": {
    "ExecuteTime": {
     "end_time": "2022-05-10T22:03:08.669316Z",
     "start_time": "2022-05-10T22:03:07.795286Z"
    }
   },
   "outputs": [
    {
     "name": "stdout",
     "output_type": "stream",
     "text": [
      "offset=-2.4522162544197337\n",
      "dead=0.6428571428571429  total:70\n",
      "lived=0.43829468960359014  total:1337\n",
      "\n",
      "\n",
      "offset=-1.5619362619202593\n",
      "dead=0.6351351351351351  total:74\n",
      "lived=0.44698085419734906  total:1358\n",
      "\n",
      "\n",
      "offset=-2.5934914851144244\n",
      "dead=0.647887323943662  total:71\n",
      "lived=0.4162323157110946  total:1343\n",
      "\n",
      "\n",
      "offset=-3.363581840601776\n",
      "dead=0.6835443037974683  total:79\n",
      "lived=0.40566741237882176  total:1341\n",
      "\n",
      "\n",
      "offset=-3.8128796768543958\n",
      "dead=0.5342465753424658  total:73\n",
      "lived=0.44128933231005374  total:1303\n",
      "\n",
      "\n"
     ]
    }
   ],
   "source": [
    "for f in range(Folds):\n",
    "    diff = []\n",
    "    for r in data_cleaned.index:\n",
    "        if data_cleaned.loc[r,\"Fold\"] == f:\n",
    "            diff.append(data_cleaned.loc[r,\"Bio_Age\"] - data_cleaned.loc[r,\"Age at CT\"])\n",
    "    offset = sum(diff)/len(diff)\n",
    "    print(f'offset={offset}')\n",
    "    \n",
    "    bio_age_under_died = 0\n",
    "    bio_age_over_died= 0 \n",
    "    bio_age_over_died_age= 0 \n",
    "    bio_age_under_lived = 0\n",
    "    bio_age_over_lived = 0 \n",
    "\n",
    "    lived_age_diff = 0\n",
    "    died_age_diff = 0\n",
    "\n",
    "    dead_list = []\n",
    "    lived_list = []\n",
    "\n",
    "    for r in data_cleaned.index:\n",
    "        if data_cleaned.loc[r,\"Fold\"] == f:\n",
    "            flag_sum = data_cleaned.loc[r,\"CARD_FLAG\"] + data_cleaned.loc[r,\"DIA_FLAG\"] + data_cleaned.loc[r,\"FEM_FLAG\"] + data_cleaned.loc[r,\"ALZ_FLAG\"] + data_cleaned.loc[r,\"CANCER_FLAG\"]\n",
    "            if data_cleaned.loc[r,\"DEATH_FLAG\"] == 1:\n",
    "                dead_list.append(data_cleaned.loc[r,\"Bio_Age\"])\n",
    "                died_age_diff += data_cleaned.loc[r,\"Bio_Age\"] - data_cleaned.loc[r,\"Age at CT\"] - offset\n",
    "                if data_cleaned.loc[r,\"Age at CT\"] > data_cleaned.loc[r,\"Bio_Age\"] - offset:\n",
    "                    bio_age_under_died += 1\n",
    "                else:\n",
    "                    bio_age_over_died += 1\n",
    "\n",
    "            else:\n",
    "                lived_list.append(data_cleaned.loc[r,\"Bio_Age\"])\n",
    "                lived_age_diff += data_cleaned.loc[r,\"Bio_Age\"] - data_cleaned.loc[r,\"Age at CT\"] - offset\n",
    "                if data_cleaned.loc[r,\"Age at CT\"] > data_cleaned.loc[r,\"Bio_Age\"] - offset:\n",
    "                    bio_age_under_lived += 1\n",
    "                else:\n",
    "                    bio_age_over_lived += 1\n",
    "\n",
    "    print(f'dead={bio_age_over_died / (bio_age_over_died + bio_age_under_died)}  total:{bio_age_over_died + bio_age_under_died}')\n",
    "    print(f'lived={bio_age_over_lived / (bio_age_over_lived + bio_age_under_lived)}  total:{bio_age_over_lived + bio_age_under_lived}')\n",
    "    print('\\n')\n"
   ]
  },
  {
   "cell_type": "code",
   "execution_count": 51,
   "metadata": {
    "ExecuteTime": {
     "end_time": "2022-05-10T21:59:43.326929Z",
     "start_time": "2022-05-10T21:59:42.916933Z"
    }
   },
   "outputs": [
    {
     "name": "stdout",
     "output_type": "stream",
     "text": [
      "0.6866485013623979\n",
      "0.5335228973361269\n",
      "5.8580195315243815\n",
      "1.5328810706972755\n"
     ]
    }
   ],
   "source": [
    "#offset = -0\n",
    "bio_age_under_died = 0\n",
    "bio_age_over_died= 0 \n",
    "bio_age_over_died_age= 0 \n",
    "bio_age_under_lived = 0\n",
    "bio_age_over_lived = 0 \n",
    "\n",
    "lived_age_diff = 0\n",
    "died_age_diff = 0\n",
    "\n",
    "dead_list = []\n",
    "lived_list = []\n",
    "\n",
    "for r in data_cleaned.index:\n",
    "    flag_sum = data_cleaned.loc[r,\"CARD_FLAG\"] + data_cleaned.loc[r,\"DIA_FLAG\"] + data_cleaned.loc[r,\"FEM_FLAG\"] + data_cleaned.loc[r,\"ALZ_FLAG\"] + data_cleaned.loc[r,\"CANCER_FLAG\"]\n",
    "    if data_cleaned.loc[r,\"DEATH_FLAG\"] == 1:\n",
    "        dead_list.append(data_cleaned.loc[r,\"Bio_Age\"])\n",
    "        died_age_diff += data_cleaned.loc[r,\"Bio_Age\"] - data_cleaned.loc[r,\"Age at CT\"] - offset\n",
    "        if data_cleaned.loc[r,\"Age at CT\"] > data_cleaned.loc[r,\"Bio_Age\"] - offset:\n",
    "            bio_age_under_died += 1\n",
    "        else:\n",
    "            bio_age_over_died += 1\n",
    "            \n",
    "    else:\n",
    "        lived_list.append(data_cleaned.loc[r,\"Bio_Age\"])\n",
    "        lived_age_diff += data_cleaned.loc[r,\"Bio_Age\"] - data_cleaned.loc[r,\"Age at CT\"] - offset\n",
    "        if data_cleaned.loc[r,\"Age at CT\"] > data_cleaned.loc[r,\"Bio_Age\"] - offset:\n",
    "            bio_age_under_lived += 1\n",
    "        else:\n",
    "            bio_age_over_lived += 1\n",
    "            \n",
    "print(bio_age_over_died / (bio_age_over_died + bio_age_under_died))\n",
    "print(bio_age_over_lived / (bio_age_over_lived + bio_age_under_lived))\n",
    "\n",
    "print(died_age_diff  /  (bio_age_over_died + bio_age_under_died))\n",
    "print(lived_age_diff / (bio_age_over_lived + bio_age_under_lived))"
   ]
  },
  {
   "cell_type": "code",
   "execution_count": 52,
   "metadata": {
    "ExecuteTime": {
     "end_time": "2022-05-10T21:59:47.976139Z",
     "start_time": "2022-05-10T21:59:47.837128Z"
    }
   },
   "outputs": [
    {
     "name": "stderr",
     "output_type": "stream",
     "text": [
      "No handles with labels found to put in legend.\n"
     ]
    },
    {
     "data": {
      "image/png": "[encoded data removed]",
      "text/plain": [
       "<Figure size 432x288 with 1 Axes>"
      ]
     },
     "metadata": {
      "needs_background": "light"
     },
     "output_type": "display_data"
    }
   ],
   "source": [
    "#plt.hist(dead_list, alpha=0.5, label='x')\n",
    "#plt.hist(lived_list, alpha=0.5, label='y')\n",
    "dead_actual_age = list(data_cleaned[\"Age at CT\"])\n",
    "plt.hist(prob_list, alpha=0.5)\n",
    "plt.legend(loc='upper right')\n",
    "plt.show()"
   ]
  },
  {
   "cell_type": "code",
   "execution_count": null,
   "metadata": {},
   "outputs": [],
   "source": []
  }
 ],
 "metadata": {
  "kernelspec": {
   "display_name": "Python 3",
   "language": "python",
   "name": "python3"
  },
  "language_info": {
   "codemirror_mode": {
    "name": "ipython",
    "version": 3
   },
   "file_extension": ".py",
   "mimetype": "text/x-python",
   "name": "python",
   "nbconvert_exporter": "python",
   "pygments_lexer": "ipython3",
   "version": "3.8.7"
  },
  "toc": {
   "base_numbering": 1,
   "nav_menu": {},
   "number_sections": true,
   "sideBar": true,
   "skip_h1_title": false,
   "title_cell": "Table of Contents",
   "title_sidebar": "Contents",
   "toc_cell": false,
   "toc_position": {},
   "toc_section_display": true,
   "toc_window_display": false
  },
  "varInspector": {
   "cols": {
    "lenName": 16,
    "lenType": 16,
    "lenVar": 40
   },
   "kernels_config": {
    "python": {
     "delete_cmd_postfix": "",
     "delete_cmd_prefix": "del ",
     "library": "var_list.py",
     "varRefreshCmd": "print(var_dic_list())"
    },
    "r": {
     "delete_cmd_postfix": ") ",
     "delete_cmd_prefix": "rm(",
     "library": "var_list.r",
     "varRefreshCmd": "cat(var_dic_list()) "
    }
   },
   "types_to_exclude": [
    "module",
    "function",
    "builtin_function_or_method",
    "instance",
    "_Feature"
   ],
   "window_display": false
  }
 },
 "nbformat": 4,
 "nbformat_minor": 2
}
