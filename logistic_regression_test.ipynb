{
 "cells": [
  {
   "cell_type": "code",
   "execution_count": 1,
   "metadata": {},
   "outputs": [],
   "source": [
    "import pandas as pd\n",
    "import numpy as np\n",
    "import random\n",
    "import copy\n",
    "import math\n",
    "\n",
    "from sklearn.linear_model import LogisticRegression"
   ]
  },
  {
   "cell_type": "code",
   "execution_count": 2,
   "metadata": {},
   "outputs": [],
   "source": [
    "import pandas as pd\n",
    "excel = pd.ExcelFile(\"data_cleaned.xlsx\")\n",
    "data = excel.parse(0)"
   ]
  },
  {
   "cell_type": "code",
   "execution_count": 3,
   "metadata": {},
   "outputs": [],
   "source": [
    "# remove unnamed column\n",
    "for i in data:\n",
    "    if i.startswith('Unnamed') or i.startswith('CLINICAL OUTCOMES') or i.startswith('AUTO-CT'):\n",
    "        data.pop(i)\n",
    "    \n",
    "data1 = data.dropna(axis = 0,how='all') # Remove Rows with All NAS"
   ]
  },
  {
   "cell_type": "code",
   "execution_count": 4,
   "metadata": {},
   "outputs": [
    {
     "name": "stdout",
     "output_type": "stream",
     "text": [
      "0:\"Clinical F/U interval  [d from CT]\",\n",
      "1:\"BMI\",\n",
      "2:\"BMI >30\",\n",
      "3:\"Sex\",\n",
      "4:\"Age at CT\",\n",
      "5:\"Tobacco\",\n",
      "6:\"FRS 10-year risk (%)\",\n",
      "7:\"FRAX 10y Fx Prob (Orange-w/ DXA)\",\n",
      "8:\"FRAX 10y Hip Fx Prob (Orange-w/ DXA)\",\n",
      "9:\"Met Sx\",\n",
      "10:\"AA_FLAG\",\n",
      "11:\"L1_HU_BMD\",\n",
      "12:\"TAT Area (cm2)\",\n",
      "13:\"Total Body                Area EA (cm2)\",\n",
      "14:\"VAT Area (cm2)\",\n",
      "15:\"SAT Area (cm2)\",\n",
      "16:\"VAT/SAT     Ratio\",\n",
      "17:\"Muscle HU\",\n",
      "18:\" Muscle Area (cm2)\",\n",
      "19:\"L3 SMI (cm2/m2)\",\n",
      "20:\"AoCa        Agatston\",\n",
      "21:\"Liver HU    (Median)\",\n",
      "22:\"CARD_FLAG\",\n",
      "23:\"DIA_FLAG\",\n",
      "24:\"FEM_FLAG\",\n",
      "25:\"ALZ_FLAG\",\n",
      "26:\"CANCER_FLAG\",\n",
      "27:\"OUTCOME_FLAGS\",\n",
      "28:\"DEATH_FLAG\",\n"
     ]
    }
   ],
   "source": [
    "# print column name with corresponding number\n",
    "for count, name in enumerate(data1):\n",
    "    print(f'{count}:\"{name}\",')"
   ]
  },
  {
   "cell_type": "code",
   "execution_count": 5,
   "metadata": {},
   "outputs": [],
   "source": [
    "# define a lookup table for the column\n",
    "columns = {0:\"Clinical F/U interval  [d from CT]\",\n",
    "1:\"BMI\",\n",
    "2:\"BMI >30\",\n",
    "3:\"Sex\",\n",
    "4:\"Age at CT\",\n",
    "5:\"Tobacco\",\n",
    "6:\"FRS 10-year risk (%)\",\n",
    "7:\"FRAX 10y Fx Prob (Orange-w/ DXA)\",\n",
    "8:\"FRAX 10y Hip Fx Prob (Orange-w/ DXA)\",\n",
    "9:\"Met Sx\",\n",
    "10:\"AA_FLAG\",\n",
    "11:\"L1_HU_BMD\",\n",
    "12:\"TAT Area (cm2)\",\n",
    "13:\"Total Body                Area EA (cm2)\",\n",
    "14:\"VAT Area (cm2)\",\n",
    "15:\"SAT Area (cm2)\",\n",
    "16:\"VAT/SAT     Ratio\",\n",
    "17:\"Muscle HU\",\n",
    "18:\" Muscle Area (cm2)\",\n",
    "19:\"L3 SMI (cm2/m2)\",\n",
    "20:\"AoCa        Agatston\",\n",
    "21:\"Liver HU    (Median)\",\n",
    "22:\"CARD_FLAG\",\n",
    "23:\"DIA_FLAG\",\n",
    "24:\"FEM_FLAG\",\n",
    "25:\"ALZ_FLAG\",\n",
    "26:\"CANCER_FLAG\",\n",
    "27:\"OUTCOME_FLAGS\",\n",
    "28:\"DEATH_FLAG\",}\n",
    "\n",
    "# define different groups of column\n",
    "clinical_data_columns = {i:columns[i] for i in range(11)}\n",
    "CT_data_columns = {i:columns[i] for i in range(11,22)}\n",
    "clinical_outcome_columns = {i:columns[i] for i in range(22,28)}"
   ]
  },
  {
   "cell_type": "code",
   "execution_count": 6,
   "metadata": {},
   "outputs": [
    {
     "name": "stdout",
     "output_type": "stream",
     "text": [
      "False\n"
     ]
    }
   ],
   "source": [
    "\n",
    "print(data.at[0,columns[2]]=='N')"
   ]
  },
  {
   "cell_type": "code",
   "execution_count": 7,
   "metadata": {},
   "outputs": [
    {
     "name": "stdout",
     "output_type": "stream",
     "text": [
      "DEATH_FLAG Clinical F/U interval  [d from CT] <class 'numpy.int64'>\n",
      "DEATH_FLAG BMI >30 <class 'numpy.int64'>\n",
      "DEATH_FLAG Sex <class 'numpy.int64'>\n",
      "DEATH_FLAG Age at CT <class 'numpy.int64'>\n",
      "DEATH_FLAG Tobacco <class 'numpy.int64'>\n",
      "DEATH_FLAG AA_FLAG <class 'numpy.int64'>\n",
      "DEATH_FLAG CARD_FLAG <class 'numpy.int64'>\n",
      "DEATH_FLAG DIA_FLAG <class 'numpy.int64'>\n",
      "DEATH_FLAG FEM_FLAG <class 'numpy.int64'>\n",
      "DEATH_FLAG ALZ_FLAG <class 'numpy.int64'>\n",
      "DEATH_FLAG CANCER_FLAG <class 'numpy.int64'>\n",
      "DEATH_FLAG OUTCOME_FLAGS <class 'numpy.int64'>\n",
      "DEATH_FLAG DEATH_FLAG <class 'numpy.int64'>\n"
     ]
    }
   ],
   "source": [
    "for j in columns:\n",
    "    col = columns[j]\n",
    "    #for i in range(N):\n",
    "    if not isinstance(data.at[0,col], (int, float)):\n",
    "        print(f'{i} {col} {type(data.at[0,col])}')"
   ]
  },
  {
   "cell_type": "code",
   "execution_count": 36,
   "metadata": {},
   "outputs": [
    {
     "data": {
      "text/plain": [
       "'\\nx_ct = [[data.at[i,columns[j]] for j in columns if j in CT_data_columns] for i in range(N)]\\nx_clinical = [[float(data.at[i,columns[j]]) for j in columns if j in clinical_data_columns] for i in range(N)]\\nx_ctclinical = [[data.at[i,columns[j]] for j in columns if j in CT_data_columns or j in clinical_data_columns] for i in range(N)]\\ny_death = [float(data.at[i,\"DEATH_FLAG\"]) for i in range(N)]\\ny_card = [data.at[i,\"CARD_FLAG\"] for i in range(N)]\\ny_dia = [data.at[i,\"DIA_FLAG\"] for i in range(N)]\\ny_fem = [data.at[i,\"FEM_FLAG\"] for i in range(N)]\\ny_alz = [data.at[i,\"ALZ_FLAG\"] for i in range(N)]\\ny_cancer = [data.at[i,\"CANCER_FLAG\"] for i in range(N)]\\ny_outcome = [data.at[i,\"OUTCOME_FLAGS\"] for i in range(N)]\\n'"
      ]
     },
     "execution_count": 36,
     "metadata": {},
     "output_type": "execute_result"
    }
   ],
   "source": [
    "#N = len(data) - 1\n",
    "N = 10\n",
    "\n",
    "data_list = data.values.tolist()\n",
    "for j in columns:\n",
    "    col = columns[j]\n",
    "    max_value = data[col].max()\n",
    "    for i in range(N):\n",
    "        data_list[i][j] += 1\n",
    "        if max_value > 300:\n",
    "            data_list[i][j] /= max_value\n",
    "\n",
    "x_ct = [[data_list[i][j] for j in columns if j in CT_data_columns] for i in range(N)]\n",
    "x_clinical = [[data_list[i][j] for j in columns if j in clinical_data_columns] for i in range(N)]\n",
    "x_ctclinical = [[data_list[i][j] for j in columns if j in CT_data_columns or j in clinical_data_columns] for i in range(N)]\n",
    "y_death = [data_list[i][28] for i in range(N)]\n",
    "y_card = [data_list[i][22] for i in range(N)]\n",
    "y_dia = [data_list[i][23] for i in range(N)]\n",
    "y_fem = [data_list[i][24] for i in range(N)]\n",
    "y_alz = [data_list[i][25] for i in range(N)]\n",
    "y_cancer = [data_list[i][26] for i in range(N)]\n",
    "y_outcome = [data_list[i][27] for i in range(N)]\n",
    "\n",
    "\n",
    "'''\n",
    "x_ct = [[data.at[i,columns[j]] for j in columns if j in CT_data_columns] for i in range(N)]\n",
    "x_clinical = [[float(data.at[i,columns[j]]) for j in columns if j in clinical_data_columns] for i in range(N)]\n",
    "x_ctclinical = [[data.at[i,columns[j]] for j in columns if j in CT_data_columns or j in clinical_data_columns] for i in range(N)]\n",
    "y_death = [float(data.at[i,\"DEATH_FLAG\"]) for i in range(N)]\n",
    "y_card = [data.at[i,\"CARD_FLAG\"] for i in range(N)]\n",
    "y_dia = [data.at[i,\"DIA_FLAG\"] for i in range(N)]\n",
    "y_fem = [data.at[i,\"FEM_FLAG\"] for i in range(N)]\n",
    "y_alz = [data.at[i,\"ALZ_FLAG\"] for i in range(N)]\n",
    "y_cancer = [data.at[i,\"CANCER_FLAG\"] for i in range(N)]\n",
    "y_outcome = [data.at[i,\"OUTCOME_FLAGS\"] for i in range(N)]\n",
    "'''"
   ]
  },
  {
   "cell_type": "code",
   "execution_count": 35,
   "metadata": {},
   "outputs": [
    {
     "name": "stdout",
     "output_type": "stream",
     "text": [
      "[[0.0012289522826221511, 25.0, 0.0, 1.0, 60.0, 1.0, 0.06, 5.46, 0.75, 0.0, 0.0], [0.0002802411548885488, 22.4, 0.0, 1.0, 88.0, 1.0, 0.16, 11.65, 8.4, 0.0, 0.0], [0.0020312216038538425, 24.7, 0.0, 1.0, 68.0, 1.0, 0.1, 6.35, 1.59, 0.0, 0.0], [0.0010029683438116483, 20.0, 0.0, 0.0, 82.0, 1.0, 0.04, 24.03, 13.4, 0.0, 0.0], [0.0023441224422068464, 29.0, 0.0, 0.0, 76.0, 0.0, 0.04, 19.7, 7.26, 0.0, 0.0], [0.0022940793788338914, 27.9, 0.0, 1.0, 62.0, 1.0, 0.1, 5.01, 0.65, 0.0, 0.0], [0.002288811687952528, 37.8, 1.0, 1.0, 64.0, 1.0, 0.08, 3.87, 0.49, nan, 0.0], [0.000535197393546552, 29.8, 0.0, 1.0, 57.0, 0.0, 0.06, 3.96, 0.22, 0.0, 0.0], [0.0, 28.7, 0.0, 0.0, 62.0, 0.0, 0.01, 7.54, 0.69, 0.0, 0.0], [0.0013574839401274256, 25.8, 0.0, 0.0, 86.0, 0.0, 0.04, 21.46, 9.11, 0.0, 0.0]]\n"
     ]
    }
   ],
   "source": [
    "print(x_clinical)\n",
    "        "
   ]
  },
  {
   "cell_type": "code",
   "execution_count": 37,
   "metadata": {},
   "outputs": [
    {
     "ename": "ValueError",
     "evalue": "Input contains NaN, infinity or a value too large for dtype('float64').",
     "output_type": "error",
     "traceback": [
      "\u001b[0;31m---------------------------------------------------------------------------\u001b[0m",
      "\u001b[0;31mValueError\u001b[0m                                Traceback (most recent call last)",
      "\u001b[1;32m/mnt/ws/home/zma3/course/cs760/cs760_project/logistic_regression_test.ipynb Cell 10'\u001b[0m in \u001b[0;36m<cell line: 1>\u001b[0;34m()\u001b[0m\n\u001b[0;32m----> <a href='vscode-notebook-cell://ssh-remote%2Bopt-submit.discovery.wisc.edu/mnt/ws/home/zma3/course/cs760/cs760_project/logistic_regression_test.ipynb#ch0000009vscode-remote?line=0'>1</a>\u001b[0m clf \u001b[39m=\u001b[39m LogisticRegression(random_state\u001b[39m=\u001b[39;49m\u001b[39m0\u001b[39;49m)\u001b[39m.\u001b[39;49mfit(x_clinical, y_death)\n\u001b[1;32m      <a href='vscode-notebook-cell://ssh-remote%2Bopt-submit.discovery.wisc.edu/mnt/ws/home/zma3/course/cs760/cs760_project/logistic_regression_test.ipynb#ch0000009vscode-remote?line=1'>2</a>\u001b[0m clf\u001b[39m.\u001b[39mscore(x_clinical, y_death)\n",
      "File \u001b[0;32m~/miniconda3/lib/python3.9/site-packages/sklearn/linear_model/_logistic.py:1508\u001b[0m, in \u001b[0;36mLogisticRegression.fit\u001b[0;34m(self, X, y, sample_weight)\u001b[0m\n\u001b[1;32m   <a href='file:///mnt/ws/home/zma3/miniconda3/lib/python3.9/site-packages/sklearn/linear_model/_logistic.py?line=1504'>1505</a>\u001b[0m \u001b[39melse\u001b[39;00m:\n\u001b[1;32m   <a href='file:///mnt/ws/home/zma3/miniconda3/lib/python3.9/site-packages/sklearn/linear_model/_logistic.py?line=1505'>1506</a>\u001b[0m     _dtype \u001b[39m=\u001b[39m [np\u001b[39m.\u001b[39mfloat64, np\u001b[39m.\u001b[39mfloat32]\n\u001b[0;32m-> <a href='file:///mnt/ws/home/zma3/miniconda3/lib/python3.9/site-packages/sklearn/linear_model/_logistic.py?line=1507'>1508</a>\u001b[0m X, y \u001b[39m=\u001b[39m \u001b[39mself\u001b[39;49m\u001b[39m.\u001b[39;49m_validate_data(\n\u001b[1;32m   <a href='file:///mnt/ws/home/zma3/miniconda3/lib/python3.9/site-packages/sklearn/linear_model/_logistic.py?line=1508'>1509</a>\u001b[0m     X,\n\u001b[1;32m   <a href='file:///mnt/ws/home/zma3/miniconda3/lib/python3.9/site-packages/sklearn/linear_model/_logistic.py?line=1509'>1510</a>\u001b[0m     y,\n\u001b[1;32m   <a href='file:///mnt/ws/home/zma3/miniconda3/lib/python3.9/site-packages/sklearn/linear_model/_logistic.py?line=1510'>1511</a>\u001b[0m     accept_sparse\u001b[39m=\u001b[39;49m\u001b[39m\"\u001b[39;49m\u001b[39mcsr\u001b[39;49m\u001b[39m\"\u001b[39;49m,\n\u001b[1;32m   <a href='file:///mnt/ws/home/zma3/miniconda3/lib/python3.9/site-packages/sklearn/linear_model/_logistic.py?line=1511'>1512</a>\u001b[0m     dtype\u001b[39m=\u001b[39;49m_dtype,\n\u001b[1;32m   <a href='file:///mnt/ws/home/zma3/miniconda3/lib/python3.9/site-packages/sklearn/linear_model/_logistic.py?line=1512'>1513</a>\u001b[0m     order\u001b[39m=\u001b[39;49m\u001b[39m\"\u001b[39;49m\u001b[39mC\u001b[39;49m\u001b[39m\"\u001b[39;49m,\n\u001b[1;32m   <a href='file:///mnt/ws/home/zma3/miniconda3/lib/python3.9/site-packages/sklearn/linear_model/_logistic.py?line=1513'>1514</a>\u001b[0m     accept_large_sparse\u001b[39m=\u001b[39;49msolver \u001b[39mnot\u001b[39;49;00m \u001b[39min\u001b[39;49;00m [\u001b[39m\"\u001b[39;49m\u001b[39mliblinear\u001b[39;49m\u001b[39m\"\u001b[39;49m, \u001b[39m\"\u001b[39;49m\u001b[39msag\u001b[39;49m\u001b[39m\"\u001b[39;49m, \u001b[39m\"\u001b[39;49m\u001b[39msaga\u001b[39;49m\u001b[39m\"\u001b[39;49m],\n\u001b[1;32m   <a href='file:///mnt/ws/home/zma3/miniconda3/lib/python3.9/site-packages/sklearn/linear_model/_logistic.py?line=1514'>1515</a>\u001b[0m )\n\u001b[1;32m   <a href='file:///mnt/ws/home/zma3/miniconda3/lib/python3.9/site-packages/sklearn/linear_model/_logistic.py?line=1515'>1516</a>\u001b[0m check_classification_targets(y)\n\u001b[1;32m   <a href='file:///mnt/ws/home/zma3/miniconda3/lib/python3.9/site-packages/sklearn/linear_model/_logistic.py?line=1516'>1517</a>\u001b[0m \u001b[39mself\u001b[39m\u001b[39m.\u001b[39mclasses_ \u001b[39m=\u001b[39m np\u001b[39m.\u001b[39munique(y)\n",
      "File \u001b[0;32m~/miniconda3/lib/python3.9/site-packages/sklearn/base.py:581\u001b[0m, in \u001b[0;36mBaseEstimator._validate_data\u001b[0;34m(self, X, y, reset, validate_separately, **check_params)\u001b[0m\n\u001b[1;32m    <a href='file:///mnt/ws/home/zma3/miniconda3/lib/python3.9/site-packages/sklearn/base.py?line=578'>579</a>\u001b[0m         y \u001b[39m=\u001b[39m check_array(y, \u001b[39m*\u001b[39m\u001b[39m*\u001b[39mcheck_y_params)\n\u001b[1;32m    <a href='file:///mnt/ws/home/zma3/miniconda3/lib/python3.9/site-packages/sklearn/base.py?line=579'>580</a>\u001b[0m     \u001b[39melse\u001b[39;00m:\n\u001b[0;32m--> <a href='file:///mnt/ws/home/zma3/miniconda3/lib/python3.9/site-packages/sklearn/base.py?line=580'>581</a>\u001b[0m         X, y \u001b[39m=\u001b[39m check_X_y(X, y, \u001b[39m*\u001b[39;49m\u001b[39m*\u001b[39;49mcheck_params)\n\u001b[1;32m    <a href='file:///mnt/ws/home/zma3/miniconda3/lib/python3.9/site-packages/sklearn/base.py?line=581'>582</a>\u001b[0m     out \u001b[39m=\u001b[39m X, y\n\u001b[1;32m    <a href='file:///mnt/ws/home/zma3/miniconda3/lib/python3.9/site-packages/sklearn/base.py?line=583'>584</a>\u001b[0m \u001b[39mif\u001b[39;00m \u001b[39mnot\u001b[39;00m no_val_X \u001b[39mand\u001b[39;00m check_params\u001b[39m.\u001b[39mget(\u001b[39m\"\u001b[39m\u001b[39mensure_2d\u001b[39m\u001b[39m\"\u001b[39m, \u001b[39mTrue\u001b[39;00m):\n",
      "File \u001b[0;32m~/miniconda3/lib/python3.9/site-packages/sklearn/utils/validation.py:964\u001b[0m, in \u001b[0;36mcheck_X_y\u001b[0;34m(X, y, accept_sparse, accept_large_sparse, dtype, order, copy, force_all_finite, ensure_2d, allow_nd, multi_output, ensure_min_samples, ensure_min_features, y_numeric, estimator)\u001b[0m\n\u001b[1;32m    <a href='file:///mnt/ws/home/zma3/miniconda3/lib/python3.9/site-packages/sklearn/utils/validation.py?line=960'>961</a>\u001b[0m \u001b[39mif\u001b[39;00m y \u001b[39mis\u001b[39;00m \u001b[39mNone\u001b[39;00m:\n\u001b[1;32m    <a href='file:///mnt/ws/home/zma3/miniconda3/lib/python3.9/site-packages/sklearn/utils/validation.py?line=961'>962</a>\u001b[0m     \u001b[39mraise\u001b[39;00m \u001b[39mValueError\u001b[39;00m(\u001b[39m\"\u001b[39m\u001b[39my cannot be None\u001b[39m\u001b[39m\"\u001b[39m)\n\u001b[0;32m--> <a href='file:///mnt/ws/home/zma3/miniconda3/lib/python3.9/site-packages/sklearn/utils/validation.py?line=963'>964</a>\u001b[0m X \u001b[39m=\u001b[39m check_array(\n\u001b[1;32m    <a href='file:///mnt/ws/home/zma3/miniconda3/lib/python3.9/site-packages/sklearn/utils/validation.py?line=964'>965</a>\u001b[0m     X,\n\u001b[1;32m    <a href='file:///mnt/ws/home/zma3/miniconda3/lib/python3.9/site-packages/sklearn/utils/validation.py?line=965'>966</a>\u001b[0m     accept_sparse\u001b[39m=\u001b[39;49maccept_sparse,\n\u001b[1;32m    <a href='file:///mnt/ws/home/zma3/miniconda3/lib/python3.9/site-packages/sklearn/utils/validation.py?line=966'>967</a>\u001b[0m     accept_large_sparse\u001b[39m=\u001b[39;49maccept_large_sparse,\n\u001b[1;32m    <a href='file:///mnt/ws/home/zma3/miniconda3/lib/python3.9/site-packages/sklearn/utils/validation.py?line=967'>968</a>\u001b[0m     dtype\u001b[39m=\u001b[39;49mdtype,\n\u001b[1;32m    <a href='file:///mnt/ws/home/zma3/miniconda3/lib/python3.9/site-packages/sklearn/utils/validation.py?line=968'>969</a>\u001b[0m     order\u001b[39m=\u001b[39;49morder,\n\u001b[1;32m    <a href='file:///mnt/ws/home/zma3/miniconda3/lib/python3.9/site-packages/sklearn/utils/validation.py?line=969'>970</a>\u001b[0m     copy\u001b[39m=\u001b[39;49mcopy,\n\u001b[1;32m    <a href='file:///mnt/ws/home/zma3/miniconda3/lib/python3.9/site-packages/sklearn/utils/validation.py?line=970'>971</a>\u001b[0m     force_all_finite\u001b[39m=\u001b[39;49mforce_all_finite,\n\u001b[1;32m    <a href='file:///mnt/ws/home/zma3/miniconda3/lib/python3.9/site-packages/sklearn/utils/validation.py?line=971'>972</a>\u001b[0m     ensure_2d\u001b[39m=\u001b[39;49mensure_2d,\n\u001b[1;32m    <a href='file:///mnt/ws/home/zma3/miniconda3/lib/python3.9/site-packages/sklearn/utils/validation.py?line=972'>973</a>\u001b[0m     allow_nd\u001b[39m=\u001b[39;49mallow_nd,\n\u001b[1;32m    <a href='file:///mnt/ws/home/zma3/miniconda3/lib/python3.9/site-packages/sklearn/utils/validation.py?line=973'>974</a>\u001b[0m     ensure_min_samples\u001b[39m=\u001b[39;49mensure_min_samples,\n\u001b[1;32m    <a href='file:///mnt/ws/home/zma3/miniconda3/lib/python3.9/site-packages/sklearn/utils/validation.py?line=974'>975</a>\u001b[0m     ensure_min_features\u001b[39m=\u001b[39;49mensure_min_features,\n\u001b[1;32m    <a href='file:///mnt/ws/home/zma3/miniconda3/lib/python3.9/site-packages/sklearn/utils/validation.py?line=975'>976</a>\u001b[0m     estimator\u001b[39m=\u001b[39;49mestimator,\n\u001b[1;32m    <a href='file:///mnt/ws/home/zma3/miniconda3/lib/python3.9/site-packages/sklearn/utils/validation.py?line=976'>977</a>\u001b[0m )\n\u001b[1;32m    <a href='file:///mnt/ws/home/zma3/miniconda3/lib/python3.9/site-packages/sklearn/utils/validation.py?line=978'>979</a>\u001b[0m y \u001b[39m=\u001b[39m _check_y(y, multi_output\u001b[39m=\u001b[39mmulti_output, y_numeric\u001b[39m=\u001b[39my_numeric)\n\u001b[1;32m    <a href='file:///mnt/ws/home/zma3/miniconda3/lib/python3.9/site-packages/sklearn/utils/validation.py?line=980'>981</a>\u001b[0m check_consistent_length(X, y)\n",
      "File \u001b[0;32m~/miniconda3/lib/python3.9/site-packages/sklearn/utils/validation.py:800\u001b[0m, in \u001b[0;36mcheck_array\u001b[0;34m(array, accept_sparse, accept_large_sparse, dtype, order, copy, force_all_finite, ensure_2d, allow_nd, ensure_min_samples, ensure_min_features, estimator)\u001b[0m\n\u001b[1;32m    <a href='file:///mnt/ws/home/zma3/miniconda3/lib/python3.9/site-packages/sklearn/utils/validation.py?line=793'>794</a>\u001b[0m         \u001b[39mraise\u001b[39;00m \u001b[39mValueError\u001b[39;00m(\n\u001b[1;32m    <a href='file:///mnt/ws/home/zma3/miniconda3/lib/python3.9/site-packages/sklearn/utils/validation.py?line=794'>795</a>\u001b[0m             \u001b[39m\"\u001b[39m\u001b[39mFound array with dim \u001b[39m\u001b[39m%d\u001b[39;00m\u001b[39m. \u001b[39m\u001b[39m%s\u001b[39;00m\u001b[39m expected <= 2.\u001b[39m\u001b[39m\"\u001b[39m\n\u001b[1;32m    <a href='file:///mnt/ws/home/zma3/miniconda3/lib/python3.9/site-packages/sklearn/utils/validation.py?line=795'>796</a>\u001b[0m             \u001b[39m%\u001b[39m (array\u001b[39m.\u001b[39mndim, estimator_name)\n\u001b[1;32m    <a href='file:///mnt/ws/home/zma3/miniconda3/lib/python3.9/site-packages/sklearn/utils/validation.py?line=796'>797</a>\u001b[0m         )\n\u001b[1;32m    <a href='file:///mnt/ws/home/zma3/miniconda3/lib/python3.9/site-packages/sklearn/utils/validation.py?line=798'>799</a>\u001b[0m     \u001b[39mif\u001b[39;00m force_all_finite:\n\u001b[0;32m--> <a href='file:///mnt/ws/home/zma3/miniconda3/lib/python3.9/site-packages/sklearn/utils/validation.py?line=799'>800</a>\u001b[0m         _assert_all_finite(array, allow_nan\u001b[39m=\u001b[39;49mforce_all_finite \u001b[39m==\u001b[39;49m \u001b[39m\"\u001b[39;49m\u001b[39mallow-nan\u001b[39;49m\u001b[39m\"\u001b[39;49m)\n\u001b[1;32m    <a href='file:///mnt/ws/home/zma3/miniconda3/lib/python3.9/site-packages/sklearn/utils/validation.py?line=801'>802</a>\u001b[0m \u001b[39mif\u001b[39;00m ensure_min_samples \u001b[39m>\u001b[39m \u001b[39m0\u001b[39m:\n\u001b[1;32m    <a href='file:///mnt/ws/home/zma3/miniconda3/lib/python3.9/site-packages/sklearn/utils/validation.py?line=802'>803</a>\u001b[0m     n_samples \u001b[39m=\u001b[39m _num_samples(array)\n",
      "File \u001b[0;32m~/miniconda3/lib/python3.9/site-packages/sklearn/utils/validation.py:114\u001b[0m, in \u001b[0;36m_assert_all_finite\u001b[0;34m(X, allow_nan, msg_dtype)\u001b[0m\n\u001b[1;32m    <a href='file:///mnt/ws/home/zma3/miniconda3/lib/python3.9/site-packages/sklearn/utils/validation.py?line=106'>107</a>\u001b[0m     \u001b[39mif\u001b[39;00m (\n\u001b[1;32m    <a href='file:///mnt/ws/home/zma3/miniconda3/lib/python3.9/site-packages/sklearn/utils/validation.py?line=107'>108</a>\u001b[0m         allow_nan\n\u001b[1;32m    <a href='file:///mnt/ws/home/zma3/miniconda3/lib/python3.9/site-packages/sklearn/utils/validation.py?line=108'>109</a>\u001b[0m         \u001b[39mand\u001b[39;00m np\u001b[39m.\u001b[39misinf(X)\u001b[39m.\u001b[39many()\n\u001b[1;32m    <a href='file:///mnt/ws/home/zma3/miniconda3/lib/python3.9/site-packages/sklearn/utils/validation.py?line=109'>110</a>\u001b[0m         \u001b[39mor\u001b[39;00m \u001b[39mnot\u001b[39;00m allow_nan\n\u001b[1;32m    <a href='file:///mnt/ws/home/zma3/miniconda3/lib/python3.9/site-packages/sklearn/utils/validation.py?line=110'>111</a>\u001b[0m         \u001b[39mand\u001b[39;00m \u001b[39mnot\u001b[39;00m np\u001b[39m.\u001b[39misfinite(X)\u001b[39m.\u001b[39mall()\n\u001b[1;32m    <a href='file:///mnt/ws/home/zma3/miniconda3/lib/python3.9/site-packages/sklearn/utils/validation.py?line=111'>112</a>\u001b[0m     ):\n\u001b[1;32m    <a href='file:///mnt/ws/home/zma3/miniconda3/lib/python3.9/site-packages/sklearn/utils/validation.py?line=112'>113</a>\u001b[0m         type_err \u001b[39m=\u001b[39m \u001b[39m\"\u001b[39m\u001b[39minfinity\u001b[39m\u001b[39m\"\u001b[39m \u001b[39mif\u001b[39;00m allow_nan \u001b[39melse\u001b[39;00m \u001b[39m\"\u001b[39m\u001b[39mNaN, infinity\u001b[39m\u001b[39m\"\u001b[39m\n\u001b[0;32m--> <a href='file:///mnt/ws/home/zma3/miniconda3/lib/python3.9/site-packages/sklearn/utils/validation.py?line=113'>114</a>\u001b[0m         \u001b[39mraise\u001b[39;00m \u001b[39mValueError\u001b[39;00m(\n\u001b[1;32m    <a href='file:///mnt/ws/home/zma3/miniconda3/lib/python3.9/site-packages/sklearn/utils/validation.py?line=114'>115</a>\u001b[0m             msg_err\u001b[39m.\u001b[39mformat(\n\u001b[1;32m    <a href='file:///mnt/ws/home/zma3/miniconda3/lib/python3.9/site-packages/sklearn/utils/validation.py?line=115'>116</a>\u001b[0m                 type_err, msg_dtype \u001b[39mif\u001b[39;00m msg_dtype \u001b[39mis\u001b[39;00m \u001b[39mnot\u001b[39;00m \u001b[39mNone\u001b[39;00m \u001b[39melse\u001b[39;00m X\u001b[39m.\u001b[39mdtype\n\u001b[1;32m    <a href='file:///mnt/ws/home/zma3/miniconda3/lib/python3.9/site-packages/sklearn/utils/validation.py?line=116'>117</a>\u001b[0m             )\n\u001b[1;32m    <a href='file:///mnt/ws/home/zma3/miniconda3/lib/python3.9/site-packages/sklearn/utils/validation.py?line=117'>118</a>\u001b[0m         )\n\u001b[1;32m    <a href='file:///mnt/ws/home/zma3/miniconda3/lib/python3.9/site-packages/sklearn/utils/validation.py?line=118'>119</a>\u001b[0m \u001b[39m# for object dtype data, we only check for NaNs (GH-13254)\u001b[39;00m\n\u001b[1;32m    <a href='file:///mnt/ws/home/zma3/miniconda3/lib/python3.9/site-packages/sklearn/utils/validation.py?line=119'>120</a>\u001b[0m \u001b[39melif\u001b[39;00m X\u001b[39m.\u001b[39mdtype \u001b[39m==\u001b[39m np\u001b[39m.\u001b[39mdtype(\u001b[39m\"\u001b[39m\u001b[39mobject\u001b[39m\u001b[39m\"\u001b[39m) \u001b[39mand\u001b[39;00m \u001b[39mnot\u001b[39;00m allow_nan:\n",
      "\u001b[0;31mValueError\u001b[0m: Input contains NaN, infinity or a value too large for dtype('float64')."
     ]
    }
   ],
   "source": [
    "clf = LogisticRegression(random_state=0).fit(x_clinical, y_death)\n",
    "clf.score(x_clinical, y_death)"
   ]
  }
 ],
 "metadata": {
  "interpreter": {
   "hash": "099e6f0868198b95616a603719839fa8266f89cc375c05bf6a82ec13d3fd62fe"
  },
  "kernelspec": {
   "display_name": "Python 3.9.12 ('base')",
   "language": "python",
   "name": "python3"
  },
  "language_info": {
   "codemirror_mode": {
    "name": "ipython",
    "version": 3
   },
   "file_extension": ".py",
   "mimetype": "text/x-python",
   "name": "python",
   "nbconvert_exporter": "python",
   "pygments_lexer": "ipython3",
   "version": "3.9.12"
  },
  "orig_nbformat": 4
 },
 "nbformat": 4,
 "nbformat_minor": 2
}
