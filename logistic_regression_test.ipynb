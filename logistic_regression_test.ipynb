{
 "cells": [
  {
   "cell_type": "code",
   "execution_count": 1,
   "metadata": {},
   "outputs": [],
   "source": [
    "import pandas as pd\n",
    "import numpy as np\n",
    "import random\n",
    "import copy\n",
    "import math\n",
    "\n",
    "from sklearn.linear_model import LogisticRegression"
   ]
  },
  {
   "cell_type": "code",
   "execution_count": 2,
   "metadata": {},
   "outputs": [],
   "source": [
    "import pandas as pd\n",
    "excel = pd.ExcelFile(\"data_cleaned.xlsx\")\n",
    "data = excel.parse(0)"
   ]
  },
  {
   "cell_type": "code",
   "execution_count": 3,
   "metadata": {},
   "outputs": [],
   "source": [
    "# remove unnamed column\n",
    "for i in data:\n",
    "    if i.startswith('Unnamed') or i.startswith('CLINICAL OUTCOMES') or i.startswith('AUTO-CT'):\n",
    "        data.pop(i)\n",
    "    \n",
    "data1 = data.dropna(axis = 0,how='all') # Remove Rows with All NAS"
   ]
  },
  {
   "cell_type": "code",
   "execution_count": 4,
   "metadata": {},
   "outputs": [
    {
     "name": "stdout",
     "output_type": "stream",
     "text": [
      "0:\"Clinical F/U interval  [d from CT]\",\n",
      "1:\"BMI\",\n",
      "2:\"BMI >30\",\n",
      "3:\"Sex\",\n",
      "4:\"Age at CT\",\n",
      "5:\"Tobacco\",\n",
      "6:\"FRS 10-year risk (%)\",\n",
      "7:\"FRAX 10y Fx Prob (Orange-w/ DXA)\",\n",
      "8:\"FRAX 10y Hip Fx Prob (Orange-w/ DXA)\",\n",
      "9:\"Met Sx\",\n",
      "10:\"AA_FLAG\",\n",
      "11:\"L1_HU_BMD\",\n",
      "12:\"TAT Area (cm2)\",\n",
      "13:\"Total Body                Area EA (cm2)\",\n",
      "14:\"VAT Area (cm2)\",\n",
      "15:\"SAT Area (cm2)\",\n",
      "16:\"VAT/SAT     Ratio\",\n",
      "17:\"Muscle HU\",\n",
      "18:\" Muscle Area (cm2)\",\n",
      "19:\"L3 SMI (cm2/m2)\",\n",
      "20:\"AoCa        Agatston\",\n",
      "21:\"Liver HU    (Median)\",\n",
      "22:\"CARD_FLAG\",\n",
      "23:\"DIA_FLAG\",\n",
      "24:\"FEM_FLAG\",\n",
      "25:\"ALZ_FLAG\",\n",
      "26:\"CANCER_FLAG\",\n",
      "27:\"OUTCOME_FLAGS\",\n",
      "28:\"DEATH_FLAG\",\n"
     ]
    }
   ],
   "source": [
    "# print column name with corresponding number\n",
    "for count, name in enumerate(data1):\n",
    "    print(f'{count}:\"{name}\",')"
   ]
  },
  {
   "cell_type": "code",
   "execution_count": 5,
   "metadata": {},
   "outputs": [],
   "source": [
    "# define a lookup table for the column\n",
    "columns = {0:\"Clinical F/U interval  [d from CT]\",\n",
    "1:\"BMI\",\n",
    "2:\"BMI >30\",\n",
    "3:\"Sex\",\n",
    "4:\"Age at CT\",\n",
    "5:\"Tobacco\",\n",
    "6:\"FRS 10-year risk (%)\",\n",
    "7:\"FRAX 10y Fx Prob (Orange-w/ DXA)\",\n",
    "8:\"FRAX 10y Hip Fx Prob (Orange-w/ DXA)\",\n",
    "9:\"Met Sx\",\n",
    "10:\"AA_FLAG\",\n",
    "11:\"L1_HU_BMD\",\n",
    "12:\"TAT Area (cm2)\",\n",
    "13:\"Total Body                Area EA (cm2)\",\n",
    "14:\"VAT Area (cm2)\",\n",
    "15:\"SAT Area (cm2)\",\n",
    "16:\"VAT/SAT     Ratio\",\n",
    "17:\"Muscle HU\",\n",
    "18:\" Muscle Area (cm2)\",\n",
    "19:\"L3 SMI (cm2/m2)\",\n",
    "20:\"AoCa        Agatston\",\n",
    "21:\"Liver HU    (Median)\",\n",
    "22:\"CARD_FLAG\",\n",
    "23:\"DIA_FLAG\",\n",
    "24:\"FEM_FLAG\",\n",
    "25:\"ALZ_FLAG\",\n",
    "26:\"CANCER_FLAG\",\n",
    "27:\"OUTCOME_FLAGS\",\n",
    "28:\"DEATH_FLAG\",}\n",
    "\n",
    "# define different groups of column\n",
    "clinical_data_columns = {i:columns[i] for i in range(11)}\n",
    "CT_data_columns = {i:columns[i] for i in range(11,22)}\n",
    "clinical_outcome_columns = {i:columns[i] for i in range(22,28)}"
   ]
  },
  {
   "cell_type": "code",
   "execution_count": 6,
   "metadata": {},
   "outputs": [
    {
     "name": "stdout",
     "output_type": "stream",
     "text": [
      "8471\n",
      "7049\n"
     ]
    }
   ],
   "source": [
    "# drop row with NA\n",
    "print(len(data))\n",
    "data = data.dropna()\n",
    "print(len(data))"
   ]
  },
  {
   "cell_type": "code",
   "execution_count": 7,
   "metadata": {},
   "outputs": [
    {
     "name": "stdout",
     "output_type": "stream",
     "text": [
      "DEATH_FLAG Clinical F/U interval  [d from CT] <class 'numpy.int64'>\n",
      "DEATH_FLAG BMI >30 <class 'numpy.int64'>\n",
      "DEATH_FLAG Sex <class 'numpy.int64'>\n",
      "DEATH_FLAG Age at CT <class 'numpy.int64'>\n",
      "DEATH_FLAG Tobacco <class 'numpy.int64'>\n",
      "DEATH_FLAG AA_FLAG <class 'numpy.int64'>\n",
      "DEATH_FLAG CARD_FLAG <class 'numpy.int64'>\n",
      "DEATH_FLAG DIA_FLAG <class 'numpy.int64'>\n",
      "DEATH_FLAG FEM_FLAG <class 'numpy.int64'>\n",
      "DEATH_FLAG ALZ_FLAG <class 'numpy.int64'>\n",
      "DEATH_FLAG CANCER_FLAG <class 'numpy.int64'>\n",
      "DEATH_FLAG OUTCOME_FLAGS <class 'numpy.int64'>\n",
      "DEATH_FLAG DEATH_FLAG <class 'numpy.int64'>\n"
     ]
    }
   ],
   "source": [
    "for j in columns:\n",
    "    col = columns[j]\n",
    "    #for i in range(N):\n",
    "    if not isinstance(data.at[0,col], (int, float)):\n",
    "        print(f'{i} {col} {type(data.at[0,col])}')"
   ]
  },
  {
   "cell_type": "code",
   "execution_count": 8,
   "metadata": {},
   "outputs": [
    {
     "data": {
      "text/plain": [
       "'\\nx_ct = [[data.at[i,columns[j]] for j in columns if j in CT_data_columns] for i in range(N)]\\nx_clinical = [[float(data.at[i,columns[j]]) for j in columns if j in clinical_data_columns] for i in range(N)]\\nx_ctclinical = [[data.at[i,columns[j]] for j in columns if j in CT_data_columns or j in clinical_data_columns] for i in range(N)]\\ny_death = [float(data.at[i,\"DEATH_FLAG\"]) for i in range(N)]\\ny_card = [data.at[i,\"CARD_FLAG\"] for i in range(N)]\\ny_dia = [data.at[i,\"DIA_FLAG\"] for i in range(N)]\\ny_fem = [data.at[i,\"FEM_FLAG\"] for i in range(N)]\\ny_alz = [data.at[i,\"ALZ_FLAG\"] for i in range(N)]\\ny_cancer = [data.at[i,\"CANCER_FLAG\"] for i in range(N)]\\ny_outcome = [data.at[i,\"OUTCOME_FLAGS\"] for i in range(N)]\\n'"
      ]
     },
     "execution_count": 8,
     "metadata": {},
     "output_type": "execute_result"
    }
   ],
   "source": [
    "N = len(data) - 1\n",
    "#N = 10\n",
    "\n",
    "data_list = data.values.tolist()\n",
    "for j in columns:\n",
    "    col = columns[j]\n",
    "    max_value = data[col].max()\n",
    "    for i in range(N):\n",
    "        data_list[i][j] += 1\n",
    "        if max_value > 300:\n",
    "            data_list[i][j] /= max_value\n",
    "\n",
    "\n",
    "x_ct = [[data_list[i][j] for j in columns if j in CT_data_columns] for i in range(N)]\n",
    "x_clinical = [[data_list[i][j] for j in columns if j in clinical_data_columns] for i in range(N)]\n",
    "x_ctclinical = [[data_list[i][j] for j in columns if j in CT_data_columns or j in clinical_data_columns] for i in range(N)]\n",
    "y_death = [data_list[i][28]-1 for i in range(N)]\n",
    "y_card = [data_list[i][22] for i in range(N)]\n",
    "y_dia = [data_list[i][23] for i in range(N)]\n",
    "y_fem = [data_list[i][24] for i in range(N)]\n",
    "y_alz = [data_list[i][25] for i in range(N)]\n",
    "y_cancer = [data_list[i][26] for i in range(N)]\n",
    "y_outcome = [data_list[i][27] for i in range(N)]\n",
    "\n",
    "\n",
    "'''\n",
    "x_ct = [[data.at[i,columns[j]] for j in columns if j in CT_data_columns] for i in range(N)]\n",
    "x_clinical = [[float(data.at[i,columns[j]]) for j in columns if j in clinical_data_columns] for i in range(N)]\n",
    "x_ctclinical = [[data.at[i,columns[j]] for j in columns if j in CT_data_columns or j in clinical_data_columns] for i in range(N)]\n",
    "y_death = [float(data.at[i,\"DEATH_FLAG\"]) for i in range(N)]\n",
    "y_card = [data.at[i,\"CARD_FLAG\"] for i in range(N)]\n",
    "y_dia = [data.at[i,\"DIA_FLAG\"] for i in range(N)]\n",
    "y_fem = [data.at[i,\"FEM_FLAG\"] for i in range(N)]\n",
    "y_alz = [data.at[i,\"ALZ_FLAG\"] for i in range(N)]\n",
    "y_cancer = [data.at[i,\"CANCER_FLAG\"] for i in range(N)]\n",
    "y_outcome = [data.at[i,\"OUTCOME_FLAGS\"] for i in range(N)]\n",
    "'''"
   ]
  },
  {
   "cell_type": "code",
   "execution_count": 24,
   "metadata": {},
   "outputs": [
    {
     "name": "stdout",
     "output_type": "stream",
     "text": [
      "367\n",
      "6681\n",
      "13654\n",
      "13654\n"
     ]
    }
   ],
   "source": [
    "x_death_ct = []\n",
    "x_death_ctclinical = []\n",
    "x_ndeath_ct = []\n",
    "x_ndeath_ctclinical = []\n",
    "for i in range(N):\n",
    "    if y_death[i] == 1:\n",
    "        x_death_ct.append(x_ct[i])\n",
    "        x_death_ctclinical.append(x_ctclinical[i])\n",
    "    else:\n",
    "        x_ndeath_ct.append(x_ct[i])\n",
    "        x_ndeath_ctclinical.append(x_ctclinical[i])\n",
    "print(len(x_death_ct))\n",
    "print(len(x_ndeath_ct))\n",
    "\n",
    "x_ct_balance = x_ct + x_death_ct\n",
    "y_death_balance = y_death + [1]*len(x_death_ct)\n",
    "for i in range(17):\n",
    "    x_ct_balance += x_death_ct\n",
    "    y_death_balance += [1]*len(x_death_ct)\n",
    "print(len(x_ct_balance))\n",
    "print(len(y_death_balance))\n"
   ]
  },
  {
   "cell_type": "code",
   "execution_count": 10,
   "metadata": {},
   "outputs": [],
   "source": [
    "import matplotlib.pyplot as plt\n",
    "from sklearn import metrics\n",
    "\n",
    "def plot_roc(list1, list2, k=1000):\n",
    "\n",
    "    prob_0 = [i[1] for i in list1]\n",
    "    prob_1 = [i[1] for i in list2]\n",
    "\n",
    "    prob_0.sort()\n",
    "    prob_1.sort()\n",
    "    TP, FP, TN, FN = [], [], [], []\n",
    "    TPR, FPR = [], []\n",
    "\n",
    "    prob_0.append(1)\n",
    "    prob_1.append(1)\n",
    "    counter_0 = 0\n",
    "    counter_1 = 0\n",
    "    for i in range(k+1):\n",
    "        while prob_0[counter_0] < i/1000:\n",
    "            counter_0 += 1\n",
    "        while prob_1[counter_1] < i/1000:\n",
    "            counter_1 += 1\n",
    "        TP.append(len(prob_1)-counter_1)\n",
    "        FP.append(counter_1)\n",
    "        TN.append(counter_0)\n",
    "        FN.append(len(prob_0)-counter_0)\n",
    "\n",
    "        TPR.append(TP[i] / max((TP[i]+FN[i]),1))\n",
    "        FPR.append(FP[i] / max((FP[i]+TN[i]),1))\n",
    "\n",
    "    plt.plot(TPR, FPR)\n",
    "    plt.show()\n",
    "    "
   ]
  },
  {
   "cell_type": "code",
   "execution_count": 27,
   "metadata": {},
   "outputs": [
    {
     "data": {
      "image/png": "[encoded data removed]",
      "text/plain": [
       "<Figure size 432x288 with 1 Axes>"
      ]
     },
     "metadata": {
      "needs_background": "light"
     },
     "output_type": "display_data"
    }
   ],
   "source": [
    "clf_ct = LogisticRegression(random_state=0, solver='liblinear').fit(x_ct, y_death)\n",
    "porb_ct_death = clf_ct.predict_proba(x_death_ct)\n",
    "porb_ct_ndeath = clf_ct.predict_proba(x_ndeath_ct)\n",
    "pred_y = clf_ct.predict_proba(x_ct)\n",
    "prob_y = [i[1] for i in pred_y]\n",
    "fpr, tpr, thresholds = metrics.roc_curve(y_death, prob_y)\n",
    "plt.plot(fpr, tpr, label='ct')\n",
    "plt.plot([0,1],[0,1])\n",
    "#clf.score(x_ctclinical, y_death)\n",
    "\n",
    "clf_ctclinical = LogisticRegression(random_state=0, solver='liblinear').fit(x_ctclinical, y_death)\n",
    "porb_ctclinical_death = clf_ctclinical.predict_proba(x_death_ctclinical)\n",
    "porb_ctclinical_ndeath = clf_ctclinical.predict_proba(x_ndeath_ctclinical)\n",
    "pred_y = clf_ctclinical.predict_proba(x_ctclinical)\n",
    "prob_y = [i[1] for i in pred_y]\n",
    "fpr, tpr, thresholds = metrics.roc_curve(y_death, prob_y)\n",
    "plt.plot(fpr, tpr, label='ct+clinical')\n",
    "plt.plot([0,1],[0,1])\n",
    "\n",
    "clf_ct_bal = LogisticRegression(random_state=0, solver='liblinear').fit(x_ct_balance, y_death_balance)\n",
    "porb_ct_death = clf_ct_bal.predict_proba(x_death_ct)\n",
    "porb_ct_ndeath = clf_ct_bal.predict_proba(x_ndeath_ct)\n",
    "pred_y = clf_ct_bal.predict_proba(x_ct)\n",
    "prob_y = [i[1] for i in pred_y]\n",
    "fpr, tpr, thresholds = metrics.roc_curve(y_death, prob_y)\n",
    "plt.plot(fpr, tpr, label='ct_balance')\n",
    "\n",
    "plt.xlabel(\"False Positive Rate\")\n",
    "plt.ylabel(\"True Positive Rate\")\n",
    "plt.legend()\n",
    "plt.show()"
   ]
  }
 ],
 "metadata": {
  "interpreter": {
   "hash": "099e6f0868198b95616a603719839fa8266f89cc375c05bf6a82ec13d3fd62fe"
  },
  "kernelspec": {
   "display_name": "Python 3.9.12 ('base')",
   "language": "python",
   "name": "python3"
  },
  "language_info": {
   "codemirror_mode": {
    "name": "ipython",
    "version": 3
   },
   "file_extension": ".py",
   "mimetype": "text/x-python",
   "name": "python",
   "nbconvert_exporter": "python",
   "pygments_lexer": "ipython3",
   "version": "3.9.12"
  },
  "orig_nbformat": 4
 },
 "nbformat": 4,
 "nbformat_minor": 2
}
